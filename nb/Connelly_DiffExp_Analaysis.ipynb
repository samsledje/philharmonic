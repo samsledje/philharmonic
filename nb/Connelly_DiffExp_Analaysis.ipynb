{
 "cells": [
  {
   "cell_type": "code",
   "execution_count": 76,
   "id": "042b155a-3978-4037-843f-97ef39d78808",
   "metadata": {
    "tags": []
   },
   "outputs": [],
   "source": [
    "import pandas as pd\n",
    "import numpy as np\n",
    "import hashlib\n",
    "from itertools import combinations\n",
    "from tqdm import tqdm\n",
    "import matplotlib.pyplot as plt\n",
    "import seaborn as sns\n",
    "from itertools import product"
   ]
  },
  {
   "cell_type": "code",
   "execution_count": 10,
   "id": "9d4d7274-b0e4-470d-ab71-5aa58e5f1ba0",
   "metadata": {
    "tags": []
   },
   "outputs": [],
   "source": [
    "class SimpleCluster:\n",
    "    def __init__(self,x):\n",
    "        self.x = x\n",
    "        \n",
    "    def __hash__(self):\n",
    "        return int(hashlib.md5(''.join(self.x).encode()).hexdigest(), 16)\n",
    "\n",
    "def get_hash(plist):\n",
    "    c = SimpleCluster(plist)\n",
    "    return hash(c)"
   ]
  },
  {
   "cell_type": "code",
   "execution_count": 102,
   "id": "7b309d27-4e35-413e-a49c-843d1f936463",
   "metadata": {
    "tags": []
   },
   "outputs": [],
   "source": [
    "clusters = []\n",
    "cluster_dict = {}\n",
    "\n",
    "with open(\"/afs/csail/u/s/samsl/Work/Software/philharmonic/results/Pdam.clusters.csv\",\"r\") as cluster_fi:\n",
    "# with open(\"Pdam.recipe_clusters.csv\",\"r\") as cluster_fi:\n",
    "    for line in cluster_fi:\n",
    "        c = line.strip().split(\",\")\n",
    "        clusters.append(c)\n",
    "        cluster_dict[get_hash(c)] = c"
   ]
  },
  {
   "cell_type": "code",
   "execution_count": 103,
   "id": "55f89af0-ad00-42fd-a92a-31554f453b9f",
   "metadata": {
    "tags": []
   },
   "outputs": [],
   "source": [
    "df = pd.read_excel(\"Connelly2022_SupplementaryData.xlsx\", sheet_name=\"Table_S4A_DEGs_coral\", header=1, index_col=0)"
   ]
  },
  {
   "cell_type": "code",
   "execution_count": 104,
   "id": "6f041c84-4053-4e89-abdd-089accae1398",
   "metadata": {
    "tags": []
   },
   "outputs": [],
   "source": [
    "df = df.rename({\n",
    "    \"DE_Heat\": \"DE_Heat_control\",\n",
    "    \"DE_Antibiotics\": \"DE_Antibiotics_control\",\n",
    "    \"DE_Antibiotics.Heat\": \"DE_Antibiotics.Heat_control\",\n",
    "},axis=1)"
   ]
  },
  {
   "cell_type": "code",
   "execution_count": 105,
   "id": "e1f7d565-2683-41b4-9f04-f4b1faf106d8",
   "metadata": {
    "tags": []
   },
   "outputs": [],
   "source": [
    "cluster_diffexp = {}\n",
    "\n",
    "for clk, clust in cluster_dict.items():\n",
    "    cluster_prots = set([i.rstrip(\"-RA\") for i in clust])\n",
    "    cluster_prots = set.intersection(cluster_prots, df.index)\n",
    "    cluster_diffexp[clk] = df.loc[list(cluster_prots)]"
   ]
  },
  {
   "cell_type": "code",
   "execution_count": 106,
   "id": "00c1a6c4-2ad9-4dd4-aaa6-772176a573fe",
   "metadata": {
    "tags": []
   },
   "outputs": [
    {
     "data": {
      "text/html": [
       "<div>\n",
       "<style scoped>\n",
       "    .dataframe tbody tr th:only-of-type {\n",
       "        vertical-align: middle;\n",
       "    }\n",
       "\n",
       "    .dataframe tbody tr th {\n",
       "        vertical-align: top;\n",
       "    }\n",
       "\n",
       "    .dataframe thead th {\n",
       "        text-align: right;\n",
       "    }\n",
       "</style>\n",
       "<table border=\"1\" class=\"dataframe\">\n",
       "  <thead>\n",
       "    <tr style=\"text-align: right;\">\n",
       "      <th></th>\n",
       "      <th>log2FoldChange_Heat_control</th>\n",
       "      <th>log2FoldChange_Antibiotics_control</th>\n",
       "      <th>log2FoldChange_Antibiotics.Heat_control</th>\n",
       "      <th>padj_Heat_control</th>\n",
       "      <th>padj_Antibiotics_control</th>\n",
       "      <th>padj_Antibiotics.Heat_control</th>\n",
       "      <th>DE_Heat_control</th>\n",
       "      <th>DE_Antibiotics_control</th>\n",
       "      <th>DE_Antibiotics.Heat_control</th>\n",
       "      <th>Gene_Name</th>\n",
       "      <th>Gene_Info</th>\n",
       "      <th>GO_Terms_IPS</th>\n",
       "      <th>GO_Terms_EM</th>\n",
       "      <th>KO_Terms_KAAS</th>\n",
       "      <th>KO_Terms_EM</th>\n",
       "      <th>KOG_Class_A</th>\n",
       "      <th>KOG_Class</th>\n",
       "      <th>Pfam_Domains</th>\n",
       "    </tr>\n",
       "    <tr>\n",
       "      <th>ID</th>\n",
       "      <th></th>\n",
       "      <th></th>\n",
       "      <th></th>\n",
       "      <th></th>\n",
       "      <th></th>\n",
       "      <th></th>\n",
       "      <th></th>\n",
       "      <th></th>\n",
       "      <th></th>\n",
       "      <th></th>\n",
       "      <th></th>\n",
       "      <th></th>\n",
       "      <th></th>\n",
       "      <th></th>\n",
       "      <th></th>\n",
       "      <th></th>\n",
       "      <th></th>\n",
       "      <th></th>\n",
       "    </tr>\n",
       "  </thead>\n",
       "  <tbody>\n",
       "    <tr>\n",
       "      <th>pdam_00023241</th>\n",
       "      <td>0.084789</td>\n",
       "      <td>0.305267</td>\n",
       "      <td>0.441482</td>\n",
       "      <td>0.776924</td>\n",
       "      <td>0.158868</td>\n",
       "      <td>0.008966</td>\n",
       "      <td>NaN</td>\n",
       "      <td>NaN</td>\n",
       "      <td>Upregulated</td>\n",
       "      <td>TSPAN5</td>\n",
       "      <td>Tspan33: Tetraspanin-33 (Mus musculus)</td>\n",
       "      <td>GO:0016021</td>\n",
       "      <td>GO:0000003,GO:0000151,GO:0001667,GO:0003006,GO...</td>\n",
       "      <td>NaN</td>\n",
       "      <td>K10303,K17345</td>\n",
       "      <td>I</td>\n",
       "      <td>Lipid transport and metabolism</td>\n",
       "      <td>PF00335</td>\n",
       "    </tr>\n",
       "    <tr>\n",
       "      <th>pdam_00005331</th>\n",
       "      <td>-0.239801</td>\n",
       "      <td>-0.218533</td>\n",
       "      <td>-0.462572</td>\n",
       "      <td>0.069150</td>\n",
       "      <td>0.083830</td>\n",
       "      <td>0.000003</td>\n",
       "      <td>NaN</td>\n",
       "      <td>NaN</td>\n",
       "      <td>Downregulated</td>\n",
       "      <td>PLD3</td>\n",
       "      <td>pld3: Phospholipase D3 (Xenopus tropicalis)</td>\n",
       "      <td>GO:0003824</td>\n",
       "      <td>GO:0000003,GO:0002119,GO:0002164,GO:0003006,GO...</td>\n",
       "      <td>K16860</td>\n",
       "      <td>K16860,K16861</td>\n",
       "      <td>I</td>\n",
       "      <td>Lipid transport and metabolism</td>\n",
       "      <td>PF00614, PF13918</td>\n",
       "    </tr>\n",
       "  </tbody>\n",
       "</table>\n",
       "</div>"
      ],
      "text/plain": [
       "               log2FoldChange_Heat_control  \\\n",
       "ID                                           \n",
       "pdam_00023241                     0.084789   \n",
       "pdam_00005331                    -0.239801   \n",
       "\n",
       "               log2FoldChange_Antibiotics_control  \\\n",
       "ID                                                  \n",
       "pdam_00023241                            0.305267   \n",
       "pdam_00005331                           -0.218533   \n",
       "\n",
       "               log2FoldChange_Antibiotics.Heat_control  padj_Heat_control  \\\n",
       "ID                                                                          \n",
       "pdam_00023241                                 0.441482           0.776924   \n",
       "pdam_00005331                                -0.462572           0.069150   \n",
       "\n",
       "               padj_Antibiotics_control  padj_Antibiotics.Heat_control  \\\n",
       "ID                                                                       \n",
       "pdam_00023241                  0.158868                       0.008966   \n",
       "pdam_00005331                  0.083830                       0.000003   \n",
       "\n",
       "              DE_Heat_control DE_Antibiotics_control  \\\n",
       "ID                                                     \n",
       "pdam_00023241             NaN                    NaN   \n",
       "pdam_00005331             NaN                    NaN   \n",
       "\n",
       "              DE_Antibiotics.Heat_control Gene_Name  \\\n",
       "ID                                                    \n",
       "pdam_00023241                 Upregulated    TSPAN5   \n",
       "pdam_00005331               Downregulated      PLD3   \n",
       "\n",
       "                                                  Gene_Info GO_Terms_IPS  \\\n",
       "ID                                                                         \n",
       "pdam_00023241        Tspan33: Tetraspanin-33 (Mus musculus)   GO:0016021   \n",
       "pdam_00005331   pld3: Phospholipase D3 (Xenopus tropicalis)   GO:0003824   \n",
       "\n",
       "                                                     GO_Terms_EM  \\\n",
       "ID                                                                 \n",
       "pdam_00023241  GO:0000003,GO:0000151,GO:0001667,GO:0003006,GO...   \n",
       "pdam_00005331  GO:0000003,GO:0002119,GO:0002164,GO:0003006,GO...   \n",
       "\n",
       "              KO_Terms_KAAS    KO_Terms_EM KOG_Class_A  \\\n",
       "ID                                                       \n",
       "pdam_00023241           NaN  K10303,K17345           I   \n",
       "pdam_00005331        K16860  K16860,K16861           I   \n",
       "\n",
       "                                    KOG_Class      Pfam_Domains  \n",
       "ID                                                               \n",
       "pdam_00023241  Lipid transport and metabolism           PF00335  \n",
       "pdam_00005331  Lipid transport and metabolism  PF00614, PF13918  "
      ]
     },
     "execution_count": 106,
     "metadata": {},
     "output_type": "execute_result"
    }
   ],
   "source": [
    "diffexp_df.head()"
   ]
  },
  {
   "cell_type": "code",
   "execution_count": 107,
   "id": "febb8ebb-8967-41e2-b02d-8f568ee8498c",
   "metadata": {
    "tags": []
   },
   "outputs": [
    {
     "name": "stderr",
     "output_type": "stream",
     "text": [
      " 81%|█████████████████████████████████████████████████████████████████████████████████████████████████████████████████████████████████████                               | 472/582 [00:01<00:00, 394.80it/s]/data/cb/samsl/mambaforge/envs/philharmonic/lib/python3.12/site-packages/numpy/core/fromnumeric.py:3504: RuntimeWarning: Mean of empty slice.\n",
      "  return _methods._mean(a, axis=axis, dtype=dtype,\n",
      "/data/cb/samsl/mambaforge/envs/philharmonic/lib/python3.12/site-packages/numpy/core/_methods.py:129: RuntimeWarning: invalid value encountered in scalar divide\n",
      "  ret = ret.dtype.type(ret / rcount)\n",
      "100%|████████████████████████████████████████████████████████████████████████████████████████████████████████████████████████████████████████████████████████████████████| 582/582 [00:01<00:00, 389.01it/s]\n"
     ]
    }
   ],
   "source": [
    "conditions = [\"Heat_control\", \"Antibiotics_control\", \"Antibiotics.Heat_control\"]\n",
    "p_thresh = 0.05\n",
    "\n",
    "cluster_de_df = []\n",
    "\n",
    "for clk, diffexp_df in tqdm(cluster_diffexp.items(),total=len(cluster_diffexp)):\n",
    "    cluster_row = [clk]\n",
    "    for cond in conditions:\n",
    "        # log2FoldChange\n",
    "        cluster_row.append(np.median(diffexp_df[f\"log2FoldChange_{cond}\"]))\n",
    "        # padj\n",
    "        cluster_row.append(np.sum(diffexp_df[f\"padj_{cond}\"] < p_thresh))\n",
    "        # DE_Up\n",
    "        cluster_row.append(np.sum(diffexp_df[f\"DE_{cond}\"] == \"Upregulated\"))\n",
    "        # DE_Down\n",
    "        cluster_row.append(np.sum(diffexp_df[f\"DE_{cond}\"] == \"Downregulated\"))\n",
    "    cluster_de_df.append(cluster_row)\n",
    "        \n",
    "cluster_de_df = pd.DataFrame(cluster_de_df)\n",
    "cluster_de_df.columns = [\"key\"] + [f\"{i}_{j}\" for i,j in product(conditions, [\"log2FoldChange\",\"padj\",\"DE_Up\",\"DE_Down\"])]\n",
    "cluster_de_df = cluster_de_df.set_index(\"key\")"
   ]
  },
  {
   "cell_type": "code",
   "execution_count": 108,
   "id": "08c846b5-9a24-4b5a-8e9d-f67748e6ba59",
   "metadata": {
    "tags": []
   },
   "outputs": [],
   "source": [
    "cluster_de_df.to_csv(\"connelly2022_DE_perCluster_preRecipe.csv\")"
   ]
  },
  {
   "cell_type": "markdown",
   "id": "80120686-deee-4cdc-8901-82046f251057",
   "metadata": {},
   "source": [
    "---"
   ]
  },
  {
   "cell_type": "code",
   "execution_count": null,
   "id": "8f2e152c-0f33-4944-b8d2-580e86ea17e7",
   "metadata": {},
   "outputs": [],
   "source": []
  },
  {
   "cell_type": "code",
   "execution_count": 92,
   "id": "534ba07c-3dff-40dd-a4c9-e56d90f2aec1",
   "metadata": {
    "tags": []
   },
   "outputs": [],
   "source": [
    "x = []\n",
    "with open(\"/afs/csail/u/s/samsl/Work/Software/philharmonic/results/Pdam.clusters.csv\",\"r\") as f:\n",
    "    for line in f:\n",
    "        x.append(line.strip().split(\",\"))"
   ]
  },
  {
   "cell_type": "code",
   "execution_count": 101,
   "id": "bdfe584b-0c5c-4c9e-8693-6c84e79c578a",
   "metadata": {
    "tags": []
   },
   "outputs": [
    {
     "name": "stdout",
     "output_type": "stream",
     "text": [
      "mismatch 29 49\n"
     ]
    }
   ],
   "source": [
    "for xi, ci in zip(x, clusters):\n",
    "    if xi != ci:\n",
    "        print('mismatch', len(xi), len(ci))\n",
    "        break"
   ]
  },
  {
   "cell_type": "code",
   "execution_count": 97,
   "id": "74b28eec-eaec-4a75-8b5c-95630e7d89fc",
   "metadata": {
    "tags": []
   },
   "outputs": [
    {
     "data": {
      "text/plain": [
       "True"
      ]
     },
     "execution_count": 97,
     "metadata": {},
     "output_type": "execute_result"
    }
   ],
   "source": [
    "x[0] == clusters[0]"
   ]
  },
  {
   "cell_type": "code",
   "execution_count": 94,
   "id": "0c919960-a6c9-4cd9-bef2-ee98582822d8",
   "metadata": {
    "tags": []
   },
   "outputs": [
    {
     "data": {
      "text/plain": [
       "582"
      ]
     },
     "execution_count": 94,
     "metadata": {},
     "output_type": "execute_result"
    }
   ],
   "source": [
    "len(x)"
   ]
  },
  {
   "cell_type": "code",
   "execution_count": 90,
   "id": "24e65a31-c8e8-40cc-8467-2e4a67e4cea1",
   "metadata": {
    "tags": []
   },
   "outputs": [
    {
     "data": {
      "text/html": [
       "<div>\n",
       "<style scoped>\n",
       "    .dataframe tbody tr th:only-of-type {\n",
       "        vertical-align: middle;\n",
       "    }\n",
       "\n",
       "    .dataframe tbody tr th {\n",
       "        vertical-align: top;\n",
       "    }\n",
       "\n",
       "    .dataframe thead th {\n",
       "        text-align: right;\n",
       "    }\n",
       "</style>\n",
       "<table border=\"1\" class=\"dataframe\">\n",
       "  <thead>\n",
       "    <tr style=\"text-align: right;\">\n",
       "      <th></th>\n",
       "      <th>pdam_00001358-RA</th>\n",
       "      <th>pdam_00011541-RA</th>\n",
       "      <th>pdam_00016978-RA</th>\n",
       "      <th>pdam_00010849-RA</th>\n",
       "      <th>pdam_00016673-RA</th>\n",
       "      <th>pdam_00012878-RA</th>\n",
       "      <th>pdam_00008920-RA</th>\n",
       "      <th>pdam_00005572-RA</th>\n",
       "      <th>pdam_00015036-RA</th>\n",
       "      <th>pdam_00019926-RA</th>\n",
       "      <th>...</th>\n",
       "      <th>pdam_00004892-RA</th>\n",
       "      <th>pdam_00006246-RA</th>\n",
       "      <th>pdam_00003083-RA</th>\n",
       "      <th>pdam_00000191-RA</th>\n",
       "      <th>pdam_00001696-RA</th>\n",
       "      <th>pdam_00012489-RA</th>\n",
       "      <th>pdam_00008569-RA</th>\n",
       "      <th>pdam_00008873-RA</th>\n",
       "      <th>pdam_00019316-RA</th>\n",
       "      <th>pdam_00004893-RA</th>\n",
       "    </tr>\n",
       "  </thead>\n",
       "  <tbody>\n",
       "    <tr>\n",
       "      <th>0</th>\n",
       "      <td>pdam_00006668-RA</td>\n",
       "      <td>pdam_00000181-RA</td>\n",
       "      <td>pdam_00002493-RA</td>\n",
       "      <td>pdam_00001975-RA</td>\n",
       "      <td>pdam_00021628-RA</td>\n",
       "      <td>pdam_00011827-RA</td>\n",
       "      <td>pdam_00009749-RA</td>\n",
       "      <td>pdam_00019784-RA</td>\n",
       "      <td>pdam_00000438-RA</td>\n",
       "      <td>pdam_00017417-RA</td>\n",
       "      <td>...</td>\n",
       "      <td>pdam_00017319-RA</td>\n",
       "      <td>pdam_00009104-RA</td>\n",
       "      <td>pdam_00011586-RA</td>\n",
       "      <td>pdam_00008481-RA</td>\n",
       "      <td>pdam_00013401-RA</td>\n",
       "      <td>pdam_00016274-RA</td>\n",
       "      <td>pdam_00013036-RA</td>\n",
       "      <td>pdam_00003204-RA</td>\n",
       "      <td>pdam_00011288-RA</td>\n",
       "      <td>pdam_00009471-RA</td>\n",
       "    </tr>\n",
       "    <tr>\n",
       "      <th>1</th>\n",
       "      <td>pdam_00008048-RA</td>\n",
       "      <td>pdam_00003654-RA</td>\n",
       "      <td>pdam_00019700-RA</td>\n",
       "      <td>pdam_00015353-RA</td>\n",
       "      <td>pdam_00013724-RA</td>\n",
       "      <td>pdam_00015010-RA</td>\n",
       "      <td>pdam_00004852-RA</td>\n",
       "      <td>pdam_00010718-RA</td>\n",
       "      <td>pdam_00015268-RA</td>\n",
       "      <td>pdam_00022708-RA</td>\n",
       "      <td>...</td>\n",
       "      <td>pdam_00005891-RA</td>\n",
       "      <td>pdam_00012819-RA</td>\n",
       "      <td>pdam_00002739-RA</td>\n",
       "      <td>pdam_00016471-RA</td>\n",
       "      <td>pdam_00021429-RA</td>\n",
       "      <td>pdam_00014952-RA</td>\n",
       "      <td>pdam_00001129-RA</td>\n",
       "      <td>pdam_00021997-RA</td>\n",
       "      <td>pdam_00020869-RA</td>\n",
       "      <td>pdam_00006972-RA</td>\n",
       "    </tr>\n",
       "    <tr>\n",
       "      <th>2</th>\n",
       "      <td>pdam_00012920-RA</td>\n",
       "      <td>pdam_00017590-RA</td>\n",
       "      <td>pdam_00021528-RA</td>\n",
       "      <td>pdam_00003093-RA</td>\n",
       "      <td>pdam_00006493-RA</td>\n",
       "      <td>pdam_00020754-RA</td>\n",
       "      <td>pdam_00011156-RA</td>\n",
       "      <td>pdam_00017660-RA</td>\n",
       "      <td>pdam_00019359-RA</td>\n",
       "      <td>pdam_00004601-RA</td>\n",
       "      <td>...</td>\n",
       "      <td>pdam_00025086-RA</td>\n",
       "      <td>pdam_00010284-RA</td>\n",
       "      <td>pdam_00015491-RA</td>\n",
       "      <td>pdam_00007993-RA</td>\n",
       "      <td>pdam_00019824-RA</td>\n",
       "      <td>pdam_00010969-RA</td>\n",
       "      <td>pdam_00001729-RA</td>\n",
       "      <td>pdam_00001586-RA</td>\n",
       "      <td>pdam_00001133-RA</td>\n",
       "      <td>pdam_00002351-RA</td>\n",
       "    </tr>\n",
       "    <tr>\n",
       "      <th>3</th>\n",
       "      <td>pdam_00023352-RA</td>\n",
       "      <td>pdam_00014065-RA</td>\n",
       "      <td>pdam_00025722-RA</td>\n",
       "      <td>pdam_00001204-RA</td>\n",
       "      <td>pdam_00004533-RA</td>\n",
       "      <td>pdam_00016700-RA</td>\n",
       "      <td>pdam_00014668-RA</td>\n",
       "      <td>pdam_00011177-RA</td>\n",
       "      <td>pdam_00012833-RA</td>\n",
       "      <td>pdam_00020760-RA</td>\n",
       "      <td>...</td>\n",
       "      <td>pdam_00018580-RA</td>\n",
       "      <td>pdam_00015183-RA</td>\n",
       "      <td>pdam_00019181-RA</td>\n",
       "      <td>pdam_00010554-RA</td>\n",
       "      <td>pdam_00013785-RA</td>\n",
       "      <td>pdam_00018071-RA</td>\n",
       "      <td>pdam_00015184-RA</td>\n",
       "      <td>pdam_00010757-RA</td>\n",
       "      <td>pdam_00009413-RA</td>\n",
       "      <td>pdam_00004375-RA</td>\n",
       "    </tr>\n",
       "    <tr>\n",
       "      <th>4</th>\n",
       "      <td>pdam_00023701-RA</td>\n",
       "      <td>pdam_00012332-RA</td>\n",
       "      <td>pdam_00000845-RA</td>\n",
       "      <td>pdam_00020355-RA</td>\n",
       "      <td>pdam_00018181-RA</td>\n",
       "      <td>pdam_00017707-RA</td>\n",
       "      <td>pdam_00011742-RA</td>\n",
       "      <td>pdam_00017004-RA</td>\n",
       "      <td>pdam_00010291-RA</td>\n",
       "      <td>pdam_00012180-RA</td>\n",
       "      <td>...</td>\n",
       "      <td>pdam_00023355-RA</td>\n",
       "      <td>pdam_00000555-RA</td>\n",
       "      <td>pdam_00000070-RA</td>\n",
       "      <td>pdam_00013527-RA</td>\n",
       "      <td>pdam_00008977-RA</td>\n",
       "      <td>pdam_00010292-RA</td>\n",
       "      <td>pdam_00024567-RA</td>\n",
       "      <td>pdam_00014111-RA</td>\n",
       "      <td>pdam_00007011-RA</td>\n",
       "      <td>pdam_00007512-RA</td>\n",
       "    </tr>\n",
       "  </tbody>\n",
       "</table>\n",
       "<p>5 rows × 29 columns</p>\n",
       "</div>"
      ],
      "text/plain": [
       "   pdam_00001358-RA  pdam_00011541-RA  pdam_00016978-RA  pdam_00010849-RA  \\\n",
       "0  pdam_00006668-RA  pdam_00000181-RA  pdam_00002493-RA  pdam_00001975-RA   \n",
       "1  pdam_00008048-RA  pdam_00003654-RA  pdam_00019700-RA  pdam_00015353-RA   \n",
       "2  pdam_00012920-RA  pdam_00017590-RA  pdam_00021528-RA  pdam_00003093-RA   \n",
       "3  pdam_00023352-RA  pdam_00014065-RA  pdam_00025722-RA  pdam_00001204-RA   \n",
       "4  pdam_00023701-RA  pdam_00012332-RA  pdam_00000845-RA  pdam_00020355-RA   \n",
       "\n",
       "   pdam_00016673-RA  pdam_00012878-RA  pdam_00008920-RA  pdam_00005572-RA  \\\n",
       "0  pdam_00021628-RA  pdam_00011827-RA  pdam_00009749-RA  pdam_00019784-RA   \n",
       "1  pdam_00013724-RA  pdam_00015010-RA  pdam_00004852-RA  pdam_00010718-RA   \n",
       "2  pdam_00006493-RA  pdam_00020754-RA  pdam_00011156-RA  pdam_00017660-RA   \n",
       "3  pdam_00004533-RA  pdam_00016700-RA  pdam_00014668-RA  pdam_00011177-RA   \n",
       "4  pdam_00018181-RA  pdam_00017707-RA  pdam_00011742-RA  pdam_00017004-RA   \n",
       "\n",
       "   pdam_00015036-RA  pdam_00019926-RA  ...  pdam_00004892-RA  \\\n",
       "0  pdam_00000438-RA  pdam_00017417-RA  ...  pdam_00017319-RA   \n",
       "1  pdam_00015268-RA  pdam_00022708-RA  ...  pdam_00005891-RA   \n",
       "2  pdam_00019359-RA  pdam_00004601-RA  ...  pdam_00025086-RA   \n",
       "3  pdam_00012833-RA  pdam_00020760-RA  ...  pdam_00018580-RA   \n",
       "4  pdam_00010291-RA  pdam_00012180-RA  ...  pdam_00023355-RA   \n",
       "\n",
       "   pdam_00006246-RA  pdam_00003083-RA  pdam_00000191-RA  pdam_00001696-RA  \\\n",
       "0  pdam_00009104-RA  pdam_00011586-RA  pdam_00008481-RA  pdam_00013401-RA   \n",
       "1  pdam_00012819-RA  pdam_00002739-RA  pdam_00016471-RA  pdam_00021429-RA   \n",
       "2  pdam_00010284-RA  pdam_00015491-RA  pdam_00007993-RA  pdam_00019824-RA   \n",
       "3  pdam_00015183-RA  pdam_00019181-RA  pdam_00010554-RA  pdam_00013785-RA   \n",
       "4  pdam_00000555-RA  pdam_00000070-RA  pdam_00013527-RA  pdam_00008977-RA   \n",
       "\n",
       "   pdam_00012489-RA  pdam_00008569-RA  pdam_00008873-RA  pdam_00019316-RA  \\\n",
       "0  pdam_00016274-RA  pdam_00013036-RA  pdam_00003204-RA  pdam_00011288-RA   \n",
       "1  pdam_00014952-RA  pdam_00001129-RA  pdam_00021997-RA  pdam_00020869-RA   \n",
       "2  pdam_00010969-RA  pdam_00001729-RA  pdam_00001586-RA  pdam_00001133-RA   \n",
       "3  pdam_00018071-RA  pdam_00015184-RA  pdam_00010757-RA  pdam_00009413-RA   \n",
       "4  pdam_00010292-RA  pdam_00024567-RA  pdam_00014111-RA  pdam_00007011-RA   \n",
       "\n",
       "   pdam_00004893-RA  \n",
       "0  pdam_00009471-RA  \n",
       "1  pdam_00006972-RA  \n",
       "2  pdam_00002351-RA  \n",
       "3  pdam_00004375-RA  \n",
       "4  pdam_00007512-RA  \n",
       "\n",
       "[5 rows x 29 columns]"
      ]
     },
     "execution_count": 90,
     "metadata": {},
     "output_type": "execute_result"
    }
   ],
   "source": [
    "test_df.head()"
   ]
  },
  {
   "cell_type": "code",
   "execution_count": null,
   "id": "83a1d55e-603c-4010-adc4-59ccca9208eb",
   "metadata": {},
   "outputs": [],
   "source": []
  }
 ],
 "metadata": {
  "kernelspec": {
   "display_name": "Python [conda env:philharmonic]",
   "language": "python",
   "name": "conda-env-philharmonic-py"
  },
  "language_info": {
   "codemirror_mode": {
    "name": "ipython",
    "version": 3
   },
   "file_extension": ".py",
   "mimetype": "text/x-python",
   "name": "python",
   "nbconvert_exporter": "python",
   "pygments_lexer": "ipython3",
   "version": "3.12.0"
  }
 },
 "nbformat": 4,
 "nbformat_minor": 5
}
