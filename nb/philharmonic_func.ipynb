{
 "cells": [
  {
   "cell_type": "code",
   "execution_count": 1,
   "id": "dc50c56e-803d-48d5-bcdb-65202f540c33",
   "metadata": {
    "tags": []
   },
   "outputs": [],
   "source": [
    "import numpy as np\n",
    "import networkx as nx\n",
    "import matplotlib.pyplot as plt\n",
    "import seaborn as sns\n",
    "import pandas as pd\n",
    "import pickle as pk\n",
    "import json\n",
    "import hashlib\n",
    "import collections\n",
    "from tqdm.notebook import tqdm\n",
    "from pyvis.network import Network"
   ]
  },
  {
   "cell_type": "code",
   "execution_count": 2,
   "id": "784d8d1c-f053-4ef1-929d-d0956a51fa64",
   "metadata": {
    "tags": []
   },
   "outputs": [],
   "source": [
    "class Cluster:\n",
    "    def __init__(self,proteins):\n",
    "        self.proteins = proteins\n",
    "\n",
    "    def __len__(self):\n",
    "        return len(self.proteins)\n",
    "\n",
    "    def __repr__(self):\n",
    "        reprStr = \"Cluster of {} [{},{},...] (hash {})\".format(len(self), self.proteins[0], self.proteins[1], hash(self))\n",
    "        if hasattr(self, 'G'):\n",
    "            reprStr += \"\\nTriangles: {}\\nMax Degree: {}\".format(self.triangles(), max(self.G.degree(), key=lambda x: x[1])[1])\n",
    "        if hasattr(self, 'GO_terms'):\n",
    "            reprStr += \"\\nTop Terms:\\n\\t{}\".format('\\n\\t'.join(\n",
    "                    ['{} ({})'.format(i[0], i[1]) for i in self.get_top_terms(5)]\n",
    "            ))\n",
    "        return reprStr\n",
    "\n",
    "    def __hash__(self):\n",
    "        return int(hashlib.md5(''.join(self.proteins).encode()).hexdigest(), 16)\n",
    "\n",
    "    def to_dict(self):\n",
    "        D = {}\n",
    "        D['id'] = hash(self)\n",
    "        D['proteins'] = []\n",
    "        for p in self.proteins:\n",
    "            pD = {}\n",
    "            pD['name'] = p\n",
    "            if hasattr(self, 'GO_DB'):\n",
    "                pD['go'] = self.GO_DB[self.GO_DB['seq'] == p]['GO_ids'].values[0]\n",
    "            D['proteins'].append(pD)\n",
    "        if hasattr(self, 'GO_DB'):\n",
    "            D['go'] = sorted([{\"id\": i.ID, \"desc\": i.name, \"freq\": self.GO_terms[i]} for i in self.GO_terms], key = lambda x: x['freq'], reverse=True)\n",
    "        if hasattr(self,'G'):\n",
    "            D['graph'] = list(self.G.edges())\n",
    "        return D\n",
    "\n",
    "    def to_json(self):\n",
    "        return json.dumps(self.to_dict())\n",
    "\n",
    "    def add_GO_terms(self, go_db, GO_OBJECTS):\n",
    "        self.GO_terms = {}\n",
    "        self.GO_DB = go_db\n",
    "        for prot in self.proteins:\n",
    "            goIds = go_db[go_db['seq'] == prot]['GO_ids'].values[0]\n",
    "            if goIds is None or len(goIds) == 0:\n",
    "                continue\n",
    "            for gid in goIds:\n",
    "                if gid in GO_OBJECTS:\n",
    "                    goObj = GO_OBJECTS[gid]\n",
    "                # except KeyError:\n",
    "                #     GO_OBJECTS[gid] = GO(gid,{'id':gid,'name':gid})\n",
    "                #     goObj = GO_OBJECTS[gid]\n",
    "                    goCount = self.GO_terms.setdefault(goObj,0)\n",
    "                    self.GO_terms[goObj] = goCount + 1\n",
    "\n",
    "    def get_proteins_by_GO(self, GO_id):\n",
    "        return [p for p in self.proteins if GO_id in prot_go_db.loc[p,'GO_ids']]\n",
    "\n",
    "    def get_GO_by_protein(self, protein):\n",
    "        assert protein in self.proteins, \"{} not in cluster\".format(protein)\n",
    "        return [gt for gt in coi.GO_terms if gt.ID in prot_go_db.loc[protein,'GO_ids']]\n",
    "\n",
    "    def get_top_terms(self,N):\n",
    "        if not hasattr(self, 'GO_terms'):\n",
    "            raise NotImplementedError(\"GO Terms have not been added yet.\")\n",
    "        GOlist = list(self.GO_terms.keys())\n",
    "        if N == -1:\n",
    "            N = len(GOlist)\n",
    "        sortedList = sorted(GOlist,key=lambda x: self.GO_terms[x],reverse=True)[:N]\n",
    "        return list(zip(sortedList, [self.GO_terms[i] for i in sortedList]))\n",
    "\n",
    "    def set_graph(self,G):\n",
    "        self.G = G.subgraph(self.proteins)\n",
    "\n",
    "    def triangles(self):\n",
    "        return sum([i for i in nx.triangles(self.G).values()]) / 3\n",
    "\n",
    "    def draw_degree_histogram(self,draw_graph=True):\n",
    "        if not hasattr(self,'G'):\n",
    "            raise ValueError('Run .set_graph() method on this cluster first')\n",
    "        G = self.G\n",
    "        degree_sequence = sorted([d for n, d in G.degree()], reverse=True)  # degree sequence\n",
    "        degreeCount = collections.Counter(degree_sequence)\n",
    "        deg, cnt = zip(*degreeCount.items())\n",
    "        fig, ax = plt.subplots()\n",
    "        plt.bar(deg, cnt, width=0.80, color='b')\n",
    "\n",
    "        plt.title(\"Degree Histogram\")\n",
    "        plt.ylabel(\"Count\")\n",
    "        plt.xlabel(\"Degree\")\n",
    "        ax.set_xticks([d + 0.4 for d in deg])\n",
    "        ax.set_xticklabels(deg)\n",
    "\n",
    "        # draw graph in inset\n",
    "        if draw_graph:\n",
    "            plt.axes([0.4, 0.4, 0.5, 0.5])\n",
    "            pos = nx.spring_layout(G, k=0.15,iterations=10)\n",
    "            plt.axis('off')\n",
    "            nx.draw_networkx_nodes(G, pos, node_size=20)\n",
    "            nx.draw_networkx_edges(G, pos, alpha=0.4)\n",
    "        plt.show()\n",
    "\n",
    "    # def draw_graph(self):\n",
    "    #     if not hasattr(self,'G'):\n",
    "    #         raise ValueError('Run .set_graph() method on this cluster first')\n",
    "    #     G = self.G\n",
    "    #     nx.draw_kamada_kawai(G, with_labels=True,node_size=600, font_size=8)\n",
    "    \n",
    "    def draw_graph(self, xsize=800, ysize=800, notebook=True, cdn_resources='remote'):\n",
    "        if not hasattr(self,'G'):\n",
    "            raise ValueError('Run .set_graph() method on this cluster first')\n",
    "        nt = Network(f'{xsize}px', f'{ysize}px',notebook=notebook, cdn_resources=cdn_resources)\n",
    "        nt.from_nx(self.G)\n",
    "        return nt.show(f'{hash(self)}.html')\n",
    "    \n",
    "def read_cluster_objects(infile,sep=','):\n",
    "    clusts = []\n",
    "    with open(infile,'r') as f:\n",
    "        for line in f:\n",
    "            clusts.append(Cluster(line.strip().split(sep)))\n",
    "    return clusts\n",
    "\n",
    "def cluster_from_json(jsonString, GO_OBJECTS):\n",
    "        clust = Cluster([])\n",
    "        D = json.loads(jsonString)\n",
    "        clust.proteins = [i['name'] for i in D['proteins']]\n",
    "        clust.GO_terms = {}\n",
    "        for goDict in D['go']:\n",
    "            gid = goDict['id']\n",
    "            gdesc = goDict['desc']\n",
    "            try:\n",
    "                goObj = GO_OBJECTS[gid]\n",
    "            except KeyError:\n",
    "                GO_OBJECTS[gid] = GO(gid,{'id':gid,'name':gdesc})\n",
    "                goObj = GO_OBJECTS[gid]\n",
    "            clust.GO_terms[goObj] = goDict['freq']\n",
    "        try:\n",
    "            edgeList = D['graph']\n",
    "            G = nx.Graph()\n",
    "            for e in edgeList:\n",
    "                G.add_edge(*e)\n",
    "            clust.G = G\n",
    "        except KeyError:\n",
    "            pass\n",
    "        return clust"
   ]
  },
  {
   "cell_type": "code",
   "execution_count": 24,
   "id": "c9d665ef-53ae-4bd4-83db-ae8b0a42ef87",
   "metadata": {
    "tags": []
   },
   "outputs": [],
   "source": [
    "class GO:\n",
    "    def __init__(self, ID, features):\n",
    "        self.ID = ID\n",
    "        self.D = features\n",
    "        self.name = features['name']\n",
    "\n",
    "    def __repr__(self):\n",
    "        return '{} - <{}>'.format(self.ID, self.name)\n",
    "\n",
    "    def __eq__(self, other):\n",
    "        return self.ID == other.ID\n",
    "\n",
    "    def __hash__(self):\n",
    "        return hash(self.ID)\n",
    "    \n",
    "    def __lt__(self, other):\n",
    "        return self.ID < other.ID\n",
    "\n",
    "def extract_GO_id_from_list(l):\n",
    "    if isinstance(l,list):\n",
    "        return [i.split('|')[0] for i in l]\n",
    "    else:\n",
    "        return None\n",
    "\n",
    "def read_GO_obo(infile):\n",
    "    terms = {}\n",
    "    with open(infile,'r') as f:\n",
    "        for line in f:\n",
    "            tDict = {}\n",
    "            line = line.strip()\n",
    "            if line == \"[Term]\":\n",
    "                line = f.readline().strip().split(': ')\n",
    "                while not line == ['']:\n",
    "                    tDict[line[0]] = ''.join(line[1:])\n",
    "                    line = f.readline().strip().split(': ')\n",
    "                for k,v in tDict.items():\n",
    "                    k = k.strip()\n",
    "                    v = v.strip()\n",
    "                    tDict[k] = v\n",
    "                terms[tDict['id']] = GO(tDict['id'], tDict)\n",
    "    return terms\n",
    "\n",
    "def GO_search(clusters, GO_term, GO_OBJECTS, N=20):\n",
    "    if isinstance(GO_term,str):\n",
    "        GO_term = GO_OBJECTS[GO_term]\n",
    "    return [c for c in clusters if GO_term in [i[0] for i in c.get_top_terms(N)]]\n",
    "\n",
    "def protein_search(clusters, protein_list):\n",
    "    if isinstance(protein_list, str):\n",
    "        protein_list = [protein_list]\n",
    "    plist = [c for c in clusters if np.array([p in c.proteins for p in protein_list]).all()]\n",
    "    if len(plist) == 0:\n",
    "        return None\n",
    "    elif len(plist) == 1:\n",
    "        return plist[0]\n",
    "    else:\n",
    "        return plist\n",
    "    \n",
    "def triangle_search(clusters, min_triangles=0, max_triangles=np.infty):\n",
    "    return [c for c in clusters if c.triangles() >= min_triangles and c.triangles() <= max_triangles]\n",
    "\n",
    "def node_search(clusters, min_nodes=0, max_nodes=np.infty):\n",
    "    return [c for c in clusters if len(c) >= min_nodes and len(c) <= max_nodes]"
   ]
  },
  {
   "cell_type": "code",
   "execution_count": 85,
   "id": "513ab31c-c0fd-4692-bbf6-42265b571b5e",
   "metadata": {
    "tags": []
   },
   "outputs": [],
   "source": [
    "net_name = 'Pdam' # TODO: options: 'Pdam', 'SymbC1'\n",
    "BASE_DIR = '..'\n",
    "DATA_DIR = f'{BASE_DIR}/data/'\n",
    "OUTPUT_DIR = f'{BASE_DIR}/results/'\n",
    "\n",
    "edge_weight_thresh = 0.5\n",
    "n_connecting_edges = 10\n",
    "go_db_file =f\"{DATA_DIR}/go.obo\"\n",
    "goslim_db_file = f\"{DATA_DIR}/goslim_generic.obo\"\n",
    "interactionFile = f'{DATA_DIR}/{net_name}_predictions_positive.tsv'\n",
    "clusters_file = f\"{OUTPUT_DIR}{net_name}.clusters.csv\""
   ]
  },
  {
   "cell_type": "markdown",
   "id": "789438ab-2145-4630-824f-9667e005adbb",
   "metadata": {},
   "source": [
    "---"
   ]
  },
  {
   "cell_type": "markdown",
   "id": "f1e08548-cce7-40d0-b9df-690ea4fe4e51",
   "metadata": {},
   "source": [
    "## Load Clusters"
   ]
  },
  {
   "cell_type": "code",
   "execution_count": 116,
   "id": "3ab4175c-0cd2-4508-bac6-1db270ab3521",
   "metadata": {
    "tags": []
   },
   "outputs": [],
   "source": [
    "clusters = read_cluster_objects(clusters_file)"
   ]
  },
  {
   "cell_type": "code",
   "execution_count": 117,
   "id": "ffc7fdd6-cdac-45e5-a1b4-12fc94ae33a5",
   "metadata": {
    "tags": []
   },
   "outputs": [],
   "source": [
    "protein_names = set()\n",
    "for c in clusters:\n",
    "    protein_names = protein_names.union(c.proteins)"
   ]
  },
  {
   "cell_type": "code",
   "execution_count": 118,
   "id": "47859bd7-c67f-4d10-914a-bff63c28b409",
   "metadata": {
    "tags": []
   },
   "outputs": [
    {
     "name": "stdout",
     "output_type": "stream",
     "text": [
      "Selecting subgraph...\n",
      "Filtering edges with confidence threshold 0.5...\n"
     ]
    },
    {
     "data": {
      "application/vnd.jupyter.widget-view+json": {
       "model_id": "e748634e4dbb439399d2fef8dbf2314a",
       "version_major": 2,
       "version_minor": 0
      },
      "text/plain": [
       "  0%|          | 0/215706 [00:00<?, ?it/s]"
      ]
     },
     "metadata": {},
     "output_type": "display_data"
    }
   ],
   "source": [
    "G_init = nx.read_weighted_edgelist(interactionFile)\n",
    "print('Selecting subgraph...')\n",
    "G_sub = G_init.subgraph(protein_names)\n",
    "print('Filtering edges with confidence threshold {}...'.format(edge_weight_thresh))\n",
    "G = nx.Graph()\n",
    "for (u,v,d) in tqdm(G_sub.edges.data()):\n",
    "    if d['weight'] >= edge_weight_thresh:\n",
    "        G.add_edge(u,v,weight=d['weight'])\n",
    "degrees = [i[1] for i in list(G.degree())]"
   ]
  },
  {
   "cell_type": "code",
   "execution_count": 119,
   "id": "b0e94d05-082d-4219-893f-2e4c73404ddc",
   "metadata": {
    "tags": []
   },
   "outputs": [],
   "source": [
    "for i in clusters:\n",
    "    i.set_graph(G)"
   ]
  },
  {
   "cell_type": "markdown",
   "id": "6c68069e-bb93-4497-aa0a-4fbbc5caafdc",
   "metadata": {},
   "source": [
    "---"
   ]
  },
  {
   "cell_type": "markdown",
   "id": "6ec2f7d9-722d-4401-9996-10de723c0407",
   "metadata": {
    "tags": []
   },
   "source": [
    "## Add Function to Clusters"
   ]
  },
  {
   "cell_type": "code",
   "execution_count": 120,
   "id": "66a38e14-0d03-4fa6-84ed-48a8bb8631b2",
   "metadata": {
    "tags": []
   },
   "outputs": [],
   "source": [
    "def clean_GO_map(f):\n",
    "    seqDb = pd.read_csv(f,sep=',')\n",
    "    seqDb.columns = ['seq','manual_annot','pfam_list','GO_list']\n",
    "    seqDb['GO_str'] = seqDb['GO_list']\n",
    "    seqDb['GO_list'] = seqDb['GO_str'].str.split(';')\n",
    "    def extract_GO_id_from_list(l):\n",
    "        if isinstance(l,list):\n",
    "            return [i.split('|')[0] for i in l]\n",
    "        else:\n",
    "            return None\n",
    "    seqDb['GO_ids'] = seqDb['GO_list'].apply(extract_GO_id_from_list)\n",
    "    seq2GO = seqDb[['seq','GO_ids']]\n",
    "    seq2GO.columns = ['seq','GO_ids']\n",
    "    return seq2GO"
   ]
  },
  {
   "cell_type": "code",
   "execution_count": 138,
   "id": "18b0145e-b299-4ebb-92ca-a1a79e36d4ca",
   "metadata": {
    "tags": []
   },
   "outputs": [],
   "source": [
    "pdamMap = clean_GO_map('~/Work/Coral_Experimental_Validation/Pdam_CV3_E7_Predictions/Pdam_GO_map.csv')"
   ]
  },
  {
   "cell_type": "code",
   "execution_count": 139,
   "id": "46c2703d-2023-41d3-bc25-51c190d218a6",
   "metadata": {
    "tags": []
   },
   "outputs": [
    {
     "name": "stdout",
     "output_type": "stream",
     "text": [
      "Adding GO Annotations...\n"
     ]
    },
    {
     "data": {
      "application/vnd.jupyter.widget-view+json": {
       "model_id": "7507857418a84e458df63a16905f6172",
       "version_major": 2,
       "version_minor": 0
      },
      "text/plain": [
       "  0%|          | 0/582 [00:00<?, ?it/s]"
      ]
     },
     "metadata": {},
     "output_type": "display_data"
    }
   ],
   "source": [
    "GO_OBJECTS = read_GO_obo(go_db_file)\n",
    "GO_SLIM = read_GO_obo(goslim_db_file)\n",
    "print('Adding GO Annotations...')\n",
    "for clust in tqdm(clusters):\n",
    "    clust.add_GO_terms(pdamMap,GO_SLIM)\n",
    "clusters.sort(key=lambda x: len(x), reverse=True)"
   ]
  },
  {
   "cell_type": "code",
   "execution_count": 140,
   "id": "607adcf6-ac13-4fbc-a46b-898aaa71ee47",
   "metadata": {
    "tags": []
   },
   "outputs": [
    {
     "data": {
      "application/vnd.jupyter.widget-view+json": {
       "model_id": "39b49554a985447bb9525039c57cb5f3",
       "version_major": 2,
       "version_minor": 0
      },
      "text/plain": [
       "  0%|          | 0/582 [00:00<?, ?it/s]"
      ]
     },
     "metadata": {},
     "output_type": "display_data"
    },
    {
     "data": {
      "text/plain": [
       "28"
      ]
     },
     "execution_count": 140,
     "metadata": {},
     "output_type": "execute_result"
    }
   ],
   "source": [
    "go_assigned = set()\n",
    "for c in tqdm(clusters):\n",
    "    for g in c.GO_terms.keys():\n",
    "        go_assigned.add(g.ID)\n",
    "go_assigned = sorted(list(go_assigned))\n",
    "len(go_assigned)"
   ]
  },
  {
   "cell_type": "code",
   "execution_count": 141,
   "id": "01852742-6bd2-4adf-84c9-d60f300a36a2",
   "metadata": {
    "tags": []
   },
   "outputs": [
    {
     "data": {
      "application/vnd.jupyter.widget-view+json": {
       "model_id": "1724c139033d47b683897dd6e210b1dd",
       "version_major": 2,
       "version_minor": 0
      },
      "text/plain": [
       "  0%|          | 0/582 [00:00<?, ?it/s]"
      ]
     },
     "metadata": {},
     "output_type": "display_data"
    }
   ],
   "source": [
    "proteins_in_clusters = []\n",
    "for c in tqdm(clusters):\n",
    "    proteins_in_clusters.extend(c.proteins)"
   ]
  },
  {
   "cell_type": "code",
   "execution_count": 142,
   "id": "1e182e48-bf08-4675-8406-4a487070608a",
   "metadata": {
    "tags": []
   },
   "outputs": [],
   "source": [
    "from scipy.spatial.distance import jaccard\n",
    "from sklearn.metrics import jaccard_score"
   ]
  },
  {
   "cell_type": "code",
   "execution_count": 143,
   "id": "76d521e1-be2e-40bb-a8c8-b0ac1644a516",
   "metadata": {
    "tags": []
   },
   "outputs": [],
   "source": [
    "def protein_GO_bit_vector(protein_id, go_map, full_go_list,id_col='seq',go_col='GO_ids'):\n",
    "    go_bv = np.zeros(len(full_go_list))\n",
    "    prot_go = go_map.set_index(id_col).loc[protein_id, go_col]\n",
    "    if prot_go is not None:\n",
    "        for gid in prot_go:\n",
    "            if gid in full_go_list:\n",
    "                go_bv[full_go_list.index(gid)] = 1\n",
    "    return go_bv"
   ]
  },
  {
   "cell_type": "markdown",
   "id": "2abd77ec-7f39-4922-a9a2-c49b0cb58056",
   "metadata": {},
   "source": [
    "## BEFORE PERMUTATION"
   ]
  },
  {
   "cell_type": "code",
   "execution_count": 262,
   "id": "827f627e-acff-4677-a52d-f51db54a26c4",
   "metadata": {
    "tags": []
   },
   "outputs": [
    {
     "name": "stdout",
     "output_type": "stream",
     "text": [
      "GO:0001618\n",
      "GO:0003014\n",
      "GO:0003016\n",
      "GO:0003677\n",
      "GO:0003723\n",
      "GO:0003774\n",
      "GO:0003924\n",
      "GO:0005198\n",
      "GO:0006281\n",
      "GO:0006954\n",
      "GO:0007155\n",
      "GO:0008092\n",
      "GO:0008289\n",
      "GO:0016209\n",
      "GO:0016491\n",
      "GO:0016740\n",
      "GO:0016787\n",
      "GO:0016829\n",
      "GO:0016853\n",
      "GO:0016874\n",
      "GO:0031386\n",
      "GO:0042060\n",
      "GO:0042393\n",
      "GO:0044183\n",
      "GO:0045735\n",
      "GO:0048018\n",
      "GO:0050877\n",
      "GO:0060090\n"
     ]
    }
   ],
   "source": [
    "for i in go_assigned:\n",
    "    print(i)"
   ]
  },
  {
   "cell_type": "code",
   "execution_count": 144,
   "id": "063a1067-73c3-443e-9130-c3b3e6b4e809",
   "metadata": {
    "tags": []
   },
   "outputs": [
    {
     "data": {
      "application/vnd.jupyter.widget-view+json": {
       "model_id": "7366bc04cf3b4a54816edda630eb2d08",
       "version_major": 2,
       "version_minor": 0
      },
      "text/plain": [
       "  0%|          | 0/8448 [00:00<?, ?it/s]"
      ]
     },
     "metadata": {},
     "output_type": "display_data"
    }
   ],
   "source": [
    "protein_GO_bvs = {}\n",
    "for pid in tqdm(proteins_in_clusters):\n",
    "    protein_GO_bvs[pid] = protein_GO_bit_vector(pid, pdamMap, go_assigned)"
   ]
  },
  {
   "cell_type": "code",
   "execution_count": 145,
   "id": "3781d041-02c7-49e5-912c-9d55e67fbbb3",
   "metadata": {
    "tags": []
   },
   "outputs": [],
   "source": [
    "from itertools import combinations"
   ]
  },
  {
   "cell_type": "code",
   "execution_count": 188,
   "id": "603ba810-7197-40cb-b5bc-72b257e9da0a",
   "metadata": {
    "tags": []
   },
   "outputs": [
    {
     "data": {
      "application/vnd.jupyter.widget-view+json": {
       "model_id": "deb4cfe2be57475fa8fe2a1232aa8bc0",
       "version_major": 2,
       "version_minor": 0
      },
      "text/plain": [
       "  0%|          | 0/582 [00:00<?, ?it/s]"
      ]
     },
     "metadata": {},
     "output_type": "display_data"
    }
   ],
   "source": [
    "cluster_jaccards = {}\n",
    "\n",
    "for c in tqdm(clusters):\n",
    "    cjaccard = []\n",
    "    for (p1, p2) in combinations(c.proteins, 2):\n",
    "        jc = 1 - jaccard(protein_GO_bvs[p1], protein_GO_bvs[p2])\n",
    "        cjaccard.append(jc)\n",
    "    cluster_jaccards[hash(c)] = np.array(cjaccard)"
   ]
  },
  {
   "cell_type": "markdown",
   "id": "3841b07e-5908-4502-b92c-cf356e9ee3cb",
   "metadata": {
    "tags": []
   },
   "source": [
    "## AFTER PERMUTATION"
   ]
  },
  {
   "cell_type": "code",
   "execution_count": 204,
   "id": "5366fe3d-bc9e-49b5-9fbd-80e07592c7f2",
   "metadata": {
    "tags": []
   },
   "outputs": [],
   "source": [
    "pdamMap[\"GO_permuted\"] = pdamMap[\"GO_ids\"].sample(frac=1).values"
   ]
  },
  {
   "cell_type": "code",
   "execution_count": 205,
   "id": "1302f92b-4e96-4d36-8867-a5402a85b8b4",
   "metadata": {
    "tags": []
   },
   "outputs": [
    {
     "data": {
      "application/vnd.jupyter.widget-view+json": {
       "model_id": "7f115bada8684016b0e786327cb7f3f2",
       "version_major": 2,
       "version_minor": 0
      },
      "text/plain": [
       "  0%|          | 0/8448 [00:00<?, ?it/s]"
      ]
     },
     "metadata": {},
     "output_type": "display_data"
    }
   ],
   "source": [
    "protein_GO_bvs_perm = {}\n",
    "for pid in tqdm(proteins_in_clusters):\n",
    "    protein_GO_bvs_perm[pid] = protein_GO_bit_vector(pid, pdamMap, go_assigned, go_col=\"GO_permuted\")"
   ]
  },
  {
   "cell_type": "code",
   "execution_count": 206,
   "id": "cc1e4ef6-2c5a-4840-9d38-1298298f3b3f",
   "metadata": {
    "tags": []
   },
   "outputs": [
    {
     "data": {
      "application/vnd.jupyter.widget-view+json": {
       "model_id": "2798962d14b04659a34d2edc5b7d04da",
       "version_major": 2,
       "version_minor": 0
      },
      "text/plain": [
       "  0%|          | 0/582 [00:00<?, ?it/s]"
      ]
     },
     "metadata": {},
     "output_type": "display_data"
    }
   ],
   "source": [
    "cluster_jaccards_perm = {}\n",
    "\n",
    "for c in tqdm(clusters):\n",
    "    cjaccard = []\n",
    "    for (p1, p2) in combinations(c.proteins, 2):\n",
    "        jc = 1 - jaccard(protein_GO_bvs_perm[p1], protein_GO_bvs_perm[p2])\n",
    "        cjaccard.append(jc)\n",
    "    cluster_jaccards_perm[hash(c)] = np.array(cjaccard)"
   ]
  },
  {
   "cell_type": "markdown",
   "id": "d6918dfa-10c6-4230-9269-41c4a01dbe99",
   "metadata": {},
   "source": [
    "## Plot"
   ]
  },
  {
   "cell_type": "code",
   "execution_count": 207,
   "id": "5540bb9d-931c-483b-8e9e-b82e96c8fcb7",
   "metadata": {
    "tags": []
   },
   "outputs": [],
   "source": [
    "from scipy.stats import ttest_ind\n",
    "def one_tail_ttest(null, greater):\n",
    "    tstat, p = ttest_ind(null, greater)\n",
    "    if tstat > 0:\n",
    "        return tstat, (1-(p/2))\n",
    "    else:\n",
    "        return tstat, p/2"
   ]
  },
  {
   "cell_type": "code",
   "execution_count": 208,
   "id": "f34d41ec-9335-454e-b1d1-de3895a3afa9",
   "metadata": {
    "tags": []
   },
   "outputs": [
    {
     "data": {
      "text/plain": [
       "582"
      ]
     },
     "execution_count": 208,
     "metadata": {},
     "output_type": "execute_result"
    }
   ],
   "source": [
    "len(cluster_jaccards)"
   ]
  },
  {
   "cell_type": "code",
   "execution_count": 209,
   "id": "ef7ec076-4969-4728-af57-2f04b68d50f3",
   "metadata": {
    "tags": []
   },
   "outputs": [],
   "source": [
    "phil_mean = [i.mean() for i in cluster_jaccards.values()]\n",
    "permute_mean = [i.mean() for i in cluster_jaccards_perm.values()]"
   ]
  },
  {
   "cell_type": "code",
   "execution_count": 213,
   "id": "a9d44ac1-c575-4638-a8b5-7ea45f862037",
   "metadata": {
    "tags": []
   },
   "outputs": [
    {
     "data": {
      "image/png": "[encoded data removed]",
      "text/plain": [
       "<Figure size 432x288 with 1 Axes>"
      ]
     },
     "metadata": {},
     "output_type": "display_data"
    }
   ],
   "source": [
    "sns.set_palette(\"colorblind\")\n",
    "sns.set(style=\"white\", font_scale=1.3)\n",
    "kde = True\n",
    "sns.histplot( phil_mean , color=\"blue\", label=\"PHILHARMONIC\", bins=np.arange(0,1.05,0.05), alpha=0.3, kde=True)\n",
    "sns.histplot( permute_mean , color=\"red\", label=\"Random Baseline\", bins=np.arange(0,1.05,0.05), alpha=0.3, kde=True)\n",
    "tstat, p = one_tail_ttest(permute_mean, phil_mean)\n",
    "# plt.title(\"Functional Enrichment: PHILHARMONIC (p={:.3})\".format(p))\n",
    "plt.xlabel(\"Mean Jaccard Similarity of Cluster\")\n",
    "plt.ylabel(\"Number of Clusters\")\n",
    "plt.legend()\n",
    "sns.despine()\n",
    "plt.savefig(f\"{OUTPUT_DIR}{net_name}.func_enrichment.png\",bbox_inches='tight',dpi=300,transparent=True)\n",
    "plt.show()"
   ]
  },
  {
   "cell_type": "code",
   "execution_count": 234,
   "id": "a0159e05-682b-4956-82f5-3b843a2d0c25",
   "metadata": {
    "tags": []
   },
   "outputs": [],
   "source": [
    "def clean_top_terms(c, return_counts=True, n_filter=3):\n",
    "    csize = len(c)\n",
    "    tt = c.get_top_terms(1)\n",
    "    if len(tt):\n",
    "        if tt[0][1] < n_filter:\n",
    "            pass\n",
    "        elif return_counts:\n",
    "            return (tt[0][0].name, tt[0][1], csize)\n",
    "        else:\n",
    "            return tt[0][0].name\n",
    "    if return_counts:\n",
    "        return ('No function', None, csize)\n",
    "    else:\n",
    "        return 'No function'\n",
    "    \n",
    "cluster_top_terms = {hash(c): clean_top_terms(c, return_counts=False) for c in clusters}"
   ]
  },
  {
   "cell_type": "code",
   "execution_count": 237,
   "id": "396e15a2-eea3-4e24-90bc-56b8b98e7c46",
   "metadata": {
    "tags": []
   },
   "outputs": [
    {
     "data": {
      "text/plain": [
       "Counter({'lipid binding': 14,\n",
       "         'inflammatory response': 84,\n",
       "         'DNA binding': 15,\n",
       "         'GTPase activity': 30,\n",
       "         'virus receptor activity': 11,\n",
       "         'No function': 340,\n",
       "         'cell adhesion': 21,\n",
       "         'DNA repair': 25,\n",
       "         'transferase activity': 1,\n",
       "         'RNA binding': 6,\n",
       "         'ligase activity': 9,\n",
       "         'protein tag activity': 5,\n",
       "         'histone binding': 4,\n",
       "         'respiratory system process': 4,\n",
       "         'molecular adaptor activity': 7,\n",
       "         'cytoskeletal motor activity': 5,\n",
       "         'wound healing': 1})"
      ]
     },
     "execution_count": 237,
     "metadata": {},
     "output_type": "execute_result"
    }
   ],
   "source": [
    "from collections import Counter\n",
    "counter = Counter(cluster_top_terms.values())\n",
    "counter"
   ]
  },
  {
   "cell_type": "code",
   "execution_count": 260,
   "id": "d40f96b2-892e-4538-a8aa-7ae8ed163cc5",
   "metadata": {
    "tags": []
   },
   "outputs": [
    {
     "data": {
      "image/png": "[encoded data removed]",
      "text/plain": [
       "<Figure size 720x720 with 1 Axes>"
      ]
     },
     "metadata": {},
     "output_type": "display_data"
    }
   ],
   "source": [
    "sns.set(style='white', font_scale=1.3)\n",
    "fig,ax = plt.subplots(figsize=(10,10))\n",
    "\n",
    "clens = [len(c) for c in clusters]\n",
    "cjacc = [np.mean(cluster_jaccards[hash(c)]) for c in clusters]\n",
    "cfunc = [cluster_top_terms[hash(c)] for c in clusters]\n",
    "color_map = {k:v for k,v in zip(sorted(set(cfunc)), sns.color_palette(\"Paired\", len(set(cfunc))))}\n",
    "color_map[\"No function\"] = (0.8,0.8,0.8)\n",
    "\n",
    "sns.scatterplot(x=clens, y=cjacc, s=80, alpha=0.8, hue=cfunc, palette=color_map, ax=ax)\n",
    "plt.xlabel('Cluster Size')\n",
    "plt.ylabel('Cluster Coherence')\n",
    "sns.move_legend(ax, \"upper left\", bbox_to_anchor=(1, 1))\n",
    "sns.despine()\n",
    "plt.show()"
   ]
  },
  {
   "cell_type": "code",
   "execution_count": null,
   "id": "cc8d45ac-7967-4050-bdac-cb56f3efd138",
   "metadata": {},
   "outputs": [],
   "source": []
  },
  {
   "cell_type": "code",
   "execution_count": 54,
   "id": "7b7bae0a-4d11-4ea3-ba5e-28f291101a12",
   "metadata": {
    "tags": []
   },
   "outputs": [
    {
     "data": {
      "text/plain": [
       "0.0"
      ]
     },
     "execution_count": 54,
     "metadata": {},
     "output_type": "execute_result"
    }
   ],
   "source": [
    "jaccard(\n",
    "    protein_GO_bit_vector('pdam_00020376-RA', pdamMap, go_assigned),\n",
    "    protein_GO_bit_vector('pdam_00020370-RA', pdamMap, go_assigned)\n",
    ")"
   ]
  },
  {
   "cell_type": "code",
   "execution_count": 51,
   "id": "4b7c1b86-ffad-414d-9040-d203c4a4066b",
   "metadata": {
    "tags": []
   },
   "outputs": [
    {
     "data": {
      "text/plain": [
       "54.0"
      ]
     },
     "execution_count": 51,
     "metadata": {},
     "output_type": "execute_result"
    }
   ],
   "source": [
    "protein_GO_bit_vector('pdam_00001358-RA', pdamMap, go_assigned).sum()"
   ]
  },
  {
   "cell_type": "code",
   "execution_count": 34,
   "id": "7fd8a9c5-1d4b-4332-9963-73285cf3b7af",
   "metadata": {
    "tags": []
   },
   "outputs": [
    {
     "data": {
      "text/plain": [
       "0"
      ]
     },
     "execution_count": 34,
     "metadata": {},
     "output_type": "execute_result"
    }
   ],
   "source": [
    "go_assigned.index('GO:0000006')"
   ]
  },
  {
   "cell_type": "code",
   "execution_count": 20,
   "id": "b9bdbba1-4ab8-42ad-83e3-20cd325bc4d6",
   "metadata": {
    "tags": []
   },
   "outputs": [
    {
     "data": {
      "text/plain": [
       "6668"
      ]
     },
     "execution_count": 20,
     "metadata": {},
     "output_type": "execute_result"
    }
   ],
   "source": [
    "len(go_assigned)"
   ]
  },
  {
   "cell_type": "code",
   "execution_count": 16,
   "id": "3e97b03c-e444-4596-bae5-8d56ebcb6464",
   "metadata": {
    "tags": []
   },
   "outputs": [
    {
     "data": {
      "text/html": [
       "<div>\n",
       "<style scoped>\n",
       "    .dataframe tbody tr th:only-of-type {\n",
       "        vertical-align: middle;\n",
       "    }\n",
       "\n",
       "    .dataframe tbody tr th {\n",
       "        vertical-align: top;\n",
       "    }\n",
       "\n",
       "    .dataframe thead th {\n",
       "        text-align: right;\n",
       "    }\n",
       "</style>\n",
       "<table border=\"1\" class=\"dataframe\">\n",
       "  <thead>\n",
       "    <tr style=\"text-align: right;\">\n",
       "      <th></th>\n",
       "      <th>seq</th>\n",
       "      <th>GO_ids</th>\n",
       "      <th>GO_shuffled</th>\n",
       "    </tr>\n",
       "  </thead>\n",
       "  <tbody>\n",
       "    <tr>\n",
       "      <th>6137</th>\n",
       "      <td>pdam_00000001-RA</td>\n",
       "      <td>[GO:0005031, GO:0071316, GO:0070555, GO:000695...</td>\n",
       "      <td>[GO:0036479, GO:0005524, GO:0005525, GO:002202...</td>\n",
       "    </tr>\n",
       "    <tr>\n",
       "      <th>5434</th>\n",
       "      <td>pdam_00000002-RA</td>\n",
       "      <td>[GO:0017176, GO:0036479, GO:0046481, GO:000552...</td>\n",
       "      <td>[GO:0043022, GO:0030433, GO:0060416, GO:007552...</td>\n",
       "    </tr>\n",
       "    <tr>\n",
       "      <th>5433</th>\n",
       "      <td>pdam_00000003-RA</td>\n",
       "      <td>[GO:0036479, GO:0005524, GO:0005525, GO:002202...</td>\n",
       "      <td>[GO:0070336, GO:0050798, GO:0007499, GO:003256...</td>\n",
       "    </tr>\n",
       "    <tr>\n",
       "      <th>2949</th>\n",
       "      <td>pdam_00000006-RA</td>\n",
       "      <td>[GO:0043022, GO:0003729, GO:0071357, GO:007136...</td>\n",
       "      <td>[GO:0005547, GO:0031098, GO:0070300, GO:009013...</td>\n",
       "    </tr>\n",
       "    <tr>\n",
       "      <th>2947</th>\n",
       "      <td>pdam_00000007-RA</td>\n",
       "      <td>[GO:0043022, GO:0005052, GO:0003729, GO:001069...</td>\n",
       "      <td>[GO:0070336, GO:0032567, GO:0048755, GO:000827...</td>\n",
       "    </tr>\n",
       "    <tr>\n",
       "      <th>...</th>\n",
       "      <td>...</td>\n",
       "      <td>...</td>\n",
       "      <td>...</td>\n",
       "    </tr>\n",
       "    <tr>\n",
       "      <th>3014</th>\n",
       "      <td>pdam_00026064-RA</td>\n",
       "      <td>[GO:0005052, GO:0010698, GO:0036494, GO:003545...</td>\n",
       "      <td>[GO:0047366, GO:0047364, GO:0047685, GO:004513...</td>\n",
       "    </tr>\n",
       "    <tr>\n",
       "      <th>4893</th>\n",
       "      <td>pdam_00026066-RA</td>\n",
       "      <td>[GO:0005041, GO:0071603, GO:0036363, GO:000820...</td>\n",
       "      <td>[GO:0017080, GO:0005111, GO:0070075, GO:000820...</td>\n",
       "    </tr>\n",
       "    <tr>\n",
       "      <th>58</th>\n",
       "      <td>pdam_00026073-RA</td>\n",
       "      <td>[GO:0007155, GO:0048771, GO:0008201, GO:007000...</td>\n",
       "      <td>[GO:0036518, GO:0036517, GO:0048561, GO:190237...</td>\n",
       "    </tr>\n",
       "    <tr>\n",
       "      <th>152</th>\n",
       "      <td>pdam_00026075-RA</td>\n",
       "      <td>[GO:0007155, GO:0048771, GO:0008201, GO:007000...</td>\n",
       "      <td>[GO:0014822, GO:0097535, GO:0002508, GO:007145...</td>\n",
       "    </tr>\n",
       "    <tr>\n",
       "      <th>2986</th>\n",
       "      <td>pdam_00026076-RA</td>\n",
       "      <td>[GO:0005052, GO:0010698, GO:0036494, GO:007030...</td>\n",
       "      <td>[GO:0017108, GO:0008134, GO:0042748, GO:010252...</td>\n",
       "    </tr>\n",
       "  </tbody>\n",
       "</table>\n",
       "<p>11885 rows × 3 columns</p>\n",
       "</div>"
      ],
      "text/plain": [
       "                   seq                                             GO_ids  \\\n",
       "6137  pdam_00000001-RA  [GO:0005031, GO:0071316, GO:0070555, GO:000695...   \n",
       "5434  pdam_00000002-RA  [GO:0017176, GO:0036479, GO:0046481, GO:000552...   \n",
       "5433  pdam_00000003-RA  [GO:0036479, GO:0005524, GO:0005525, GO:002202...   \n",
       "2949  pdam_00000006-RA  [GO:0043022, GO:0003729, GO:0071357, GO:007136...   \n",
       "2947  pdam_00000007-RA  [GO:0043022, GO:0005052, GO:0003729, GO:001069...   \n",
       "...                ...                                                ...   \n",
       "3014  pdam_00026064-RA  [GO:0005052, GO:0010698, GO:0036494, GO:003545...   \n",
       "4893  pdam_00026066-RA  [GO:0005041, GO:0071603, GO:0036363, GO:000820...   \n",
       "58    pdam_00026073-RA  [GO:0007155, GO:0048771, GO:0008201, GO:007000...   \n",
       "152   pdam_00026075-RA  [GO:0007155, GO:0048771, GO:0008201, GO:007000...   \n",
       "2986  pdam_00026076-RA  [GO:0005052, GO:0010698, GO:0036494, GO:007030...   \n",
       "\n",
       "                                            GO_shuffled  \n",
       "6137  [GO:0036479, GO:0005524, GO:0005525, GO:002202...  \n",
       "5434  [GO:0043022, GO:0030433, GO:0060416, GO:007552...  \n",
       "5433  [GO:0070336, GO:0050798, GO:0007499, GO:003256...  \n",
       "2949  [GO:0005547, GO:0031098, GO:0070300, GO:009013...  \n",
       "2947  [GO:0070336, GO:0032567, GO:0048755, GO:000827...  \n",
       "...                                                 ...  \n",
       "3014  [GO:0047366, GO:0047364, GO:0047685, GO:004513...  \n",
       "4893  [GO:0017080, GO:0005111, GO:0070075, GO:000820...  \n",
       "58    [GO:0036518, GO:0036517, GO:0048561, GO:190237...  \n",
       "152   [GO:0014822, GO:0097535, GO:0002508, GO:007145...  \n",
       "2986  [GO:0017108, GO:0008134, GO:0042748, GO:010252...  \n",
       "\n",
       "[11885 rows x 3 columns]"
      ]
     },
     "execution_count": 16,
     "metadata": {},
     "output_type": "execute_result"
    }
   ],
   "source": [
    "pdamMap.sort_values(by='seq')"
   ]
  },
  {
   "cell_type": "code",
   "execution_count": null,
   "id": "28f8385f-3d2e-4e7b-9736-f7289b29a63b",
   "metadata": {},
   "outputs": [],
   "source": [
    "def "
   ]
  }
 ],
 "metadata": {
  "kernelspec": {
   "display_name": "Python [conda env:dsplat]",
   "language": "python",
   "name": "conda-env-dsplat-py"
  },
  "language_info": {
   "codemirror_mode": {
    "name": "ipython",
    "version": 3
   },
   "file_extension": ".py",
   "mimetype": "text/x-python",
   "name": "python",
   "nbconvert_exporter": "python",
   "pygments_lexer": "ipython3",
   "version": "3.9.15"
  }
 },
 "nbformat": 4,
 "nbformat_minor": 5
}
