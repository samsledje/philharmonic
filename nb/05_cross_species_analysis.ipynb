{
 "cells": [
  {
   "cell_type": "markdown",
   "id": "76b50d9b",
   "metadata": {},
   "source": [
    "# Analysis of Cross-Species Interactions\n",
    "\n",
    "Lorem ipsum..."
   ]
  },
  {
   "cell_type": "code",
   "execution_count": 1,
   "id": "aabb406d-4cc9-47fd-ad14-518eb72512d0",
   "metadata": {},
   "outputs": [],
   "source": [
    "import numpy as np\n",
    "import pandas as pd\n",
    "import networkx as nx\n",
    "import matplotlib.pyplot as plt\n",
    "import seaborn as sns\n",
    "from itertools import product, combinations\n",
    "from Bio import SeqIO\n",
    "from loguru import logger\n",
    "from tqdm import tqdm\n",
    "\n",
    "from philharmonic.utils import filter_proteins_GO, plot_degree"
   ]
  },
  {
   "cell_type": "markdown",
   "id": "b7369032",
   "metadata": {},
   "source": [
    "## Run Localization Prediction"
   ]
  },
  {
   "cell_type": "code",
   "execution_count": 2,
   "id": "5feb59de-ee48-4b02-8720-f9a6d8fe9422",
   "metadata": {},
   "outputs": [],
   "source": [
    "pdam_sequence_path = \"/mnt/home/ssledzieski/database/philharmonic/p_damicornis/pdam_proteins.fasta\"\n",
    "symb_sequence_path = \"/mnt/home/ssledzieski/database/philharmonic/c_goreaui/SymbC1.Gene_Models.50.800.fa\"\n",
    "\n",
    "pdam_loc_path = \"/mnt/home/ssledzieski/database/philharmonic/p_damicornis/pdam_localization_results_20240130-084830.csv\"\n",
    "symb_loc_path = \"/mnt/home/ssledzieski/database/philharmonic/c_goreaui/cgor_localization_results_20240130-092714.csv\""
   ]
  },
  {
   "cell_type": "markdown",
   "id": "c7f20220",
   "metadata": {},
   "source": [
    "We use [`deeploc2`](https://academic.oup.com/nar/article/50/W1/W228/6576357) to predict localization of proteins from *P. damicornis* and *C. goreaui*b"
   ]
  },
  {
   "cell_type": "code",
   "execution_count": 36,
   "id": "de49c91b",
   "metadata": {},
   "outputs": [
    {
     "name": "stdout",
     "output_type": "stream",
     "text": [
      "export CUDA_VISIBLE_DEVICES=1; deeploc2 -f /mnt/home/ssledzieski/database/philharmonic/p_damicornis/pdam_proteins.fasta -o /mnt/home/ssledzieski/database/philharmonic/p_damicornis/pdam_localization_results_20240130-084830.csv -m Accurate -p -d cuda\n",
      "export CUDA_VISIBLE_DEVICES=2; deeploc2 -f /mnt/home/ssledzieski/database/philharmonic/c_goreaui/SymbC1.Gene_Models.50.800.fa -o /mnt/home/ssledzieski/database/philharmonic/c_goreaui/cgor_localization_results_20240130-092714.csv -m Accurate -p -d cuda\n"
     ]
    }
   ],
   "source": [
    "!echo \"export CUDA_VISIBLE_DEVICES=1; deeploc2 -f {pdam_sequence_path} -o {pdam_loc_path} -m Accurate -p -d cuda\"\n",
    "!echo \"export CUDA_VISIBLE_DEVICES=2; deeploc2 -f {symb_sequence_path} -o {symb_loc_path} -m Accurate -p -d cuda\""
   ]
  },
  {
   "cell_type": "markdown",
   "id": "dbb056bf",
   "metadata": {},
   "source": [
    "## Extract Membrane & Related Proteins"
   ]
  },
  {
   "cell_type": "code",
   "execution_count": 3,
   "id": "4eabe385",
   "metadata": {},
   "outputs": [],
   "source": [
    "pdam_out_path = \"/mnt/home/ssledzieski/database/philharmonic/p_damicornis/pdam_membrane_proteins.csv\"\n",
    "symb_out_path = \"/mnt/home/ssledzieski/database/philharmonic/c_goreaui/cgor_membrane_proteins.csv\"\n",
    "joint_sequence_path = \"/mnt/home/ssledzieski/Projects/philharmonic-experiments/results/x_species/pdamxsymb_proteins.fasta\""
   ]
  },
  {
   "cell_type": "code",
   "execution_count": 4,
   "id": "6d764be3-7e40-4e5c-b357-3480f9b67b78",
   "metadata": {},
   "outputs": [],
   "source": [
    "pdam_allowed_locations = [\"Cell membrane\", \"Lysosome/Vacuole\"]\n",
    "symb_allowed_locations = [\"Cell membrane\", \"Extracellular\"]"
   ]
  },
  {
   "cell_type": "code",
   "execution_count": 5,
   "id": "8af407d1-7d02-4a44-b35e-e5cea2e7e324",
   "metadata": {},
   "outputs": [],
   "source": [
    "pdam_loc = pd.read_csv(pdam_loc_path)\n",
    "symb_loc = pd.read_csv(symb_loc_path)"
   ]
  },
  {
   "cell_type": "code",
   "execution_count": 6,
   "id": "2c17d110-943c-4a0d-aed6-99227cea0bea",
   "metadata": {},
   "outputs": [
    {
     "name": "stderr",
     "output_type": "stream",
     "text": [
      "\u001b[32m2024-09-27 15:26:46.715\u001b[0m | \u001b[1mINFO    \u001b[0m | \u001b[36m__main__\u001b[0m:\u001b[36m<module>\u001b[0m:\u001b[36m7\u001b[0m - \u001b[1mP. damicornis membrane proteins: 4753\u001b[0m\n",
      "\u001b[32m2024-09-27 15:26:46.716\u001b[0m | \u001b[1mINFO    \u001b[0m | \u001b[36m__main__\u001b[0m:\u001b[36m<module>\u001b[0m:\u001b[36m8\u001b[0m - \u001b[1mC. goreaui membrane proteins: 5336\u001b[0m\n"
     ]
    }
   ],
   "source": [
    "pdam_membrane = pdam_loc[\n",
    "    pdam_loc[\"Localizations\"].str.contains(\"|\".join(pdam_allowed_locations))\n",
    "]\n",
    "symb_membrane = symb_loc[\n",
    "    symb_loc[\"Localizations\"].str.contains(\"|\".join(symb_allowed_locations))\n",
    "]\n",
    "logger.info(f\"P. damicornis membrane proteins: {pdam_membrane.shape[0]}\")\n",
    "logger.info(f\"C. goreaui membrane proteins: {symb_membrane.shape[0]}\")"
   ]
  },
  {
   "cell_type": "code",
   "execution_count": 7,
   "id": "b3888d8c",
   "metadata": {},
   "outputs": [
    {
     "name": "stderr",
     "output_type": "stream",
     "text": [
      "\u001b[32m2024-09-27 15:26:52.548\u001b[0m | \u001b[1mINFO    \u001b[0m | \u001b[36m__main__\u001b[0m:\u001b[36m<module>\u001b[0m:\u001b[36m5\u001b[0m - \u001b[1mMembrane proteins: 9117\u001b[0m\n"
     ]
    }
   ],
   "source": [
    "pdam_sequences = SeqIO.to_dict(SeqIO.parse(pdam_sequence_path, \"fasta\"))\n",
    "symb_sequences = SeqIO.to_dict(SeqIO.parse(symb_sequence_path, \"fasta\"))\n",
    "all_sequences = {**pdam_sequences, **symb_sequences}\n",
    "membrane_sequences = {k:v for k,v in all_sequences.items() if k in pdam_membrane[\"Protein_ID\"].values or k in symb_membrane[\"Protein_ID\"].values}\n",
    "logger.info(f\"Membrane proteins: {len(membrane_sequences)}\")"
   ]
  },
  {
   "cell_type": "code",
   "execution_count": 8,
   "id": "649149bb-bb9a-4c01-9726-5de24b29b2be",
   "metadata": {},
   "outputs": [
    {
     "data": {
      "text/plain": [
       "9117"
      ]
     },
     "execution_count": 8,
     "metadata": {},
     "output_type": "execute_result"
    }
   ],
   "source": [
    "pdam_membrane.to_csv(pdam_out_path, sep=\"\\t\", index=False)\n",
    "symb_membrane.to_csv(symb_out_path, sep=\"\\t\", index=False)\n",
    "SeqIO.write(membrane_sequences.values(), joint_sequence_path, \"fasta\")"
   ]
  },
  {
   "cell_type": "markdown",
   "id": "82155bf5",
   "metadata": {},
   "source": [
    "---"
   ]
  },
  {
   "cell_type": "markdown",
   "id": "e2d705c7",
   "metadata": {},
   "source": [
    "## Generate Candidates"
   ]
  },
  {
   "cell_type": "code",
   "execution_count": 14,
   "id": "8c9bd970",
   "metadata": {},
   "outputs": [],
   "source": [
    "pdam_go_path = \"/mnt/home/ssledzieski/Projects/philharmonic-experiments/results/p_damicornis/20240917-pdamAll-phil_v0.3.0/20240917-pdamAll-phil_v0.3.0_GO_map.csv\"\n",
    "symb_go_path = \"/mnt/home/ssledzieski/Projects/philharmonic-experiments/results/c_goreaui/20240926_philharmonic_v0.5.0_cgoreaui/20240926_cgoreaui_GO_map.csv\"\n",
    "go_database_path = \"/mnt/home/ssledzieski/Projects/philharmonic-experiments/results/p_damicornis/20240917-pdamAll-phil_v0.3.0/go.obo\"\n",
    "go_filter_path = \"/mnt/home/ssledzieski/GitHub/philharmonic/assets/go_filter.txt\"\n",
    "\n",
    "candidates_path = \"/mnt/home/ssledzieski/Projects/philharmonic-experiments/results/x_species/pdamxsymb_candidates.csv\""
   ]
  },
  {
   "cell_type": "code",
   "execution_count": 12,
   "id": "41d95f68",
   "metadata": {},
   "outputs": [
    {
     "name": "stderr",
     "output_type": "stream",
     "text": [
      "\u001b[32m2024-09-27 15:30:12.355\u001b[0m | \u001b[1mINFO    \u001b[0m | \u001b[36m__main__\u001b[0m:\u001b[36m<module>\u001b[0m:\u001b[36m3\u001b[0m - \u001b[1mP. damicornis filtered proteins: 3413\u001b[0m\n",
      "\u001b[32m2024-09-27 15:30:12.357\u001b[0m | \u001b[1mINFO    \u001b[0m | \u001b[36m__main__\u001b[0m:\u001b[36m<module>\u001b[0m:\u001b[36m4\u001b[0m - \u001b[1mC. goreaui filtered proteins: 1535\u001b[0m\n"
     ]
    }
   ],
   "source": [
    "pdam_filtered = filter_proteins_GO(pdam_membrane[\"Protein_ID\"], pdam_go_path, go_database_path, go_filter_path)\n",
    "symb_filtered = filter_proteins_GO(symb_membrane[\"Protein_ID\"], symb_go_path, go_database_path, go_filter_path)\n",
    "logger.info(f\"P. damicornis filtered proteins: {len(pdam_filtered)}\")\n",
    "logger.info(f\"C. goreaui filtered proteins: {len(symb_filtered)}\")"
   ]
  },
  {
   "cell_type": "code",
   "execution_count": 15,
   "id": "43dc6e61",
   "metadata": {},
   "outputs": [
    {
     "name": "stderr",
     "output_type": "stream",
     "text": [
      "\u001b[32m2024-09-27 15:31:11.414\u001b[0m | \u001b[1mINFO    \u001b[0m | \u001b[36m__main__\u001b[0m:\u001b[36m<module>\u001b[0m:\u001b[36m6\u001b[0m - \u001b[1mTotal number of candidates: 5238955\u001b[0m\n"
     ]
    }
   ],
   "source": [
    "with open(candidates_path,\"w+\") as f:\n",
    "    i = 0\n",
    "    for (pdam_protein, symb_protein) in product(pdam_filtered, symb_filtered):\n",
    "        i += 1\n",
    "        f.write(f\"{pdam_protein}\\t{symb_protein}\\n\")\n",
    "logger.info(f\"Total number of candidates: {i}\")"
   ]
  },
  {
   "cell_type": "markdown",
   "id": "00cd2ab9",
   "metadata": {},
   "source": [
    "---"
   ]
  },
  {
   "cell_type": "markdown",
   "id": "f7392a84-af93-4b0b-85d1-dffb0ff496e9",
   "metadata": {},
   "source": [
    "## Predict Cross-Species Network\n",
    "\n",
    "We likewise use D-SCRIPT to predict cross-species interactions."
   ]
  },
  {
   "cell_type": "code",
   "execution_count": 47,
   "id": "107bee6c",
   "metadata": {},
   "outputs": [],
   "source": [
    "predictions_path = \"/mnt/home/ssledzieski/Projects/philharmonic-experiments/results/x_species/pdamxsymb_predictions.csv\""
   ]
  },
  {
   "cell_type": "code",
   "execution_count": 48,
   "id": "f6cda43c",
   "metadata": {},
   "outputs": [
    {
     "name": "stdout",
     "output_type": "stream",
     "text": [
      "dscript predict --model samsl/dscript_human_v1 --seqs /mnt/home/ssledzieski/Projects/philharmonic-experiments/results/x_species/pdamxsymb_proteins.fasta  --outfile /mnt/home/ssledzieski/Projects/philharmonic-experiments/results/x_species/pdamxsymb_predictions.csv --pairs /mnt/home/ssledzieski/Projects/philharmonic-experiments/results/x_species/pdamxsymb_candidates.csv --device 0\n"
     ]
    }
   ],
   "source": [
    "!echo \"dscript predict --model samsl/dscript_human_v1 --seqs {joint_sequence_path}  --outfile {predictions_path} --pairs {candidates_path} --device 0\"\n"
   ]
  },
  {
   "cell_type": "markdown",
   "id": "01419339",
   "metadata": {},
   "source": [
    "---"
   ]
  },
  {
   "cell_type": "markdown",
   "id": "6e57e19b",
   "metadata": {},
   "source": [
    "## Construct Co-interaction Networks"
   ]
  },
  {
   "cell_type": "code",
   "execution_count": null,
   "id": "bb8947d1",
   "metadata": {},
   "outputs": [],
   "source": [
    "edgelist = pd.read_csv(\n",
    "    predictions_path, sep=\"\\t\", header=None\n",
    ")\n",
    "edgelist.columns = [\"source\", \"target\", \"weight\"]\n",
    "full_G = nx.from_pandas_edgelist(edgelist, edge_attr=[\"weight\"])"
   ]
  },
  {
   "cell_type": "code",
   "execution_count": null,
   "id": "4ec3fa01",
   "metadata": {},
   "outputs": [],
   "source": [
    "pdam_prots_l = sorted(list(pdam_filtered.intersection(full_G.nodes())))\n",
    "pdam_pairwise = np.zeros((len(pdam_prots_l), len(pdam_prots_l)))\n",
    "combin = list(combinations(pdam_prots_l, 2))\n",
    "\n",
    "for p1, p2 in tqdm(combin, total=len(combin)):\n",
    "    p1_neighbors = set(nx.neighbors(full_G, p1))\n",
    "    p2_neighbors = set(nx.neighbors(full_G, p2))\n",
    "    p1_i = pdam_prots_l.index(p1)\n",
    "    p2_i = pdam_prots_l.index(p2)\n",
    "    pdam_pairwise[p1_i, p2_i] = len(p1_neighbors.intersection(p2_neighbors))"
   ]
  },
  {
   "cell_type": "code",
   "execution_count": null,
   "id": "470fb192",
   "metadata": {},
   "outputs": [],
   "source": [
    "symb_prots_l = sorted(list(symb_filtered.intersection(full_G.nodes())))\n",
    "symb_pairwise = np.zeros((len(symb_prots_l), len(symb_prots_l)))\n",
    "symb_combin = list(combinations(symb_prots_l, 2))\n",
    "\n",
    "\n",
    "for p1, p2 in tqdm(symb_combin, total=len(symb_combin)):\n",
    "    p1_neighbors = set(nx.neighbors(full_G, p1))\n",
    "    p2_neighbors = set(nx.neighbors(full_G, p2))\n",
    "    p1_i = symb_prots_l.index(p1)\n",
    "    p2_i = symb_prots_l.index(p2)\n",
    "    symb_pairwise[p1_i, p2_i] = len(p1_neighbors.intersection(p2_neighbors))"
   ]
  },
  {
   "cell_type": "code",
   "execution_count": null,
   "id": "55147792",
   "metadata": {},
   "outputs": [],
   "source": [
    "pdam_coneighbor_graph = nx.from_pandas_adjacency(\n",
    "    pd.DataFrame(pdam_pairwise, columns=pdam_prots_l, index=pdam_prots_l)\n",
    ")\n",
    "symb_coneighbor_graph = nx.from_pandas_adjacency(\n",
    "    pd.DataFrame(symb_pairwise, columns=symb_prots_l, index=symb_prots_l)\n",
    ")\n",
    "pdam_coneighbor_graph.remove_nodes_from(list(nx.isolates(pdam_coneighbor_graph)))\n",
    "symb_coneighbor_graph.remove_nodes_from(list(nx.isolates(symb_coneighbor_graph)))"
   ]
  },
  {
   "cell_type": "code",
   "execution_count": null,
   "id": "525ad638",
   "metadata": {},
   "outputs": [],
   "source": [
    "plot_degree(pdam_coneighbor_graph, \"P. damicornis Co-interaction\")"
   ]
  },
  {
   "cell_type": "code",
   "execution_count": null,
   "id": "b3fb9d22",
   "metadata": {},
   "outputs": [],
   "source": [
    "plot_degree(symb_coneighbor_graph, \"C. goreaui Co-interaction\")"
   ]
  },
  {
   "cell_type": "code",
   "execution_count": null,
   "id": "38e39865",
   "metadata": {},
   "outputs": [],
   "source": [
    "nx.to_pandas_edgelist(pdam_coneighbor_graph).to_csv(\n",
    "    \"pdam_membrane_xspecies_coneighbor.tsv\", sep=\"\\t\", header=False, index=False\n",
    ")\n",
    "nx.to_pandas_edgelist(symb_coneighbor_graph).to_csv(\n",
    "    \"symb_membrane_xspecies_coneighbor.tsv\", sep=\"\\t\", header=False, index=False\n",
    ")"
   ]
  }
 ],
 "metadata": {
  "kernelspec": {
   "display_name": "philharmonic",
   "language": "python",
   "name": "python3"
  },
  "language_info": {
   "codemirror_mode": {
    "name": "ipython",
    "version": 3
   },
   "file_extension": ".py",
   "mimetype": "text/x-python",
   "name": "python",
   "nbconvert_exporter": "python",
   "pygments_lexer": "ipython3",
   "version": "3.11.6"
  }
 },
 "nbformat": 4,
 "nbformat_minor": 5
}
