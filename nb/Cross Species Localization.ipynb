{
 "cells": [
  {
   "cell_type": "code",
   "execution_count": 8,
   "id": "aabb406d-4cc9-47fd-ad14-518eb72512d0",
   "metadata": {},
   "outputs": [],
   "source": [
    "import pandas as pd"
   ]
  },
  {
   "cell_type": "code",
   "execution_count": 9,
   "id": "5feb59de-ee48-4b02-8720-f9a6d8fe9422",
   "metadata": {},
   "outputs": [],
   "source": [
    "pdam_loc_path = \"./20240130_pdam_localization/results_20240130-084830.csv\"\n",
    "symb_loc_path = \"./20240130_symbc1_localization/results_20240130-092714.csv\""
   ]
  },
  {
   "cell_type": "code",
   "execution_count": 10,
   "id": "6d764be3-7e40-4e5c-b357-3480f9b67b78",
   "metadata": {},
   "outputs": [],
   "source": [
    "pdam_allowed_locations = [\"Cell membrane\", \"Lysosome/Vacuole\"]\n",
    "symb_allowed_locations = [\"Cell membrane\", \"Extracellular\"]"
   ]
  },
  {
   "cell_type": "code",
   "execution_count": 11,
   "id": "8af407d1-7d02-4a44-b35e-e5cea2e7e324",
   "metadata": {},
   "outputs": [],
   "source": [
    "pdam_loc = pd.read_csv(pdam_loc_path)\n",
    "symb_loc = pd.read_csv(symb_loc_path)"
   ]
  },
  {
   "cell_type": "code",
   "execution_count": 12,
   "id": "2c17d110-943c-4a0d-aed6-99227cea0bea",
   "metadata": {},
   "outputs": [],
   "source": [
    "pdam_membrane = pdam_loc[\n",
    "    pdam_loc[\"Localizations\"].str.contains(\"|\".join(pdam_allowed_locations))\n",
    "]\n",
    "symb_membrane = symb_loc[\n",
    "    symb_loc[\"Localizations\"].str.contains(\"|\".join(symb_allowed_locations))\n",
    "]"
   ]
  },
  {
   "cell_type": "code",
   "execution_count": 13,
   "id": "a395d965-25a2-4a5e-bb29-f5c0469ecdd5",
   "metadata": {},
   "outputs": [
    {
     "data": {
      "text/plain": [
       "(4753, 13)"
      ]
     },
     "execution_count": 13,
     "metadata": {},
     "output_type": "execute_result"
    }
   ],
   "source": [
    "pdam_membrane.shape"
   ]
  },
  {
   "cell_type": "code",
   "execution_count": 14,
   "id": "3f08bf68-1c99-47fc-8751-6588cca96c66",
   "metadata": {},
   "outputs": [
    {
     "data": {
      "text/plain": [
       "(5336, 13)"
      ]
     },
     "execution_count": 14,
     "metadata": {},
     "output_type": "execute_result"
    }
   ],
   "source": [
    "symb_membrane.shape"
   ]
  },
  {
   "cell_type": "code",
   "execution_count": 15,
   "id": "649149bb-bb9a-4c01-9726-5de24b29b2be",
   "metadata": {},
   "outputs": [],
   "source": [
    "pdam_membrane.to_csv(\"pdam_membrane_proteins.csv\", sep=\"\\t\", index=False)\n",
    "symb_membrane.to_csv(\"symb_membrane_proteins.csv\", sep=\"\\t\", index=False)"
   ]
  },
  {
   "cell_type": "code",
   "execution_count": null,
   "id": "f7392a84-af93-4b0b-85d1-dffb0ff496e9",
   "metadata": {},
   "outputs": [],
   "source": []
  }
 ],
 "metadata": {
  "kernelspec": {
   "display_name": "Python [conda env:dsplat]",
   "language": "python",
   "name": "conda-env-dsplat-py"
  },
  "language_info": {
   "codemirror_mode": {
    "name": "ipython",
    "version": 3
   },
   "file_extension": ".py",
   "mimetype": "text/x-python",
   "name": "python",
   "nbconvert_exporter": "python",
   "pygments_lexer": "ipython3",
   "version": "3.9.15"
  }
 },
 "nbformat": 4,
 "nbformat_minor": 5
}
