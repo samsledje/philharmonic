{
 "cells": [
  {
   "cell_type": "code",
   "execution_count": null,
   "metadata": {
    "vscode": {
     "languageId": "plaintext"
    }
   },
   "outputs": [],
   "source": [
    "try:\n",
    "    import importlib.util\n",
    "\n",
    "    importlib.util.find_spec(\"google.colab\")\n",
    "    IN_COLAB = True\n",
    "except ModuleNotFoundError:\n",
    "    IN_COLAB = False\n",
    "\n",
    "if IN_COLAB:\n",
    "    !pip install philharmonic\n",
    "    !wget https://raw.githubusercontent.com/samsledje/philharmonic/refs/heads/main/assets/go_filter.txt\n",
    "    !wget https://raw.githubusercontent.com/samsledje/philharmonic/refs/heads/main/Snakefile"
   ]
  },
  {
   "cell_type": "code",
   "execution_count": null,
   "metadata": {
    "vscode": {
     "languageId": "plaintext"
    }
   },
   "outputs": [],
   "source": [
    "# @title Loading PHILHARMONIC results\n",
    "# @markdown Upload your zipped results file using the \"Files\" tab to the left.\n",
    "# @markdown Set the `RUN_NAME` variable to the name of the run from your config file you want to analyze.\n",
    "# @markdown If you are running this locally, edit the `RESULTS_DIR` variable to point to your results directory, and point to a locally downloaded go.obo file. Otherwise, you can leave it as is.\n",
    "\n",
    "SEQUENCE_FILE_NAME = \"\"  # @param {\"type\":\"string\",\"placeholder\":\"test_proteins.fasta\"}\n",
    "CONFIG_FILE_NAME = \"\" # @param {\"type\":\"string\",\"placeholder\":\"config.yml\"}\n",
    "RUN_NAME = \"\"  # @param {\"type\":\"string\",\"placeholder\":\"philharmonic_run\"}\n",
    "RESULTS_DIR = \"\"  # @param {\"type\":\"string\",\"placeholder\":\"philharmonic_test\"}\n",
    "N_CORES = 16 # @param {\"type\": \"int\", \"placeholder\":16}"
   ]
  },
  {
   "cell_type": "code",
   "execution_count": null,
   "metadata": {
    "vscode": {
     "languageId": "plaintext"
    }
   },
   "outputs": [],
   "source": [
    "# @title Run PHILHARMONIC\n",
    "!philharmonic conduct -cf {CONFIG_FILE_NAME} -c 16"
   ]
  }
 ],
 "metadata": {
  "language_info": {
   "name": "python"
  }
 },
 "nbformat": 4,
 "nbformat_minor": 2
}
