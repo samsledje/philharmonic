{
 "cells": [
  {
   "cell_type": "markdown",
   "metadata": {},
   "source": [
    "<a target=\"_blank\" href=\"https://colab.research.google.com/github/samsledje/philharmonic/blob/dev/nb/00_run_philharmonic.ipynb\">\n",
    "  <img src=\"https://colab.research.google.com/assets/colab-badge.svg\" alt=\"Open In Colab\"/>\n",
    "</a>"
   ]
  },
  {
   "cell_type": "code",
   "execution_count": null,
   "metadata": {},
   "outputs": [],
   "source": [
    "# @title Download and Install PHILHARMONIC\n",
    "\n",
    "try:\n",
    "    import importlib.util\n",
    "\n",
    "    importlib.util.find_spec(\"google.colab\")\n",
    "    IN_COLAB = True\n",
    "except ModuleNotFoundError:\n",
    "    IN_COLAB = False\n",
    "\n",
    "if IN_COLAB:\n",
    "    !pip install philharmonic\n",
    "    !wget https://raw.githubusercontent.com/samsledje/philharmonic/refs/heads/main/assets/go_filter.txt\n",
    "    !wget https://raw.githubusercontent.com/samsledje/philharmonic/refs/heads/main/Snakefile\n",
    "\n",
    "import os\n",
    "\n",
    "import yaml"
   ]
  },
  {
   "cell_type": "code",
   "execution_count": null,
   "metadata": {},
   "outputs": [],
   "source": [
    "# @title Loading PHILHARMONIC results\n",
    "# @markdown Upload your zipped results file using the \"Files\" tab to the left.\n",
    "# @markdown Set the `RUN_NAME` variable to the name of the run from your config file you want to analyze.\n",
    "# @markdown If you are running this locally, edit the `RESULTS_DIR` variable to point to your results directory, and point to a locally downloaded go.obo file. Otherwise, you can leave it as is.\n",
    "\n",
    "SEQUENCE_FILE_NAME = \"\"  # @param {\"type\":\"string\",\"placeholder\":\"test_proteins.fasta\"}\n",
    "CONFIG_FILE_NAME = \"\"  # @param {\"type\":\"string\",\"placeholder\":\"config.yml\"}\n",
    "RUN_NAME = \"\"  # @param {\"type\":\"string\",\"placeholder\":\"philharmonic_run\"}\n",
    "RESULTS_DIR = \"\"  # @param {\"type\":\"string\",\"placeholder\":\"philharmonic_test\"}\n",
    "N_CORES = 16  # @param {\"type\": \"int\", \"placeholder\":16}\n",
    "\n",
    "DO_LLM_NAMES = False  # @param {\"type\":\"boolean\"}\n",
    "OPENAI_API_KEY = \"\"  # @param {\"type\":\"string\",\"placeholder\":\"\"}\n",
    "\n",
    "with open(\"../config_colab.yml\", \"r\") as f:\n",
    "    d = yaml.load(f, Loader=yaml.FullLoader)\n",
    "\n",
    "if IN_COLAB:\n",
    "    d[\"run_name\"] = RUN_NAME\n",
    "    d[\"sequence_path\"] = SEQUENCE_FILE_NAME\n",
    "    d[\"results_dir\"] = RESULTS_DIR\n",
    "    d[\"go_filter_path\"] = \"go_filter.txt\"\n",
    "    d[\"use_llm\"] = DO_LLM_NAMES\n",
    "\n",
    "with open(\"../config_colab.yml\", \"w\") as f:\n",
    "    yaml.dump(d, f)\n",
    "\n",
    "os.environ[\"OPENAI_API_KEY\"] = OPENAI_API_KEY"
   ]
  },
  {
   "cell_type": "code",
   "execution_count": null,
   "metadata": {},
   "outputs": [],
   "source": [
    "# @title Run PHILHARMONIC\n",
    "!philharmonic conduct -cf {CONFIG_FILE_NAME} -c 16"
   ]
  }
 ],
 "metadata": {
  "kernelspec": {
   "display_name": "phil",
   "language": "python",
   "name": "python3"
  },
  "language_info": {
   "codemirror_mode": {
    "name": "ipython",
    "version": 3
   },
   "file_extension": ".py",
   "mimetype": "text/x-python",
   "name": "python",
   "nbconvert_exporter": "python",
   "pygments_lexer": "ipython3",
   "version": "3.11.0"
  }
 },
 "nbformat": 4,
 "nbformat_minor": 2
}
