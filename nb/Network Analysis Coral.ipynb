{
 "cells": [
  {
   "cell_type": "raw",
   "metadata": {},
   "source": [
    "import numpy as np\n",
    "import networkx as nx\n",
    "import matplotlib.pyplot as plt\n",
    "import pandas as pd\n",
    "import pickle as pk\n",
    "import json\n",
    "import hashlib\n",
    "import collections\n",
    "from tqdm.notebook import tqdm\n",
    "from sklearn.cluster import KMeans\n",
    "from sklearn.cluster import SpectralClustering"
   ]
  },
  {
   "cell_type": "markdown",
   "metadata": {},
   "source": [
    "# Run DSD\n",
    "\n",
    "```python fastDSD.py -c --converge -t 0.7 --outfile [outfile] [infile]```\n",
    "\n",
    "#### NOTE: we should re-do this with -t 0.5, but currently is done with -t 0.7"
   ]
  },
  {
   "cell_type": "markdown",
   "metadata": {},
   "source": [
    "# Arguments & Files"
   ]
  },
  {
   "cell_type": "code",
   "execution_count": 250,
   "metadata": {},
   "outputs": [],
   "source": [
    "interactionFile = '/afs/csail.mit.edu/u/s/samsl/workspace/New_Coral_Predictions_CV3_E7/50M_20201106_PdamXSymbC1_predictions.csv'\n",
    "DSDfile = '/afs/csail.mit.edu/u/s/samsl/workspace/New_Coral_Predictions_CV3_E7/50M_20201106_PdamXSymbC1_distances.DSD1'\n",
    "edge_weight_thresh = 0.7\n",
    "kclusts = 500\n",
    "random_seed = 6191998\n",
    "min_clust_size = 3\n",
    "max_clust_size = 100\n",
    "go_db_file =\"/afs/csail.mit.edu/u/s/samsl/db/pfam_go/go.obo\""
   ]
  },
  {
   "cell_type": "markdown",
   "metadata": {},
   "source": [
    "# Read Network"
   ]
  },
  {
   "cell_type": "code",
   "execution_count": 251,
   "metadata": {},
   "outputs": [
    {
     "name": "stdout",
     "output_type": "stream",
     "text": [
      "Reading DSD File...\n"
     ]
    }
   ],
   "source": [
    "print('Reading DSD File...')\n",
    "df = pd.read_csv(DSDfile,sep='\\t',index_col=0,header=0)\n",
    "protein_names = [str(i) for i in df.index]\n",
    "DSD = df.values"
   ]
  },
  {
   "cell_type": "code",
   "execution_count": 252,
   "metadata": {},
   "outputs": [
    {
     "name": "stdout",
     "output_type": "stream",
     "text": [
      "Selecting DSD connected component...\n",
      "Filtering edges with confidence threshold 0.7...\n"
     ]
    },
    {
     "data": {
      "application/vnd.jupyter.widget-view+json": {
       "model_id": "b1e8cf923c864485bc3c731b9bfd36d4",
       "version_major": 2,
       "version_minor": 0
      },
      "text/plain": [
       "HBox(children=(FloatProgress(value=0.0, max=2774522.0), HTML(value='')))"
      ]
     },
     "metadata": {},
     "output_type": "display_data"
    },
    {
     "name": "stdout",
     "output_type": "stream",
     "text": [
      "\n"
     ]
    }
   ],
   "source": [
    "fullG = nx.read_weighted_edgelist(interactionFile)\n",
    "print('Selecting DSD connected component...')\n",
    "G = fullG.subgraph(protein_names)\n",
    "print('Filtering edges with confidence threshold {}...'.format(edge_weight_thresh))\n",
    "wG = nx.Graph()\n",
    "for (u,v,d) in tqdm(G.edges.data()):\n",
    "    if d['weight'] >= edge_weight_thresh:\n",
    "        wG.add_edge(u,v,weight=d['weight'])\n",
    "del G\n",
    "G = wG\n",
    "A = nx.to_numpy_matrix(G, nodelist=protein_names)\n",
    "degrees = [i[1] for i in list(G.degree())]"
   ]
  },
  {
   "cell_type": "code",
   "execution_count": 253,
   "metadata": {},
   "outputs": [
    {
     "name": "stdout",
     "output_type": "stream",
     "text": [
      "------------\n",
      "Nodes: 9244\n",
      "Edges: 45331\n",
      "Median Degree: 4.0\n",
      "Average Degree: 9.80765902206837\n",
      "Sparsity: 0.0005304878311374064\n",
      "------------\n"
     ]
    }
   ],
   "source": [
    "print('-'*12)\n",
    "print('Nodes: {}\\nEdges: {}'.format(len(G.nodes), len(G.edges)))\n",
    "print('Median Degree: {}\\nAverage Degree: {}'.format(np.median(degrees), np.mean(degrees)))\n",
    "print('Sparsity: {}'.format(len(G.edges()) / len(G)**2))\n",
    "print('-'*12)"
   ]
  },
  {
   "cell_type": "markdown",
   "metadata": {},
   "source": [
    "## Degree Distribution"
   ]
  },
  {
   "cell_type": "code",
   "execution_count": 254,
   "metadata": {},
   "outputs": [
    {
     "data": {
      "image/png": "[encoded data removed]",
      "text/plain": [
       "<Figure size 432x288 with 1 Axes>"
      ]
     },
     "metadata": {
      "needs_background": "light"
     },
     "output_type": "display_data"
    }
   ],
   "source": [
    "degreeDist = {}\n",
    "for i in degrees:\n",
    "    n = degreeDist.setdefault(i,0)\n",
    "    degreeDist[i] = n + 1\n",
    "\n",
    "plt.xlabel('Degree')\n",
    "plt.ylabel('Proportion of Nodes')  # we already handled the x-label with ax1\n",
    "plt.title('Node Degree Distribution')\n",
    "plt.scatter(degreeDist.keys(), [i/len(G) for i in degreeDist.values()])\n",
    "plt.savefig(DSDfile+'.degree_dist.png')"
   ]
  },
  {
   "cell_type": "markdown",
   "metadata": {},
   "source": [
    "# Clustering"
   ]
  },
  {
   "cell_type": "markdown",
   "metadata": {},
   "source": [
    "## Compute Similarity Scores"
   ]
  },
  {
   "cell_type": "code",
   "execution_count": 276,
   "metadata": {},
   "outputs": [
    {
     "name": "stdout",
     "output_type": "stream",
     "text": [
      "Computing similarity scores...\n"
     ]
    }
   ],
   "source": [
    "def RBF(D, sigma=None):\n",
    "    \"\"\"\n",
    "    Convert distance matrix D into similarity matrix S using Radial Basis Function (RBF) Kernel\n",
    "    RBF(x,x') = exp( -((x - x')**2 / 2sigma**@))\n",
    "    \"\"\"\n",
    "    sigma = sigma or np.sqrt(np.max(D))\n",
    "    return np.exp(-1 * (np.square(D) / (2 * sigma**2))) \n",
    "\n",
    "print('Computing similarity scores...')\n",
    "simDSD = RBF(DSD)"
   ]
  },
  {
   "cell_type": "code",
   "execution_count": 277,
   "metadata": {},
   "outputs": [
    {
     "name": "stdout",
     "output_type": "stream",
     "text": [
      "Sparsifying similarity scores...\n"
     ]
    }
   ],
   "source": [
    "print('Sparsifying similarity scores...')\n",
    "sparse_sim_thresh = 1e-5\n",
    "simRav = simDSD.ravel()\n",
    "simRav[simRav < sparse_sim_thresh] = 0\n",
    "simRav = simRav.reshape(simDSD.shape)\n",
    "simDSD = simRav"
   ]
  },
  {
   "cell_type": "markdown",
   "metadata": {},
   "source": [
    "## Fit Spectral Clusters"
   ]
  },
  {
   "cell_type": "code",
   "execution_count": 286,
   "metadata": {},
   "outputs": [
    {
     "name": "stdout",
     "output_type": "stream",
     "text": [
      "Fitting spectral clusters...\n"
     ]
    },
    {
     "data": {
      "text/plain": [
       "SpectralClustering(affinity='precomputed', assign_labels='discretize', coef0=1,\n",
       "                   degree=3, eigen_solver=None, eigen_tol=0.0, gamma=1.0,\n",
       "                   kernel_params=None, n_clusters=500, n_components=None,\n",
       "                   n_init=10, n_jobs=None, n_neighbors=10,\n",
       "                   random_state=6191998)"
      ]
     },
     "execution_count": 286,
     "metadata": {},
     "output_type": "execute_result"
    }
   ],
   "source": [
    "print('Fitting spectral clusters...')\n",
    "SC = SpectralClustering(n_clusters=kclusts, assign_labels=\"discretize\", random_state=random_seed, affinity='precomputed')\n",
    "SC.fit(simDSD)"
   ]
  },
  {
   "cell_type": "code",
   "execution_count": 287,
   "metadata": {},
   "outputs": [],
   "source": [
    "with open(DSDfile+'.sc_labels.txt','w+') as f:\n",
    "    f.write(','.join([str(i) for i in SC.labels_]))\n",
    "with open(DSDfile+'.sc_labels.txt','r') as f:\n",
    "    sclabels = np.array([int(i) for i in f.readline().strip().split(',')])"
   ]
  },
  {
   "cell_type": "markdown",
   "metadata": {},
   "source": [
    "## Filter by Cluster Size"
   ]
  },
  {
   "cell_type": "code",
   "execution_count": 288,
   "metadata": {},
   "outputs": [],
   "source": [
    "clusts = [[j for j in range(len(SC.labels_)) if SC.labels_[j] == i] for i in range(max(SC.labels_)+1) if i in SC.labels_]\n",
    "clusts.sort(key = lambda x: len(x), reverse=True)"
   ]
  },
  {
   "cell_type": "code",
   "execution_count": 289,
   "metadata": {},
   "outputs": [
    {
     "name": "stdout",
     "output_type": "stream",
     "text": [
      "Splitting large clusters (>100)...\n",
      "169 -> 103/66\n",
      "158 -> 68/90\n",
      "132 -> 72/60\n",
      "103 -> 53/50\n",
      "103 -> 65/38\n",
      "101 -> 64/37\n",
      "Removing small clusters (<3)...\n"
     ]
    }
   ],
   "source": [
    "from queue import PriorityQueue\n",
    "clustQ = PriorityQueue()\n",
    "\n",
    "for c in clusts:\n",
    "    clustQ.put((1/len(c), c))\n",
    "\n",
    "print('Splitting large clusters (>{})...'.format(max_clust_size))\n",
    "while True:\n",
    "    c = clustQ.get()\n",
    "    csize = int(1/c[0])\n",
    "    if csize <= max_clust_size:\n",
    "        break\n",
    "    SC2 = SpectralClustering(n_clusters=2, assign_labels=\"discretize\", random_state=random_seed, affinity='precomputed')\n",
    "    SC2.fit(simDSD[c[1],:][:,c[1]])\n",
    "    subC_0 = [c[1][i] for i in range(csize) if SC2.labels_[i] == 0]\n",
    "    subC_1 = [c[1][i] for i in range(csize) if SC2.labels_[i] == 1]\n",
    "    print(\"{} -> {}/{}\".format(csize, len(subC_0), len(subC_1)))\n",
    "    clustQ.put((1/len(subC_0), subC_0))\n",
    "    clustQ.put((1/len(subC_1), subC_1))\n",
    "    \n",
    "print('Removing small clusters (<{})...'.format(min_clust_size))\n",
    "filteredClusters = []\n",
    "while not clustQ.empty():\n",
    "    filteredClusters.append(clustQ.get()[1])\n",
    "filteredClusters = [i for i in filteredClusters if len(i) >= min_clust_size]"
   ]
  },
  {
   "cell_type": "code",
   "execution_count": 290,
   "metadata": {
    "scrolled": true
   },
   "outputs": [
    {
     "data": {
      "image/png": "[encoded data removed]",
      "text/plain": [
       "<Figure size 432x288 with 1 Axes>"
      ]
     },
     "metadata": {
      "needs_background": "light"
     },
     "output_type": "display_data"
    }
   ],
   "source": [
    "sizes = [len(i) for i in filteredClusters]\n",
    "plt.hist(sizes,bins=max(sizes))\n",
    "plt.xlabel('Cluster Size')\n",
    "plt.ylabel('Number of Clusters')\n",
    "plt.title('Cluster Size Distribution')\n",
    "plt.savefig(DSDfile+'.clust_size_dist.png')"
   ]
  },
  {
   "cell_type": "code",
   "execution_count": 291,
   "metadata": {},
   "outputs": [],
   "source": [
    "clustsNames = [[protein_names[i] for i in cl] for cl in filteredClusters]\n",
    "clustsNames.sort(key = lambda x: len(x), reverse=True)"
   ]
  },
  {
   "cell_type": "markdown",
   "metadata": {},
   "source": [
    "## Save Clusters"
   ]
  },
  {
   "cell_type": "code",
   "execution_count": 292,
   "metadata": {},
   "outputs": [],
   "source": [
    "def writeClusters(outfile, clusts):\n",
    "    with open(outfile,'w+') as f:\n",
    "        for cl in clusts:\n",
    "            f.write('{}\\n'.format(','.join([str(i) for i in cl])))\n",
    "\n",
    "writeClusters(DSDfile+'.clusters.csv', clustsNames)"
   ]
  },
  {
   "cell_type": "markdown",
   "metadata": {},
   "source": [
    "# GO Term Annotation"
   ]
  },
  {
   "cell_type": "markdown",
   "metadata": {},
   "source": [
    "## Classes & Accessory Functions"
   ]
  },
  {
   "cell_type": "code",
   "execution_count": 293,
   "metadata": {},
   "outputs": [],
   "source": [
    "class Cluster:\n",
    "    def __init__(self,proteins):\n",
    "        self.proteins = proteins\n",
    "\n",
    "    def __len__(self):\n",
    "        return len(self.proteins)\n",
    "\n",
    "    def __repr__(self):\n",
    "        reprStr = \"Cluster of {} [{},{},...] (hash {})\".format(len(self), self.proteins[0], self.proteins[1], hash(self))\n",
    "        if hasattr(self, 'G'):\n",
    "            reprStr += \"\\nTriangles: {}\\nMax Degree: {}\".format(self.triangles(), max(self.G.degree(), key=lambda x: x[1])[1])\n",
    "        if hasattr(self, 'GO_terms'):\n",
    "            reprStr += \"\\nTop Terms:\\n\\t{}\".format('\\n\\t'.join(\n",
    "                    ['{} ({})'.format(i[0], i[1]) for i in self.get_top_terms(5)]\n",
    "            ))\n",
    "        return reprStr\n",
    "\n",
    "    def __hash__(self):\n",
    "        return int(hashlib.md5(''.join(self.proteins).encode()).hexdigest(), 16)\n",
    "\n",
    "    def to_dict(self):\n",
    "        D = {}\n",
    "        D['id'] = hash(self)\n",
    "        D['proteins'] = []\n",
    "        for p in self.proteins:\n",
    "            pD = {}\n",
    "            pD['name'] = p\n",
    "            if hasattr(self, 'GO_DB'):\n",
    "                pD['go'] = self.GO_DB[self.GO_DB['seq'] == p]['GO_ids'].values[0]\n",
    "            D['proteins'].append(pD)\n",
    "        if hasattr(self, 'GO_DB'):\n",
    "            D['go'] = sorted([{\"id\": i.ID, \"desc\": i.name, \"freq\": self.GO_terms[i]} for i in self.GO_terms], key = lambda x: x['freq'], reverse=True)\n",
    "        if hasattr(self,'G'):\n",
    "            D['graph'] = list(self.G.edges())\n",
    "        return D\n",
    "\n",
    "    def to_json(self):\n",
    "        return json.dumps(self.to_dict())\n",
    "\n",
    "    def add_GO_terms(self, go_db, GO_OBJECTS):\n",
    "        self.GO_terms = {}\n",
    "        self.GO_DB = go_db\n",
    "        for prot in self.proteins:\n",
    "            goIds = go_db[go_db['seq'] == prot]['GO_ids'].values[0]\n",
    "            if len(goIds) == 0:\n",
    "                continue\n",
    "            for gid in goIds:\n",
    "                try:\n",
    "                    goObj = GO_OBJECTS[gid]\n",
    "                except KeyError:\n",
    "                    GO_OBJECTS[gid] = GO(gid,{'id':gid,'name':gid})\n",
    "                    goObj = GO_OBJECTS[gid]\n",
    "                goCount = self.GO_terms.setdefault(goObj,0)\n",
    "                self.GO_terms[goObj] = goCount + 1\n",
    "\n",
    "    def get_proteins_by_GO(self, GO_id):\n",
    "        return [p for p in self.proteins if GO_id in prot_go_db.loc[p,'GO_ids']]\n",
    "\n",
    "    def get_GO_by_protein(self, protein):\n",
    "        assert protein in self.proteins, \"{} not in cluster\".format(protein)\n",
    "        return [gt for gt in coi.GO_terms if gt.ID in prot_go_db.loc[protein,'GO_ids']]\n",
    "\n",
    "    def get_top_terms(self,N):\n",
    "        if not hasattr(self, 'GO_terms'):\n",
    "            raise NotImplementedError(\"GO Terms have not been added yet.\")\n",
    "        GOlist = list(self.GO_terms.keys())\n",
    "        if N == -1:\n",
    "            N = len(GOlist)\n",
    "        sortedList = sorted(GOlist,key=lambda x: self.GO_terms[x],reverse=True)[:N]\n",
    "        return list(zip(sortedList, [self.GO_terms[i] for i in sortedList]))\n",
    "\n",
    "    def set_graph(self,G):\n",
    "        self.G = G.subgraph(self.proteins)\n",
    "\n",
    "    def triangles(self):\n",
    "        return sum([i for i in nx.triangles(self.G).values()]) / 3\n",
    "\n",
    "    def draw_degree_histogram(self,draw_graph=True):\n",
    "        if not hasattr(self,'G'):\n",
    "            raise ValueError('Run .set_graph() method on this cluster first')\n",
    "        G = self.G\n",
    "        degree_sequence = sorted([d for n, d in G.degree()], reverse=True)  # degree sequence\n",
    "        degreeCount = collections.Counter(degree_sequence)\n",
    "        deg, cnt = zip(*degreeCount.items())\n",
    "\n",
    "        fig, ax = plt.subplots()\n",
    "        plt.bar(deg, cnt, width=0.80, color='b')\n",
    "\n",
    "        plt.title(\"Degree Histogram\")\n",
    "        plt.ylabel(\"Count\")\n",
    "        plt.xlabel(\"Degree\")\n",
    "        ax.set_xticks([d + 0.4 for d in deg])\n",
    "        ax.set_xticklabels(deg)\n",
    "\n",
    "        # draw graph in inset\n",
    "        if draw_graph:\n",
    "            plt.axes([0.4, 0.4, 0.5, 0.5])\n",
    "            pos = nx.spring_layout(G, k=0.15,iterations=10)\n",
    "            plt.axis('off')\n",
    "            nx.draw_networkx_nodes(G, pos, node_size=20)\n",
    "            nx.draw_networkx_edges(G, pos, alpha=0.4)\n",
    "        plt.show()\n",
    "\n",
    "    def draw_graph(self):\n",
    "        if not hasattr(self,'G'):\n",
    "            raise ValueError('Run .set_graph() method on this cluster first')\n",
    "        G = self.G\n",
    "        nx.draw_kamada_kawai(G, with_labels=True,node_size=600, font_size=8)\n",
    "    \n",
    "def readClusterObjects(infile,sep=','):\n",
    "    clusts = []\n",
    "    with open(infile,'r') as f:\n",
    "        for line in f:\n",
    "            clusts.append(Cluster(line.strip().split(sep)))\n",
    "    return clusts\n",
    "\n",
    "def cluster_from_json(jsonString, GO_OBJECTS):\n",
    "        clust = Cluster([])\n",
    "        D = json.loads(jsonString)\n",
    "        clust.proteins = [i['name'] for i in D['proteins']]\n",
    "        clust.GO_terms = {}\n",
    "        for goDict in D['go']:\n",
    "            gid = goDict['id']\n",
    "            gdesc = goDict['desc']\n",
    "            try:\n",
    "                goObj = GO_OBJECTS[gid]\n",
    "            except KeyError:\n",
    "                GO_OBJECTS[gid] = GO(gid,{'id':gid,'name':gdesc})\n",
    "                goObj = GO_OBJECTS[gid]\n",
    "            clust.GO_terms[goObj] = goDict['freq']\n",
    "        try:\n",
    "            edgeList = D['graph']\n",
    "            G = nx.Graph()\n",
    "            for e in edgeList:\n",
    "                G.add_edge(*e)\n",
    "            clust.G = G\n",
    "        except KeyError:\n",
    "            pass\n",
    "        return clust"
   ]
  },
  {
   "cell_type": "code",
   "execution_count": 294,
   "metadata": {},
   "outputs": [],
   "source": [
    "class GO:\n",
    "    def __init__(self, ID, features):\n",
    "        self.ID = ID\n",
    "        self.D = features\n",
    "        self.name = features['name']\n",
    "\n",
    "    def __repr__(self):\n",
    "        return '{} - <{}>'.format(self.ID, self.name)\n",
    "\n",
    "    def __eq__(self, other):\n",
    "        return self.ID == other.ID\n",
    "\n",
    "    def __hash__(self):\n",
    "        return hash(self.ID)\n",
    "\n",
    "def extract_GO_id_from_list(l):\n",
    "    if isinstance(l,list):\n",
    "        return [i.split('|')[0] for i in l]\n",
    "    else:\n",
    "        return None\n",
    "\n",
    "def read_GO_obo(infile):\n",
    "    terms = {}\n",
    "    with open(infile,'r') as f:\n",
    "        for line in f:\n",
    "            tDict = {}\n",
    "            line = line.strip()\n",
    "            if line == \"[Term]\":\n",
    "                line = f.readline().strip().split(': ')\n",
    "                while not line == ['']:\n",
    "                    tDict[line[0]] = ''.join(line[1:])\n",
    "                    line = f.readline().strip().split(': ')\n",
    "                for k,v in tDict.items():\n",
    "                    k = k.strip()\n",
    "                    v = v.strip()\n",
    "                    tDict[k] = v\n",
    "                terms[tDict['id']] = GO(tDict['id'], tDict)\n",
    "    return terms\n",
    "\n",
    "def GO_search(clusters, GO_term, GO_OBJECTS, N=20,):\n",
    "    if isinstance(GO_term,str):\n",
    "        GO_term = GO_OBJECTS[GO_term]\n",
    "    return [c for c in clusters if GO_term in [i[0] for i in c.get_top_terms(N)]]\n",
    "\n",
    "def protein_search(clusters, protein_list):\n",
    "    if isinstance(protein_list, str):\n",
    "        protein_list = [protein_list]\n",
    "    plist = [c for c in clusters if np.array([p in c.proteins for p in protein_list]).all()]\n",
    "    if len(plist) == 0:\n",
    "        return None\n",
    "    elif len(plist) == 1:\n",
    "        return plist[0]\n",
    "    else:\n",
    "        return plist"
   ]
  },
  {
   "cell_type": "markdown",
   "metadata": {},
   "source": [
    "## Read Clusters into Objects"
   ]
  },
  {
   "cell_type": "code",
   "execution_count": 295,
   "metadata": {},
   "outputs": [],
   "source": [
    "clusters = readClusterObjects(DSDfile+'.clusters.csv')\n",
    "GO_OBJECTS = read_GO_obo(go_db_file)"
   ]
  },
  {
   "cell_type": "markdown",
   "metadata": {},
   "source": [
    "## Add Subgraph to Clusters"
   ]
  },
  {
   "cell_type": "code",
   "execution_count": 296,
   "metadata": {},
   "outputs": [],
   "source": [
    "for i in clusters:\n",
    "    i.set_graph(G)"
   ]
  },
  {
   "cell_type": "markdown",
   "metadata": {},
   "source": [
    "## Add GO Annotations to Clusters"
   ]
  },
  {
   "cell_type": "code",
   "execution_count": 221,
   "metadata": {},
   "outputs": [],
   "source": [
    "seqDb = pd.read_csv('~/workspace/New_Coral_Predictions_CV3_E7/Pdam_GO_map.csv',sep=',')\n",
    "seqDb['GO_str'] = seqDb['GO_list']\n",
    "seqDb['GO_list'] = seqDb['GO_str'].str.split(';')\n",
    "def extract_GO_id_from_list(l):\n",
    "    if isinstance(l,list):\n",
    "        return [i.split('|')[0] for i in l]\n",
    "    else:\n",
    "        return None\n",
    "seqDb['GO_ids'] = seqDb['GO_list'].apply(extract_GO_id_from_list)\n",
    "seq2GO = seqDb[['pdam_id','GO_ids']]\n",
    "seq2GO.columns = ['seq','GO_ids']"
   ]
  },
  {
   "cell_type": "code",
   "execution_count": 216,
   "metadata": {},
   "outputs": [
    {
     "name": "stdout",
     "output_type": "stream",
     "text": [
      "Adding GO Annotations...\n"
     ]
    },
    {
     "data": {
      "application/vnd.jupyter.widget-view+json": {
       "model_id": "bdfbac0ea3684b15b35b2732970bdc40",
       "version_major": 2,
       "version_minor": 0
      },
      "text/plain": [
       "HBox(children=(FloatProgress(value=0.0, max=440.0), HTML(value='')))"
      ]
     },
     "metadata": {},
     "output_type": "display_data"
    },
    {
     "ename": "IndexError",
     "evalue": "index 0 is out of bounds for axis 0 with size 0",
     "output_type": "error",
     "traceback": [
      "\u001b[0;31m---------------------------------------------------------------------------\u001b[0m",
      "\u001b[0;31mIndexError\u001b[0m                                Traceback (most recent call last)",
      "\u001b[0;32m<ipython-input-216-4f16e144a831>\u001b[0m in \u001b[0;36m<module>\u001b[0;34m\u001b[0m\n\u001b[1;32m      1\u001b[0m \u001b[0mprint\u001b[0m\u001b[0;34m(\u001b[0m\u001b[0;34m'Adding GO Annotations...'\u001b[0m\u001b[0;34m)\u001b[0m\u001b[0;34m\u001b[0m\u001b[0;34m\u001b[0m\u001b[0m\n\u001b[1;32m      2\u001b[0m \u001b[0;32mfor\u001b[0m \u001b[0mclust\u001b[0m \u001b[0;32min\u001b[0m \u001b[0mtqdm\u001b[0m\u001b[0;34m(\u001b[0m\u001b[0mclusters\u001b[0m\u001b[0;34m)\u001b[0m\u001b[0;34m:\u001b[0m\u001b[0;34m\u001b[0m\u001b[0;34m\u001b[0m\u001b[0m\n\u001b[0;32m----> 3\u001b[0;31m     \u001b[0mclust\u001b[0m\u001b[0;34m.\u001b[0m\u001b[0madd_GO_terms\u001b[0m\u001b[0;34m(\u001b[0m\u001b[0mseq2GO\u001b[0m\u001b[0;34m,\u001b[0m\u001b[0mGO_OBJECTS\u001b[0m\u001b[0;34m)\u001b[0m\u001b[0;34m\u001b[0m\u001b[0;34m\u001b[0m\u001b[0m\n\u001b[0m\u001b[1;32m      4\u001b[0m \u001b[0mclusters\u001b[0m\u001b[0;34m.\u001b[0m\u001b[0msort\u001b[0m\u001b[0;34m(\u001b[0m\u001b[0mkey\u001b[0m\u001b[0;34m=\u001b[0m\u001b[0;32mlambda\u001b[0m \u001b[0mx\u001b[0m\u001b[0;34m:\u001b[0m \u001b[0mlen\u001b[0m\u001b[0;34m(\u001b[0m\u001b[0mx\u001b[0m\u001b[0;34m)\u001b[0m\u001b[0;34m,\u001b[0m \u001b[0mreverse\u001b[0m\u001b[0;34m=\u001b[0m\u001b[0;32mTrue\u001b[0m\u001b[0;34m)\u001b[0m\u001b[0;34m\u001b[0m\u001b[0;34m\u001b[0m\u001b[0m\n\u001b[1;32m      5\u001b[0m \u001b[0;34m\u001b[0m\u001b[0m\n",
      "\u001b[0;32m<ipython-input-203-79ea140aee26>\u001b[0m in \u001b[0;36madd_GO_terms\u001b[0;34m(self, go_db, GO_OBJECTS)\u001b[0m\n\u001b[1;32m     43\u001b[0m         \u001b[0mself\u001b[0m\u001b[0;34m.\u001b[0m\u001b[0mGO_DB\u001b[0m \u001b[0;34m=\u001b[0m \u001b[0mgo_db\u001b[0m\u001b[0;34m\u001b[0m\u001b[0;34m\u001b[0m\u001b[0m\n\u001b[1;32m     44\u001b[0m         \u001b[0;32mfor\u001b[0m \u001b[0mprot\u001b[0m \u001b[0;32min\u001b[0m \u001b[0mself\u001b[0m\u001b[0;34m.\u001b[0m\u001b[0mproteins\u001b[0m\u001b[0;34m:\u001b[0m\u001b[0;34m\u001b[0m\u001b[0;34m\u001b[0m\u001b[0m\n\u001b[0;32m---> 45\u001b[0;31m             \u001b[0mgoIds\u001b[0m \u001b[0;34m=\u001b[0m \u001b[0mgo_db\u001b[0m\u001b[0;34m[\u001b[0m\u001b[0mgo_db\u001b[0m\u001b[0;34m[\u001b[0m\u001b[0;34m'seq'\u001b[0m\u001b[0;34m]\u001b[0m \u001b[0;34m==\u001b[0m \u001b[0mprot\u001b[0m\u001b[0;34m]\u001b[0m\u001b[0;34m[\u001b[0m\u001b[0;34m'GO_ids'\u001b[0m\u001b[0;34m]\u001b[0m\u001b[0;34m.\u001b[0m\u001b[0mvalues\u001b[0m\u001b[0;34m[\u001b[0m\u001b[0;36m0\u001b[0m\u001b[0;34m]\u001b[0m\u001b[0;34m\u001b[0m\u001b[0;34m\u001b[0m\u001b[0m\n\u001b[0m\u001b[1;32m     46\u001b[0m             \u001b[0;32mif\u001b[0m \u001b[0mlen\u001b[0m\u001b[0;34m(\u001b[0m\u001b[0mgoIds\u001b[0m\u001b[0;34m)\u001b[0m \u001b[0;34m==\u001b[0m \u001b[0;36m0\u001b[0m\u001b[0;34m:\u001b[0m\u001b[0;34m\u001b[0m\u001b[0;34m\u001b[0m\u001b[0m\n\u001b[1;32m     47\u001b[0m                 \u001b[0;32mcontinue\u001b[0m\u001b[0;34m\u001b[0m\u001b[0;34m\u001b[0m\u001b[0m\n",
      "\u001b[0;31mIndexError\u001b[0m: index 0 is out of bounds for axis 0 with size 0"
     ]
    }
   ],
   "source": [
    "print('Adding GO Annotations...')\n",
    "for clust in tqdm(clusters):\n",
    "    clust.add_GO_terms(seq2GO,GO_OBJECTS)\n",
    "clusters.sort(key=lambda x: len(x), reverse=True)\n",
    "\n",
    "print('Saving clusters to pickle...')\n",
    "pk.dump(clusters, open(DSDfile+'.clusters_GO.pk','wb'))\n",
    "\n",
    "clusters = pk.load(open(DSDfile+'.clusters_GO.pk','rb'))"
   ]
  },
  {
   "cell_type": "code",
   "execution_count": 231,
   "metadata": {},
   "outputs": [
    {
     "name": "stdout",
     "output_type": "stream",
     "text": [
      "Writing to JSON...\n"
     ]
    }
   ],
   "source": [
    "clusterDict = {hash(i): i for i in clusters}\n",
    "print('Writing to JSON...')\n",
    "clusterDictJson = {hash(i): i.to_dict() for i in clusters}\n",
    "with open(DSDfile+'.clusterDict.json','w+') as f:\n",
    "    f.write(json.dumps(clusterDictJson))"
   ]
  },
  {
   "cell_type": "markdown",
   "metadata": {},
   "source": [
    "---"
   ]
  },
  {
   "cell_type": "code",
   "execution_count": 195,
   "metadata": {},
   "outputs": [
    {
     "name": "stdout",
     "output_type": "stream",
     "text": [
      "Cluster of 20 [pdam_00024101-RA,pdam_00006054-RA,...] (hash 153241463699989178)\n",
      "Triangles: 2.0\n",
      "Max Degree: 6\n",
      "Top Terms:\n",
      "\tGO:0005509 - <calcium ion binding> (16)\n",
      "\tGO:0050840 - <extracellular matrix binding> (15)\n",
      "\tGO:0016504 - <peptidase activator activity> (15)\n",
      "\tGO:0005201 - <extracellular matrix structural constituent> (15)\n",
      "\tGO:0008201 - <heparin binding> (15)\n"
     ]
    },
    {
     "data": {
      "image/png": "[encoded data removed]",
      "text/plain": [
       "<Figure size 432x288 with 1 Axes>"
      ]
     },
     "metadata": {},
     "output_type": "display_data"
    }
   ],
   "source": [
    "i = 209\n",
    "coi = clusters[i]\n",
    "print(coi)\n",
    "coi.draw_graph()"
   ]
  },
  {
   "cell_type": "markdown",
   "metadata": {},
   "source": [
    "# IsoRank"
   ]
  },
  {
   "cell_type": "code",
   "execution_count": 64,
   "metadata": {},
   "outputs": [],
   "source": [
    "pdam_pred_file = '/afs/csail/u/s/samsl/db/Coral/Pdam/candidate_pairs_mwt100_asof_20200617_50_800.out.positive'\n",
    "hvulg_pred_file = '/afs/csail/u/s/samsl/db/STRING/h.vulgaris/candidate_pairs_hvul_hydra_mwt100_asof_20200624_50_800.out.positive'\n",
    "pdam_preds = pd.read_csv(pdam_pred_file,sep='\\t',header=None)\n",
    "hvulg_preds = pd.read_csv(hvulg_pred_file,sep='\\t',header=None)\n",
    "pdam_preds = pdam_preds[pdam_preds.iloc[:,2] >= 0.7]\n",
    "hvulg_preds = hvulg_preds[hvulg_preds.iloc[:,2] >= 0.7]\n",
    "pdam_preds = pdam_preds.iloc[:,:2]\n",
    "hvulg_preds = hvulg_preds.iloc[:,:2]\n",
    "pdam_preds.columns = ['INTERACTOR_A','INTERACTOR_B']\n",
    "hvulg_preds.columns = ['INTERACTOR_A','INTERACTOR_B']"
   ]
  },
  {
   "cell_type": "code",
   "execution_count": 67,
   "metadata": {},
   "outputs": [],
   "source": [
    "pdam_v_pdam_blast = '/afs/csail/u/s/samsl/Berger/interactionPredictionWithContact/isorank/pdam-vs-pdam.txt'\n",
    "hvulg_v_hvulg_blast = '/afs/csail/u/s/samsl/Berger/interactionPredictionWithContact/isorank/hvulg-vs-hvulg.txt'\n",
    "hvulg_v_pdam_blast = '/afs/csail/u/s/samsl/Berger/interactionPredictionWithContact/isorank/hvulg-vs-pdam.txt'\n",
    "pdam_v_pdam = pd.read_csv(pdam_v_pdam_blast,sep='\\t',header=None)\n",
    "hvulg_v_hvulg = pd.read_csv(hvulg_v_hvulg_blast,sep='\\t',header=None)\n",
    "hvulg_v_pdam = pd.read_csv(hvulg_v_pdam_blast,sep='\\t',header=None)\n",
    "pdam_v_pdam = pdam_v_pdam.iloc[:,[0,1,11]]\n",
    "hvulg_v_hvulg = hvulg_v_hvulg.iloc[:,[0,1,11]]\n",
    "hvulg_v_pdam = hvulg_v_pdam.iloc[:,[0,1,11]]"
   ]
  },
  {
   "cell_type": "code",
   "execution_count": 71,
   "metadata": {},
   "outputs": [],
   "source": [
    "pdam_inter_out = '/afs/csail/u/s/samsl/Berger/interactionPredictionWithContact/isorank/Pdam.tab'\n",
    "hvulg_inter_out = '/afs/csail/u/s/samsl/Berger/interactionPredictionWithContact/isorank/Hvulg.tab'\n",
    "pdam_v_pdam_out = '/afs/csail/u/s/samsl/Berger/interactionPredictionWithContact/isorank/Pdam-Pdam.evals'\n",
    "hvulg_v_hvulg_out = '/afs/csail/u/s/samsl/Berger/interactionPredictionWithContact/isorank/Hvulg-Hvulg.evals'\n",
    "hvulg_v_pdam_out = '/afs/csail/u/s/samsl/Berger/interactionPredictionWithContact/isorank/Hvulg-Pdam.evals'\n",
    "pdam_preds.to_csv(pdam_inter_out,sep='\\t',header=True,index=False)\n",
    "hvulg_preds.to_csv(hvulg_inter_out,sep='\\t',header=True,index=False)\n",
    "pdam_v_pdam.to_csv(pdam_v_pdam_out,sep='\\t',header=False,index=False)\n",
    "hvulg_v_hvulg.to_csv(hvulg_v_hvulg_out,sep='\\t',header=False,index=False)\n",
    "hvulg_v_pdam.to_csv(hvulg_v_pdam_out,sep='\\t',header=False,index=False)"
   ]
  },
  {
   "cell_type": "code",
   "execution_count": 461,
   "metadata": {},
   "outputs": [],
   "source": [
    "pdam_prots = set(pdam_preds.INTERACTOR_A).union(set(pdam_preds.INTERACTOR_B))\n",
    "hvulg_prots = set(hvulg_preds.INTERACTOR_A).union(set(hvulg_preds.INTERACTOR_B))"
   ]
  },
  {
   "cell_type": "code",
   "execution_count": 462,
   "metadata": {},
   "outputs": [],
   "source": [
    "pdam_graph_file = '/afs/csail/u/s/samsl/db/Coral/Pdam/candidate_pairs_mwt100_asof_20200617_50_800.out.positive'\n",
    "hvulg_graph_file = '/afs/csail/u/s/samsl/db/STRING/h.vulgaris/candidate_pairs_hvul_hydra_mwt100_asof_20200624_50_800.out.positive'"
   ]
  },
  {
   "cell_type": "code",
   "execution_count": 477,
   "metadata": {},
   "outputs": [],
   "source": [
    "edge_weight_thresh = 0.7\n",
    "pdamG = nx.read_weighted_edgelist(pdam_pred_file)\n",
    "hvulgG = nx.read_weighted_edgelist(hvulg_pred_file)"
   ]
  },
  {
   "cell_type": "code",
   "execution_count": 471,
   "metadata": {},
   "outputs": [],
   "source": [
    "mappings = {}\n",
    "with open('/afs/csail/u/s/samsl/Berger/interactionPredictionWithContact/isorank/hvulg_pdam_isorank_match-score.txt', 'r') as f:\n",
    "    for line in f:\n",
    "        l = line.strip().split()\n",
    "        src = str(l[0])\n",
    "        dest = str(l[1])\n",
    "        score = float(l[2])\n",
    "        oldScore = mappings.setdefault(src, (dest,score))[1]\n",
    "        if score > oldScore:\n",
    "            mappings[src] = (dest,score)"
   ]
  },
  {
   "cell_type": "code",
   "execution_count": 472,
   "metadata": {
    "scrolled": true
   },
   "outputs": [
    {
     "data": {
      "text/plain": [
       "10221"
      ]
     },
     "execution_count": 472,
     "metadata": {},
     "output_type": "execute_result"
    }
   ],
   "source": [
    "len(mappings.keys())"
   ]
  },
  {
   "cell_type": "code",
   "execution_count": 1122,
   "metadata": {},
   "outputs": [],
   "source": [
    "hydra_sc_pdam_ids = ['pdam_00001652-RA',\n",
    "                    'pdam_00001769-RA',\n",
    "                    'pdam_00002536-RA',\n",
    "                    'pdam_00003493-RA',\n",
    "                    'pdam_00003898-RA',\n",
    "                    'pdam_00004758-RA',\n",
    "                    'pdam_00007071-RA',\n",
    "                    'pdam_00008652-RA',\n",
    "                    'pdam_00012620-RA',\n",
    "                    'pdam_00013172-RA',\n",
    "                    'pdam_00015399-RA',\n",
    "                    'pdam_00015652-RA',\n",
    "                    'pdam_00015761-RA',\n",
    "                    'pdam_00016349-RA',\n",
    "                    'pdam_00016805-RA',\n",
    "                    'pdam_00017544-RA',\n",
    "                    'pdam_00019316-RA']"
   ]
  },
  {
   "cell_type": "code",
   "execution_count": 1512,
   "metadata": {},
   "outputs": [],
   "source": [
    "pdam_siebert_map_fi = '/afs/csail.mit.edu/u/r/rsingh/work/corals/data/raw/seqs/mapping_pdam_Siebert_via_hvul.csv'\n",
    "siebert_human_name_map_fi = '/afs/csail.mit.edu/u/r/rsingh/work/corals/data/processed/Siebert_PMC7104783_IDs_w_names.txt'\n",
    "ortholog_file = '/afs/csail.mit.edu/u/s/samsl/Berger/interactionPredictionWithContact/isorank/ortholog_mappings.csv'\n",
    "with open(pdam_siebert_map_fi) as f:  num_cols = max(len(line.split(',')) for line in f);  f.seek(0);\n",
    "pdam_siebert_map = pd.read_csv(pdam_siebert_map_fi,names=range(num_cols),engine='python')\n",
    "siebert_human_map = pd.read_csv(seibert_human_name_map_fi,engine='python',header=None)\n",
    "pdam_siebert_map = pdam_siebert_map.set_index(0)"
   ]
  },
  {
   "cell_type": "code",
   "execution_count": 1514,
   "metadata": {},
   "outputs": [],
   "source": [
    "orthologs = pd.merge(pdam_siebert_map.loc[hydra_sc_pdam_ids,:].reset_index(),siebert_human_map,left_on=1,right_on=1,how='outer').loc[:,['0_x',1,'0_y']]\n",
    "orthologs.columns = ['Pdam','Siebert','Human']\n",
    "orthologs = orthologs.set_index('Pdam')"
   ]
  },
  {
   "cell_type": "code",
   "execution_count": 1517,
   "metadata": {},
   "outputs": [],
   "source": [
    "clusters_in = []\n",
    "for prt in orthologs.index:\n",
    "    if isinstance(prt,str):\n",
    "        x = prot_search(clusters, prt)\n",
    "    else:\n",
    "        x = None\n",
    "    if x:\n",
    "        clusters_in.append(str(hash(x)))\n",
    "    else:\n",
    "        clusters_in.append(None)\n",
    "    #print('{} in {}'.format(prt, prot_search(clusters, prt)))\n",
    "orthologs['Cluster'] = clusters_in\n",
    "orthologs.to_csv(ortholog_file)"
   ]
  },
  {
   "cell_type": "code",
   "execution_count": 1516,
   "metadata": {
    "scrolled": true
   },
   "outputs": [
    {
     "data": {
      "text/html": [
       "<div>\n",
       "<style scoped>\n",
       "    .dataframe tbody tr th:only-of-type {\n",
       "        vertical-align: middle;\n",
       "    }\n",
       "\n",
       "    .dataframe tbody tr th {\n",
       "        vertical-align: top;\n",
       "    }\n",
       "\n",
       "    .dataframe thead th {\n",
       "        text-align: right;\n",
       "    }\n",
       "</style>\n",
       "<table border=\"1\" class=\"dataframe\">\n",
       "  <thead>\n",
       "    <tr style=\"text-align: right;\">\n",
       "      <th></th>\n",
       "      <th>Siebert</th>\n",
       "      <th>Human</th>\n",
       "      <th>Cluster</th>\n",
       "    </tr>\n",
       "    <tr>\n",
       "      <th>Pdam</th>\n",
       "      <th></th>\n",
       "      <th></th>\n",
       "      <th></th>\n",
       "    </tr>\n",
       "  </thead>\n",
       "  <tbody>\n",
       "    <tr>\n",
       "      <th>pdam_00001652-RA</th>\n",
       "      <td>t37156</td>\n",
       "      <td>NaN</td>\n",
       "      <td>None</td>\n",
       "    </tr>\n",
       "    <tr>\n",
       "      <th>pdam_00001769-RA</th>\n",
       "      <td>t30134</td>\n",
       "      <td>NaN</td>\n",
       "      <td>322269466687533872</td>\n",
       "    </tr>\n",
       "    <tr>\n",
       "      <th>pdam_00002536-RA</th>\n",
       "      <td>t27909</td>\n",
       "      <td>NaN</td>\n",
       "      <td>254438315280822055</td>\n",
       "    </tr>\n",
       "    <tr>\n",
       "      <th>pdam_00003493-RA</th>\n",
       "      <td>t22218</td>\n",
       "      <td>NaN</td>\n",
       "      <td>None</td>\n",
       "    </tr>\n",
       "    <tr>\n",
       "      <th>pdam_00003898-RA</th>\n",
       "      <td>t31033</td>\n",
       "      <td>NaN</td>\n",
       "      <td>94198090151503387</td>\n",
       "    </tr>\n",
       "    <tr>\n",
       "      <th>pdam_00004758-RA</th>\n",
       "      <td>t16456</td>\n",
       "      <td>NaN</td>\n",
       "      <td>None</td>\n",
       "    </tr>\n",
       "    <tr>\n",
       "      <th>pdam_00007071-RA</th>\n",
       "      <td>t22116</td>\n",
       "      <td>ETV1</td>\n",
       "      <td>None</td>\n",
       "    </tr>\n",
       "    <tr>\n",
       "      <th>pdam_00008652-RA</th>\n",
       "      <td>t21810</td>\n",
       "      <td>NDF1</td>\n",
       "      <td>None</td>\n",
       "    </tr>\n",
       "    <tr>\n",
       "      <th>pdam_00012620-RA</th>\n",
       "      <td>t2758</td>\n",
       "      <td>DAN_domain–containing_gene</td>\n",
       "      <td>None</td>\n",
       "    </tr>\n",
       "    <tr>\n",
       "      <th>pdam_00013172-RA</th>\n",
       "      <td>t15331</td>\n",
       "      <td>FZD8</td>\n",
       "      <td>2224493386795527397</td>\n",
       "    </tr>\n",
       "    <tr>\n",
       "      <th>pdam_00015399-RA</th>\n",
       "      <td>t11061</td>\n",
       "      <td>APCD1</td>\n",
       "      <td>1104175528426704620</td>\n",
       "    </tr>\n",
       "    <tr>\n",
       "      <th>pdam_00015652-RA</th>\n",
       "      <td>t35005</td>\n",
       "      <td>CHRD</td>\n",
       "      <td>None</td>\n",
       "    </tr>\n",
       "    <tr>\n",
       "      <th>pdam_00015761-RA</th>\n",
       "      <td>t18095</td>\n",
       "      <td>NaN</td>\n",
       "      <td>None</td>\n",
       "    </tr>\n",
       "    <tr>\n",
       "      <th>pdam_00016349-RA</th>\n",
       "      <td>t1602</td>\n",
       "      <td>HXB1</td>\n",
       "      <td>None</td>\n",
       "    </tr>\n",
       "    <tr>\n",
       "      <th>pdam_00016805-RA</th>\n",
       "      <td>t12060</td>\n",
       "      <td>FGF1</td>\n",
       "      <td>1981825815004671496</td>\n",
       "    </tr>\n",
       "    <tr>\n",
       "      <th>pdam_00017544-RA</th>\n",
       "      <td>t10159</td>\n",
       "      <td>NaN</td>\n",
       "      <td>1836096754967562248</td>\n",
       "    </tr>\n",
       "    <tr>\n",
       "      <th>pdam_00019316-RA</th>\n",
       "      <td>t9974</td>\n",
       "      <td>NaN</td>\n",
       "      <td>426782941481314625</td>\n",
       "    </tr>\n",
       "    <tr>\n",
       "      <th>NaN</th>\n",
       "      <td>t10953</td>\n",
       "      <td>DKK3</td>\n",
       "      <td>None</td>\n",
       "    </tr>\n",
       "    <tr>\n",
       "      <th>NaN</th>\n",
       "      <td>t19036</td>\n",
       "      <td>SFRP3</td>\n",
       "      <td>None</td>\n",
       "    </tr>\n",
       "    <tr>\n",
       "      <th>NaN</th>\n",
       "      <td>t14481</td>\n",
       "      <td>FGRL1</td>\n",
       "      <td>None</td>\n",
       "    </tr>\n",
       "    <tr>\n",
       "      <th>NaN</th>\n",
       "      <td>t2163</td>\n",
       "      <td>COMA</td>\n",
       "      <td>None</td>\n",
       "    </tr>\n",
       "    <tr>\n",
       "      <th>NaN</th>\n",
       "      <td>t32151</td>\n",
       "      <td>matrilysin-like</td>\n",
       "      <td>None</td>\n",
       "    </tr>\n",
       "    <tr>\n",
       "      <th>NaN</th>\n",
       "      <td>t18356</td>\n",
       "      <td>CHIA</td>\n",
       "      <td>None</td>\n",
       "    </tr>\n",
       "    <tr>\n",
       "      <th>NaN</th>\n",
       "      <td>t14976</td>\n",
       "      <td>NDF1_gfp</td>\n",
       "      <td>None</td>\n",
       "    </tr>\n",
       "    <tr>\n",
       "      <th>NaN</th>\n",
       "      <td>t33301</td>\n",
       "      <td>Alpha-LTX-Lhe1a-like</td>\n",
       "      <td>None</td>\n",
       "    </tr>\n",
       "  </tbody>\n",
       "</table>\n",
       "</div>"
      ],
      "text/plain": [
       "                 Siebert                       Human              Cluster\n",
       "Pdam                                                                     \n",
       "pdam_00001652-RA  t37156                         NaN                 None\n",
       "pdam_00001769-RA  t30134                         NaN   322269466687533872\n",
       "pdam_00002536-RA  t27909                         NaN   254438315280822055\n",
       "pdam_00003493-RA  t22218                         NaN                 None\n",
       "pdam_00003898-RA  t31033                         NaN    94198090151503387\n",
       "pdam_00004758-RA  t16456                         NaN                 None\n",
       "pdam_00007071-RA  t22116                        ETV1                 None\n",
       "pdam_00008652-RA  t21810                        NDF1                 None\n",
       "pdam_00012620-RA   t2758  DAN_domain–containing_gene                 None\n",
       "pdam_00013172-RA  t15331                        FZD8  2224493386795527397\n",
       "pdam_00015399-RA  t11061                       APCD1  1104175528426704620\n",
       "pdam_00015652-RA  t35005                        CHRD                 None\n",
       "pdam_00015761-RA  t18095                         NaN                 None\n",
       "pdam_00016349-RA   t1602                        HXB1                 None\n",
       "pdam_00016805-RA  t12060                        FGF1  1981825815004671496\n",
       "pdam_00017544-RA  t10159                         NaN  1836096754967562248\n",
       "pdam_00019316-RA   t9974                         NaN   426782941481314625\n",
       "NaN               t10953                        DKK3                 None\n",
       "NaN               t19036                       SFRP3                 None\n",
       "NaN               t14481                       FGRL1                 None\n",
       "NaN                t2163                        COMA                 None\n",
       "NaN               t32151             matrilysin-like                 None\n",
       "NaN               t18356                        CHIA                 None\n",
       "NaN               t14976                    NDF1_gfp                 None\n",
       "NaN               t33301        Alpha-LTX-Lhe1a-like                 None"
      ]
     },
     "execution_count": 1516,
     "metadata": {},
     "output_type": "execute_result"
    }
   ],
   "source": [
    "orthologs"
   ]
  },
  {
   "cell_type": "code",
   "execution_count": 1523,
   "metadata": {},
   "outputs": [
    {
     "name": "stdout",
     "output_type": "stream",
     "text": [
      "Cluster of 17 [pdam_00016900-RA,pdam_00007315-RA,...] (hash 2224493386795527397)\n",
      "Top Terms:\n",
      "\tGO:0004181 - <metallocarboxypeptidase activity> (9)\n",
      "\tGO:0005044 - <scavenger receptor activity> (6)\n",
      "\tGO:0034446 - <substrate adhesion-dependent cell spreading> (6)\n",
      "\tGO:0007371 - <ventral midline determination> (5)\n",
      "\tGO:0003140 - <determination of left/right asymmetry in lateral mesoderm> (5)\n"
     ]
    },
    {
     "data": {
      "image/png": "[encoded data removed]",
      "text/plain": [
       "<Figure size 432x288 with 1 Axes>"
      ]
     },
     "metadata": {},
     "output_type": "display_data"
    }
   ],
   "source": [
    "coi = clusterDict[2224493386795527397]\n",
    "#coi = clusterDict[1104175528426704620]\n",
    "#coi = clusterDict[1981825815004671496]\n",
    "print(coi)\n",
    "coi.draw_graph()"
   ]
  },
  {
   "cell_type": "code",
   "execution_count": 1536,
   "metadata": {},
   "outputs": [],
   "source": [
    "true_human_edge_file = \"/afs/csail.mit.edu/u/s/samsl/db/STRING/homo.sapiens/binding/binding.all.pos.txt\"\n",
    "human_network = pd.read_csv(true_human_edge_file,sep='\\t',header=None)\n",
    "human_network.columns = ['INTERACTOR_A','INTERACTOR_B']\n",
    "human_inter_out = \"/afs/csail.mit.edu/u/s/samsl/Berger/interactionPredictionWithContact/isorank/Hsapi.tab\"\n",
    "human_network['INTERACTOR_A'] = human_network['INTERACTOR_A'].str.replace('.','_')\n",
    "human_network['INTERACTOR_B'] = human_network['INTERACTOR_B'].str.replace('.','_')\n",
    "human_network.to_csv(human_inter_out,sep='\\t',header=True,index=False)"
   ]
  },
  {
   "cell_type": "code",
   "execution_count": 1537,
   "metadata": {},
   "outputs": [],
   "source": [
    "hvulg_v_hsapi_blast = '/afs/csail/u/s/samsl/Berger/interactionPredictionWithContact/isorank/hvulg-vs-hsapi.txt'\n",
    "pdam_v_hsapi_blast = '/afs/csail/u/s/samsl/Berger/interactionPredictionWithContact/isorank/pdam-vs-hsapi.txt'\n",
    "hsapi_v_hsapi_blast = '/afs/csail/u/s/samsl/Berger/interactionPredictionWithContact/isorank/hsapi-vs-hsapi.txt'\n",
    "hvulg_v_hsapi = pd.read_csv(hvulg_v_hsapi_blast,sep='\\t',header=None)\n",
    "pdam_v_hsapi = pd.read_csv(pdam_v_hsapi_blast,sep='\\t',header=None)\n",
    "hsapi_v_hsapi = pd.read_csv(hsapi_v_hsapi_blast,sep='\\t',header=None)\n",
    "hvulg_v_hsapi = hvulg_v_hsapi.iloc[:,[1,0,11]]\n",
    "pdam_v_hsapi = pdam_v_hsapi.iloc[:,[1,0,11]]\n",
    "hsapi_v_hsapi = hsapi_v_hsapi.iloc[:,[0,1,11]]"
   ]
  },
  {
   "cell_type": "code",
   "execution_count": 1538,
   "metadata": {},
   "outputs": [],
   "source": [
    "hvulg_v_hsapi[1] = hvulg_v_hsapi[1].str.replace('.','_')\n",
    "pdam_v_hsapi[1] = pdam_v_hsapi[1].str.replace('.','_')\n",
    "hsapi_v_hsapi[1] = hsapi_v_hsapi[1].str.replace('.','_')\n",
    "hsapi_v_hsapi[0] = hsapi_v_hsapi[0].str.replace('.','_')"
   ]
  },
  {
   "cell_type": "code",
   "execution_count": 1539,
   "metadata": {},
   "outputs": [],
   "source": [
    "hsapi_v_hvulg_out = '/afs/csail/u/s/samsl/Berger/interactionPredictionWithContact/isorank/Hsapi-Hvulg.evals'\n",
    "hsapi_v_pdam_out = '/afs/csail/u/s/samsl/Berger/interactionPredictionWithContact/isorank/Hsapi-Pdam.evals'\n",
    "hsapi_v_hsapi_out = '/afs/csail/u/s/samsl/Berger/interactionPredictionWithContact/isorank/Hsapi-Hsapi.evals'\n",
    "hvulg_v_hsapi.to_csv(hsapi_v_hvulg_out,sep='\\t',header=False,index=False)\n",
    "pdam_v_hsapi.to_csv(hsapi_v_pdam_out,sep='\\t',header=False,index=False)\n",
    "hsapi_v_hsapi.to_csv(hsapi_v_hsapi_out,sep='\\t',header=False,index=False)"
   ]
  }
 ],
 "metadata": {
  "kernelspec": {
   "display_name": "Python 3 (ipykernel)",
   "language": "python",
   "name": "python3"
  },
  "language_info": {
   "codemirror_mode": {
    "name": "ipython",
    "version": 3
   },
   "file_extension": ".py",
   "mimetype": "text/x-python",
   "name": "python",
   "nbconvert_exporter": "python",
   "pygments_lexer": "ipython3",
   "version": "3.11.7"
  }
 },
 "nbformat": 4,
 "nbformat_minor": 4
}
