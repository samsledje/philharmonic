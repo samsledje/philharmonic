{
 "cells": [
  {
   "cell_type": "code",
   "execution_count": 62,
   "id": "f17c620b-a17d-4d09-a1cc-eb2aa1dc79bd",
   "metadata": {
    "tags": []
   },
   "outputs": [],
   "source": [
    "import re\n",
    "import pandas as pd\n",
    "from Bio import SeqIO\n",
    "import hashlib"
   ]
  },
  {
   "cell_type": "code",
   "execution_count": 63,
   "id": "337faf73-aae7-400b-8401-29c3f512ef89",
   "metadata": {
    "tags": []
   },
   "outputs": [],
   "source": [
    "class SimpleCluster:\n",
    "    def __init__(self, x):\n",
    "        self.x = x\n",
    "\n",
    "    def __hash__(self):\n",
    "        return int(hashlib.md5(\"\".join(self.x).encode()).hexdigest(), 16)\n",
    "\n",
    "\n",
    "def get_hash(plist):\n",
    "    c = SimpleCluster(plist)\n",
    "    return hash(c)"
   ]
  },
  {
   "cell_type": "code",
   "execution_count": 66,
   "id": "f310c80f-5db4-4764-9941-e03d05c26468",
   "metadata": {
    "tags": []
   },
   "outputs": [],
   "source": [
    "clusters = []\n",
    "cluster_dict = {}"
   ]
  },
  {
   "cell_type": "code",
   "execution_count": 67,
   "id": "71694f31-ebcd-48e5-9d88-197cc94afa83",
   "metadata": {
    "tags": []
   },
   "outputs": [],
   "source": [
    "with open(\"Pdam.recipe_clusters.csv\", \"r\") as cluster_fi:\n",
    "    for line in cluster_fi:\n",
    "        c = line.strip().split(\",\")\n",
    "        clusters.append(c)\n",
    "        cluster_dict[get_hash(c)] = c"
   ]
  },
  {
   "cell_type": "code",
   "execution_count": 13,
   "id": "cac1d290-4c35-426c-9dd2-c73958ec1df4",
   "metadata": {
    "tags": []
   },
   "outputs": [
    {
     "data": {
      "text/plain": [
       "582"
      ]
     },
     "execution_count": 13,
     "metadata": {},
     "output_type": "execute_result"
    }
   ],
   "source": [
    "len(clusters)"
   ]
  },
  {
   "cell_type": "code",
   "execution_count": 15,
   "id": "9988111a-2246-4753-9c93-076a93570970",
   "metadata": {
    "tags": []
   },
   "outputs": [],
   "source": [
    "loc_map_dir = \"/afs/csail.mit.edu/u/s/samsl/Work/databases/coral/Pdam/pdam_loc_mapping\""
   ]
  },
  {
   "cell_type": "code",
   "execution_count": 70,
   "id": "cec5f3cf-6444-4873-9757-807802f09027",
   "metadata": {
    "tags": []
   },
   "outputs": [],
   "source": [
    "blast_results = pd.read_csv(f\"{loc_map_dir}/blast_results.tsv\", sep=\"\\t\", header=None)\n",
    "blast_results = blast_results.sort_values(0).drop_duplicates([0, 1])\n",
    "blast_results = blast_results.set_index(0)"
   ]
  },
  {
   "cell_type": "code",
   "execution_count": 123,
   "id": "7729dd84-5df8-4f28-8b2c-a0d22f24fead",
   "metadata": {
    "tags": []
   },
   "outputs": [],
   "source": [
    "blast_results = blast_results[blast_results[10] < 1e-5]"
   ]
  },
  {
   "cell_type": "code",
   "execution_count": 124,
   "id": "facd6809-7ac9-4255-bf51-8874112f3d8b",
   "metadata": {
    "tags": []
   },
   "outputs": [
    {
     "data": {
      "text/plain": [
       "21894"
      ]
     },
     "execution_count": 124,
     "metadata": {},
     "output_type": "execute_result"
    }
   ],
   "source": [
    "len(blast_results)"
   ]
  },
  {
   "cell_type": "code",
   "execution_count": 125,
   "id": "ddd6e6ca-c332-4945-adf2-8f57374ddccb",
   "metadata": {
    "tags": []
   },
   "outputs": [
    {
     "data": {
      "text/html": [
       "<div>\n",
       "<style scoped>\n",
       "    .dataframe tbody tr th:only-of-type {\n",
       "        vertical-align: middle;\n",
       "    }\n",
       "\n",
       "    .dataframe tbody tr th {\n",
       "        vertical-align: top;\n",
       "    }\n",
       "\n",
       "    .dataframe thead th {\n",
       "        text-align: right;\n",
       "    }\n",
       "</style>\n",
       "<table border=\"1\" class=\"dataframe\">\n",
       "  <thead>\n",
       "    <tr style=\"text-align: right;\">\n",
       "      <th></th>\n",
       "      <th>1</th>\n",
       "      <th>2</th>\n",
       "      <th>3</th>\n",
       "      <th>4</th>\n",
       "      <th>5</th>\n",
       "      <th>6</th>\n",
       "      <th>7</th>\n",
       "      <th>8</th>\n",
       "      <th>9</th>\n",
       "      <th>10</th>\n",
       "      <th>11</th>\n",
       "    </tr>\n",
       "    <tr>\n",
       "      <th>0</th>\n",
       "      <th></th>\n",
       "      <th></th>\n",
       "      <th></th>\n",
       "      <th></th>\n",
       "      <th></th>\n",
       "      <th></th>\n",
       "      <th></th>\n",
       "      <th></th>\n",
       "      <th></th>\n",
       "      <th></th>\n",
       "      <th></th>\n",
       "    </tr>\n",
       "  </thead>\n",
       "  <tbody>\n",
       "    <tr>\n",
       "      <th>pdam_00000001-RA</th>\n",
       "      <td>XP_027056588.1</td>\n",
       "      <td>100.000</td>\n",
       "      <td>360</td>\n",
       "      <td>0</td>\n",
       "      <td>0</td>\n",
       "      <td>1</td>\n",
       "      <td>360</td>\n",
       "      <td>31</td>\n",
       "      <td>390</td>\n",
       "      <td>0.000000e+00</td>\n",
       "      <td>737.0</td>\n",
       "    </tr>\n",
       "    <tr>\n",
       "      <th>pdam_00000002-RA</th>\n",
       "      <td>XP_027056458.1</td>\n",
       "      <td>93.440</td>\n",
       "      <td>747</td>\n",
       "      <td>14</td>\n",
       "      <td>2</td>\n",
       "      <td>1</td>\n",
       "      <td>712</td>\n",
       "      <td>13</td>\n",
       "      <td>759</td>\n",
       "      <td>0.000000e+00</td>\n",
       "      <td>1417.0</td>\n",
       "    </tr>\n",
       "    <tr>\n",
       "      <th>pdam_00000003-RA</th>\n",
       "      <td>XP_027056664.1</td>\n",
       "      <td>100.000</td>\n",
       "      <td>333</td>\n",
       "      <td>0</td>\n",
       "      <td>0</td>\n",
       "      <td>1</td>\n",
       "      <td>333</td>\n",
       "      <td>1</td>\n",
       "      <td>333</td>\n",
       "      <td>0.000000e+00</td>\n",
       "      <td>701.0</td>\n",
       "    </tr>\n",
       "    <tr>\n",
       "      <th>pdam_00000005-RA</th>\n",
       "      <td>XP_027056460.1</td>\n",
       "      <td>71.429</td>\n",
       "      <td>63</td>\n",
       "      <td>18</td>\n",
       "      <td>0</td>\n",
       "      <td>1</td>\n",
       "      <td>63</td>\n",
       "      <td>170</td>\n",
       "      <td>232</td>\n",
       "      <td>2.550000e-27</td>\n",
       "      <td>102.0</td>\n",
       "    </tr>\n",
       "    <tr>\n",
       "      <th>pdam_00000006-RA</th>\n",
       "      <td>XP_027056665.1</td>\n",
       "      <td>88.066</td>\n",
       "      <td>243</td>\n",
       "      <td>29</td>\n",
       "      <td>0</td>\n",
       "      <td>1</td>\n",
       "      <td>243</td>\n",
       "      <td>1</td>\n",
       "      <td>243</td>\n",
       "      <td>2.120000e-159</td>\n",
       "      <td>446.0</td>\n",
       "    </tr>\n",
       "  </tbody>\n",
       "</table>\n",
       "</div>"
      ],
      "text/plain": [
       "                              1        2    3   4   5   6    7    8    9   \\\n",
       "0                                                                           \n",
       "pdam_00000001-RA  XP_027056588.1  100.000  360   0   0   1  360   31  390   \n",
       "pdam_00000002-RA  XP_027056458.1   93.440  747  14   2   1  712   13  759   \n",
       "pdam_00000003-RA  XP_027056664.1  100.000  333   0   0   1  333    1  333   \n",
       "pdam_00000005-RA  XP_027056460.1   71.429   63  18   0   1   63  170  232   \n",
       "pdam_00000006-RA  XP_027056665.1   88.066  243  29   0   1  243    1  243   \n",
       "\n",
       "                             10      11  \n",
       "0                                        \n",
       "pdam_00000001-RA   0.000000e+00   737.0  \n",
       "pdam_00000002-RA   0.000000e+00  1417.0  \n",
       "pdam_00000003-RA   0.000000e+00   701.0  \n",
       "pdam_00000005-RA   2.550000e-27   102.0  \n",
       "pdam_00000006-RA  2.120000e-159   446.0  "
      ]
     },
     "execution_count": 125,
     "metadata": {},
     "output_type": "execute_result"
    }
   ],
   "source": [
    "blast_results.head()"
   ]
  },
  {
   "cell_type": "code",
   "execution_count": 126,
   "id": "c7470d61-264a-467b-8e4b-c561722fc035",
   "metadata": {
    "tags": []
   },
   "outputs": [],
   "source": [
    "pep_fasta = SeqIO.to_dict(\n",
    "    SeqIO.parse(\n",
    "        f\"{loc_map_dir}/Pocillopora_damicornis_gca003704095v1.ASM370409v1.pep.all.fa\",\n",
    "        \"fasta\",\n",
    "    )\n",
    ")"
   ]
  },
  {
   "cell_type": "code",
   "execution_count": 127,
   "id": "1363d3cd-e9bc-4bee-af96-f20c3a06792b",
   "metadata": {
    "tags": []
   },
   "outputs": [],
   "source": [
    "REGEXP = \".*gene:(LOC\\\\d+) .*\"\n",
    "regcomp = re.compile(REGEXP)"
   ]
  },
  {
   "cell_type": "code",
   "execution_count": 128,
   "id": "3e80660d-48ef-401e-ad19-c0cff4beb248",
   "metadata": {
    "tags": []
   },
   "outputs": [],
   "source": [
    "xp_loc_map = {}\n",
    "for k, v in pep_fasta.items():\n",
    "    try:\n",
    "        locid = regcomp.search(v.description).group(1)\n",
    "        xp_loc_map[k] = locid\n",
    "    except AttributeError:\n",
    "        continue"
   ]
  },
  {
   "cell_type": "code",
   "execution_count": 129,
   "id": "9d54aad5-163a-4122-b8d2-f6b77a928d63",
   "metadata": {
    "tags": []
   },
   "outputs": [
    {
     "data": {
      "text/plain": [
       "25170"
      ]
     },
     "execution_count": 129,
     "metadata": {},
     "output_type": "execute_result"
    }
   ],
   "source": [
    "len(xp_loc_map)"
   ]
  },
  {
   "cell_type": "code",
   "execution_count": 130,
   "id": "3d9a805c-fb64-4d4c-a81b-5632787ab4d2",
   "metadata": {
    "tags": []
   },
   "outputs": [
    {
     "data": {
      "text/plain": [
       "'XP_027056460.1'"
      ]
     },
     "execution_count": 130,
     "metadata": {},
     "output_type": "execute_result"
    }
   ],
   "source": [
    "blast_results.loc[\"pdam_00000005-RA\", 1]"
   ]
  },
  {
   "cell_type": "code",
   "execution_count": 131,
   "id": "071360c5-2896-425e-966c-8c63559ce2dd",
   "metadata": {
    "tags": []
   },
   "outputs": [],
   "source": [
    "def cluster_name_map(c, blast_map, loc_map):\n",
    "    mapped_names = []\n",
    "    for pdam_id in c:\n",
    "        try:\n",
    "            xpid = blast_results.loc[pdam_id, 1]\n",
    "            locid = xp_loc_map[xpid]\n",
    "        except (KeyError, IndexError):\n",
    "            locid = \"Failed to Map\"\n",
    "        mapped_names.append(locid)\n",
    "    return mapped_names"
   ]
  },
  {
   "cell_type": "code",
   "execution_count": 132,
   "id": "4b9c9eeb-5dc8-4660-9da2-f55d827e3d21",
   "metadata": {
    "tags": []
   },
   "outputs": [],
   "source": [
    "chash = 1332063120138743063\n",
    "# chash = 143188377126489644\n",
    "selected_cluster = cluster_dict[chash]"
   ]
  },
  {
   "cell_type": "code",
   "execution_count": 133,
   "id": "abafd392-44ce-4e5b-ad1a-e51e525e996b",
   "metadata": {
    "tags": []
   },
   "outputs": [
    {
     "data": {
      "text/plain": [
       "['pdam_00002129-RA',\n",
       " 'pdam_00001718-RA',\n",
       " 'pdam_00014456-RA',\n",
       " 'pdam_00009498-RA',\n",
       " 'pdam_00009962-RA',\n",
       " 'pdam_00018634-RA',\n",
       " 'pdam_00008012-RA',\n",
       " 'pdam_00019148-RA',\n",
       " 'pdam_00013926-RA',\n",
       " 'pdam_00005755-RA',\n",
       " 'pdam_00007804-RA',\n",
       " 'pdam_00019311-RA',\n",
       " 'pdam_00005793-RA',\n",
       " 'pdam_00013319-RA']"
      ]
     },
     "execution_count": 133,
     "metadata": {},
     "output_type": "execute_result"
    }
   ],
   "source": [
    "selected_cluster"
   ]
  },
  {
   "cell_type": "code",
   "execution_count": 134,
   "id": "5a084f0f-b73c-446f-a17f-7315bb28237d",
   "metadata": {
    "tags": []
   },
   "outputs": [
    {
     "data": {
      "text/plain": [
       "14"
      ]
     },
     "execution_count": 134,
     "metadata": {},
     "output_type": "execute_result"
    }
   ],
   "source": [
    "len(selected_cluster)"
   ]
  },
  {
   "cell_type": "code",
   "execution_count": 135,
   "id": "8973200d-4e8e-4185-a0a7-ebc9a971c72e",
   "metadata": {
    "tags": []
   },
   "outputs": [
    {
     "name": "stdout",
     "output_type": "stream",
     "text": [
      "LOC113669986\n",
      "LOC113664316\n",
      "LOC113668089\n",
      "LOC113682998\n",
      "LOC113680209\n",
      "LOC113665596\n",
      "LOC113668798\n",
      "LOC113673347\n",
      "LOC113666247\n",
      "LOC113684269\n",
      "LOC113676398\n",
      "LOC113670542\n",
      "LOC113684250\n",
      "LOC113665980\n"
     ]
    }
   ],
   "source": [
    "for en, i in enumerate(cluster_name_map(selected_cluster, blast_results, xp_loc_map)):\n",
    "    # print(en+1, i)\n",
    "    print(i)"
   ]
  },
  {
   "cell_type": "code",
   "execution_count": 88,
   "id": "cf90b56a-f450-4096-81ee-99b4af28d37c",
   "metadata": {
    "tags": []
   },
   "outputs": [],
   "source": []
  },
  {
   "cell_type": "code",
   "execution_count": null,
   "id": "fb54d2d5-6740-48b2-b56b-c7a93c277617",
   "metadata": {},
   "outputs": [],
   "source": []
  }
 ],
 "metadata": {
  "kernelspec": {
   "display_name": "Python [conda env:philharmonic]",
   "language": "python",
   "name": "conda-env-philharmonic-py"
  },
  "language_info": {
   "codemirror_mode": {
    "name": "ipython",
    "version": 3
   },
   "file_extension": ".py",
   "mimetype": "text/x-python",
   "name": "python",
   "nbconvert_exporter": "python",
   "pygments_lexer": "ipython3",
   "version": "3.12.2"
  }
 },
 "nbformat": 4,
 "nbformat_minor": 5
}
