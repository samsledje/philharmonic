{
 "cells": [
  {
   "cell_type": "markdown",
   "id": "13135e08-eb92-4bf2-95de-173664f966e9",
   "metadata": {},
   "source": [
    "# Clusters to Fasta"
   ]
  },
  {
   "cell_type": "code",
   "execution_count": 19,
   "id": "86d99192-55b2-4413-9a85-c548f6362bfc",
   "metadata": {
    "tags": []
   },
   "outputs": [],
   "source": [
    "from Bio import SeqIO\n",
    "import pandas as pd\n",
    "import hashlib"
   ]
  },
  {
   "cell_type": "code",
   "execution_count": 63,
   "id": "1c584d4d-0782-485d-a538-d04967ce3144",
   "metadata": {
    "tags": []
   },
   "outputs": [],
   "source": [
    "class ClassTest:\n",
    "    def __init__(self,x):\n",
    "        self.x = x\n",
    "        \n",
    "    def __hash__(self):\n",
    "        return int(hashlib.md5(''.join(self.x).encode()).hexdigest(), 16)\n",
    "\n",
    "def get_hash(plist):\n",
    "    c = ClassTest(plist)\n",
    "    return hash(c)"
   ]
  },
  {
   "cell_type": "code",
   "execution_count": 8,
   "id": "4bec4d9d-77b7-43a7-851e-913bc648e485",
   "metadata": {
    "tags": []
   },
   "outputs": [],
   "source": [
    "HOME = f\"/afs/csail/u/s/samsl/Work\""
   ]
  },
  {
   "cell_type": "code",
   "execution_count": 26,
   "id": "cf0fde8a-210d-44b0-b92b-820ebfa03f40",
   "metadata": {
    "tags": []
   },
   "outputs": [],
   "source": [
    "SEQ_PATH = \"/afs/csail.mit.edu/u/s/samsl/Work/databases/coral/Pdam/pdam_clean_all.fasta\""
   ]
  },
  {
   "cell_type": "code",
   "execution_count": 35,
   "id": "d559a38f-23b3-48ed-851e-e07896af8542",
   "metadata": {
    "tags": []
   },
   "outputs": [],
   "source": [
    "seq_dict = SeqIO.to_dict(SeqIO.parse(SEQ_PATH,\"fasta\"))"
   ]
  },
  {
   "cell_type": "code",
   "execution_count": 84,
   "id": "a878588d-1232-4c1e-8ddb-54bdea3fd347",
   "metadata": {
    "tags": []
   },
   "outputs": [],
   "source": [
    "clusters_path_csv = f\"{HOME}/Coral_Experimental_Validation/philharmonic_analysis/pdam/Pdam.recipe_clusters.csv\"\n"
   ]
  },
  {
   "cell_type": "code",
   "execution_count": 93,
   "id": "a0c47fcd-8004-4e6f-b821-4e4638b5063b",
   "metadata": {
    "tags": []
   },
   "outputs": [],
   "source": [
    "csv_clusters = []\n",
    "with open(clusters_path_csv,'r') as f:\n",
    "    for line in f:\n",
    "        csv_clusters.append(line.strip().split(','))"
   ]
  },
  {
   "cell_type": "code",
   "execution_count": 99,
   "id": "413c9076-6ac5-4eb4-8546-b0ca87af7b93",
   "metadata": {
    "tags": []
   },
   "outputs": [],
   "source": [
    "clusters = {}\n",
    "clusters_path = f\"{HOME}/Coral_Experimental_Validation/philharmonic_analysis/pdam/pdam_hash_to_proteins.json\"\n",
    "\n",
    "\n",
    "with open(clusters_path,'r') as f:\n",
    "    for line in f:\n",
    "        cdict = eval(line.strip())\n",
    "        chash = list(cdict.keys())[0]\n",
    "        plist = cdict[chash]\n",
    "        # plist = line.strip().split()\n",
    "        # chash = get_hash(plist)\n",
    "        clusters[int(chash)] = plist"
   ]
  },
  {
   "cell_type": "code",
   "execution_count": 83,
   "id": "9be2d793-d2f9-47b5-ab12-a6fceca0ec80",
   "metadata": {
    "tags": []
   },
   "outputs": [],
   "source": [
    "cluster_fasta_dir = f\"{HOME}/Coral_Experimental_Validation/philharmonic_analysis/pdam/pdam_cluster_fastas\"\n",
    "\n",
    "for chash, clist in clusters.items():\n",
    "    with open(f\"{cluster_fasta_dir}/{chash}.fasta\", \"w+\") as f:\n",
    "        for p in clist:\n",
    "            f.write(f\">{p}\\n{str(seq_dict[p].seq)}\\n\")"
   ]
  },
  {
   "cell_type": "code",
   "execution_count": null,
   "id": "36dc21d5-149b-44ad-b1f8-a8ebc9144b8a",
   "metadata": {},
   "outputs": [],
   "source": []
  }
 ],
 "metadata": {
  "kernelspec": {
   "display_name": "Python [conda env:dsplat]",
   "language": "python",
   "name": "conda-env-dsplat-py"
  },
  "language_info": {
   "codemirror_mode": {
    "name": "ipython",
    "version": 3
   },
   "file_extension": ".py",
   "mimetype": "text/x-python",
   "name": "python",
   "nbconvert_exporter": "python",
   "pygments_lexer": "ipython3",
   "version": "3.9.15"
  }
 },
 "nbformat": 4,
 "nbformat_minor": 5
}
