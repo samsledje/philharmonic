{
 "cells": [
  {
   "cell_type": "markdown",
   "id": "980fa704-c3ba-47fb-a4c9-db0ef8e4a4bb",
   "metadata": {},
   "source": [
    "# Visualize Result of PHILHARMONIC Analysis"
   ]
  },
  {
   "cell_type": "markdown",
   "id": "fa3187c8",
   "metadata": {},
   "source": [
    "<a target=\"_blank\" href=\"https://colab.research.google.com/github/samsledje/philharmonic/blob/main/nb/01_result_summary.ipynb\">\n",
    "  <img src=\"https://colab.research.google.com/assets/colab-badge.svg\" alt=\"Open In Colab\"/>\n",
    "</a>"
   ]
  },
  {
   "cell_type": "code",
   "execution_count": 1,
   "id": "02503ed0",
   "metadata": {
    "cellView": "form"
   },
   "outputs": [],
   "source": [
    "# @title Download and Install PHILHARMONIC\n",
    "\n",
    "try:\n",
    "    import importlib.util\n",
    "\n",
    "    importlib.util.find_spec(\"google.colab\")\n",
    "    IN_COLAB = True\n",
    "except ModuleNotFoundError:\n",
    "    IN_COLAB = False\n",
    "\n",
    "if IN_COLAB:\n",
    "    !pip install philharmonic\n",
    "    !curl https://current.geneontology.org/ontology/go.obo -o go.obo\n",
    "    !curl https://current.geneontology.org/ontology/subsets/goslim_generic.obo -o goslim_generic.obo\n",
    "\n",
    "from pathlib import Path\n",
    "\n",
    "import networkx as nx\n",
    "import numpy as np\n",
    "import pandas as pd\n",
    "import seaborn as sns\n",
    "from loguru import logger\n",
    "from matplotlib import pyplot as plt\n",
    "\n",
    "from philharmonic.utils import (\n",
    "    load_cluster_json,\n",
    "    parse_GO_database,\n",
    "    parse_GO_map,\n",
    "    plot_cluster,\n",
    "    print_cluster,\n",
    "    write_cluster_cytoscape,\n",
    ")"
   ]
  },
  {
   "cell_type": "code",
   "execution_count": 39,
   "id": "021146af",
   "metadata": {
    "cellView": "form"
   },
   "outputs": [],
   "source": [
    "# @title Loading PHILHARMONIC results\n",
    "# @markdown Upload your zipped results file using the \"Files\" tab to the left.\n",
    "# @markdown Set the `RUN_NAME` variable to the name of the run from your config file you want to analyze.\n",
    "# @markdown If you are running this locally, edit the `RESULTS_DIR` variable to point to your results directory, and point to a locally downloaded go.obo file. Otherwise, you can leave it as is.\n",
    "\n",
    "ZIP_FILE_NAME = \"\"  # @param {\"type\":\"string\",\"placeholder\":\"philharmonic_results.zip\"}\n",
    "RUN_NAME = \"\"  # @param {\"type\":\"string\",\"placeholder\":\"philharmonic_run\"}\n",
    "RESULTS_DIR = \".\"  # @param {\"type\":\"string\",\"placeholder\":\".\"}\n",
    "\n",
    "if IN_COLAB:\n",
    "    !unzip -o $ZIP_FILE_NAME\n",
    "    results_dir = Path(\".\")\n",
    "    GO_OBO_PATH = \"go.obo\"\n",
    "else:\n",
    "    results_dir = Path(RESULTS_DIR)\n",
    "    GO_OBO_PATH = results_dir / \"go.obo\"\n",
    "\n",
    "CLUSTER_FILE_PATH = results_dir / f\"{RUN_NAME}_clusters.json\"\n",
    "NETWORK_FILE_PATH = results_dir / f\"{RUN_NAME}_network.positive.tsv\"\n",
    "GO_MAP_PATH = results_dir / f\"{RUN_NAME}_GO_map.csv\"\n",
    "IMG_DIR = results_dir / \"img\"\n",
    "!mkdir -p $IMG_DIR\n",
    "\n",
    "clusters = load_cluster_json(CLUSTER_FILE_PATH)\n",
    "full_G = nx.read_weighted_edgelist(NETWORK_FILE_PATH)\n",
    "go_map = parse_GO_map(GO_MAP_PATH)\n",
    "go_database = parse_GO_database(GO_OBO_PATH)"
   ]
  },
  {
   "cell_type": "markdown",
   "id": "ba0cb780-5b71-45d1-8f04-3ac9c3ae00d6",
   "metadata": {},
   "source": [
    "---"
   ]
  },
  {
   "cell_type": "markdown",
   "id": "7ea97fe3-32b0-40db-a35f-ce65e4ec8b71",
   "metadata": {},
   "source": [
    "## Basic Network Statistics"
   ]
  },
  {
   "cell_type": "code",
   "execution_count": null,
   "id": "b20f1ef2-227a-4423-b60f-c8d0f7f2c90c",
   "metadata": {},
   "outputs": [],
   "source": [
    "label = [\"Nodes\", \"Edges\", \"Degree (Med)\", \"Degree (Avg)\", \"Sparsity\"]\n",
    "degrees = [i[1] for i in list(full_G.degree())]\n",
    "value = [\n",
    "    len(full_G.nodes),\n",
    "    len(full_G.edges),\n",
    "    np.median(degrees),\n",
    "    np.mean(degrees),\n",
    "    len(full_G.edges()) / len(full_G) ** 2,\n",
    "]\n",
    "df = pd.DataFrame([label, value]).T\n",
    "df.columns = [\"\", \"Network\"]\n",
    "df = df.set_index(\"\")\n",
    "df"
   ]
  },
  {
   "cell_type": "code",
   "execution_count": null,
   "id": "9def1be3-62d0-4d18-b246-78ac300a4faa",
   "metadata": {},
   "outputs": [],
   "source": [
    "degreeDist = {}\n",
    "for i in degrees:\n",
    "    n = degreeDist.setdefault(i, 0)\n",
    "    degreeDist[i] = n + 1\n",
    "\n",
    "plt.scatter(degreeDist.keys(), [i / len(full_G) for i in degreeDist.values()], s=5)\n",
    "plt.xscale(\"log\")\n",
    "plt.yscale(\"log\")\n",
    "plt.xlabel(\"Degree\")\n",
    "plt.ylabel(\"Proportion of Nodes\")\n",
    "plt.title(\"Node Degree Distribution\")\n",
    "plt.savefig(IMG_DIR / \"degree_distribution.svg\", bbox_inches=\"tight\", dpi=300)\n",
    "sns.despine()"
   ]
  },
  {
   "cell_type": "markdown",
   "id": "80d92c3d-1d48-4948-9494-e54675621948",
   "metadata": {},
   "source": [
    "---"
   ]
  },
  {
   "cell_type": "markdown",
   "id": "732ffa64-adf6-4d9e-ad8f-e2b13ff08350",
   "metadata": {},
   "source": [
    "## Basic Cluster Statistics"
   ]
  },
  {
   "cell_type": "code",
   "execution_count": null,
   "id": "81b6e9f3-3af7-4b27-924c-662b0f94a225",
   "metadata": {},
   "outputs": [],
   "source": [
    "logger.info(f\"Number of clusters: {len(clusters)}\")"
   ]
  },
  {
   "cell_type": "code",
   "execution_count": null,
   "id": "9448cc18-49ba-4335-9e9f-e1ed16f3dc98",
   "metadata": {},
   "outputs": [],
   "source": [
    "sizes = [len(i[\"members\"]) for i in clusters.values()]\n",
    "sns.histplot(sizes, bins=np.arange(0, max(sizes) + 5, max(max(sizes) // 20, 1)))\n",
    "plt.xlabel(\"Cluster Size\")\n",
    "plt.ylabel(\"Number of Clusters\")\n",
    "plt.title(\"Cluster Size Distribution\")\n",
    "sns.despine()\n",
    "plt.savefig(IMG_DIR / \"size_distribution.svg\", bbox_inches=\"tight\", dpi=300)\n",
    "plt.show()"
   ]
  },
  {
   "cell_type": "markdown",
   "id": "74633247-0045-4001-bc05-af9079e328e7",
   "metadata": {},
   "source": [
    "---"
   ]
  },
  {
   "cell_type": "markdown",
   "id": "7368d9d0",
   "metadata": {},
   "source": [
    "## Overall ReCIPE Stats"
   ]
  },
  {
   "cell_type": "code",
   "execution_count": null,
   "id": "205f3087",
   "metadata": {},
   "outputs": [],
   "source": [
    "from collections import Counter\n",
    "\n",
    "node_appearances = list()\n",
    "for clust in clusters.values():\n",
    "    for mn in clust[\"members\"]:\n",
    "        node_appearances.append(mn)\n",
    "    for rn in clust[\"recipe\"][\"degree\"][\"0.75\"]:\n",
    "        node_appearances.append(rn)\n",
    "nodes_counter = Counter(node_appearances)\n",
    "plt.hist(nodes_counter.values(), bins=np.arange(0, 21, 1))\n",
    "# xtick labels every 5\n",
    "plt.xticks(np.arange(0, 21, 2))\n",
    "plt.xlabel(\"Number of clusters a single protein is in\")\n",
    "plt.ylabel(\"Number of proteins\")\n",
    "sns.despine()\n",
    "plt.savefig(IMG_DIR / \"protein_number_of_clusters.png\", bbox_inches=\"tight\", dpi=300)\n",
    "plt.show()"
   ]
  },
  {
   "cell_type": "markdown",
   "id": "ee63fc64",
   "metadata": {},
   "source": [
    "---"
   ]
  },
  {
   "cell_type": "markdown",
   "id": "a9ee0258-436a-4004-850c-61afbef37716",
   "metadata": {},
   "source": [
    "## View Individual Clusters"
   ]
  },
  {
   "cell_type": "code",
   "execution_count": null,
   "id": "e809f000",
   "metadata": {
    "cellView": "form"
   },
   "outputs": [],
   "source": [
    "k = \"\"  # @param {\"type\":\"string\",\"placeholder\":\"cluster_id\"}\n",
    "\n",
    "if k == \"\":\n",
    "    k = list(clusters.keys())[0]\n",
    "    print(f\"No cluster ID specified, using first cluster: {k}\")"
   ]
  },
  {
   "cell_type": "code",
   "execution_count": null,
   "id": "8edf3420",
   "metadata": {},
   "outputs": [],
   "source": [
    "print_cluster(clusters[k], go_database, 20)\n",
    "plot_cluster(clusters[k], full_G, use_recipe=True, savefig=None)\n",
    "\n",
    "print(\"All cluster members:\")\n",
    "for m in clusters[k][\"members\"]:\n",
    "    print(f\"\\t{m}\")"
   ]
  },
  {
   "cell_type": "code",
   "execution_count": 27,
   "id": "6edee407",
   "metadata": {},
   "outputs": [],
   "source": [
    "write_cluster_cytoscape(clusters[k], full_G, str(results_dir / f\"{k}_cytoscape.txt\"))"
   ]
  }
 ],
 "metadata": {
  "kernelspec": {
   "display_name": "phil",
   "language": "python",
   "name": "python3"
  },
  "language_info": {
   "codemirror_mode": {
    "name": "ipython",
    "version": 3
   },
   "file_extension": ".py",
   "mimetype": "text/x-python",
   "name": "python",
   "nbconvert_exporter": "python",
   "pygments_lexer": "ipython3",
   "version": "3.11.0"
  }
 },
 "nbformat": 4,
 "nbformat_minor": 5
}
