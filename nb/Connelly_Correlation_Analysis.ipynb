{
 "cells": [
  {
   "cell_type": "code",
   "execution_count": 89,
   "id": "da4c62f4-6ea9-45a3-a942-2bda946468bf",
   "metadata": {
    "tags": []
   },
   "outputs": [],
   "source": [
    "import pandas as pd\n",
    "import numpy as np\n",
    "import hashlib\n",
    "from itertools import combinations\n",
    "from tqdm import tqdm\n",
    "import matplotlib.pyplot as plt\n",
    "import seaborn as sns"
   ]
  },
  {
   "cell_type": "code",
   "execution_count": 16,
   "id": "8da9d2b9-26bc-49cc-ac36-767a340828f4",
   "metadata": {
    "tags": []
   },
   "outputs": [],
   "source": [
    "class SimpleCluster:\n",
    "    def __init__(self,x):\n",
    "        self.x = x\n",
    "        \n",
    "    def __hash__(self):\n",
    "        return int(hashlib.md5(''.join(self.x).encode()).hexdigest(), 16)\n",
    "\n",
    "def get_hash(plist):\n",
    "    c = SimpleCluster(plist)\n",
    "    return hash(c)"
   ]
  },
  {
   "cell_type": "code",
   "execution_count": 17,
   "id": "f454be21-9074-4ba2-9ae3-2d5d8d4984e1",
   "metadata": {
    "tags": []
   },
   "outputs": [],
   "source": [
    "clusters = []\n",
    "cluster_dict = {}\n",
    "\n",
    "with open(\"Pdam.recipe_clusters.csv\",\"r\") as cluster_fi:\n",
    "    for line in cluster_fi:\n",
    "        c = line.strip().split(\",\")\n",
    "        clusters.append(c)\n",
    "        cluster_dict[get_hash(c)] = c"
   ]
  },
  {
   "cell_type": "code",
   "execution_count": 77,
   "id": "49cadf2d-bbb8-4304-845b-56ef1cae91a7",
   "metadata": {
    "tags": []
   },
   "outputs": [
    {
     "data": {
      "image/png": "[encoded data removed]",
      "text/plain": [
       "<Figure size 640x480 with 1 Axes>"
      ]
     },
     "metadata": {},
     "output_type": "display_data"
    }
   ],
   "source": [
    "cluster_sizes = [len(c) for c in clusters]\n",
    "plt.hist(cluster_sizes,bins=np.arange(0,50,1))\n",
    "plt.show()"
   ]
  },
  {
   "cell_type": "code",
   "execution_count": 28,
   "id": "0d9503db-ba53-48d6-a708-a05d8fc804f5",
   "metadata": {
    "tags": []
   },
   "outputs": [],
   "source": [
    "counts = pd.read_csv(\"Connelly2022_AxH_Pdam.counts\",sep=\"\\t\",skiprows=1)\n",
    "counts.columns = [i.split(\"/\")[-1].split(\"_\")[0] for i in counts.columns]\n",
    "counts = counts.set_index(\"Geneid\")\n",
    "counts = counts.iloc[:,5:]"
   ]
  },
  {
   "cell_type": "code",
   "execution_count": 39,
   "id": "84c6992b-a881-40bd-afa7-a7971efa3da4",
   "metadata": {
    "tags": []
   },
   "outputs": [],
   "source": [
    "pearson_corr = counts.T.corr(method=\"pearson\")\n",
    "spearman_corr = counts.T.corr(method=\"spearman\")"
   ]
  },
  {
   "cell_type": "code",
   "execution_count": 123,
   "id": "0e10aa1a-1ddf-496b-af94-d9bfeba60283",
   "metadata": {
    "tags": []
   },
   "outputs": [
    {
     "data": {
      "text/html": [
       "<div>\n",
       "<style scoped>\n",
       "    .dataframe tbody tr th:only-of-type {\n",
       "        vertical-align: middle;\n",
       "    }\n",
       "\n",
       "    .dataframe tbody tr th {\n",
       "        vertical-align: top;\n",
       "    }\n",
       "\n",
       "    .dataframe thead th {\n",
       "        text-align: right;\n",
       "    }\n",
       "</style>\n",
       "<table border=\"1\" class=\"dataframe\">\n",
       "  <thead>\n",
       "    <tr style=\"text-align: right;\">\n",
       "      <th>Geneid</th>\n",
       "      <th>pdam_00000001</th>\n",
       "      <th>pdam_00000002</th>\n",
       "      <th>pdam_00000003</th>\n",
       "      <th>pdam_00000004</th>\n",
       "      <th>pdam_00000005</th>\n",
       "      <th>pdam_00000006</th>\n",
       "      <th>pdam_00000007</th>\n",
       "      <th>pdam_00000008</th>\n",
       "      <th>pdam_00000009</th>\n",
       "      <th>pdam_00000010</th>\n",
       "      <th>...</th>\n",
       "      <th>pdam_00026068</th>\n",
       "      <th>pdam_00026069</th>\n",
       "      <th>pdam_00026070</th>\n",
       "      <th>pdam_00026071</th>\n",
       "      <th>pdam_00026072</th>\n",
       "      <th>pdam_00026073</th>\n",
       "      <th>pdam_00026074</th>\n",
       "      <th>pdam_00026075</th>\n",
       "      <th>pdam_00026076</th>\n",
       "      <th>pdam_00026077</th>\n",
       "    </tr>\n",
       "    <tr>\n",
       "      <th>Geneid</th>\n",
       "      <th></th>\n",
       "      <th></th>\n",
       "      <th></th>\n",
       "      <th></th>\n",
       "      <th></th>\n",
       "      <th></th>\n",
       "      <th></th>\n",
       "      <th></th>\n",
       "      <th></th>\n",
       "      <th></th>\n",
       "      <th></th>\n",
       "      <th></th>\n",
       "      <th></th>\n",
       "      <th></th>\n",
       "      <th></th>\n",
       "      <th></th>\n",
       "      <th></th>\n",
       "      <th></th>\n",
       "      <th></th>\n",
       "      <th></th>\n",
       "      <th></th>\n",
       "    </tr>\n",
       "  </thead>\n",
       "  <tbody>\n",
       "    <tr>\n",
       "      <th>pdam_00000001</th>\n",
       "      <td>1.000000</td>\n",
       "      <td>0.666573</td>\n",
       "      <td>0.667028</td>\n",
       "      <td>NaN</td>\n",
       "      <td>0.676694</td>\n",
       "      <td>0.812407</td>\n",
       "      <td>0.714853</td>\n",
       "      <td>0.610005</td>\n",
       "      <td>0.300951</td>\n",
       "      <td>-0.421320</td>\n",
       "      <td>...</td>\n",
       "      <td>0.622457</td>\n",
       "      <td>0.194748</td>\n",
       "      <td>0.774458</td>\n",
       "      <td>0.743799</td>\n",
       "      <td>-0.319782</td>\n",
       "      <td>0.650538</td>\n",
       "      <td>-0.294868</td>\n",
       "      <td>0.247626</td>\n",
       "      <td>0.694630</td>\n",
       "      <td>0.487281</td>\n",
       "    </tr>\n",
       "    <tr>\n",
       "      <th>pdam_00000002</th>\n",
       "      <td>0.666573</td>\n",
       "      <td>1.000000</td>\n",
       "      <td>0.962175</td>\n",
       "      <td>NaN</td>\n",
       "      <td>0.311082</td>\n",
       "      <td>0.691752</td>\n",
       "      <td>0.305016</td>\n",
       "      <td>0.307877</td>\n",
       "      <td>0.194922</td>\n",
       "      <td>-0.242258</td>\n",
       "      <td>...</td>\n",
       "      <td>0.386075</td>\n",
       "      <td>-0.089369</td>\n",
       "      <td>0.567808</td>\n",
       "      <td>0.522636</td>\n",
       "      <td>-0.329889</td>\n",
       "      <td>0.283986</td>\n",
       "      <td>0.006573</td>\n",
       "      <td>0.013480</td>\n",
       "      <td>0.552773</td>\n",
       "      <td>0.813003</td>\n",
       "    </tr>\n",
       "    <tr>\n",
       "      <th>pdam_00000003</th>\n",
       "      <td>0.667028</td>\n",
       "      <td>0.962175</td>\n",
       "      <td>1.000000</td>\n",
       "      <td>NaN</td>\n",
       "      <td>0.400113</td>\n",
       "      <td>0.680981</td>\n",
       "      <td>0.349945</td>\n",
       "      <td>0.415835</td>\n",
       "      <td>0.237952</td>\n",
       "      <td>-0.159112</td>\n",
       "      <td>...</td>\n",
       "      <td>0.307299</td>\n",
       "      <td>-0.136482</td>\n",
       "      <td>0.620925</td>\n",
       "      <td>0.554261</td>\n",
       "      <td>-0.313491</td>\n",
       "      <td>0.277318</td>\n",
       "      <td>0.077255</td>\n",
       "      <td>0.098288</td>\n",
       "      <td>0.581595</td>\n",
       "      <td>0.760035</td>\n",
       "    </tr>\n",
       "    <tr>\n",
       "      <th>pdam_00000004</th>\n",
       "      <td>NaN</td>\n",
       "      <td>NaN</td>\n",
       "      <td>NaN</td>\n",
       "      <td>NaN</td>\n",
       "      <td>NaN</td>\n",
       "      <td>NaN</td>\n",
       "      <td>NaN</td>\n",
       "      <td>NaN</td>\n",
       "      <td>NaN</td>\n",
       "      <td>NaN</td>\n",
       "      <td>...</td>\n",
       "      <td>NaN</td>\n",
       "      <td>NaN</td>\n",
       "      <td>NaN</td>\n",
       "      <td>NaN</td>\n",
       "      <td>NaN</td>\n",
       "      <td>NaN</td>\n",
       "      <td>NaN</td>\n",
       "      <td>NaN</td>\n",
       "      <td>NaN</td>\n",
       "      <td>NaN</td>\n",
       "    </tr>\n",
       "    <tr>\n",
       "      <th>pdam_00000005</th>\n",
       "      <td>0.676694</td>\n",
       "      <td>0.311082</td>\n",
       "      <td>0.400113</td>\n",
       "      <td>NaN</td>\n",
       "      <td>1.000000</td>\n",
       "      <td>0.571850</td>\n",
       "      <td>0.555103</td>\n",
       "      <td>0.668155</td>\n",
       "      <td>0.444766</td>\n",
       "      <td>-0.091826</td>\n",
       "      <td>...</td>\n",
       "      <td>0.396753</td>\n",
       "      <td>-0.044793</td>\n",
       "      <td>0.514844</td>\n",
       "      <td>0.416418</td>\n",
       "      <td>-0.151539</td>\n",
       "      <td>0.344946</td>\n",
       "      <td>0.005072</td>\n",
       "      <td>0.364155</td>\n",
       "      <td>0.469617</td>\n",
       "      <td>0.163193</td>\n",
       "    </tr>\n",
       "    <tr>\n",
       "      <th>...</th>\n",
       "      <td>...</td>\n",
       "      <td>...</td>\n",
       "      <td>...</td>\n",
       "      <td>...</td>\n",
       "      <td>...</td>\n",
       "      <td>...</td>\n",
       "      <td>...</td>\n",
       "      <td>...</td>\n",
       "      <td>...</td>\n",
       "      <td>...</td>\n",
       "      <td>...</td>\n",
       "      <td>...</td>\n",
       "      <td>...</td>\n",
       "      <td>...</td>\n",
       "      <td>...</td>\n",
       "      <td>...</td>\n",
       "      <td>...</td>\n",
       "      <td>...</td>\n",
       "      <td>...</td>\n",
       "      <td>...</td>\n",
       "      <td>...</td>\n",
       "    </tr>\n",
       "    <tr>\n",
       "      <th>pdam_00026073</th>\n",
       "      <td>0.650538</td>\n",
       "      <td>0.283986</td>\n",
       "      <td>0.277318</td>\n",
       "      <td>NaN</td>\n",
       "      <td>0.344946</td>\n",
       "      <td>0.529143</td>\n",
       "      <td>0.612095</td>\n",
       "      <td>0.505017</td>\n",
       "      <td>0.331298</td>\n",
       "      <td>-0.274761</td>\n",
       "      <td>...</td>\n",
       "      <td>0.518233</td>\n",
       "      <td>0.362593</td>\n",
       "      <td>0.568125</td>\n",
       "      <td>0.611663</td>\n",
       "      <td>-0.177102</td>\n",
       "      <td>1.000000</td>\n",
       "      <td>-0.157843</td>\n",
       "      <td>0.197740</td>\n",
       "      <td>0.381029</td>\n",
       "      <td>0.098667</td>\n",
       "    </tr>\n",
       "    <tr>\n",
       "      <th>pdam_00026074</th>\n",
       "      <td>-0.294868</td>\n",
       "      <td>0.006573</td>\n",
       "      <td>0.077255</td>\n",
       "      <td>NaN</td>\n",
       "      <td>0.005072</td>\n",
       "      <td>-0.088791</td>\n",
       "      <td>0.019223</td>\n",
       "      <td>0.288647</td>\n",
       "      <td>0.559504</td>\n",
       "      <td>0.789793</td>\n",
       "      <td>...</td>\n",
       "      <td>-0.251497</td>\n",
       "      <td>-0.232450</td>\n",
       "      <td>-0.061393</td>\n",
       "      <td>-0.176949</td>\n",
       "      <td>0.372638</td>\n",
       "      <td>-0.157843</td>\n",
       "      <td>1.000000</td>\n",
       "      <td>0.257260</td>\n",
       "      <td>-0.135187</td>\n",
       "      <td>-0.144314</td>\n",
       "    </tr>\n",
       "    <tr>\n",
       "      <th>pdam_00026075</th>\n",
       "      <td>0.247626</td>\n",
       "      <td>0.013480</td>\n",
       "      <td>0.098288</td>\n",
       "      <td>NaN</td>\n",
       "      <td>0.364155</td>\n",
       "      <td>0.349118</td>\n",
       "      <td>0.517376</td>\n",
       "      <td>0.637192</td>\n",
       "      <td>0.631313</td>\n",
       "      <td>0.346332</td>\n",
       "      <td>...</td>\n",
       "      <td>0.153857</td>\n",
       "      <td>0.142941</td>\n",
       "      <td>0.404508</td>\n",
       "      <td>0.110815</td>\n",
       "      <td>0.100356</td>\n",
       "      <td>0.197740</td>\n",
       "      <td>0.257260</td>\n",
       "      <td>1.000000</td>\n",
       "      <td>0.151629</td>\n",
       "      <td>-0.132581</td>\n",
       "    </tr>\n",
       "    <tr>\n",
       "      <th>pdam_00026076</th>\n",
       "      <td>0.694630</td>\n",
       "      <td>0.552773</td>\n",
       "      <td>0.581595</td>\n",
       "      <td>NaN</td>\n",
       "      <td>0.469617</td>\n",
       "      <td>0.450484</td>\n",
       "      <td>0.508015</td>\n",
       "      <td>0.537485</td>\n",
       "      <td>0.198611</td>\n",
       "      <td>-0.271720</td>\n",
       "      <td>...</td>\n",
       "      <td>0.449155</td>\n",
       "      <td>0.223678</td>\n",
       "      <td>0.446806</td>\n",
       "      <td>0.549087</td>\n",
       "      <td>-0.243672</td>\n",
       "      <td>0.381029</td>\n",
       "      <td>-0.135187</td>\n",
       "      <td>0.151629</td>\n",
       "      <td>1.000000</td>\n",
       "      <td>0.256110</td>\n",
       "    </tr>\n",
       "    <tr>\n",
       "      <th>pdam_00026077</th>\n",
       "      <td>0.487281</td>\n",
       "      <td>0.813003</td>\n",
       "      <td>0.760035</td>\n",
       "      <td>NaN</td>\n",
       "      <td>0.163193</td>\n",
       "      <td>0.590826</td>\n",
       "      <td>0.092871</td>\n",
       "      <td>-0.030829</td>\n",
       "      <td>-0.090502</td>\n",
       "      <td>-0.323880</td>\n",
       "      <td>...</td>\n",
       "      <td>0.247539</td>\n",
       "      <td>-0.143370</td>\n",
       "      <td>0.386111</td>\n",
       "      <td>0.337955</td>\n",
       "      <td>-0.386236</td>\n",
       "      <td>0.098667</td>\n",
       "      <td>-0.144314</td>\n",
       "      <td>-0.132581</td>\n",
       "      <td>0.256110</td>\n",
       "      <td>1.000000</td>\n",
       "    </tr>\n",
       "  </tbody>\n",
       "</table>\n",
       "<p>26077 rows × 26077 columns</p>\n",
       "</div>"
      ],
      "text/plain": [
       "Geneid         pdam_00000001  pdam_00000002  pdam_00000003  pdam_00000004  \\\n",
       "Geneid                                                                      \n",
       "pdam_00000001       1.000000       0.666573       0.667028            NaN   \n",
       "pdam_00000002       0.666573       1.000000       0.962175            NaN   \n",
       "pdam_00000003       0.667028       0.962175       1.000000            NaN   \n",
       "pdam_00000004            NaN            NaN            NaN            NaN   \n",
       "pdam_00000005       0.676694       0.311082       0.400113            NaN   \n",
       "...                      ...            ...            ...            ...   \n",
       "pdam_00026073       0.650538       0.283986       0.277318            NaN   \n",
       "pdam_00026074      -0.294868       0.006573       0.077255            NaN   \n",
       "pdam_00026075       0.247626       0.013480       0.098288            NaN   \n",
       "pdam_00026076       0.694630       0.552773       0.581595            NaN   \n",
       "pdam_00026077       0.487281       0.813003       0.760035            NaN   \n",
       "\n",
       "Geneid         pdam_00000005  pdam_00000006  pdam_00000007  pdam_00000008  \\\n",
       "Geneid                                                                      \n",
       "pdam_00000001       0.676694       0.812407       0.714853       0.610005   \n",
       "pdam_00000002       0.311082       0.691752       0.305016       0.307877   \n",
       "pdam_00000003       0.400113       0.680981       0.349945       0.415835   \n",
       "pdam_00000004            NaN            NaN            NaN            NaN   \n",
       "pdam_00000005       1.000000       0.571850       0.555103       0.668155   \n",
       "...                      ...            ...            ...            ...   \n",
       "pdam_00026073       0.344946       0.529143       0.612095       0.505017   \n",
       "pdam_00026074       0.005072      -0.088791       0.019223       0.288647   \n",
       "pdam_00026075       0.364155       0.349118       0.517376       0.637192   \n",
       "pdam_00026076       0.469617       0.450484       0.508015       0.537485   \n",
       "pdam_00026077       0.163193       0.590826       0.092871      -0.030829   \n",
       "\n",
       "Geneid         pdam_00000009  pdam_00000010  ...  pdam_00026068  \\\n",
       "Geneid                                       ...                  \n",
       "pdam_00000001       0.300951      -0.421320  ...       0.622457   \n",
       "pdam_00000002       0.194922      -0.242258  ...       0.386075   \n",
       "pdam_00000003       0.237952      -0.159112  ...       0.307299   \n",
       "pdam_00000004            NaN            NaN  ...            NaN   \n",
       "pdam_00000005       0.444766      -0.091826  ...       0.396753   \n",
       "...                      ...            ...  ...            ...   \n",
       "pdam_00026073       0.331298      -0.274761  ...       0.518233   \n",
       "pdam_00026074       0.559504       0.789793  ...      -0.251497   \n",
       "pdam_00026075       0.631313       0.346332  ...       0.153857   \n",
       "pdam_00026076       0.198611      -0.271720  ...       0.449155   \n",
       "pdam_00026077      -0.090502      -0.323880  ...       0.247539   \n",
       "\n",
       "Geneid         pdam_00026069  pdam_00026070  pdam_00026071  pdam_00026072  \\\n",
       "Geneid                                                                      \n",
       "pdam_00000001       0.194748       0.774458       0.743799      -0.319782   \n",
       "pdam_00000002      -0.089369       0.567808       0.522636      -0.329889   \n",
       "pdam_00000003      -0.136482       0.620925       0.554261      -0.313491   \n",
       "pdam_00000004            NaN            NaN            NaN            NaN   \n",
       "pdam_00000005      -0.044793       0.514844       0.416418      -0.151539   \n",
       "...                      ...            ...            ...            ...   \n",
       "pdam_00026073       0.362593       0.568125       0.611663      -0.177102   \n",
       "pdam_00026074      -0.232450      -0.061393      -0.176949       0.372638   \n",
       "pdam_00026075       0.142941       0.404508       0.110815       0.100356   \n",
       "pdam_00026076       0.223678       0.446806       0.549087      -0.243672   \n",
       "pdam_00026077      -0.143370       0.386111       0.337955      -0.386236   \n",
       "\n",
       "Geneid         pdam_00026073  pdam_00026074  pdam_00026075  pdam_00026076  \\\n",
       "Geneid                                                                      \n",
       "pdam_00000001       0.650538      -0.294868       0.247626       0.694630   \n",
       "pdam_00000002       0.283986       0.006573       0.013480       0.552773   \n",
       "pdam_00000003       0.277318       0.077255       0.098288       0.581595   \n",
       "pdam_00000004            NaN            NaN            NaN            NaN   \n",
       "pdam_00000005       0.344946       0.005072       0.364155       0.469617   \n",
       "...                      ...            ...            ...            ...   \n",
       "pdam_00026073       1.000000      -0.157843       0.197740       0.381029   \n",
       "pdam_00026074      -0.157843       1.000000       0.257260      -0.135187   \n",
       "pdam_00026075       0.197740       0.257260       1.000000       0.151629   \n",
       "pdam_00026076       0.381029      -0.135187       0.151629       1.000000   \n",
       "pdam_00026077       0.098667      -0.144314      -0.132581       0.256110   \n",
       "\n",
       "Geneid         pdam_00026077  \n",
       "Geneid                        \n",
       "pdam_00000001       0.487281  \n",
       "pdam_00000002       0.813003  \n",
       "pdam_00000003       0.760035  \n",
       "pdam_00000004            NaN  \n",
       "pdam_00000005       0.163193  \n",
       "...                      ...  \n",
       "pdam_00026073       0.098667  \n",
       "pdam_00026074      -0.144314  \n",
       "pdam_00026075      -0.132581  \n",
       "pdam_00026076       0.256110  \n",
       "pdam_00026077       1.000000  \n",
       "\n",
       "[26077 rows x 26077 columns]"
      ]
     },
     "execution_count": 123,
     "metadata": {},
     "output_type": "execute_result"
    }
   ],
   "source": [
    "pearson_corr.sort_index().T.sort_index().T"
   ]
  },
  {
   "cell_type": "code",
   "execution_count": 47,
   "id": "9dfe7cc8-6500-443b-93f8-57547330b3d5",
   "metadata": {
    "tags": []
   },
   "outputs": [],
   "source": [
    "np.savez(\"connelly2022_correlation.npz\",pearson=pearson_corr.values,spearman=spearman_corr.values)"
   ]
  },
  {
   "cell_type": "code",
   "execution_count": 86,
   "id": "5a8b4ab3-0f8a-4c6e-830b-a540a3861f4a",
   "metadata": {
    "tags": []
   },
   "outputs": [],
   "source": [
    "def cluster_correlate(c):\n",
    "    corr_df = []\n",
    "    for (pid_a, pid_b) in combinations(c,2):\n",
    "        try:\n",
    "            pid_a = pid_a.rstrip(\"-RA\")\n",
    "            pid_b = pid_b.rstrip(\"-RA\")\n",
    "            corr_df.append((pid_a, pid_b, pearson_corr.loc[pid_a,pid_b], spearman_corr.loc[pid_a,pid_b]))\n",
    "        except KeyError:\n",
    "            continue\n",
    "    df = pd.DataFrame(corr_df)\n",
    "    df.columns = ['A','B','pearson','spearman']\n",
    "    return df"
   ]
  },
  {
   "cell_type": "code",
   "execution_count": 87,
   "id": "a6b1062b-52f5-4c71-9ac3-1b71260bf2da",
   "metadata": {
    "tags": []
   },
   "outputs": [],
   "source": [
    "cluster_correlations = {}\n",
    "\n",
    "for chash, c in cluster_dict.items():\n",
    "    cluster_correlations[chash] = cluster_correlate(c)"
   ]
  },
  {
   "cell_type": "code",
   "execution_count": 98,
   "id": "47cc31b3-956b-4859-80be-d2defc7105e3",
   "metadata": {
    "tags": []
   },
   "outputs": [
    {
     "name": "stderr",
     "output_type": "stream",
     "text": [
      "100%|█████████████████████████████████████████████████████████████████████████████████████████████████████████| 5000/5000 [01:23<00:00, 60.08it/s]\n"
     ]
    }
   ],
   "source": [
    "# compute background sample\n",
    "N_BOOTS = 5000\n",
    "rng = np.random.default_rng(seed=42)\n",
    "\n",
    "pearson_sample = []\n",
    "spearman_sample = []\n",
    "for _ in tqdm(range(N_BOOTS)):\n",
    "    boot_size = rng.choice(cluster_sizes)\n",
    "    rand_list = rng.choice(counts.index, size=boot_size, replace=False)\n",
    "    corr_df = cluster_correlate(rand_list)\n",
    "    pearson_sample.append(corr_df.pearson.mean())\n",
    "    spearman_sample.append(corr_df.spearman.mean())"
   ]
  },
  {
   "cell_type": "code",
   "execution_count": 124,
   "id": "9986a07a-381e-4bf1-8d8b-46c4b4b44f9f",
   "metadata": {
    "tags": []
   },
   "outputs": [
    {
     "data": {
      "image/png": "[encoded data removed]",
      "text/plain": [
       "<Figure size 640x480 with 1 Axes>"
      ]
     },
     "metadata": {},
     "output_type": "display_data"
    }
   ],
   "source": [
    "plt.hist(pearson_sample)\n",
    "plt.hist([c.pearson.mean() for c in cluster_correlations.values()])\n",
    "sns.despine()\n",
    "plt.show()"
   ]
  },
  {
   "cell_type": "code",
   "execution_count": 125,
   "id": "c59ce871-e9a7-47e4-9527-4dbbddd98170",
   "metadata": {
    "tags": []
   },
   "outputs": [
    {
     "data": {
      "image/png": "[encoded data removed]",
      "text/plain": [
       "<Figure size 640x480 with 1 Axes>"
      ]
     },
     "metadata": {},
     "output_type": "display_data"
    }
   ],
   "source": [
    "plt.hist(spearman_sample)\n",
    "plt.hist([c.spearman.mean() for c in cluster_correlations.values()])\n",
    "sns.despine()\n",
    "plt.show()"
   ]
  },
  {
   "cell_type": "code",
   "execution_count": 111,
   "id": "13a707bc-d12f-485c-a583-070486533efe",
   "metadata": {
    "tags": []
   },
   "outputs": [
    {
     "data": {
      "text/html": [
       "<div>\n",
       "<style scoped>\n",
       "    .dataframe tbody tr th:only-of-type {\n",
       "        vertical-align: middle;\n",
       "    }\n",
       "\n",
       "    .dataframe tbody tr th {\n",
       "        vertical-align: top;\n",
       "    }\n",
       "\n",
       "    .dataframe thead th {\n",
       "        text-align: right;\n",
       "    }\n",
       "</style>\n",
       "<table border=\"1\" class=\"dataframe\">\n",
       "  <thead>\n",
       "    <tr style=\"text-align: right;\">\n",
       "      <th></th>\n",
       "      <th>A</th>\n",
       "      <th>B</th>\n",
       "      <th>pearson</th>\n",
       "      <th>spearman</th>\n",
       "    </tr>\n",
       "  </thead>\n",
       "  <tbody>\n",
       "    <tr>\n",
       "      <th>0</th>\n",
       "      <td>pdam_00021026</td>\n",
       "      <td>pdam_00014558</td>\n",
       "      <td>0.816033</td>\n",
       "      <td>0.782468</td>\n",
       "    </tr>\n",
       "    <tr>\n",
       "      <th>1</th>\n",
       "      <td>pdam_00021026</td>\n",
       "      <td>pdam_00011840</td>\n",
       "      <td>0.652582</td>\n",
       "      <td>0.632419</td>\n",
       "    </tr>\n",
       "    <tr>\n",
       "      <th>2</th>\n",
       "      <td>pdam_00021026</td>\n",
       "      <td>pdam_00005044</td>\n",
       "      <td>0.141789</td>\n",
       "      <td>0.132070</td>\n",
       "    </tr>\n",
       "    <tr>\n",
       "      <th>3</th>\n",
       "      <td>pdam_00021026</td>\n",
       "      <td>pdam_00019199</td>\n",
       "      <td>0.161066</td>\n",
       "      <td>0.152851</td>\n",
       "    </tr>\n",
       "    <tr>\n",
       "      <th>4</th>\n",
       "      <td>pdam_00021026</td>\n",
       "      <td>pdam_00016970</td>\n",
       "      <td>0.176744</td>\n",
       "      <td>0.290321</td>\n",
       "    </tr>\n",
       "    <tr>\n",
       "      <th>...</th>\n",
       "      <td>...</td>\n",
       "      <td>...</td>\n",
       "      <td>...</td>\n",
       "      <td>...</td>\n",
       "    </tr>\n",
       "    <tr>\n",
       "      <th>61</th>\n",
       "      <td>pdam_00014615</td>\n",
       "      <td>pdam_00017672</td>\n",
       "      <td>0.381564</td>\n",
       "      <td>0.429224</td>\n",
       "    </tr>\n",
       "    <tr>\n",
       "      <th>62</th>\n",
       "      <td>pdam_00014615</td>\n",
       "      <td>pdam_00001768</td>\n",
       "      <td>0.152179</td>\n",
       "      <td>0.139813</td>\n",
       "    </tr>\n",
       "    <tr>\n",
       "      <th>63</th>\n",
       "      <td>pdam_00009063</td>\n",
       "      <td>pdam_00017672</td>\n",
       "      <td>0.428142</td>\n",
       "      <td>0.444114</td>\n",
       "    </tr>\n",
       "    <tr>\n",
       "      <th>64</th>\n",
       "      <td>pdam_00009063</td>\n",
       "      <td>pdam_00001768</td>\n",
       "      <td>0.209875</td>\n",
       "      <td>0.252690</td>\n",
       "    </tr>\n",
       "    <tr>\n",
       "      <th>65</th>\n",
       "      <td>pdam_00017672</td>\n",
       "      <td>pdam_00001768</td>\n",
       "      <td>0.695066</td>\n",
       "      <td>0.656051</td>\n",
       "    </tr>\n",
       "  </tbody>\n",
       "</table>\n",
       "<p>66 rows × 4 columns</p>\n",
       "</div>"
      ],
      "text/plain": [
       "                A              B   pearson  spearman\n",
       "0   pdam_00021026  pdam_00014558  0.816033  0.782468\n",
       "1   pdam_00021026  pdam_00011840  0.652582  0.632419\n",
       "2   pdam_00021026  pdam_00005044  0.141789  0.132070\n",
       "3   pdam_00021026  pdam_00019199  0.161066  0.152851\n",
       "4   pdam_00021026  pdam_00016970  0.176744  0.290321\n",
       "..            ...            ...       ...       ...\n",
       "61  pdam_00014615  pdam_00017672  0.381564  0.429224\n",
       "62  pdam_00014615  pdam_00001768  0.152179  0.139813\n",
       "63  pdam_00009063  pdam_00017672  0.428142  0.444114\n",
       "64  pdam_00009063  pdam_00001768  0.209875  0.252690\n",
       "65  pdam_00017672  pdam_00001768  0.695066  0.656051\n",
       "\n",
       "[66 rows x 4 columns]"
      ]
     },
     "execution_count": 111,
     "metadata": {},
     "output_type": "execute_result"
    }
   ],
   "source": [
    "cluster_correlations[143188377126489644]"
   ]
  },
  {
   "cell_type": "code",
   "execution_count": 112,
   "id": "82a1229b-7dc0-4dac-a3ba-69d7ba67b895",
   "metadata": {
    "tags": []
   },
   "outputs": [
    {
     "data": {
      "image/png": "[encoded data removed]",
      "text/plain": [
       "<Figure size 640x480 with 1 Axes>"
      ]
     },
     "metadata": {},
     "output_type": "display_data"
    }
   ],
   "source": [
    "plt.hist(cluster_correlations[143188377126489644].pearson)\n",
    "plt.show()"
   ]
  },
  {
   "cell_type": "code",
   "execution_count": 119,
   "id": "922f2075-7d97-4c69-9d77-4ba3455d993f",
   "metadata": {
    "tags": []
   },
   "outputs": [
    {
     "data": {
      "image/png": "[encoded data removed]",
      "text/plain": [
       "<Figure size 640x480 with 1 Axes>"
      ]
     },
     "metadata": {},
     "output_type": "display_data"
    }
   ],
   "source": [
    "plt.hist(cluster_correlations[143188377126489644].spearman)\n",
    "plt.show()"
   ]
  },
  {
   "cell_type": "code",
   "execution_count": 116,
   "id": "f66cebef-6eea-42f6-aa8a-62b73c4fe5e2",
   "metadata": {
    "tags": []
   },
   "outputs": [
    {
     "data": {
      "text/plain": [
       "0.3961635870166049"
      ]
     },
     "execution_count": 116,
     "metadata": {},
     "output_type": "execute_result"
    }
   ],
   "source": [
    "cluster_correlations[143188377126489644].pearson.mean()"
   ]
  },
  {
   "cell_type": "code",
   "execution_count": 117,
   "id": "28dab357-3180-4c6d-ad77-57649577163d",
   "metadata": {
    "tags": []
   },
   "outputs": [
    {
     "data": {
      "text/plain": [
       "0.40852652991934485"
      ]
     },
     "execution_count": 117,
     "metadata": {},
     "output_type": "execute_result"
    }
   ],
   "source": [
    "cluster_correlations[143188377126489644].spearman.mean()"
   ]
  },
  {
   "cell_type": "code",
   "execution_count": null,
   "id": "c7f8dd70-2e85-43d0-aa2d-a789a75c7005",
   "metadata": {},
   "outputs": [],
   "source": []
  }
 ],
 "metadata": {
  "kernelspec": {
   "display_name": "Python [conda env:philharmonic]",
   "language": "python",
   "name": "conda-env-philharmonic-py"
  },
  "language_info": {
   "codemirror_mode": {
    "name": "ipython",
    "version": 3
   },
   "file_extension": ".py",
   "mimetype": "text/x-python",
   "name": "python",
   "nbconvert_exporter": "python",
   "pygments_lexer": "ipython3",
   "version": "3.12.0"
  }
 },
 "nbformat": 4,
 "nbformat_minor": 5
}
