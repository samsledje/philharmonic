{
 "cells": [
  {
   "cell_type": "markdown",
   "id": "f60b7f74",
   "metadata": {},
   "source": [
    "# g:Profiler Conversion\n",
    "\n",
    "Lorem ipsum...\n",
    "\n",
    "Note: our list of GO terms will not match the g:Profiler terms exactly, but should be consistent. This is expected! <-- Flesh this out"
   ]
  },
  {
   "cell_type": "code",
   "execution_count": 2,
   "id": "aa87626a",
   "metadata": {},
   "outputs": [],
   "source": [
    "import re\n",
    "from pathlib import Path\n",
    "\n",
    "import networkx as nx\n",
    "import pandas as pd\n",
    "import seaborn as sns\n",
    "from Bio import SeqIO\n",
    "from loguru import logger\n",
    "from tqdm import tqdm\n",
    "\n",
    "from philharmonic.utils import (\n",
    "    load_cluster_json,\n",
    "    parse_GO_database,\n",
    "    plot_cluster,\n",
    "    print_cluster,\n",
    ")"
   ]
  },
  {
   "cell_type": "code",
   "execution_count": 3,
   "id": "e3025608",
   "metadata": {},
   "outputs": [],
   "source": [
    "# Initial Files\n",
    "cluster_file_path = \"/mnt/home/ssledzieski/Projects/philharmonic-experiments/results/p_damicornis/20240917-pdamAll-phil_v0.3.0/20240917-pdamAll-phil_v0.3.0_clusters.functional.json\"\n",
    "network_file_path = \"/mnt/home/ssledzieski/Projects/philharmonic-experiments/results/p_damicornis/20240917-pdamAll-phil_v0.3.0/20240917-pdamAll-phil_v0.3.0_network.positive.tsv\"\n",
    "go_map_path = \"/mnt/home/ssledzieski/Projects/philharmonic-experiments/results/p_damicornis/20240917-pdamAll-phil_v0.3.0/20240917-pdamAll-phil_v0.3.0_GO_map.csv\"\n",
    "\n",
    "GO_DB = \"/mnt/home/ssledzieski/Projects/philharmonic-experiments/results/p_damicornis/20240917-pdamAll-phil_v0.3.0/go.obo\""
   ]
  },
  {
   "cell_type": "markdown",
   "id": "dfca0a22",
   "metadata": {},
   "source": [
    "---"
   ]
  },
  {
   "cell_type": "markdown",
   "id": "eeb73577",
   "metadata": {},
   "source": [
    "## Load Files"
   ]
  },
  {
   "cell_type": "code",
   "execution_count": 4,
   "id": "cac1d290-4c35-426c-9dd2-c73958ec1df4",
   "metadata": {
    "tags": []
   },
   "outputs": [],
   "source": [
    "cluster_dict = load_cluster_json(cluster_file_path)\n",
    "go_database = parse_GO_database(GO_DB)\n",
    "full_G = nx.read_weighted_edgelist(network_file_path, delimiter=\"\\t\")"
   ]
  },
  {
   "cell_type": "markdown",
   "id": "0469e2c0",
   "metadata": {},
   "source": [
    "---"
   ]
  },
  {
   "cell_type": "markdown",
   "id": "a0f40d8f",
   "metadata": {},
   "source": [
    "## Map to g:Profiler LOC IDs"
   ]
  },
  {
   "cell_type": "markdown",
   "id": "fa52bd29",
   "metadata": {},
   "source": [
    "- Download reference Ensembl genome\n",
    "    ```bash\n",
    "    $ wget  http://ftp.ensemblgenomes.org/pub/metazoa/release-59/fasta/pocillopora_damicornis_gca003704095v1/pep/Pocillopora_damicornis_gca003704095v1.ASM370409v1.pep.all.fa\n",
    "    ```\n",
    "\n",
    "- Create BLAST database\n",
    "    ```bash\n",
    "    $ makeblastdb -dbtype prot -title pdam_loc_db Pocillopora_damicornis_gca003704095v1.ASM370409v1.pep.all.fa\n",
    "    ```\n",
    "\n",
    "- Search against BLAST db\n",
    "    ```bash\n",
    "    $ ...\n",
    "    ```"
   ]
  },
  {
   "cell_type": "code",
   "execution_count": 5,
   "id": "9988111a-2246-4753-9c93-076a93570970",
   "metadata": {
    "tags": []
   },
   "outputs": [],
   "source": [
    "pdam_ensembl_fasta = \"/mnt/home/ssledzieski/Projects/philharmonic-experiments/results/p_damicornis/20240930-gProfiler/Pocillopora_damicornis_gca003704095v1.ASM370409v1.pep.all.fa\"\n",
    "pdam_blast_results = \"/mnt/home/ssledzieski/Projects/philharmonic-experiments/results/p_damicornis/20240930-gProfiler/pdam_loc_blast_results.tsv\""
   ]
  },
  {
   "cell_type": "code",
   "execution_count": 6,
   "id": "cec5f3cf-6444-4873-9757-807802f09027",
   "metadata": {
    "tags": []
   },
   "outputs": [
    {
     "name": "stderr",
     "output_type": "stream",
     "text": [
      "\u001b[32m2024-10-01 11:31:29.426\u001b[0m | \u001b[1mINFO    \u001b[0m | \u001b[36m__main__\u001b[0m:\u001b[36m<module>\u001b[0m:\u001b[36m8\u001b[0m - \u001b[1m21894 hits with e-value < 1e-5\u001b[0m\n",
      "\u001b[32m2024-10-01 11:31:29.431\u001b[0m | \u001b[1mINFO    \u001b[0m | \u001b[36m__main__\u001b[0m:\u001b[36m<module>\u001b[0m:\u001b[36m9\u001b[0m - \u001b[1m17436 unique hits\u001b[0m\n"
     ]
    }
   ],
   "source": [
    "blast_results = (\n",
    "    pd.read_csv(pdam_blast_results, sep=\"\\t\", header=None)\n",
    "    .sort_values(0)\n",
    "    .drop_duplicates([0, 1])\n",
    "    .set_index(0)\n",
    ")\n",
    "blast_results = blast_results[blast_results[10] < 1e-5]\n",
    "logger.info(f\"{len(blast_results)} hits with e-value < 1e-5\")\n",
    "logger.info(f\"{len(blast_results[1].unique())} unique hits\")"
   ]
  },
  {
   "cell_type": "code",
   "execution_count": 7,
   "id": "ddd6e6ca-c332-4945-adf2-8f57374ddccb",
   "metadata": {
    "tags": []
   },
   "outputs": [
    {
     "data": {
      "text/html": [
       "<div>\n",
       "<style scoped>\n",
       "    .dataframe tbody tr th:only-of-type {\n",
       "        vertical-align: middle;\n",
       "    }\n",
       "\n",
       "    .dataframe tbody tr th {\n",
       "        vertical-align: top;\n",
       "    }\n",
       "\n",
       "    .dataframe thead th {\n",
       "        text-align: right;\n",
       "    }\n",
       "</style>\n",
       "<table border=\"1\" class=\"dataframe\">\n",
       "  <thead>\n",
       "    <tr style=\"text-align: right;\">\n",
       "      <th></th>\n",
       "      <th>1</th>\n",
       "      <th>2</th>\n",
       "      <th>3</th>\n",
       "      <th>4</th>\n",
       "      <th>5</th>\n",
       "      <th>6</th>\n",
       "      <th>7</th>\n",
       "      <th>8</th>\n",
       "      <th>9</th>\n",
       "      <th>10</th>\n",
       "      <th>11</th>\n",
       "    </tr>\n",
       "    <tr>\n",
       "      <th>0</th>\n",
       "      <th></th>\n",
       "      <th></th>\n",
       "      <th></th>\n",
       "      <th></th>\n",
       "      <th></th>\n",
       "      <th></th>\n",
       "      <th></th>\n",
       "      <th></th>\n",
       "      <th></th>\n",
       "      <th></th>\n",
       "      <th></th>\n",
       "    </tr>\n",
       "  </thead>\n",
       "  <tbody>\n",
       "    <tr>\n",
       "      <th>pdam_00000001-RA</th>\n",
       "      <td>XP_027056588.1</td>\n",
       "      <td>100.000</td>\n",
       "      <td>360</td>\n",
       "      <td>0</td>\n",
       "      <td>0</td>\n",
       "      <td>1</td>\n",
       "      <td>360</td>\n",
       "      <td>31</td>\n",
       "      <td>390</td>\n",
       "      <td>0.000000e+00</td>\n",
       "      <td>737.0</td>\n",
       "    </tr>\n",
       "    <tr>\n",
       "      <th>pdam_00000002-RA</th>\n",
       "      <td>XP_027056458.1</td>\n",
       "      <td>93.440</td>\n",
       "      <td>747</td>\n",
       "      <td>14</td>\n",
       "      <td>2</td>\n",
       "      <td>1</td>\n",
       "      <td>712</td>\n",
       "      <td>13</td>\n",
       "      <td>759</td>\n",
       "      <td>0.000000e+00</td>\n",
       "      <td>1417.0</td>\n",
       "    </tr>\n",
       "    <tr>\n",
       "      <th>pdam_00000003-RA</th>\n",
       "      <td>XP_027056664.1</td>\n",
       "      <td>100.000</td>\n",
       "      <td>333</td>\n",
       "      <td>0</td>\n",
       "      <td>0</td>\n",
       "      <td>1</td>\n",
       "      <td>333</td>\n",
       "      <td>1</td>\n",
       "      <td>333</td>\n",
       "      <td>0.000000e+00</td>\n",
       "      <td>701.0</td>\n",
       "    </tr>\n",
       "    <tr>\n",
       "      <th>pdam_00000005-RA</th>\n",
       "      <td>XP_027056460.1</td>\n",
       "      <td>71.429</td>\n",
       "      <td>63</td>\n",
       "      <td>18</td>\n",
       "      <td>0</td>\n",
       "      <td>1</td>\n",
       "      <td>63</td>\n",
       "      <td>170</td>\n",
       "      <td>232</td>\n",
       "      <td>2.550000e-27</td>\n",
       "      <td>102.0</td>\n",
       "    </tr>\n",
       "    <tr>\n",
       "      <th>pdam_00000006-RA</th>\n",
       "      <td>XP_027056665.1</td>\n",
       "      <td>88.066</td>\n",
       "      <td>243</td>\n",
       "      <td>29</td>\n",
       "      <td>0</td>\n",
       "      <td>1</td>\n",
       "      <td>243</td>\n",
       "      <td>1</td>\n",
       "      <td>243</td>\n",
       "      <td>2.120000e-159</td>\n",
       "      <td>446.0</td>\n",
       "    </tr>\n",
       "  </tbody>\n",
       "</table>\n",
       "</div>"
      ],
      "text/plain": [
       "                              1        2    3   4   5   6    7    8    9   \\\n",
       "0                                                                           \n",
       "pdam_00000001-RA  XP_027056588.1  100.000  360   0   0   1  360   31  390   \n",
       "pdam_00000002-RA  XP_027056458.1   93.440  747  14   2   1  712   13  759   \n",
       "pdam_00000003-RA  XP_027056664.1  100.000  333   0   0   1  333    1  333   \n",
       "pdam_00000005-RA  XP_027056460.1   71.429   63  18   0   1   63  170  232   \n",
       "pdam_00000006-RA  XP_027056665.1   88.066  243  29   0   1  243    1  243   \n",
       "\n",
       "                             10      11  \n",
       "0                                        \n",
       "pdam_00000001-RA   0.000000e+00   737.0  \n",
       "pdam_00000002-RA   0.000000e+00  1417.0  \n",
       "pdam_00000003-RA   0.000000e+00   701.0  \n",
       "pdam_00000005-RA   2.550000e-27   102.0  \n",
       "pdam_00000006-RA  2.120000e-159   446.0  "
      ]
     },
     "execution_count": 7,
     "metadata": {},
     "output_type": "execute_result"
    }
   ],
   "source": [
    "blast_results.head()"
   ]
  },
  {
   "cell_type": "code",
   "execution_count": 8,
   "id": "c7470d61-264a-467b-8e4b-c561722fc035",
   "metadata": {
    "tags": []
   },
   "outputs": [
    {
     "name": "stderr",
     "output_type": "stream",
     "text": [
      "\u001b[32m2024-09-30 14:37:02.680\u001b[0m | \u001b[33m\u001b[1mWARNING \u001b[0m | \u001b[36m__main__\u001b[0m:\u001b[36m<module>\u001b[0m:\u001b[36m12\u001b[0m - \u001b[33m\u001b[1mNo match for YP_001456710.1\u001b[0m\n",
      "\u001b[32m2024-09-30 14:37:02.686\u001b[0m | \u001b[33m\u001b[1mWARNING \u001b[0m | \u001b[36m__main__\u001b[0m:\u001b[36m<module>\u001b[0m:\u001b[36m12\u001b[0m - \u001b[33m\u001b[1mNo match for YP_001456705.1\u001b[0m\n",
      "\u001b[32m2024-09-30 14:37:02.688\u001b[0m | \u001b[33m\u001b[1mWARNING \u001b[0m | \u001b[36m__main__\u001b[0m:\u001b[36m<module>\u001b[0m:\u001b[36m12\u001b[0m - \u001b[33m\u001b[1mNo match for YP_001456711.1\u001b[0m\n",
      "\u001b[32m2024-09-30 14:37:02.691\u001b[0m | \u001b[33m\u001b[1mWARNING \u001b[0m | \u001b[36m__main__\u001b[0m:\u001b[36m<module>\u001b[0m:\u001b[36m12\u001b[0m - \u001b[33m\u001b[1mNo match for YP_001456716.1\u001b[0m\n",
      "\u001b[32m2024-09-30 14:37:02.693\u001b[0m | \u001b[33m\u001b[1mWARNING \u001b[0m | \u001b[36m__main__\u001b[0m:\u001b[36m<module>\u001b[0m:\u001b[36m12\u001b[0m - \u001b[33m\u001b[1mNo match for YP_001456704.1\u001b[0m\n",
      "\u001b[32m2024-09-30 14:37:02.695\u001b[0m | \u001b[33m\u001b[1mWARNING \u001b[0m | \u001b[36m__main__\u001b[0m:\u001b[36m<module>\u001b[0m:\u001b[36m12\u001b[0m - \u001b[33m\u001b[1mNo match for YP_001456712.1\u001b[0m\n",
      "\u001b[32m2024-09-30 14:37:02.695\u001b[0m | \u001b[33m\u001b[1mWARNING \u001b[0m | \u001b[36m__main__\u001b[0m:\u001b[36m<module>\u001b[0m:\u001b[36m12\u001b[0m - \u001b[33m\u001b[1mNo match for YP_001456714.1\u001b[0m\n",
      "\u001b[32m2024-09-30 14:37:02.696\u001b[0m | \u001b[33m\u001b[1mWARNING \u001b[0m | \u001b[36m__main__\u001b[0m:\u001b[36m<module>\u001b[0m:\u001b[36m12\u001b[0m - \u001b[33m\u001b[1mNo match for YP_001456703.1\u001b[0m\n",
      "\u001b[32m2024-09-30 14:37:02.697\u001b[0m | \u001b[33m\u001b[1mWARNING \u001b[0m | \u001b[36m__main__\u001b[0m:\u001b[36m<module>\u001b[0m:\u001b[36m12\u001b[0m - \u001b[33m\u001b[1mNo match for YP_001456708.1\u001b[0m\n",
      "\u001b[32m2024-09-30 14:37:02.700\u001b[0m | \u001b[33m\u001b[1mWARNING \u001b[0m | \u001b[36m__main__\u001b[0m:\u001b[36m<module>\u001b[0m:\u001b[36m12\u001b[0m - \u001b[33m\u001b[1mNo match for YP_001456707.1\u001b[0m\n",
      "\u001b[32m2024-09-30 14:37:02.701\u001b[0m | \u001b[33m\u001b[1mWARNING \u001b[0m | \u001b[36m__main__\u001b[0m:\u001b[36m<module>\u001b[0m:\u001b[36m12\u001b[0m - \u001b[33m\u001b[1mNo match for YP_001456706.1\u001b[0m\n",
      "\u001b[32m2024-09-30 14:37:02.707\u001b[0m | \u001b[33m\u001b[1mWARNING \u001b[0m | \u001b[36m__main__\u001b[0m:\u001b[36m<module>\u001b[0m:\u001b[36m12\u001b[0m - \u001b[33m\u001b[1mNo match for YP_001456715.1\u001b[0m\n",
      "\u001b[32m2024-09-30 14:37:02.709\u001b[0m | \u001b[33m\u001b[1mWARNING \u001b[0m | \u001b[36m__main__\u001b[0m:\u001b[36m<module>\u001b[0m:\u001b[36m12\u001b[0m - \u001b[33m\u001b[1mNo match for YP_001456713.1\u001b[0m\n"
     ]
    }
   ],
   "source": [
    "pep_fasta = SeqIO.to_dict(SeqIO.parse(pdam_ensembl_fasta, \"fasta\"))\n",
    "\n",
    "REGEXP = \".*gene:(LOC\\\\d+) .*\"\n",
    "regcomp = re.compile(REGEXP)\n",
    "\n",
    "xp_loc_map = {}\n",
    "for k, v in pep_fasta.items():\n",
    "    try:\n",
    "        locid = regcomp.search(v.description).group(1)\n",
    "        xp_loc_map[k] = locid\n",
    "    except AttributeError:\n",
    "        logger.warning(f\"No match for {v.name}\")"
   ]
  },
  {
   "cell_type": "markdown",
   "id": "c1f3fc50",
   "metadata": {},
   "source": [
    "---"
   ]
  },
  {
   "cell_type": "markdown",
   "id": "6e139c40",
   "metadata": {},
   "source": [
    "## View g:Profiler Enrichment for a cluster"
   ]
  },
  {
   "cell_type": "code",
   "execution_count": 9,
   "id": "cf90b56a-f450-4096-81ee-99b4af28d37c",
   "metadata": {
    "tags": []
   },
   "outputs": [],
   "source": [
    "from gprofiler import GProfiler\n",
    "\n",
    "gp = GProfiler(\n",
    "    user_agent=\"ExampleTool\",  # optional user agent\n",
    "    return_dataframe=True,  # return pandas dataframe or plain python structures\n",
    ")\n",
    "PDAM_ORGANISM = \"pdgca003704095v1\""
   ]
  },
  {
   "cell_type": "code",
   "execution_count": 10,
   "id": "071360c5-2896-425e-966c-8c63559ce2dd",
   "metadata": {
    "tags": []
   },
   "outputs": [],
   "source": [
    "def cluster_name_map(c, blast_map, loc_map):\n",
    "    mapped_names = []\n",
    "    for pdam_id in c[\"members\"]:\n",
    "        try:\n",
    "            mapped_names.append(loc_map[blast_map.loc[pdam_id, 1]])\n",
    "        except (KeyError, IndexError):\n",
    "            logger.warning(f\"{pdam_id} had no match in blast results\")\n",
    "    return mapped_names"
   ]
  },
  {
   "cell_type": "code",
   "execution_count": 11,
   "id": "e58ae711",
   "metadata": {},
   "outputs": [
    {
     "name": "stderr",
     "output_type": "stream",
     "text": [
      "100%|██████████| 610/610 [04:17<00:00,  2.37it/s]\n",
      "\u001b[32m2024-09-30 14:41:25.972\u001b[0m | \u001b[1mINFO    \u001b[0m | \u001b[36m__main__\u001b[0m:\u001b[36m<module>\u001b[0m:\u001b[36m8\u001b[0m - \u001b[1mAdded gprofile annotations to 610 clusters\u001b[0m\n",
      "\u001b[32m2024-09-30 14:41:25.972\u001b[0m | \u001b[1mINFO    \u001b[0m | \u001b[36m__main__\u001b[0m:\u001b[36m<module>\u001b[0m:\u001b[36m10\u001b[0m - \u001b[1mWriting results to /home/ssledzieski/philharmonic_results/p_damicornis/20240917-pdamAll-phil_v0.3.0/20240917-pdamAll-phil_v0.3.0_clusters.functional.gprofile.pkl\u001b[0m\n"
     ]
    }
   ],
   "source": [
    "logger.disable(\"__main__\")\n",
    "for k, cl in tqdm(cluster_dict.items(), total=len(cluster_dict)):\n",
    "    cl[\"members_loc\"] = cluster_name_map(cl, blast_results, xp_loc_map)\n",
    "    cl[\"gprofiler\"] = gp.profile(\n",
    "        organism=PDAM_ORGANISM, query=cl[\"members_loc\"], sources=[\"GO:BP\"]\n",
    "    )\n",
    "logger.enable(\"__main__\")\n",
    "logger.info(f\"Added gprofile annotations to {len(cluster_dict)} clusters\")\n",
    "\n",
    "logger.info(\n",
    "    f\"Writing results to {Path(cluster_file_path).with_suffix('.gprofile.pkl')}\"\n",
    ")\n",
    "with open(Path(cluster_file_path).with_suffix(\".gprofile.pkl\"), \"wb\") as f:\n",
    "    import pickle\n",
    "\n",
    "    pickle.dump(cluster_dict, f)"
   ]
  },
  {
   "cell_type": "code",
   "execution_count": 12,
   "id": "4b9c9eeb-5dc8-4660-9da2-f55d827e3d21",
   "metadata": {
    "tags": []
   },
   "outputs": [],
   "source": [
    "# i = 150\n",
    "# k = list(clusters.keys())[i]\n",
    "k = \"549662403768153899\""
   ]
  },
  {
   "cell_type": "code",
   "execution_count": 19,
   "id": "7fce40be",
   "metadata": {},
   "outputs": [
    {
     "name": "stdout",
     "output_type": "stream",
     "text": [
      "Cluster of 21 proteins [pdam_00022258-RA, pdam_00005419-RA, pdam_00017455-RA, ...] (hash 549662403768153899)\n",
      "7 proteins re-added by ReCIPE (degree, 0.75)\n",
      "Edges: 0\n",
      "Triangles: 0\n",
      "Max Degree: 0\n",
      "Top Terms:\n",
      "\t\tGO:0071380 - <cellular response to prostaglandin E stimulus> (14)\n",
      "\t\tGO:0022900 - <electron transport chain> (14)\n",
      "\t\tGO:0019233 - <sensory perception of pain> (14)\n",
      "\t\tGO:0008542 - <visual learning> (13)\n",
      "\t\tGO:0010759 - <positive regulation of macrophage chemotaxis> (13)\n",
      "\t\tGO:0043278 - <response to morphine> (13)\n",
      "\t\tGO:0043547 - <positive regulation of GTPase activity> (13)\n",
      "\t\tGO:0010579 - <adenylate cyclase-activating G protein-coupled receptor signaling pathway> (13)\n",
      "\t\tGO:0007596 - <blood coagulation> (13)\n",
      "\t\tGO:0042493 - <response to xenobiotic stimulus> (13)\n",
      "\n"
     ]
    }
   ],
   "source": [
    "print_cluster(cluster_dict[k], go_database, n_terms=10)"
   ]
  },
  {
   "cell_type": "code",
   "execution_count": 14,
   "id": "abafd392-44ce-4e5b-ad1a-e51e525e996b",
   "metadata": {
    "tags": []
   },
   "outputs": [
    {
     "data": {
      "image/png": "[encoded data removed]",
      "text/plain": [
       "<Figure size 800x800 with 3 Axes>"
      ]
     },
     "metadata": {},
     "output_type": "display_data"
    }
   ],
   "source": [
    "plot_cluster(cluster_dict[k], full_G)"
   ]
  },
  {
   "cell_type": "code",
   "execution_count": 15,
   "id": "56ca8981",
   "metadata": {},
   "outputs": [
    {
     "data": {
      "text/html": [
       "<div>\n",
       "<style scoped>\n",
       "    .dataframe tbody tr th:only-of-type {\n",
       "        vertical-align: middle;\n",
       "    }\n",
       "\n",
       "    .dataframe tbody tr th {\n",
       "        vertical-align: top;\n",
       "    }\n",
       "\n",
       "    .dataframe thead th {\n",
       "        text-align: right;\n",
       "    }\n",
       "</style>\n",
       "<table border=\"1\" class=\"dataframe\">\n",
       "  <thead>\n",
       "    <tr style=\"text-align: right;\">\n",
       "      <th></th>\n",
       "      <th>source</th>\n",
       "      <th>native</th>\n",
       "      <th>name</th>\n",
       "      <th>p_value</th>\n",
       "      <th>significant</th>\n",
       "      <th>description</th>\n",
       "      <th>term_size</th>\n",
       "      <th>query_size</th>\n",
       "      <th>intersection_size</th>\n",
       "      <th>effective_domain_size</th>\n",
       "      <th>precision</th>\n",
       "      <th>recall</th>\n",
       "      <th>query</th>\n",
       "      <th>parents</th>\n",
       "    </tr>\n",
       "  </thead>\n",
       "  <tbody>\n",
       "    <tr>\n",
       "      <th>0</th>\n",
       "      <td>GO:BP</td>\n",
       "      <td>GO:0007186</td>\n",
       "      <td>G protein-coupled receptor signaling pathway</td>\n",
       "      <td>0.000038</td>\n",
       "      <td>True</td>\n",
       "      <td>\"The series of molecular signals initiated by ...</td>\n",
       "      <td>1702</td>\n",
       "      <td>16</td>\n",
       "      <td>13</td>\n",
       "      <td>8782</td>\n",
       "      <td>0.8125</td>\n",
       "      <td>0.007638</td>\n",
       "      <td>query_1</td>\n",
       "      <td>[GO:0007165]</td>\n",
       "    </tr>\n",
       "    <tr>\n",
       "      <th>1</th>\n",
       "      <td>GO:BP</td>\n",
       "      <td>GO:0007165</td>\n",
       "      <td>signal transduction</td>\n",
       "      <td>0.000250</td>\n",
       "      <td>True</td>\n",
       "      <td>\"The cellular process in which a signal is con...</td>\n",
       "      <td>2442</td>\n",
       "      <td>16</td>\n",
       "      <td>14</td>\n",
       "      <td>8782</td>\n",
       "      <td>0.8750</td>\n",
       "      <td>0.005733</td>\n",
       "      <td>query_1</td>\n",
       "      <td>[GO:0007154, GO:0009987, GO:0023052, GO:005079...</td>\n",
       "    </tr>\n",
       "    <tr>\n",
       "      <th>2</th>\n",
       "      <td>GO:BP</td>\n",
       "      <td>GO:0023052</td>\n",
       "      <td>signaling</td>\n",
       "      <td>0.000278</td>\n",
       "      <td>True</td>\n",
       "      <td>\"The entirety of a process in which informatio...</td>\n",
       "      <td>2461</td>\n",
       "      <td>16</td>\n",
       "      <td>14</td>\n",
       "      <td>8782</td>\n",
       "      <td>0.8750</td>\n",
       "      <td>0.005689</td>\n",
       "      <td>query_1</td>\n",
       "      <td>[GO:0050789]</td>\n",
       "    </tr>\n",
       "    <tr>\n",
       "      <th>3</th>\n",
       "      <td>GO:BP</td>\n",
       "      <td>GO:0007154</td>\n",
       "      <td>cell communication</td>\n",
       "      <td>0.000300</td>\n",
       "      <td>True</td>\n",
       "      <td>\"Any process that mediates interactions betwee...</td>\n",
       "      <td>2475</td>\n",
       "      <td>16</td>\n",
       "      <td>14</td>\n",
       "      <td>8782</td>\n",
       "      <td>0.8750</td>\n",
       "      <td>0.005657</td>\n",
       "      <td>query_1</td>\n",
       "      <td>[GO:0009987]</td>\n",
       "    </tr>\n",
       "    <tr>\n",
       "      <th>4</th>\n",
       "      <td>GO:BP</td>\n",
       "      <td>GO:0051716</td>\n",
       "      <td>cellular response to stimulus</td>\n",
       "      <td>0.000956</td>\n",
       "      <td>True</td>\n",
       "      <td>\"Any process that results in a change in state...</td>\n",
       "      <td>2701</td>\n",
       "      <td>16</td>\n",
       "      <td>14</td>\n",
       "      <td>8782</td>\n",
       "      <td>0.8750</td>\n",
       "      <td>0.005183</td>\n",
       "      <td>query_1</td>\n",
       "      <td>[GO:0009987, GO:0050896]</td>\n",
       "    </tr>\n",
       "    <tr>\n",
       "      <th>5</th>\n",
       "      <td>GO:BP</td>\n",
       "      <td>GO:0050896</td>\n",
       "      <td>response to stimulus</td>\n",
       "      <td>0.001406</td>\n",
       "      <td>True</td>\n",
       "      <td>\"Any process that results in a change in state...</td>\n",
       "      <td>2781</td>\n",
       "      <td>16</td>\n",
       "      <td>14</td>\n",
       "      <td>8782</td>\n",
       "      <td>0.8750</td>\n",
       "      <td>0.005034</td>\n",
       "      <td>query_1</td>\n",
       "      <td>[GO:0008150]</td>\n",
       "    </tr>\n",
       "    <tr>\n",
       "      <th>6</th>\n",
       "      <td>GO:BP</td>\n",
       "      <td>GO:0050794</td>\n",
       "      <td>regulation of cellular process</td>\n",
       "      <td>0.012037</td>\n",
       "      <td>True</td>\n",
       "      <td>\"Any process that modulates the frequency, rat...</td>\n",
       "      <td>3277</td>\n",
       "      <td>16</td>\n",
       "      <td>14</td>\n",
       "      <td>8782</td>\n",
       "      <td>0.8750</td>\n",
       "      <td>0.004272</td>\n",
       "      <td>query_1</td>\n",
       "      <td>[GO:0009987, GO:0050789]</td>\n",
       "    </tr>\n",
       "    <tr>\n",
       "      <th>7</th>\n",
       "      <td>GO:BP</td>\n",
       "      <td>GO:0050789</td>\n",
       "      <td>regulation of biological process</td>\n",
       "      <td>0.017826</td>\n",
       "      <td>True</td>\n",
       "      <td>\"Any process that modulates the frequency, rat...</td>\n",
       "      <td>3378</td>\n",
       "      <td>16</td>\n",
       "      <td>14</td>\n",
       "      <td>8782</td>\n",
       "      <td>0.8750</td>\n",
       "      <td>0.004144</td>\n",
       "      <td>query_1</td>\n",
       "      <td>[GO:0008150, GO:0065007]</td>\n",
       "    </tr>\n",
       "    <tr>\n",
       "      <th>8</th>\n",
       "      <td>GO:BP</td>\n",
       "      <td>GO:0065007</td>\n",
       "      <td>biological regulation</td>\n",
       "      <td>0.021465</td>\n",
       "      <td>True</td>\n",
       "      <td>\"Any process that modulates a measurable attri...</td>\n",
       "      <td>3427</td>\n",
       "      <td>16</td>\n",
       "      <td>14</td>\n",
       "      <td>8782</td>\n",
       "      <td>0.8750</td>\n",
       "      <td>0.004085</td>\n",
       "      <td>query_1</td>\n",
       "      <td>[GO:0008150]</td>\n",
       "    </tr>\n",
       "  </tbody>\n",
       "</table>\n",
       "</div>"
      ],
      "text/plain": [
       "  source      native                                          name   p_value  \\\n",
       "0  GO:BP  GO:0007186  G protein-coupled receptor signaling pathway  0.000038   \n",
       "1  GO:BP  GO:0007165                           signal transduction  0.000250   \n",
       "2  GO:BP  GO:0023052                                     signaling  0.000278   \n",
       "3  GO:BP  GO:0007154                            cell communication  0.000300   \n",
       "4  GO:BP  GO:0051716                 cellular response to stimulus  0.000956   \n",
       "5  GO:BP  GO:0050896                          response to stimulus  0.001406   \n",
       "6  GO:BP  GO:0050794                regulation of cellular process  0.012037   \n",
       "7  GO:BP  GO:0050789              regulation of biological process  0.017826   \n",
       "8  GO:BP  GO:0065007                         biological regulation  0.021465   \n",
       "\n",
       "   significant                                        description  term_size  \\\n",
       "0         True  \"The series of molecular signals initiated by ...       1702   \n",
       "1         True  \"The cellular process in which a signal is con...       2442   \n",
       "2         True  \"The entirety of a process in which informatio...       2461   \n",
       "3         True  \"Any process that mediates interactions betwee...       2475   \n",
       "4         True  \"Any process that results in a change in state...       2701   \n",
       "5         True  \"Any process that results in a change in state...       2781   \n",
       "6         True  \"Any process that modulates the frequency, rat...       3277   \n",
       "7         True  \"Any process that modulates the frequency, rat...       3378   \n",
       "8         True  \"Any process that modulates a measurable attri...       3427   \n",
       "\n",
       "   query_size  intersection_size  effective_domain_size  precision    recall  \\\n",
       "0          16                 13                   8782     0.8125  0.007638   \n",
       "1          16                 14                   8782     0.8750  0.005733   \n",
       "2          16                 14                   8782     0.8750  0.005689   \n",
       "3          16                 14                   8782     0.8750  0.005657   \n",
       "4          16                 14                   8782     0.8750  0.005183   \n",
       "5          16                 14                   8782     0.8750  0.005034   \n",
       "6          16                 14                   8782     0.8750  0.004272   \n",
       "7          16                 14                   8782     0.8750  0.004144   \n",
       "8          16                 14                   8782     0.8750  0.004085   \n",
       "\n",
       "     query                                            parents  \n",
       "0  query_1                                       [GO:0007165]  \n",
       "1  query_1  [GO:0007154, GO:0009987, GO:0023052, GO:005079...  \n",
       "2  query_1                                       [GO:0050789]  \n",
       "3  query_1                                       [GO:0009987]  \n",
       "4  query_1                           [GO:0009987, GO:0050896]  \n",
       "5  query_1                                       [GO:0008150]  \n",
       "6  query_1                           [GO:0009987, GO:0050789]  \n",
       "7  query_1                           [GO:0008150, GO:0065007]  \n",
       "8  query_1                                       [GO:0008150]  "
      ]
     },
     "execution_count": 15,
     "metadata": {},
     "output_type": "execute_result"
    }
   ],
   "source": [
    "cluster_dict[k][\"gprofiler\"]"
   ]
  }
 ],
 "metadata": {
  "kernelspec": {
   "display_name": "philharmonic",
   "language": "python",
   "name": "python3"
  },
  "language_info": {
   "codemirror_mode": {
    "name": "ipython",
    "version": 3
   },
   "file_extension": ".py",
   "mimetype": "text/x-python",
   "name": "python",
   "nbconvert_exporter": "python",
   "pygments_lexer": "ipython3",
   "version": "3.11.6"
  }
 },
 "nbformat": 4,
 "nbformat_minor": 5
}
