{
 "cells": [
  {
   "cell_type": "markdown",
   "id": "f60b7f74",
   "metadata": {},
   "source": [
    "# g:Profiler Conversion\n",
    "\n",
    "Lorem ipsum...\n",
    "\n",
    "Note: our list of GO terms will not match the g:Profiler terms exactly, but should be consistent. This is expected! <-- Flesh this out"
   ]
  },
  {
   "cell_type": "code",
   "execution_count": 93,
   "id": "aa87626a",
   "metadata": {},
   "outputs": [],
   "source": [
    "import re\n",
    "from pathlib import Path\n",
    "\n",
    "import networkx as nx\n",
    "import pandas as pd\n",
    "import matplotlib.pyplot as plt\n",
    "import seaborn as sns\n",
    "from Bio import SeqIO\n",
    "from loguru import logger\n",
    "from tqdm import tqdm\n",
    "\n",
    "from philharmonic.utils import (\n",
    "    load_cluster_json,\n",
    "    parse_GO_database,\n",
    "    plot_cluster,\n",
    "    print_cluster,\n",
    ")"
   ]
  },
  {
   "cell_type": "code",
   "execution_count": 94,
   "id": "e3025608",
   "metadata": {},
   "outputs": [],
   "source": [
    "# Initial Files\n",
    "cluster_file_path = \"/mnt/home/ssledzieski/Projects/philharmonic-experiments/results/p_damicornis/20240917-pdamAll-phil_v0.3.0/20240917-pdamAll-phil_v0.3.0_clusters.functional.json\"\n",
    "network_file_path = \"/mnt/home/ssledzieski/Projects/philharmonic-experiments/results/p_damicornis/20240917-pdamAll-phil_v0.3.0/20240917-pdamAll-phil_v0.3.0_network.positive.tsv\"\n",
    "go_map_path = \"/mnt/home/ssledzieski/Projects/philharmonic-experiments/results/p_damicornis/20240917-pdamAll-phil_v0.3.0/20240917-pdamAll-phil_v0.3.0_GO_map.csv\"\n",
    "\n",
    "GO_DB = \"/mnt/home/ssledzieski/Projects/philharmonic-experiments/results/p_damicornis/20240917-pdamAll-phil_v0.3.0/go.obo\"\n",
    "\n",
    "from pathlib import Path\n",
    "IMG_DIR = Path(\"/mnt/home/ssledzieski/Projects/philharmonic-experiments/img\")"
   ]
  },
  {
   "cell_type": "markdown",
   "id": "dfca0a22",
   "metadata": {},
   "source": [
    "---"
   ]
  },
  {
   "cell_type": "markdown",
   "id": "eeb73577",
   "metadata": {},
   "source": [
    "## Load Files"
   ]
  },
  {
   "cell_type": "code",
   "execution_count": 95,
   "id": "cac1d290-4c35-426c-9dd2-c73958ec1df4",
   "metadata": {
    "tags": []
   },
   "outputs": [],
   "source": [
    "cluster_dict = load_cluster_json(cluster_file_path)\n",
    "go_database = parse_GO_database(GO_DB)\n",
    "full_G = nx.read_weighted_edgelist(network_file_path, delimiter=\"\\t\")"
   ]
  },
  {
   "cell_type": "markdown",
   "id": "0469e2c0",
   "metadata": {},
   "source": [
    "---"
   ]
  },
  {
   "cell_type": "markdown",
   "id": "a0f40d8f",
   "metadata": {},
   "source": [
    "## Map to g:Profiler LOC IDs"
   ]
  },
  {
   "cell_type": "markdown",
   "id": "fa52bd29",
   "metadata": {},
   "source": [
    "- Download reference Ensembl genome\n",
    "    ```bash\n",
    "    $ wget  http://ftp.ensemblgenomes.org/pub/metazoa/release-59/fasta/pocillopora_damicornis_gca003704095v1/pep/Pocillopora_damicornis_gca003704095v1.ASM370409v1.pep.all.fa\n",
    "    ```\n",
    "\n",
    "- Create BLAST database\n",
    "    ```bash\n",
    "    $ makeblastdb -dbtype prot -title pdam_loc_db Pocillopora_damicornis_gca003704095v1.ASM370409v1.pep.all.fa\n",
    "    ```\n",
    "\n",
    "- Search against BLAST db\n",
    "    ```bash\n",
    "    $ ...\n",
    "    ```"
   ]
  },
  {
   "cell_type": "code",
   "execution_count": 96,
   "id": "9988111a-2246-4753-9c93-076a93570970",
   "metadata": {
    "tags": []
   },
   "outputs": [],
   "source": [
    "pdam_ensembl_fasta = \"/mnt/home/ssledzieski/Projects/philharmonic-experiments/results/p_damicornis/20240930-gProfiler/Pocillopora_damicornis_gca003704095v1.ASM370409v1.pep.all.fa\"\n",
    "pdam_blast_results = \"/mnt/home/ssledzieski/Projects/philharmonic-experiments/results/p_damicornis/20240930-gProfiler/pdam_loc_blast_results.tsv\""
   ]
  },
  {
   "cell_type": "code",
   "execution_count": 97,
   "id": "cec5f3cf-6444-4873-9757-807802f09027",
   "metadata": {
    "tags": []
   },
   "outputs": [
    {
     "name": "stderr",
     "output_type": "stream",
     "text": [
      "\u001b[32m2024-10-04 10:00:10.384\u001b[0m | \u001b[1mINFO    \u001b[0m | \u001b[36m__main__\u001b[0m:\u001b[36m<module>\u001b[0m:\u001b[36m8\u001b[0m - \u001b[1m21894 hits with e-value < 1e-5\u001b[0m\n",
      "\u001b[32m2024-10-04 10:00:10.389\u001b[0m | \u001b[1mINFO    \u001b[0m | \u001b[36m__main__\u001b[0m:\u001b[36m<module>\u001b[0m:\u001b[36m9\u001b[0m - \u001b[1m17436 unique hits\u001b[0m\n"
     ]
    }
   ],
   "source": [
    "blast_results = (\n",
    "    pd.read_csv(pdam_blast_results, sep=\"\\t\", header=None)\n",
    "    .sort_values(0)\n",
    "    .drop_duplicates([0, 1])\n",
    "    .set_index(0)\n",
    ")\n",
    "blast_results = blast_results[blast_results[10] < 1e-5]\n",
    "logger.info(f\"{len(blast_results)} hits with e-value < 1e-5\")\n",
    "logger.info(f\"{len(blast_results[1].unique())} unique hits\")"
   ]
  },
  {
   "cell_type": "code",
   "execution_count": 98,
   "id": "ddd6e6ca-c332-4945-adf2-8f57374ddccb",
   "metadata": {
    "tags": []
   },
   "outputs": [
    {
     "data": {
      "text/html": [
       "<div>\n",
       "<style scoped>\n",
       "    .dataframe tbody tr th:only-of-type {\n",
       "        vertical-align: middle;\n",
       "    }\n",
       "\n",
       "    .dataframe tbody tr th {\n",
       "        vertical-align: top;\n",
       "    }\n",
       "\n",
       "    .dataframe thead th {\n",
       "        text-align: right;\n",
       "    }\n",
       "</style>\n",
       "<table border=\"1\" class=\"dataframe\">\n",
       "  <thead>\n",
       "    <tr style=\"text-align: right;\">\n",
       "      <th></th>\n",
       "      <th>1</th>\n",
       "      <th>2</th>\n",
       "      <th>3</th>\n",
       "      <th>4</th>\n",
       "      <th>5</th>\n",
       "      <th>6</th>\n",
       "      <th>7</th>\n",
       "      <th>8</th>\n",
       "      <th>9</th>\n",
       "      <th>10</th>\n",
       "      <th>11</th>\n",
       "    </tr>\n",
       "    <tr>\n",
       "      <th>0</th>\n",
       "      <th></th>\n",
       "      <th></th>\n",
       "      <th></th>\n",
       "      <th></th>\n",
       "      <th></th>\n",
       "      <th></th>\n",
       "      <th></th>\n",
       "      <th></th>\n",
       "      <th></th>\n",
       "      <th></th>\n",
       "      <th></th>\n",
       "    </tr>\n",
       "  </thead>\n",
       "  <tbody>\n",
       "    <tr>\n",
       "      <th>pdam_00000001-RA</th>\n",
       "      <td>XP_027056588.1</td>\n",
       "      <td>100.000</td>\n",
       "      <td>360</td>\n",
       "      <td>0</td>\n",
       "      <td>0</td>\n",
       "      <td>1</td>\n",
       "      <td>360</td>\n",
       "      <td>31</td>\n",
       "      <td>390</td>\n",
       "      <td>0.000000e+00</td>\n",
       "      <td>737.0</td>\n",
       "    </tr>\n",
       "    <tr>\n",
       "      <th>pdam_00000002-RA</th>\n",
       "      <td>XP_027056458.1</td>\n",
       "      <td>93.440</td>\n",
       "      <td>747</td>\n",
       "      <td>14</td>\n",
       "      <td>2</td>\n",
       "      <td>1</td>\n",
       "      <td>712</td>\n",
       "      <td>13</td>\n",
       "      <td>759</td>\n",
       "      <td>0.000000e+00</td>\n",
       "      <td>1417.0</td>\n",
       "    </tr>\n",
       "    <tr>\n",
       "      <th>pdam_00000003-RA</th>\n",
       "      <td>XP_027056664.1</td>\n",
       "      <td>100.000</td>\n",
       "      <td>333</td>\n",
       "      <td>0</td>\n",
       "      <td>0</td>\n",
       "      <td>1</td>\n",
       "      <td>333</td>\n",
       "      <td>1</td>\n",
       "      <td>333</td>\n",
       "      <td>0.000000e+00</td>\n",
       "      <td>701.0</td>\n",
       "    </tr>\n",
       "    <tr>\n",
       "      <th>pdam_00000005-RA</th>\n",
       "      <td>XP_027056460.1</td>\n",
       "      <td>71.429</td>\n",
       "      <td>63</td>\n",
       "      <td>18</td>\n",
       "      <td>0</td>\n",
       "      <td>1</td>\n",
       "      <td>63</td>\n",
       "      <td>170</td>\n",
       "      <td>232</td>\n",
       "      <td>2.550000e-27</td>\n",
       "      <td>102.0</td>\n",
       "    </tr>\n",
       "    <tr>\n",
       "      <th>pdam_00000006-RA</th>\n",
       "      <td>XP_027056665.1</td>\n",
       "      <td>88.066</td>\n",
       "      <td>243</td>\n",
       "      <td>29</td>\n",
       "      <td>0</td>\n",
       "      <td>1</td>\n",
       "      <td>243</td>\n",
       "      <td>1</td>\n",
       "      <td>243</td>\n",
       "      <td>2.120000e-159</td>\n",
       "      <td>446.0</td>\n",
       "    </tr>\n",
       "  </tbody>\n",
       "</table>\n",
       "</div>"
      ],
      "text/plain": [
       "                              1        2    3   4   5   6    7    8    9   \\\n",
       "0                                                                           \n",
       "pdam_00000001-RA  XP_027056588.1  100.000  360   0   0   1  360   31  390   \n",
       "pdam_00000002-RA  XP_027056458.1   93.440  747  14   2   1  712   13  759   \n",
       "pdam_00000003-RA  XP_027056664.1  100.000  333   0   0   1  333    1  333   \n",
       "pdam_00000005-RA  XP_027056460.1   71.429   63  18   0   1   63  170  232   \n",
       "pdam_00000006-RA  XP_027056665.1   88.066  243  29   0   1  243    1  243   \n",
       "\n",
       "                             10      11  \n",
       "0                                        \n",
       "pdam_00000001-RA   0.000000e+00   737.0  \n",
       "pdam_00000002-RA   0.000000e+00  1417.0  \n",
       "pdam_00000003-RA   0.000000e+00   701.0  \n",
       "pdam_00000005-RA   2.550000e-27   102.0  \n",
       "pdam_00000006-RA  2.120000e-159   446.0  "
      ]
     },
     "execution_count": 98,
     "metadata": {},
     "output_type": "execute_result"
    }
   ],
   "source": [
    "blast_results.head()"
   ]
  },
  {
   "cell_type": "code",
   "execution_count": 99,
   "id": "c7470d61-264a-467b-8e4b-c561722fc035",
   "metadata": {
    "tags": []
   },
   "outputs": [
    {
     "name": "stderr",
     "output_type": "stream",
     "text": [
      "\u001b[32m2024-10-04 10:00:13.703\u001b[0m | \u001b[33m\u001b[1mWARNING \u001b[0m | \u001b[36m__main__\u001b[0m:\u001b[36m<module>\u001b[0m:\u001b[36m12\u001b[0m - \u001b[33m\u001b[1mNo match for YP_001456710.1\u001b[0m\n",
      "\u001b[32m2024-10-04 10:00:13.710\u001b[0m | \u001b[33m\u001b[1mWARNING \u001b[0m | \u001b[36m__main__\u001b[0m:\u001b[36m<module>\u001b[0m:\u001b[36m12\u001b[0m - \u001b[33m\u001b[1mNo match for YP_001456705.1\u001b[0m\n",
      "\u001b[32m2024-10-04 10:00:13.712\u001b[0m | \u001b[33m\u001b[1mWARNING \u001b[0m | \u001b[36m__main__\u001b[0m:\u001b[36m<module>\u001b[0m:\u001b[36m12\u001b[0m - \u001b[33m\u001b[1mNo match for YP_001456711.1\u001b[0m\n",
      "\u001b[32m2024-10-04 10:00:13.717\u001b[0m | \u001b[33m\u001b[1mWARNING \u001b[0m | \u001b[36m__main__\u001b[0m:\u001b[36m<module>\u001b[0m:\u001b[36m12\u001b[0m - \u001b[33m\u001b[1mNo match for YP_001456716.1\u001b[0m\n",
      "\u001b[32m2024-10-04 10:00:13.719\u001b[0m | \u001b[33m\u001b[1mWARNING \u001b[0m | \u001b[36m__main__\u001b[0m:\u001b[36m<module>\u001b[0m:\u001b[36m12\u001b[0m - \u001b[33m\u001b[1mNo match for YP_001456704.1\u001b[0m\n",
      "\u001b[32m2024-10-04 10:00:13.720\u001b[0m | \u001b[33m\u001b[1mWARNING \u001b[0m | \u001b[36m__main__\u001b[0m:\u001b[36m<module>\u001b[0m:\u001b[36m12\u001b[0m - \u001b[33m\u001b[1mNo match for YP_001456712.1\u001b[0m\n",
      "\u001b[32m2024-10-04 10:00:13.721\u001b[0m | \u001b[33m\u001b[1mWARNING \u001b[0m | \u001b[36m__main__\u001b[0m:\u001b[36m<module>\u001b[0m:\u001b[36m12\u001b[0m - \u001b[33m\u001b[1mNo match for YP_001456714.1\u001b[0m\n",
      "\u001b[32m2024-10-04 10:00:13.721\u001b[0m | \u001b[33m\u001b[1mWARNING \u001b[0m | \u001b[36m__main__\u001b[0m:\u001b[36m<module>\u001b[0m:\u001b[36m12\u001b[0m - \u001b[33m\u001b[1mNo match for YP_001456703.1\u001b[0m\n",
      "\u001b[32m2024-10-04 10:00:13.722\u001b[0m | \u001b[33m\u001b[1mWARNING \u001b[0m | \u001b[36m__main__\u001b[0m:\u001b[36m<module>\u001b[0m:\u001b[36m12\u001b[0m - \u001b[33m\u001b[1mNo match for YP_001456708.1\u001b[0m\n",
      "\u001b[32m2024-10-04 10:00:13.727\u001b[0m | \u001b[33m\u001b[1mWARNING \u001b[0m | \u001b[36m__main__\u001b[0m:\u001b[36m<module>\u001b[0m:\u001b[36m12\u001b[0m - \u001b[33m\u001b[1mNo match for YP_001456707.1\u001b[0m\n",
      "\u001b[32m2024-10-04 10:00:13.728\u001b[0m | \u001b[33m\u001b[1mWARNING \u001b[0m | \u001b[36m__main__\u001b[0m:\u001b[36m<module>\u001b[0m:\u001b[36m12\u001b[0m - \u001b[33m\u001b[1mNo match for YP_001456706.1\u001b[0m\n",
      "\u001b[32m2024-10-04 10:00:13.736\u001b[0m | \u001b[33m\u001b[1mWARNING \u001b[0m | \u001b[36m__main__\u001b[0m:\u001b[36m<module>\u001b[0m:\u001b[36m12\u001b[0m - \u001b[33m\u001b[1mNo match for YP_001456715.1\u001b[0m\n",
      "\u001b[32m2024-10-04 10:00:13.739\u001b[0m | \u001b[33m\u001b[1mWARNING \u001b[0m | \u001b[36m__main__\u001b[0m:\u001b[36m<module>\u001b[0m:\u001b[36m12\u001b[0m - \u001b[33m\u001b[1mNo match for YP_001456713.1\u001b[0m\n"
     ]
    }
   ],
   "source": [
    "pep_fasta = SeqIO.to_dict(SeqIO.parse(pdam_ensembl_fasta, \"fasta\"))\n",
    "\n",
    "REGEXP = \".*gene:(LOC\\\\d+) .*\"\n",
    "regcomp = re.compile(REGEXP)\n",
    "\n",
    "xp_loc_map = {}\n",
    "for k, v in pep_fasta.items():\n",
    "    try:\n",
    "        locid = regcomp.search(v.description).group(1)\n",
    "        xp_loc_map[k] = locid\n",
    "    except AttributeError:\n",
    "        logger.warning(f\"No match for {v.name}\")"
   ]
  },
  {
   "cell_type": "markdown",
   "id": "c1f3fc50",
   "metadata": {},
   "source": [
    "---"
   ]
  },
  {
   "cell_type": "markdown",
   "id": "6e139c40",
   "metadata": {},
   "source": [
    "## View g:Profiler Enrichment for a cluster"
   ]
  },
  {
   "cell_type": "code",
   "execution_count": 100,
   "id": "cf90b56a-f450-4096-81ee-99b4af28d37c",
   "metadata": {
    "tags": []
   },
   "outputs": [],
   "source": [
    "from gprofiler import GProfiler\n",
    "\n",
    "gp = GProfiler(\n",
    "    user_agent=\"ExampleTool\",  # optional user agent\n",
    "    return_dataframe=True,  # return pandas dataframe or plain python structures\n",
    ")\n",
    "PDAM_ORGANISM = \"pdgca003704095v1\""
   ]
  },
  {
   "cell_type": "code",
   "execution_count": 101,
   "id": "071360c5-2896-425e-966c-8c63559ce2dd",
   "metadata": {
    "tags": []
   },
   "outputs": [],
   "source": [
    "def cluster_name_map(c, blast_map, loc_map):\n",
    "    mapped_names = []\n",
    "    for pdam_id in c[\"members\"]:\n",
    "        try:\n",
    "            mapped_names.append(loc_map[blast_map.loc[pdam_id, 1]])\n",
    "        except (KeyError, IndexError):\n",
    "            logger.warning(f\"{pdam_id} had no match in blast results\")\n",
    "    return mapped_names"
   ]
  },
  {
   "cell_type": "code",
   "execution_count": 102,
   "id": "e58ae711",
   "metadata": {},
   "outputs": [
    {
     "name": "stderr",
     "output_type": "stream",
     "text": [
      "100%|██████████| 468/468 [03:27<00:00,  2.25it/s]\n",
      "\u001b[32m2024-10-04 10:03:47.050\u001b[0m | \u001b[1mINFO    \u001b[0m | \u001b[36m__main__\u001b[0m:\u001b[36m<module>\u001b[0m:\u001b[36m8\u001b[0m - \u001b[1mAdded gprofile annotations to 468 clusters\u001b[0m\n",
      "\u001b[32m2024-10-04 10:03:47.051\u001b[0m | \u001b[1mINFO    \u001b[0m | \u001b[36m__main__\u001b[0m:\u001b[36m<module>\u001b[0m:\u001b[36m10\u001b[0m - \u001b[1mWriting results to /mnt/home/ssledzieski/Projects/philharmonic-experiments/results/p_damicornis/20240917-pdamAll-phil_v0.3.0/20240917-pdamAll-phil_v0.3.0_clusters.functional.gprofile.pkl\u001b[0m\n"
     ]
    }
   ],
   "source": [
    "logger.disable(\"__main__\")\n",
    "for k, cl in tqdm(cluster_dict.items(), total=len(cluster_dict)):\n",
    "    cl[\"members_loc\"] = cluster_name_map(cl, blast_results, xp_loc_map)\n",
    "    cl[\"gprofiler\"] = gp.profile(\n",
    "        organism=PDAM_ORGANISM, query=cl[\"members_loc\"], sources=[\"GO:BP\"]\n",
    "    )\n",
    "logger.enable(\"__main__\")\n",
    "logger.info(f\"Added gprofile annotations to {len(cluster_dict)} clusters\")\n",
    "\n",
    "logger.info(\n",
    "    f\"Writing results to {Path(cluster_file_path).with_suffix('.gprofile.pkl')}\"\n",
    ")\n",
    "with open(Path(cluster_file_path).with_suffix(\".gprofile.pkl\"), \"wb\") as f:\n",
    "    import pickle\n",
    "\n",
    "    pickle.dump(cluster_dict, f)"
   ]
  },
  {
   "cell_type": "code",
   "execution_count": 108,
   "id": "4b9c9eeb-5dc8-4660-9da2-f55d827e3d21",
   "metadata": {
    "tags": []
   },
   "outputs": [],
   "source": [
    "# i = 150\n",
    "# k = list(clusters.keys())[i]\n",
    "k = \"208641124039621440\""
   ]
  },
  {
   "cell_type": "code",
   "execution_count": 109,
   "id": "7fce40be",
   "metadata": {},
   "outputs": [
    {
     "name": "stdout",
     "output_type": "stream",
     "text": [
      "Cluster of 20 proteins [pdam_00013683-RA, pdam_00006515-RA, pdam_00000216-RA, ...] (hash 208641124039621440)\n",
      "20 proteins re-added by ReCIPE (degree, 0.75)\n",
      "Edges: 3\n",
      "Triangles: 0\n",
      "Max Degree: 2\n",
      "Top Terms:\n",
      "\t\tGO:0019233 - <sensory perception of pain> (20)\n",
      "\t\tGO:0048148 - <behavioral response to cocaine> (19)\n",
      "\t\tGO:0006468 - <protein phosphorylation> (19)\n",
      "\t\tGO:0007507 - <heart development> (19)\n",
      "\t\tGO:0010759 - <positive regulation of macrophage chemotaxis> (19)\n",
      "\t\tGO:0001963 - <synaptic transmission, dopaminergic> (19)\n",
      "\t\tGO:0071380 - <cellular response to prostaglandin E stimulus> (19)\n",
      "\t\tGO:0071502 - <cellular response to temperature stimulus> (19)\n",
      "\t\tGO:0008542 - <visual learning> (19)\n",
      "\t\tGO:0007601 - <visual perception> (19)\n",
      "\n"
     ]
    }
   ],
   "source": [
    "print_cluster(cluster_dict[k], go_database, n_terms=10)"
   ]
  },
  {
   "cell_type": "code",
   "execution_count": 110,
   "id": "abafd392-44ce-4e5b-ad1a-e51e525e996b",
   "metadata": {
    "tags": []
   },
   "outputs": [
    {
     "data": {
      "image/png": "[encoded data removed]",
      "text/plain": [
       "<Figure size 800x800 with 3 Axes>"
      ]
     },
     "metadata": {},
     "output_type": "display_data"
    }
   ],
   "source": [
    "plot_cluster(cluster_dict[k], full_G)"
   ]
  },
  {
   "cell_type": "code",
   "execution_count": 111,
   "id": "56ca8981",
   "metadata": {},
   "outputs": [
    {
     "data": {
      "text/html": [
       "<div>\n",
       "<style scoped>\n",
       "    .dataframe tbody tr th:only-of-type {\n",
       "        vertical-align: middle;\n",
       "    }\n",
       "\n",
       "    .dataframe tbody tr th {\n",
       "        vertical-align: top;\n",
       "    }\n",
       "\n",
       "    .dataframe thead th {\n",
       "        text-align: right;\n",
       "    }\n",
       "</style>\n",
       "<table border=\"1\" class=\"dataframe\">\n",
       "  <thead>\n",
       "    <tr style=\"text-align: right;\">\n",
       "      <th></th>\n",
       "      <th>source</th>\n",
       "      <th>native</th>\n",
       "      <th>name</th>\n",
       "      <th>p_value</th>\n",
       "      <th>significant</th>\n",
       "      <th>description</th>\n",
       "      <th>term_size</th>\n",
       "      <th>query_size</th>\n",
       "      <th>intersection_size</th>\n",
       "      <th>effective_domain_size</th>\n",
       "      <th>precision</th>\n",
       "      <th>recall</th>\n",
       "      <th>query</th>\n",
       "      <th>parents</th>\n",
       "    </tr>\n",
       "  </thead>\n",
       "  <tbody>\n",
       "    <tr>\n",
       "      <th>0</th>\n",
       "      <td>GO:BP</td>\n",
       "      <td>GO:0007186</td>\n",
       "      <td>G protein-coupled receptor signaling pathway</td>\n",
       "      <td>4.997060e-09</td>\n",
       "      <td>True</td>\n",
       "      <td>\"The series of molecular signals initiated by ...</td>\n",
       "      <td>1702</td>\n",
       "      <td>20</td>\n",
       "      <td>18</td>\n",
       "      <td>8782</td>\n",
       "      <td>0.9</td>\n",
       "      <td>0.010576</td>\n",
       "      <td>query_1</td>\n",
       "      <td>[GO:0007165]</td>\n",
       "    </tr>\n",
       "    <tr>\n",
       "      <th>1</th>\n",
       "      <td>GO:BP</td>\n",
       "      <td>GO:0007165</td>\n",
       "      <td>signal transduction</td>\n",
       "      <td>2.776268e-06</td>\n",
       "      <td>True</td>\n",
       "      <td>\"The cellular process in which a signal is con...</td>\n",
       "      <td>2442</td>\n",
       "      <td>20</td>\n",
       "      <td>18</td>\n",
       "      <td>8782</td>\n",
       "      <td>0.9</td>\n",
       "      <td>0.007371</td>\n",
       "      <td>query_1</td>\n",
       "      <td>[GO:0007154, GO:0009987, GO:0023052, GO:005079...</td>\n",
       "    </tr>\n",
       "    <tr>\n",
       "      <th>2</th>\n",
       "      <td>GO:BP</td>\n",
       "      <td>GO:0023052</td>\n",
       "      <td>signaling</td>\n",
       "      <td>3.175719e-06</td>\n",
       "      <td>True</td>\n",
       "      <td>\"The entirety of a process in which informatio...</td>\n",
       "      <td>2461</td>\n",
       "      <td>20</td>\n",
       "      <td>18</td>\n",
       "      <td>8782</td>\n",
       "      <td>0.9</td>\n",
       "      <td>0.007314</td>\n",
       "      <td>query_1</td>\n",
       "      <td>[GO:0050789]</td>\n",
       "    </tr>\n",
       "    <tr>\n",
       "      <th>3</th>\n",
       "      <td>GO:BP</td>\n",
       "      <td>GO:0007154</td>\n",
       "      <td>cell communication</td>\n",
       "      <td>3.503921e-06</td>\n",
       "      <td>True</td>\n",
       "      <td>\"Any process that mediates interactions betwee...</td>\n",
       "      <td>2475</td>\n",
       "      <td>20</td>\n",
       "      <td>18</td>\n",
       "      <td>8782</td>\n",
       "      <td>0.9</td>\n",
       "      <td>0.007273</td>\n",
       "      <td>query_1</td>\n",
       "      <td>[GO:0009987]</td>\n",
       "    </tr>\n",
       "    <tr>\n",
       "      <th>4</th>\n",
       "      <td>GO:BP</td>\n",
       "      <td>GO:0051716</td>\n",
       "      <td>cellular response to stimulus</td>\n",
       "      <td>1.586923e-05</td>\n",
       "      <td>True</td>\n",
       "      <td>\"Any process that results in a change in state...</td>\n",
       "      <td>2701</td>\n",
       "      <td>20</td>\n",
       "      <td>18</td>\n",
       "      <td>8782</td>\n",
       "      <td>0.9</td>\n",
       "      <td>0.006664</td>\n",
       "      <td>query_1</td>\n",
       "      <td>[GO:0009987, GO:0050896]</td>\n",
       "    </tr>\n",
       "    <tr>\n",
       "      <th>5</th>\n",
       "      <td>GO:BP</td>\n",
       "      <td>GO:0050896</td>\n",
       "      <td>response to stimulus</td>\n",
       "      <td>2.623094e-05</td>\n",
       "      <td>True</td>\n",
       "      <td>\"Any process that results in a change in state...</td>\n",
       "      <td>2781</td>\n",
       "      <td>20</td>\n",
       "      <td>18</td>\n",
       "      <td>8782</td>\n",
       "      <td>0.9</td>\n",
       "      <td>0.006472</td>\n",
       "      <td>query_1</td>\n",
       "      <td>[GO:0008150]</td>\n",
       "    </tr>\n",
       "    <tr>\n",
       "      <th>6</th>\n",
       "      <td>GO:BP</td>\n",
       "      <td>GO:0050794</td>\n",
       "      <td>regulation of cellular process</td>\n",
       "      <td>4.329681e-04</td>\n",
       "      <td>True</td>\n",
       "      <td>\"Any process that modulates the frequency, rat...</td>\n",
       "      <td>3277</td>\n",
       "      <td>20</td>\n",
       "      <td>18</td>\n",
       "      <td>8782</td>\n",
       "      <td>0.9</td>\n",
       "      <td>0.005493</td>\n",
       "      <td>query_1</td>\n",
       "      <td>[GO:0009987, GO:0050789]</td>\n",
       "    </tr>\n",
       "    <tr>\n",
       "      <th>7</th>\n",
       "      <td>GO:BP</td>\n",
       "      <td>GO:0050789</td>\n",
       "      <td>regulation of biological process</td>\n",
       "      <td>7.238199e-04</td>\n",
       "      <td>True</td>\n",
       "      <td>\"Any process that modulates the frequency, rat...</td>\n",
       "      <td>3378</td>\n",
       "      <td>20</td>\n",
       "      <td>18</td>\n",
       "      <td>8782</td>\n",
       "      <td>0.9</td>\n",
       "      <td>0.005329</td>\n",
       "      <td>query_1</td>\n",
       "      <td>[GO:0008150, GO:0065007]</td>\n",
       "    </tr>\n",
       "    <tr>\n",
       "      <th>8</th>\n",
       "      <td>GO:BP</td>\n",
       "      <td>GO:0065007</td>\n",
       "      <td>biological regulation</td>\n",
       "      <td>9.231147e-04</td>\n",
       "      <td>True</td>\n",
       "      <td>\"Any process that modulates a measurable attri...</td>\n",
       "      <td>3427</td>\n",
       "      <td>20</td>\n",
       "      <td>18</td>\n",
       "      <td>8782</td>\n",
       "      <td>0.9</td>\n",
       "      <td>0.005252</td>\n",
       "      <td>query_1</td>\n",
       "      <td>[GO:0008150]</td>\n",
       "    </tr>\n",
       "  </tbody>\n",
       "</table>\n",
       "</div>"
      ],
      "text/plain": [
       "  source      native                                          name  \\\n",
       "0  GO:BP  GO:0007186  G protein-coupled receptor signaling pathway   \n",
       "1  GO:BP  GO:0007165                           signal transduction   \n",
       "2  GO:BP  GO:0023052                                     signaling   \n",
       "3  GO:BP  GO:0007154                            cell communication   \n",
       "4  GO:BP  GO:0051716                 cellular response to stimulus   \n",
       "5  GO:BP  GO:0050896                          response to stimulus   \n",
       "6  GO:BP  GO:0050794                regulation of cellular process   \n",
       "7  GO:BP  GO:0050789              regulation of biological process   \n",
       "8  GO:BP  GO:0065007                         biological regulation   \n",
       "\n",
       "        p_value  significant  \\\n",
       "0  4.997060e-09         True   \n",
       "1  2.776268e-06         True   \n",
       "2  3.175719e-06         True   \n",
       "3  3.503921e-06         True   \n",
       "4  1.586923e-05         True   \n",
       "5  2.623094e-05         True   \n",
       "6  4.329681e-04         True   \n",
       "7  7.238199e-04         True   \n",
       "8  9.231147e-04         True   \n",
       "\n",
       "                                         description  term_size  query_size  \\\n",
       "0  \"The series of molecular signals initiated by ...       1702          20   \n",
       "1  \"The cellular process in which a signal is con...       2442          20   \n",
       "2  \"The entirety of a process in which informatio...       2461          20   \n",
       "3  \"Any process that mediates interactions betwee...       2475          20   \n",
       "4  \"Any process that results in a change in state...       2701          20   \n",
       "5  \"Any process that results in a change in state...       2781          20   \n",
       "6  \"Any process that modulates the frequency, rat...       3277          20   \n",
       "7  \"Any process that modulates the frequency, rat...       3378          20   \n",
       "8  \"Any process that modulates a measurable attri...       3427          20   \n",
       "\n",
       "   intersection_size  effective_domain_size  precision    recall    query  \\\n",
       "0                 18                   8782        0.9  0.010576  query_1   \n",
       "1                 18                   8782        0.9  0.007371  query_1   \n",
       "2                 18                   8782        0.9  0.007314  query_1   \n",
       "3                 18                   8782        0.9  0.007273  query_1   \n",
       "4                 18                   8782        0.9  0.006664  query_1   \n",
       "5                 18                   8782        0.9  0.006472  query_1   \n",
       "6                 18                   8782        0.9  0.005493  query_1   \n",
       "7                 18                   8782        0.9  0.005329  query_1   \n",
       "8                 18                   8782        0.9  0.005252  query_1   \n",
       "\n",
       "                                             parents  \n",
       "0                                       [GO:0007165]  \n",
       "1  [GO:0007154, GO:0009987, GO:0023052, GO:005079...  \n",
       "2                                       [GO:0050789]  \n",
       "3                                       [GO:0009987]  \n",
       "4                           [GO:0009987, GO:0050896]  \n",
       "5                                       [GO:0008150]  \n",
       "6                           [GO:0009987, GO:0050789]  \n",
       "7                           [GO:0008150, GO:0065007]  \n",
       "8                                       [GO:0008150]  "
      ]
     },
     "execution_count": 111,
     "metadata": {},
     "output_type": "execute_result"
    }
   ],
   "source": [
    "cluster_dict[k][\"gprofiler\"]"
   ]
  },
  {
   "cell_type": "markdown",
   "id": "2b767896",
   "metadata": {},
   "source": [
    "---"
   ]
  }
 ],
 "metadata": {
  "kernelspec": {
   "display_name": "philharmonic",
   "language": "python",
   "name": "python3"
  },
  "language_info": {
   "codemirror_mode": {
    "name": "ipython",
    "version": 3
   },
   "file_extension": ".py",
   "mimetype": "text/x-python",
   "name": "python",
   "nbconvert_exporter": "python",
   "pygments_lexer": "ipython3",
   "version": "3.11.6"
  }
 },
 "nbformat": 4,
 "nbformat_minor": 5
}
