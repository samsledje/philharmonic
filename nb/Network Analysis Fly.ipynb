{
 "cells": [
  {
   "cell_type": "code",
   "execution_count": 1,
   "metadata": {},
   "outputs": [],
   "source": [
    "import numpy as np\n",
    "import networkx as nx\n",
    "import matplotlib.pyplot as plt\n",
    "import pandas as pd\n",
    "import pickle as pk\n",
    "from sklearn.cluster import KMeans\n",
    "from tqdm.notebook import tqdm"
   ]
  },
  {
   "cell_type": "code",
   "execution_count": 2,
   "metadata": {},
   "outputs": [],
   "source": [
    "interactionfile = '/afs/csail.mit.edu/u/s/samsl/db/STRING/d.mela/functional_genomics/dmela_10M_candidates_20201018_dscript_r6e6_predictions_0.05thresh.txt'\n",
    "DSDfile = '/afs/csail.mit.edu/u/s/samsl/db/STRING/d.mela/functional_genomics/dmela_10M_candidates_20201018_dscript_r6e6_predictions_0.05thresh.cDSD_converged.mtx.DSD1'\n",
    "# interactionfile = '/afs/csail/u/s/samsl/db/STRING/h.vulgaris/candidate_pairs_hvul_hydra_mwt100_asof_20200624_50_800.out.positive'\n",
    "# DSDfile = '/afs/csail/u/s/samsl/db/STRING/h.vulgaris/20200624_50_800_hvulg_cDSD_converged_t0.7.DSD1'\n",
    "edge_weight_thresh = 0.05"
   ]
  },
  {
   "cell_type": "code",
   "execution_count": 3,
   "metadata": {},
   "outputs": [],
   "source": [
    "df = pd.read_csv(DSDfile,sep='\\t',index_col=0,header=0)\n",
    "protein_names = [str(i) for i in df.index]\n",
    "DSD = df.values"
   ]
  },
  {
   "cell_type": "code",
   "execution_count": 4,
   "metadata": {},
   "outputs": [
    {
     "data": {
      "text/plain": [
       "7010"
      ]
     },
     "execution_count": 4,
     "metadata": {},
     "output_type": "execute_result"
    }
   ],
   "source": [
    "len(protein_names)"
   ]
  },
  {
   "cell_type": "code",
   "execution_count": 5,
   "metadata": {},
   "outputs": [],
   "source": [
    "# with open(DSDfile,'r') as f:\n",
    "#     protein_names = [str(i) for i in f.readline().strip().split()]"
   ]
  },
  {
   "cell_type": "code",
   "execution_count": 6,
   "metadata": {},
   "outputs": [
    {
     "name": "stdout",
     "output_type": "stream",
     "text": [
      "Selecting DSD Connected Component...\n",
      "Filtering Edges with Confidence Threshold 0.05...\n",
      "------------\n",
      "Nodes: 7010\n",
      "Edges: 70200\n",
      "Median Degree: 9.0\n",
      "Average Degree: 20.028530670470754\n",
      "Sparsity: 0.0014285685214315803\n",
      "------------\n"
     ]
    }
   ],
   "source": [
    "fullG = nx.read_weighted_edgelist(interactionfile)\n",
    "print('Selecting DSD Connected Component...')\n",
    "G = fullG.subgraph(protein_names)\n",
    "print('Filtering Edges with Confidence Threshold {}...'.format(edge_weight_thresh))\n",
    "wG = nx.Graph()\n",
    "for (u,v,d) in G.edges.data():\n",
    "    if d['weight'] >= edge_weight_thresh:\n",
    "        wG.add_edge(u,v,weight=d['weight'])\n",
    "del G\n",
    "G = wG\n",
    "A = nx.to_numpy_matrix(G, nodelist=protein_names)\n",
    "degrees = [i[1] for i in list(G.degree())]\n",
    "\n",
    "print('-'*12)\n",
    "print('Nodes: {}\\nEdges: {}'.format(len(G.nodes), len(G.edges)))\n",
    "print('Median Degree: {}\\nAverage Degree: {}'.format(np.median(degrees), np.mean(degrees)))\n",
    "print('Sparsity: {}'.format(len(G.edges()) / len(G)**2))\n",
    "print('-'*12)"
   ]
  },
  {
   "cell_type": "code",
   "execution_count": 35,
   "metadata": {},
   "outputs": [],
   "source": [
    "# N_HUBS = 1\n",
    "# hubs = sorted(set(G.degree()),key=lambda x: x[1], reverse=True)\n",
    "# for i in range(N_HUBS):\n",
    "#     print(hubs[i][0], hubs[i][1], prot_go_db.loc[hubs[i][0],:].pfam_list, prot_go_db.loc[hubs[i][0],:].GO_list)"
   ]
  },
  {
   "cell_type": "code",
   "execution_count": 36,
   "metadata": {},
   "outputs": [],
   "source": [
    "#bet_cen = nx.betweenness_centrality(G)"
   ]
  },
  {
   "cell_type": "code",
   "execution_count": 7,
   "metadata": {},
   "outputs": [
    {
     "data": {
      "image/png": "[encoded data removed]",
      "text/plain": [
       "<Figure size 432x288 with 1 Axes>"
      ]
     },
     "metadata": {
      "needs_background": "light"
     },
     "output_type": "display_data"
    }
   ],
   "source": [
    "degreeDist = {}\n",
    "for i in degrees:\n",
    "    n = degreeDist.setdefault(i,0)\n",
    "    degreeDist[i] = n + 1\n",
    "\n",
    "plt.xlabel('Degree')\n",
    "plt.ylabel('Proportion of Nodes')  # we already handled the x-label with ax1\n",
    "plt.title('Node Degree Distribution')\n",
    "plt.scatter(degreeDist.keys(), [i/len(G) for i in degreeDist.values()])\n",
    "#plt.savefig('/afs/csail/u/s/samsl/db/Coral/Pdam/degree_distribution.png')\n",
    "plt.show()"
   ]
  },
  {
   "cell_type": "code",
   "execution_count": 38,
   "metadata": {},
   "outputs": [],
   "source": [
    "def RBF(D, sigma=None):\n",
    "    \"\"\"\n",
    "    Convert distance matrix D into similarity matrix S using Radial Basis Function (RBF) Kernel\n",
    "    RBF(x,x') = exp( -((x - x')**2 / 2sigma**@))\n",
    "    \"\"\"\n",
    "    sigma = sigma or np.sqrt(np.max(D))\n",
    "    return np.exp(-1 * (np.square(D) / (2 * sigma**2))) "
   ]
  },
  {
   "cell_type": "code",
   "execution_count": 39,
   "metadata": {},
   "outputs": [],
   "source": [
    "simDSD = RBF(DSD)"
   ]
  },
  {
   "cell_type": "code",
   "execution_count": 41,
   "metadata": {},
   "outputs": [
    {
     "data": {
      "text/plain": [
       "array([[1.        , 0.99375136, 0.99387216, ..., 0.87774864, 0.82677026,\n",
       "        0.82677026],\n",
       "       [0.99375136, 1.        , 0.99089675, ..., 0.87537138, 0.82360647,\n",
       "        0.82360647],\n",
       "       [0.99387216, 0.99089675, 1.        , ..., 0.87985622, 0.82944274,\n",
       "        0.82944274],\n",
       "       ...,\n",
       "       [0.87774864, 0.87537138, 0.87985622, ..., 1.        , 0.8751029 ,\n",
       "        0.8751029 ],\n",
       "       [0.82677026, 0.82360647, 0.82944274, ..., 0.8751029 , 1.        ,\n",
       "        0.99912635],\n",
       "       [0.82677026, 0.82360647, 0.82944274, ..., 0.8751029 , 0.99912635,\n",
       "        1.        ]])"
      ]
     },
     "execution_count": 41,
     "metadata": {},
     "output_type": "execute_result"
    }
   ],
   "source": [
    "simDSD"
   ]
  },
  {
   "cell_type": "code",
   "execution_count": 42,
   "metadata": {},
   "outputs": [],
   "source": [
    "from sklearn.cluster import SpectralClustering\n",
    "K = 500\n",
    "RANDOM_STATE = 42\n",
    "SC = SpectralClustering(n_clusters=K, assign_labels=\"discretize\", random_state=RANDOM_STATE, affinity='precomputed')"
   ]
  },
  {
   "cell_type": "code",
   "execution_count": 43,
   "metadata": {},
   "outputs": [
    {
     "data": {
      "text/plain": [
       "SpectralClustering(affinity='precomputed', assign_labels='discretize', coef0=1,\n",
       "                   degree=3, eigen_solver=None, eigen_tol=0.0, gamma=1.0,\n",
       "                   kernel_params=None, n_clusters=500, n_components=None,\n",
       "                   n_init=10, n_jobs=None, n_neighbors=10, random_state=42)"
      ]
     },
     "execution_count": 43,
     "metadata": {},
     "output_type": "execute_result"
    }
   ],
   "source": [
    "SC.fit(simDSD)"
   ]
  },
  {
   "cell_type": "code",
   "execution_count": 44,
   "metadata": {},
   "outputs": [],
   "source": [
    "with open(DSDfile+'.sc_labels.txt','w+') as f:\n",
    "    f.write(','.join([str(i) for i in SC.labels_]))\n",
    "with open(DSDfile+'.sc_labels.txt','r') as f:\n",
    "    sclabels = np.array([int(i) for i in f.readline().strip().split(',')])"
   ]
  },
  {
   "cell_type": "code",
   "execution_count": 45,
   "metadata": {},
   "outputs": [
    {
     "data": {
      "image/png": "[encoded data removed]",
      "text/plain": [
       "<Figure size 432x288 with 1 Axes>"
      ]
     },
     "metadata": {
      "needs_background": "light"
     },
     "output_type": "display_data"
    }
   ],
   "source": [
    "plt.hist(SC.labels_,bins=np.arange(K+1))\n",
    "plt.show()"
   ]
  },
  {
   "cell_type": "code",
   "execution_count": 1365,
   "metadata": {
    "collapsed": true,
    "jupyter": {
     "outputs_hidden": true
    }
   },
   "outputs": [
    {
     "ename": "KeyboardInterrupt",
     "evalue": "",
     "output_type": "error",
     "traceback": [
      "\u001b[0;31m---------------------------------------------------------------------------\u001b[0m",
      "\u001b[0;31mKeyboardInterrupt\u001b[0m                         Traceback (most recent call last)",
      "\u001b[0;32m/data/cb/samsl/anaconda3/lib/python3.7/site-packages/networkx/drawing/layout.py\u001b[0m in \u001b[0;36mfruchterman_reingold_layout\u001b[0;34m(G, k, pos, fixed, iterations, threshold, weight, scale, center, dim, seed)\u001b[0m\n\u001b[1;32m    487\u001b[0m                                            \u001b[0miterations\u001b[0m\u001b[0;34m,\u001b[0m \u001b[0mthreshold\u001b[0m\u001b[0;34m,\u001b[0m\u001b[0;34m\u001b[0m\u001b[0;34m\u001b[0m\u001b[0m\n\u001b[0;32m--> 488\u001b[0;31m                                            dim, seed)\n\u001b[0m\u001b[1;32m    489\u001b[0m     \u001b[0;32mexcept\u001b[0m\u001b[0;34m:\u001b[0m\u001b[0;34m\u001b[0m\u001b[0;34m\u001b[0m\u001b[0m\n",
      "\u001b[0;32m</data/cb/samsl/anaconda3/lib/python3.7/site-packages/decorator.py:decorator-gen-833>\u001b[0m in \u001b[0;36m_sparse_fruchterman_reingold\u001b[0;34m(A, k, pos, fixed, iterations, threshold, dim, seed)\u001b[0m\n",
      "\u001b[0;32m/data/cb/samsl/anaconda3/lib/python3.7/site-packages/networkx/utils/decorators.py\u001b[0m in \u001b[0;36m_random_state\u001b[0;34m(func, *args, **kwargs)\u001b[0m\n\u001b[1;32m    404\u001b[0m         \u001b[0mnew_args\u001b[0m\u001b[0;34m[\u001b[0m\u001b[0mrandom_state_index\u001b[0m\u001b[0;34m]\u001b[0m \u001b[0;34m=\u001b[0m \u001b[0mrandom_state\u001b[0m\u001b[0;34m\u001b[0m\u001b[0;34m\u001b[0m\u001b[0m\n\u001b[0;32m--> 405\u001b[0;31m         \u001b[0;32mreturn\u001b[0m \u001b[0mfunc\u001b[0m\u001b[0;34m(\u001b[0m\u001b[0;34m*\u001b[0m\u001b[0mnew_args\u001b[0m\u001b[0;34m,\u001b[0m \u001b[0;34m**\u001b[0m\u001b[0mkwargs\u001b[0m\u001b[0;34m)\u001b[0m\u001b[0;34m\u001b[0m\u001b[0;34m\u001b[0m\u001b[0m\n\u001b[0m\u001b[1;32m    406\u001b[0m     \u001b[0;32mreturn\u001b[0m \u001b[0m_random_state\u001b[0m\u001b[0;34m\u001b[0m\u001b[0;34m\u001b[0m\u001b[0m\n",
      "\u001b[0;32m/data/cb/samsl/anaconda3/lib/python3.7/site-packages/networkx/drawing/layout.py\u001b[0m in \u001b[0;36m_sparse_fruchterman_reingold\u001b[0;34m(A, k, pos, fixed, iterations, threshold, dim, seed)\u001b[0m\n\u001b[1;32m    623\u001b[0m             \u001b[0;31m# distance between points\u001b[0m\u001b[0;34m\u001b[0m\u001b[0;34m\u001b[0m\u001b[0;34m\u001b[0m\u001b[0m\n\u001b[0;32m--> 624\u001b[0;31m             \u001b[0mdistance\u001b[0m \u001b[0;34m=\u001b[0m \u001b[0mnp\u001b[0m\u001b[0;34m.\u001b[0m\u001b[0msqrt\u001b[0m\u001b[0;34m(\u001b[0m\u001b[0;34m(\u001b[0m\u001b[0mdelta\u001b[0m\u001b[0;34m**\u001b[0m\u001b[0;36m2\u001b[0m\u001b[0;34m)\u001b[0m\u001b[0;34m.\u001b[0m\u001b[0msum\u001b[0m\u001b[0;34m(\u001b[0m\u001b[0maxis\u001b[0m\u001b[0;34m=\u001b[0m\u001b[0;36m0\u001b[0m\u001b[0;34m)\u001b[0m\u001b[0;34m)\u001b[0m\u001b[0;34m\u001b[0m\u001b[0;34m\u001b[0m\u001b[0m\n\u001b[0m\u001b[1;32m    625\u001b[0m             \u001b[0;31m# enforce minimum distance of 0.01\u001b[0m\u001b[0;34m\u001b[0m\u001b[0;34m\u001b[0m\u001b[0;34m\u001b[0m\u001b[0m\n",
      "\u001b[0;32m/data/cb/samsl/anaconda3/lib/python3.7/site-packages/numpy/core/_methods.py\u001b[0m in \u001b[0;36m_sum\u001b[0;34m(a, axis, dtype, out, keepdims, initial, where)\u001b[0m\n\u001b[1;32m     37\u001b[0m          initial=_NoValue, where=True):\n\u001b[0;32m---> 38\u001b[0;31m     \u001b[0;32mreturn\u001b[0m \u001b[0mumr_sum\u001b[0m\u001b[0;34m(\u001b[0m\u001b[0ma\u001b[0m\u001b[0;34m,\u001b[0m \u001b[0maxis\u001b[0m\u001b[0;34m,\u001b[0m \u001b[0mdtype\u001b[0m\u001b[0;34m,\u001b[0m \u001b[0mout\u001b[0m\u001b[0;34m,\u001b[0m \u001b[0mkeepdims\u001b[0m\u001b[0;34m,\u001b[0m \u001b[0minitial\u001b[0m\u001b[0;34m,\u001b[0m \u001b[0mwhere\u001b[0m\u001b[0;34m)\u001b[0m\u001b[0;34m\u001b[0m\u001b[0;34m\u001b[0m\u001b[0m\n\u001b[0m\u001b[1;32m     39\u001b[0m \u001b[0;34m\u001b[0m\u001b[0m\n",
      "\u001b[0;31mKeyboardInterrupt\u001b[0m: ",
      "\nDuring handling of the above exception, another exception occurred:\n",
      "\u001b[0;31mKeyboardInterrupt\u001b[0m                         Traceback (most recent call last)",
      "\u001b[0;32m<ipython-input-1365-9d4494f6a61e>\u001b[0m in \u001b[0;36m<module>\u001b[0;34m\u001b[0m\n\u001b[0;32m----> 1\u001b[0;31m \u001b[0mpos\u001b[0m\u001b[0;34m=\u001b[0m\u001b[0mnx\u001b[0m\u001b[0;34m.\u001b[0m\u001b[0mspring_layout\u001b[0m\u001b[0;34m(\u001b[0m\u001b[0mG\u001b[0m\u001b[0;34m)\u001b[0m\u001b[0;34m\u001b[0m\u001b[0;34m\u001b[0m\u001b[0m\n\u001b[0m\u001b[1;32m      2\u001b[0m \u001b[0mpos\u001b[0m\u001b[0;34m\u001b[0m\u001b[0;34m\u001b[0m\u001b[0m\n",
      "\u001b[0;32m</data/cb/samsl/anaconda3/lib/python3.7/site-packages/decorator.py:decorator-gen-829>\u001b[0m in \u001b[0;36mfruchterman_reingold_layout\u001b[0;34m(G, k, pos, fixed, iterations, threshold, weight, scale, center, dim, seed)\u001b[0m\n",
      "\u001b[0;32m/data/cb/samsl/anaconda3/lib/python3.7/site-packages/networkx/utils/decorators.py\u001b[0m in \u001b[0;36m_random_state\u001b[0;34m(func, *args, **kwargs)\u001b[0m\n\u001b[1;32m    403\u001b[0m         \u001b[0mnew_args\u001b[0m \u001b[0;34m=\u001b[0m \u001b[0mlist\u001b[0m\u001b[0;34m(\u001b[0m\u001b[0margs\u001b[0m\u001b[0;34m)\u001b[0m\u001b[0;34m\u001b[0m\u001b[0;34m\u001b[0m\u001b[0m\n\u001b[1;32m    404\u001b[0m         \u001b[0mnew_args\u001b[0m\u001b[0;34m[\u001b[0m\u001b[0mrandom_state_index\u001b[0m\u001b[0;34m]\u001b[0m \u001b[0;34m=\u001b[0m \u001b[0mrandom_state\u001b[0m\u001b[0;34m\u001b[0m\u001b[0;34m\u001b[0m\u001b[0m\n\u001b[0;32m--> 405\u001b[0;31m         \u001b[0;32mreturn\u001b[0m \u001b[0mfunc\u001b[0m\u001b[0;34m(\u001b[0m\u001b[0;34m*\u001b[0m\u001b[0mnew_args\u001b[0m\u001b[0;34m,\u001b[0m \u001b[0;34m**\u001b[0m\u001b[0mkwargs\u001b[0m\u001b[0;34m)\u001b[0m\u001b[0;34m\u001b[0m\u001b[0;34m\u001b[0m\u001b[0m\n\u001b[0m\u001b[1;32m    406\u001b[0m     \u001b[0;32mreturn\u001b[0m \u001b[0m_random_state\u001b[0m\u001b[0;34m\u001b[0m\u001b[0;34m\u001b[0m\u001b[0m\n\u001b[1;32m    407\u001b[0m \u001b[0;34m\u001b[0m\u001b[0m\n",
      "\u001b[0;32m/data/cb/samsl/anaconda3/lib/python3.7/site-packages/networkx/drawing/layout.py\u001b[0m in \u001b[0;36mfruchterman_reingold_layout\u001b[0;34m(G, k, pos, fixed, iterations, threshold, weight, scale, center, dim, seed)\u001b[0m\n\u001b[1;32m    494\u001b[0m             \u001b[0mk\u001b[0m \u001b[0;34m=\u001b[0m \u001b[0mdom_size\u001b[0m \u001b[0;34m/\u001b[0m \u001b[0mnp\u001b[0m\u001b[0;34m.\u001b[0m\u001b[0msqrt\u001b[0m\u001b[0;34m(\u001b[0m\u001b[0mnnodes\u001b[0m\u001b[0;34m)\u001b[0m\u001b[0;34m\u001b[0m\u001b[0;34m\u001b[0m\u001b[0m\n\u001b[1;32m    495\u001b[0m         pos = _fruchterman_reingold(A, k, pos_arr, fixed, iterations,\n\u001b[0;32m--> 496\u001b[0;31m                                     threshold, dim, seed)\n\u001b[0m\u001b[1;32m    497\u001b[0m     \u001b[0;32mif\u001b[0m \u001b[0mfixed\u001b[0m \u001b[0;32mis\u001b[0m \u001b[0;32mNone\u001b[0m \u001b[0;32mand\u001b[0m \u001b[0mscale\u001b[0m \u001b[0;32mis\u001b[0m \u001b[0;32mnot\u001b[0m \u001b[0;32mNone\u001b[0m\u001b[0;34m:\u001b[0m\u001b[0;34m\u001b[0m\u001b[0;34m\u001b[0m\u001b[0m\n\u001b[1;32m    498\u001b[0m         \u001b[0mpos\u001b[0m \u001b[0;34m=\u001b[0m \u001b[0mrescale_layout\u001b[0m\u001b[0;34m(\u001b[0m\u001b[0mpos\u001b[0m\u001b[0;34m,\u001b[0m \u001b[0mscale\u001b[0m\u001b[0;34m=\u001b[0m\u001b[0mscale\u001b[0m\u001b[0;34m)\u001b[0m \u001b[0;34m+\u001b[0m \u001b[0mcenter\u001b[0m\u001b[0;34m\u001b[0m\u001b[0;34m\u001b[0m\u001b[0m\n",
      "\u001b[0;32m</data/cb/samsl/anaconda3/lib/python3.7/site-packages/decorator.py:decorator-gen-831>\u001b[0m in \u001b[0;36m_fruchterman_reingold\u001b[0;34m(A, k, pos, fixed, iterations, threshold, dim, seed)\u001b[0m\n",
      "\u001b[0;32m/data/cb/samsl/anaconda3/lib/python3.7/site-packages/networkx/utils/decorators.py\u001b[0m in \u001b[0;36m_random_state\u001b[0;34m(func, *args, **kwargs)\u001b[0m\n\u001b[1;32m    403\u001b[0m         \u001b[0mnew_args\u001b[0m \u001b[0;34m=\u001b[0m \u001b[0mlist\u001b[0m\u001b[0;34m(\u001b[0m\u001b[0margs\u001b[0m\u001b[0;34m)\u001b[0m\u001b[0;34m\u001b[0m\u001b[0;34m\u001b[0m\u001b[0m\n\u001b[1;32m    404\u001b[0m         \u001b[0mnew_args\u001b[0m\u001b[0;34m[\u001b[0m\u001b[0mrandom_state_index\u001b[0m\u001b[0;34m]\u001b[0m \u001b[0;34m=\u001b[0m \u001b[0mrandom_state\u001b[0m\u001b[0;34m\u001b[0m\u001b[0;34m\u001b[0m\u001b[0m\n\u001b[0;32m--> 405\u001b[0;31m         \u001b[0;32mreturn\u001b[0m \u001b[0mfunc\u001b[0m\u001b[0;34m(\u001b[0m\u001b[0;34m*\u001b[0m\u001b[0mnew_args\u001b[0m\u001b[0;34m,\u001b[0m \u001b[0;34m**\u001b[0m\u001b[0mkwargs\u001b[0m\u001b[0;34m)\u001b[0m\u001b[0;34m\u001b[0m\u001b[0;34m\u001b[0m\u001b[0m\n\u001b[0m\u001b[1;32m    406\u001b[0m     \u001b[0;32mreturn\u001b[0m \u001b[0m_random_state\u001b[0m\u001b[0;34m\u001b[0m\u001b[0;34m\u001b[0m\u001b[0m\n\u001b[1;32m    407\u001b[0m \u001b[0;34m\u001b[0m\u001b[0m\n",
      "\u001b[0;32m/data/cb/samsl/anaconda3/lib/python3.7/site-packages/networkx/drawing/layout.py\u001b[0m in \u001b[0;36m_fruchterman_reingold\u001b[0;34m(A, k, pos, fixed, iterations, threshold, dim, seed)\u001b[0m\n\u001b[1;32m    541\u001b[0m     \u001b[0;32mfor\u001b[0m \u001b[0miteration\u001b[0m \u001b[0;32min\u001b[0m \u001b[0mrange\u001b[0m\u001b[0;34m(\u001b[0m\u001b[0miterations\u001b[0m\u001b[0;34m)\u001b[0m\u001b[0;34m:\u001b[0m\u001b[0;34m\u001b[0m\u001b[0;34m\u001b[0m\u001b[0m\n\u001b[1;32m    542\u001b[0m         \u001b[0;31m# matrix of difference between points\u001b[0m\u001b[0;34m\u001b[0m\u001b[0;34m\u001b[0m\u001b[0;34m\u001b[0m\u001b[0m\n\u001b[0;32m--> 543\u001b[0;31m         \u001b[0mdelta\u001b[0m \u001b[0;34m=\u001b[0m \u001b[0mpos\u001b[0m\u001b[0;34m[\u001b[0m\u001b[0;34m:\u001b[0m\u001b[0;34m,\u001b[0m \u001b[0mnp\u001b[0m\u001b[0;34m.\u001b[0m\u001b[0mnewaxis\u001b[0m\u001b[0;34m,\u001b[0m \u001b[0;34m:\u001b[0m\u001b[0;34m]\u001b[0m \u001b[0;34m-\u001b[0m \u001b[0mpos\u001b[0m\u001b[0;34m[\u001b[0m\u001b[0mnp\u001b[0m\u001b[0;34m.\u001b[0m\u001b[0mnewaxis\u001b[0m\u001b[0;34m,\u001b[0m \u001b[0;34m:\u001b[0m\u001b[0;34m,\u001b[0m \u001b[0;34m:\u001b[0m\u001b[0;34m]\u001b[0m\u001b[0;34m\u001b[0m\u001b[0;34m\u001b[0m\u001b[0m\n\u001b[0m\u001b[1;32m    544\u001b[0m         \u001b[0;31m# distance between points\u001b[0m\u001b[0;34m\u001b[0m\u001b[0;34m\u001b[0m\u001b[0;34m\u001b[0m\u001b[0m\n\u001b[1;32m    545\u001b[0m         \u001b[0mdistance\u001b[0m \u001b[0;34m=\u001b[0m \u001b[0mnp\u001b[0m\u001b[0;34m.\u001b[0m\u001b[0mlinalg\u001b[0m\u001b[0;34m.\u001b[0m\u001b[0mnorm\u001b[0m\u001b[0;34m(\u001b[0m\u001b[0mdelta\u001b[0m\u001b[0;34m,\u001b[0m \u001b[0maxis\u001b[0m\u001b[0;34m=\u001b[0m\u001b[0;34m-\u001b[0m\u001b[0;36m1\u001b[0m\u001b[0;34m)\u001b[0m\u001b[0;34m\u001b[0m\u001b[0;34m\u001b[0m\u001b[0m\n",
      "\u001b[0;31mKeyboardInterrupt\u001b[0m: "
     ]
    }
   ],
   "source": [
    "#pos=nx.spring_layout(G)\n",
    "# import json\n",
    "# #pos = {k: list(v) for k,v in pos.items()}\n",
    "# with open('/afs/csail/u/s/samsl/db/Coral/Pdam/pdam_network_spring_layout','w+') as f:\n",
    "#     f.write(json.dumps(pos))"
   ]
  },
  {
   "cell_type": "code",
   "execution_count": 152,
   "metadata": {},
   "outputs": [],
   "source": [
    "pos = json.load(open('/afs/csail/u/s/samsl/db/Coral/Pdam/pdam_network_spring_layout'))\n",
    "pos = {k: np.array(v) for k,v in pos.items()}"
   ]
  },
  {
   "cell_type": "code",
   "execution_count": 46,
   "metadata": {},
   "outputs": [],
   "source": [
    "clusts = [[j for j in range(len(SC.labels_)) if SC.labels_[j] == i] for i in range(max(SC.labels_)+1)]"
   ]
  },
  {
   "cell_type": "code",
   "execution_count": 47,
   "metadata": {},
   "outputs": [],
   "source": [
    "filteredClusts = [i for i in clusts if len(i) >= 3]"
   ]
  },
  {
   "cell_type": "code",
   "execution_count": 48,
   "metadata": {
    "scrolled": true
   },
   "outputs": [
    {
     "data": {
      "image/png": "[encoded data removed]",
      "text/plain": [
       "<Figure size 432x288 with 1 Axes>"
      ]
     },
     "metadata": {
      "needs_background": "light"
     },
     "output_type": "display_data"
    }
   ],
   "source": [
    "sizes = [len(i) for i in filteredClusts]\n",
    "# sizes = [len(i) for i in clusters]\n",
    "plt.hist(sizes,bins=max(sizes))\n",
    "plt.xlabel('Cluster Size')\n",
    "plt.ylabel('Number of Clusters')\n",
    "plt.title('Cluster Size Distribution')\n",
    "#plt.savefig('/afs/csail/u/s/samsl/db/Coral/Pdam/cluster_size_distribution.png')\n",
    "plt.show()"
   ]
  },
  {
   "cell_type": "code",
   "execution_count": 8,
   "metadata": {},
   "outputs": [],
   "source": [
    "import json\n",
    "import hashlib\n",
    "import collections\n",
    "\n",
    "class Cluster:\n",
    "    def __init__(self,proteins):\n",
    "        self.proteins = proteins\n",
    "    \n",
    "    def __len__(self):\n",
    "        return len(self.proteins)\n",
    "    \n",
    "    def __repr__(self):\n",
    "        reprStr = \"Cluster of {} [{},{},...] (hash {})\".format(len(self), self.proteins[0], self.proteins[1], hash(self))\n",
    "        if hasattr(self, 'G'):\n",
    "            reprStr += \"\\nTriangles: {}\\nMax Degree: {}\".format(self.triangles(), max(self.G.degree(), key=lambda x: x[1])[1])\n",
    "        if hasattr(self, 'GO_terms'):\n",
    "            reprStr += \"\\nTop Terms:\\n\\t{}\".format('\\n\\t'.join(\n",
    "                    ['{} ({})'.format(i[0], i[1]) for i in self.get_top_terms(5)]\n",
    "            ))\n",
    "        return reprStr\n",
    "    \n",
    "    def __hash__(self):\n",
    "        return int(hashlib.md5(''.join(self.proteins).encode()).hexdigest(), 16)\n",
    "    \n",
    "    def to_dict(self):\n",
    "        D = {}\n",
    "        D['id'] = hash(self)\n",
    "        D['proteins'] = []\n",
    "        for p in self.proteins:\n",
    "            pD = {}\n",
    "            pD['name'] = p\n",
    "            if hasattr(self, 'GO_DB'):\n",
    "                pD['go'] = list(self.GO_DB[self.GO_DB['string'] == p]['GO_ids'])\n",
    "            D['proteins'].append(pD)\n",
    "        D['go'] = sorted([{\"id\": i.ID, \"desc\": i.name, \"freq\": self.GO_terms[i]} for i in self.GO_terms], key = lambda x: x['freq'], reverse=True)\n",
    "        if not hasattr(self,'G'):\n",
    "            pass\n",
    "        else:\n",
    "            D['graph'] = list(self.G.edges())\n",
    "        return D\n",
    "    \n",
    "    def to_json(self):\n",
    "        return json.dumps(self.to_dict())\n",
    "    \n",
    "    def add_GO_terms(self, go_db):\n",
    "        self.GO_terms = {}\n",
    "        self.GO_DB = go_db\n",
    "        for prot in self.proteins:\n",
    "            goIds = list(go_db[go_db['string'] == prot]['GO_ids'])\n",
    "            #goIds = go_db.loc[prot,'GO_ids']\n",
    "            if len(goIds) == 0:\n",
    "                continue\n",
    "            for gid in goIds:\n",
    "                try:\n",
    "                    goObj = GO_OBJECTS[gid]\n",
    "                except KeyError:\n",
    "                    GO_OBJECTS[gid] = GO(gid,{'id':gid,'name':gid})\n",
    "                    goObj = GO_OBJECTS[gid]\n",
    "                goCount = self.GO_terms.setdefault(goObj,0)\n",
    "                self.GO_terms[goObj] = goCount + 1\n",
    "    \n",
    "    def get_proteins_by_GO(self, GO_id):\n",
    "        return [p for p in self.proteins if GO_id in prot_go_db.loc[p,'GO_ids']]\n",
    "    \n",
    "    def get_GO_by_protein(self, protein):\n",
    "        assert protein in self.proteins, \"{} not in cluster\".format(protein)\n",
    "        return [gt for gt in coi.GO_terms if gt.ID in prot_go_db.loc[protein,'GO_ids']]\n",
    "    \n",
    "    def get_top_terms(self,N):\n",
    "        if not hasattr(self, 'GO_terms'):\n",
    "            raise NotImplementedError(\"GO Terms have not been added yet.\")\n",
    "        GOlist = list(self.GO_terms.keys())\n",
    "        if N == -1:\n",
    "            N = len(GOlist)\n",
    "        sortedList = sorted(GOlist,key=lambda x: self.GO_terms[x],reverse=True)[:N]\n",
    "        return list(zip(sortedList, [self.GO_terms[i] for i in sortedList]))\n",
    "    \n",
    "    def set_graph(self,G):\n",
    "        self.G = G.subgraph(self.proteins)\n",
    "    \n",
    "    def triangles(self):\n",
    "        return sum([i for i in nx.triangles(self.G).values()]) / 3\n",
    "    \n",
    "    def draw_degree_histogram(self,draw_graph=True):\n",
    "        if not hasattr(self,'G'):\n",
    "            raise ValueError('Run .set_graph() method on this cluster first')\n",
    "        G = self.G\n",
    "        degree_sequence = sorted([d for n, d in G.degree()], reverse=True)  # degree sequence\n",
    "        degreeCount = collections.Counter(degree_sequence)\n",
    "        deg, cnt = zip(*degreeCount.items())\n",
    "\n",
    "        fig, ax = plt.subplots()\n",
    "        plt.bar(deg, cnt, width=0.80, color='b')\n",
    "\n",
    "        plt.title(\"Degree Histogram\")\n",
    "        plt.ylabel(\"Count\")\n",
    "        plt.xlabel(\"Degree\")\n",
    "        ax.set_xticks([d + 0.4 for d in deg])\n",
    "        ax.set_xticklabels(deg)\n",
    "\n",
    "        # draw graph in inset\n",
    "        if draw_graph:\n",
    "            plt.axes([0.4, 0.4, 0.5, 0.5])\n",
    "            pos = nx.spring_layout(G, k=0.15,iterations=10)\n",
    "            plt.axis('off')\n",
    "            nx.draw_networkx_nodes(G, pos, node_size=20)\n",
    "            nx.draw_networkx_edges(G, pos, alpha=0.4)\n",
    "        plt.show()\n",
    "    \n",
    "    def draw_graph(self):\n",
    "        if not hasattr(self,'G'):\n",
    "            raise ValueError('Run .set_graph() method on this cluster first')\n",
    "        G = self.G\n",
    "        nx.draw_kamada_kawai(G, with_labels=True,node_size=600, font_size=8)\n",
    "    \n",
    "def cluster_from_json(jsonString):\n",
    "        clust = Cluster([])\n",
    "        D = json.loads(jsonString)\n",
    "        clust.proteins = [i['name'] for i in D['proteins']]\n",
    "        clust.GO_terms = {}\n",
    "        for goDict in D['go']:\n",
    "            gid = goDict['id']\n",
    "            gdesc = goDict['desc']\n",
    "            try:\n",
    "                goObj = GO_OBJECTS[gid]\n",
    "            except KeyError:\n",
    "                GO_OBJECTS[gid] = GO(gid,{'id':gid,'name':gdesc})\n",
    "                goObj = GO_OBJECTS[gid]\n",
    "            clust.GO_terms[goObj] = goDict['freq']\n",
    "        try:\n",
    "            edgeList = D['graph']\n",
    "            G = nx.Graph()\n",
    "            for e in edgeList:\n",
    "                G.add_edge(*e)\n",
    "            clust.G = G\n",
    "        except KeyError:\n",
    "            pass\n",
    "        return clust\n",
    "        \n",
    "class GO:\n",
    "    def __init__(self, ID, features):\n",
    "        self.ID = ID\n",
    "        self.D = features\n",
    "        self.name = features['name']\n",
    "        \n",
    "    def __repr__(self):\n",
    "        return '{} - <{}>'.format(self.ID, self.name)\n",
    "    \n",
    "    def __eq__(self, other):\n",
    "        return self.ID == other.ID\n",
    "    \n",
    "    def __hash__(self):\n",
    "        return hash(self.ID)\n",
    "\n",
    "def extract_GO_id_from_list(l):\n",
    "    if isinstance(l,list):\n",
    "        return [i.split('|')[0] for i in l]\n",
    "    else:\n",
    "        return None\n",
    "\n",
    "def readClusters(infile,sep=','):\n",
    "    clusts = []\n",
    "    with open(infile,'r') as f:\n",
    "        for line in f:\n",
    "            clusts.append(Cluster(line.strip().split(sep)))\n",
    "    return clusts\n",
    "\n",
    "def read_GO_obo(infile):\n",
    "    terms = {}\n",
    "    with open(infile,'r') as f:\n",
    "        for line in f:\n",
    "            tDict = {}\n",
    "            line = line.strip()\n",
    "            if line == \"[Term]\":\n",
    "                line = f.readline().strip().split(': ')\n",
    "                while not line == ['']:\n",
    "                    tDict[line[0]] = ''.join(line[1:])\n",
    "                    line = f.readline().strip().split(': ')\n",
    "                for k,v in tDict.items():\n",
    "                    k = k.strip()\n",
    "                    v = v.strip()\n",
    "                    tDict[k] = v\n",
    "                terms[tDict['id']] = GO(tDict['id'], tDict)\n",
    "    return terms\n",
    "\n",
    "def writeClusters(outfile, clusts):\n",
    "    with open(outfile,'w+') as f:\n",
    "        for cl in clusts:\n",
    "            f.write('{}\\n'.format(','.join([str(i) for i in cl])))\n",
    "            \n",
    "def GO_search(clusters, GO_term, N=20):\n",
    "    if isinstance(GO_term,str):\n",
    "        GO_term = GO_OBJECTS[GO_term]\n",
    "    return [c for c in clusters if GO_term in [i[0] for i in c.get_top_terms(N)]]\n",
    "\n",
    "def protein_search(clusters, protein_list):\n",
    "    if isinstance(protein_list, str):\n",
    "        protein_list = [protein_list]\n",
    "    plist = [c for c in clusters if np.array([p in c.proteins for p in protein_list]).all()]\n",
    "    if len(plist) == 0:\n",
    "        return None\n",
    "    elif len(plist) == 1:\n",
    "        return plist[0]\n",
    "    else:\n",
    "        return plist"
   ]
  },
  {
   "cell_type": "code",
   "execution_count": 9,
   "metadata": {},
   "outputs": [
    {
     "ename": "NameError",
     "evalue": "name 'filteredClusts' is not defined",
     "output_type": "error",
     "traceback": [
      "\u001b[0;31m---------------------------------------------------------------------------\u001b[0m",
      "\u001b[0;31mNameError\u001b[0m                                 Traceback (most recent call last)",
      "\u001b[0;32m<ipython-input-9-a39856fe3d1c>\u001b[0m in \u001b[0;36m<module>\u001b[0;34m\u001b[0m\n\u001b[0;32m----> 1\u001b[0;31m \u001b[0mclustsNames\u001b[0m \u001b[0;34m=\u001b[0m \u001b[0;34m[\u001b[0m\u001b[0;34m[\u001b[0m\u001b[0mprotein_names\u001b[0m\u001b[0;34m[\u001b[0m\u001b[0mi\u001b[0m\u001b[0;34m]\u001b[0m \u001b[0;32mfor\u001b[0m \u001b[0mi\u001b[0m \u001b[0;32min\u001b[0m \u001b[0mcl\u001b[0m\u001b[0;34m]\u001b[0m \u001b[0;32mfor\u001b[0m \u001b[0mcl\u001b[0m \u001b[0;32min\u001b[0m \u001b[0mfilteredClusts\u001b[0m\u001b[0;34m]\u001b[0m\u001b[0;34m\u001b[0m\u001b[0;34m\u001b[0m\u001b[0m\n\u001b[0m\u001b[1;32m      2\u001b[0m \u001b[0mwriteClusters\u001b[0m\u001b[0;34m(\u001b[0m\u001b[0mDSDfile\u001b[0m\u001b[0;34m+\u001b[0m\u001b[0;34m'.clusters.csv'\u001b[0m\u001b[0;34m,\u001b[0m \u001b[0mclustsNames\u001b[0m\u001b[0;34m)\u001b[0m\u001b[0;34m\u001b[0m\u001b[0;34m\u001b[0m\u001b[0m\n",
      "\u001b[0;31mNameError\u001b[0m: name 'filteredClusts' is not defined"
     ]
    }
   ],
   "source": [
    "#clustsNames = [[protein_names[i] for i in cl] for cl in filteredClusts]\n",
    "#writeClusters(DSDfile+'.clusters.csv', clustsNames)"
   ]
  },
  {
   "cell_type": "code",
   "execution_count": 10,
   "metadata": {},
   "outputs": [],
   "source": [
    "def read_GO_obo_2(infile):\n",
    "    terms = {}\n",
    "    with open(infile,'r') as f:\n",
    "        for line in f:\n",
    "            tDict = {}\n",
    "            line = line.strip()\n",
    "            if line == \"[Term]\":\n",
    "                line = f.readline().strip().split(': ')\n",
    "                while not line == ['']:\n",
    "                    tList = tDict.setdefault(line[0],[])\n",
    "                    tList.append(''.join(line[1:]))\n",
    "                    tDict[line[0]] = tList\n",
    "                    line = f.readline().strip().split(': ')\n",
    "                for k,v in tDict.items():\n",
    "                    k = k.strip()\n",
    "                    v = [i.strip() for i in v]\n",
    "                    tDict[k] = v\n",
    "                terms[tDict['id'][0]] = GO(tDict['id'][0], tDict)\n",
    "    return terms"
   ]
  },
  {
   "cell_type": "code",
   "execution_count": 11,
   "metadata": {},
   "outputs": [],
   "source": [
    "go_obj = read_GO_obo_2(\"/afs/csail.mit.edu/u/s/samsl/db/STRING/d.mela/functional_genomics/go-basic.obo\")"
   ]
  },
  {
   "cell_type": "code",
   "execution_count": 12,
   "metadata": {},
   "outputs": [],
   "source": [
    "class GO_Tree_Root:\n",
    "    def __init__(self, go_obj):\n",
    "        self.children = []\n",
    "        self.go_trees = {}\n",
    "        self.go_obj = go_obj\n",
    "        self.parents = []\n",
    "    \n",
    "    def __repr__(self):\n",
    "        return 'Root: {}'.format(self.children)\n",
    "    \n",
    "    def get_is_a(self, t):\n",
    "        try:\n",
    "            t_is_a = [i.split('!')[0].strip() for i in t.D['is_a']]\n",
    "        except:\n",
    "            t_is_a = []\n",
    "        return t_is_a\n",
    "    \n",
    "    def get_name(self,t):\n",
    "        return self.go_obj[t].D['name']\n",
    "    \n",
    "    def add_term(self, t):\n",
    "        t_is_a = self.get_is_a(t)\n",
    "        self.go_trees[t.ID] = GO_Tree(t.ID)\n",
    "        for anc in t_is_a:\n",
    "            ancTree = self.go_trees.setdefault(anc, GO_Tree(anc))\n",
    "            ancTree.add_descendant(t.ID)\n",
    "            self.go_trees[t.ID].parents.append(anc)\n",
    "        if len(t_is_a) == 0:\n",
    "            self.children.append(t)\n",
    "            \n",
    "    def path_to_root(self,t):\n",
    "        path = []\n",
    "        path.append((t,self.get_name(t)))\n",
    "        for i in self.go_trees[t].parents:\n",
    "            path.append(self.path_to_root(i))\n",
    "        return path\n",
    "\n",
    "    def path_between(self, a, b, many=False):\n",
    "        path = []\n",
    "        for i in self.go_trees[a].parents:\n",
    "            if i == b:\n",
    "                return [(i,self.get_name(i))]\n",
    "            else:\n",
    "                l = self.path_between(i,b)\n",
    "                if len(l) > 0:\n",
    "                    path.append((a,self.get_name(a)))\n",
    "                    path.append(l)\n",
    "                    if not many:\n",
    "                        return path\n",
    "        return path\n",
    "    \n",
    "    def exists_path(self, a, b):\n",
    "        return len(self.path_between(a,b)) > 0\n",
    "    \n",
    "class GO_Tree:\n",
    "    def __init__(self, term):\n",
    "        self.ID = term\n",
    "        self.parents = []\n",
    "        self.children = []\n",
    "        \n",
    "    def __repr__(self):\n",
    "        return '{}: {}'.format(self.ID, self.children)\n",
    "        \n",
    "    def add_descendant(self, t):\n",
    "        self.children.append(t)"
   ]
  },
  {
   "cell_type": "code",
   "execution_count": 13,
   "metadata": {},
   "outputs": [],
   "source": [
    "gtr = GO_Tree_Root(go_obj)"
   ]
  },
  {
   "cell_type": "code",
   "execution_count": 14,
   "metadata": {},
   "outputs": [
    {
     "data": {
      "application/vnd.jupyter.widget-view+json": {
       "model_id": "16fe790a4b934fc1b1ee27ab6654d600",
       "version_major": 2,
       "version_minor": 0
      },
      "text/plain": [
       "HBox(children=(HTML(value=''), FloatProgress(value=0.0, max=47281.0), HTML(value='')))"
      ]
     },
     "metadata": {},
     "output_type": "display_data"
    },
    {
     "name": "stdout",
     "output_type": "stream",
     "text": [
      "\n"
     ]
    }
   ],
   "source": [
    "for t in tqdm(go_obj.values()):\n",
    "    gtr.add_term(t)"
   ]
  },
  {
   "cell_type": "code",
   "execution_count": 15,
   "metadata": {},
   "outputs": [
    {
     "data": {
      "text/plain": [
       "GO:0061824: []"
      ]
     },
     "execution_count": 15,
     "metadata": {},
     "output_type": "execute_result"
    }
   ],
   "source": [
    "gtr.go_trees['GO:0061824']"
   ]
  },
  {
   "cell_type": "code",
   "execution_count": 16,
   "metadata": {},
   "outputs": [
    {
     "data": {
      "text/plain": [
       "True"
      ]
     },
     "execution_count": 16,
     "metadata": {},
     "output_type": "execute_result"
    }
   ],
   "source": [
    "gtr.exists_path('GO:0000022','GO:0009987')"
   ]
  },
  {
   "cell_type": "code",
   "execution_count": 17,
   "metadata": {},
   "outputs": [
    {
     "data": {
      "text/plain": [
       "[('GO:0000022', ['mitotic spindle elongation']),\n",
       " [('GO:0051231', ['spindle elongation']),\n",
       "  [('GO:0007017', ['microtubule-based process']),\n",
       "   [('GO:0009987', ['cellular process']),\n",
       "    [('GO:0008150', ['biological_process'])]]],\n",
       "  [('GO:0022402', ['cell cycle process']),\n",
       "   [('GO:0009987', ['cellular process']),\n",
       "    [('GO:0008150', ['biological_process'])]]]],\n",
       " [('GO:1903047', ['mitotic cell cycle process']),\n",
       "  [('GO:0022402', ['cell cycle process']),\n",
       "   [('GO:0009987', ['cellular process']),\n",
       "    [('GO:0008150', ['biological_process'])]]]]]"
      ]
     },
     "execution_count": 17,
     "metadata": {},
     "output_type": "execute_result"
    }
   ],
   "source": [
    "gtr.path_to_root('GO:0000022')"
   ]
  },
  {
   "cell_type": "code",
   "execution_count": 18,
   "metadata": {},
   "outputs": [],
   "source": [
    "go_slim = read_GO_obo_2(\"/afs/csail.mit.edu/u/s/samsl/db/STRING/d.mela/functional_genomics/goslim_drosophila.obo\")"
   ]
  },
  {
   "cell_type": "code",
   "execution_count": 19,
   "metadata": {},
   "outputs": [
    {
     "data": {
      "application/vnd.jupyter.widget-view+json": {
       "model_id": "c67acdd9719a4d49afe3c7d953356515",
       "version_major": 2,
       "version_minor": 0
      },
      "text/plain": [
       "HBox(children=(HTML(value=''), FloatProgress(value=0.0, max=47281.0), HTML(value='')))"
      ]
     },
     "metadata": {},
     "output_type": "display_data"
    },
    {
     "name": "stdout",
     "output_type": "stream",
     "text": [
      "\n"
     ]
    }
   ],
   "source": [
    "paths = {}\n",
    "\n",
    "for gt in tqdm(go_obj):\n",
    "    for gs in go_slim:\n",
    "        p = paths.setdefault(gt, [])\n",
    "        pb = gtr.path_between(gt,gs)\n",
    "        if len(pb) > 0:\n",
    "            p.append(pb)\n",
    "        paths[gt] = p"
   ]
  },
  {
   "cell_type": "code",
   "execution_count": 20,
   "metadata": {},
   "outputs": [
    {
     "data": {
      "text/plain": [
       "[('GO:0007155', ['cell adhesion']),\n",
       " [('GO:0009987', ['cellular process']),\n",
       "  [('GO:0008150', ['biological_process'])]],\n",
       " [('GO:0022610', ['biological adhesion']),\n",
       "  [('GO:0008150', ['biological_process'])]]]"
      ]
     },
     "execution_count": 20,
     "metadata": {},
     "output_type": "execute_result"
    }
   ],
   "source": [
    "gtr.path_to_root('GO:0007155')"
   ]
  },
  {
   "cell_type": "code",
   "execution_count": 21,
   "metadata": {},
   "outputs": [],
   "source": [
    "GO_OBJECTS = read_GO_obo(\"/afs/csail.mit.edu/u/s/samsl/db/pfam_go/go.obo\")"
   ]
  },
  {
   "cell_type": "code",
   "execution_count": 22,
   "metadata": {},
   "outputs": [],
   "source": [
    "clusters = readClusters(DSDfile+'.clusters.csv')\n",
    "#clusters = readClusters('/afs/csail/u/s/samsl/db/STRING/h.vulgaris/20200624_50_800_hvulg_cDSD_converged_t0.7_spectralClusterFile_k500.csv')"
   ]
  },
  {
   "cell_type": "code",
   "execution_count": 23,
   "metadata": {},
   "outputs": [],
   "source": [
    "#prot_go_db = pd.read_csv(\"/scratch2/rsingh/work/corals/data/processed/proteins_list_mwt100_asof_20200617.csv\")\n",
    "# prot_go_db['GO_str'] = prot_go_db['GO_list']\n",
    "# prot_go_db['GO_list'] = prot_go_db['GO_str'].str.split(';')\n",
    "# def extract_GO_id_from_list(l):\n",
    "#     if isinstance(l,list):\n",
    "#         return [i.split('|')[0] for i in l]\n",
    "#     else:\n",
    "#         return None\n",
    "# prot_go_db['GO_ids'] = prot_go_db['GO_list'].apply(extract_GO_id_from_list)\n",
    "# prot_go_db = prot_go_db.set_index('pdam_id')\n",
    "# prot_go_db['species_id'] = prot_go_db['species_id'].astype(str)\n",
    "# prot_go_db = prot_go_db.set_index('species_id')"
   ]
  },
  {
   "cell_type": "code",
   "execution_count": 24,
   "metadata": {},
   "outputs": [],
   "source": [
    "seqDb = pd.read_csv('/afs/csail/u/s/samsl/db/STRING/d.mela/downloads/string_seq_db.csv',sep=',')\n",
    "id2FB = pd.read_csv('/afs/csail.mit.edu/u/s/samsl/db/STRING/d.mela/functional_genomics/FBgn_map.csv',sep=',')\n",
    "FB2GO = pd.read_csv('/afs/csail.mit.edu/u/s/samsl/db/STRING/d.mela/functional_genomics/FBgn_GO_map.csv',sep=' ',header=None)"
   ]
  },
  {
   "cell_type": "code",
   "execution_count": 25,
   "metadata": {},
   "outputs": [
    {
     "data": {
      "text/html": [
       "<div>\n",
       "<style scoped>\n",
       "    .dataframe tbody tr th:only-of-type {\n",
       "        vertical-align: middle;\n",
       "    }\n",
       "\n",
       "    .dataframe tbody tr th {\n",
       "        vertical-align: top;\n",
       "    }\n",
       "\n",
       "    .dataframe thead th {\n",
       "        text-align: right;\n",
       "    }\n",
       "</style>\n",
       "<table border=\"1\" class=\"dataframe\">\n",
       "  <thead>\n",
       "    <tr style=\"text-align: right;\">\n",
       "      <th></th>\n",
       "      <th>protein_id</th>\n",
       "      <th>protein_name</th>\n",
       "      <th>sequence</th>\n",
       "    </tr>\n",
       "  </thead>\n",
       "  <tbody>\n",
       "    <tr>\n",
       "      <th>0</th>\n",
       "      <td>3223846</td>\n",
       "      <td>FBpp0070057</td>\n",
       "      <td>MRFALATVAIIWALFVLADGVDPGNFKTCEQSSFCRRSRKIQGSGS...</td>\n",
       "    </tr>\n",
       "    <tr>\n",
       "      <th>1</th>\n",
       "      <td>3223846</td>\n",
       "      <td>FBpp0070058</td>\n",
       "      <td>MRFALATVAIIWALFVLADGVDPGNFKTCEQSSFCRRSRKIQGSGS...</td>\n",
       "    </tr>\n",
       "    <tr>\n",
       "      <th>2</th>\n",
       "      <td>3223846</td>\n",
       "      <td>FBpp0070059</td>\n",
       "      <td>MRFALATVAIIWALFVLADGVDPGNFKTCEQSSFCRRSRKIQGSGS...</td>\n",
       "    </tr>\n",
       "    <tr>\n",
       "      <th>3</th>\n",
       "      <td>3223846</td>\n",
       "      <td>FBpp0070060</td>\n",
       "      <td>MRFALATVAIIWALFVLADGVDPGNFKTCEQSSFCRRSRKIQGSGS...</td>\n",
       "    </tr>\n",
       "    <tr>\n",
       "      <th>4</th>\n",
       "      <td>3223846</td>\n",
       "      <td>FBpp0070061</td>\n",
       "      <td>MRFALATVAIIWALFVLADGVDPGNFKTCEQSSFCRRSRKIQGSGS...</td>\n",
       "    </tr>\n",
       "    <tr>\n",
       "      <th>...</th>\n",
       "      <td>...</td>\n",
       "      <td>...</td>\n",
       "      <td>...</td>\n",
       "    </tr>\n",
       "    <tr>\n",
       "      <th>26940</th>\n",
       "      <td>3234482</td>\n",
       "      <td>FBpp0288495</td>\n",
       "      <td>MSLASRTSVKSGGSEVDLRQRNASIRNLFAPSSAELAKKKEARQRS...</td>\n",
       "    </tr>\n",
       "    <tr>\n",
       "      <th>26941</th>\n",
       "      <td>3234482</td>\n",
       "      <td>FBpp0288496</td>\n",
       "      <td>MSLASRTSVKSGGSEVDLRQRNASIRNLFAPSSAELAKKKEARQRS...</td>\n",
       "    </tr>\n",
       "    <tr>\n",
       "      <th>26942</th>\n",
       "      <td>3234483</td>\n",
       "      <td>FBpp0288498</td>\n",
       "      <td>MHMRLHLVRFMFINLLLSCCFWLYDNVAAADSQIPSRAGDSAKDAA...</td>\n",
       "    </tr>\n",
       "    <tr>\n",
       "      <th>26943</th>\n",
       "      <td>3234483</td>\n",
       "      <td>FBpp0288499</td>\n",
       "      <td>MHMRLHLVRFMFINLLLSCCFWLYDNVAAADSQIPSRAGDSAKDAA...</td>\n",
       "    </tr>\n",
       "    <tr>\n",
       "      <th>26944</th>\n",
       "      <td>3234484</td>\n",
       "      <td>FBpp0288501</td>\n",
       "      <td>MQFTFECKRKRCFNKNANFTPLPSGQDGERYKGRFTGLSVEIVDPE...</td>\n",
       "    </tr>\n",
       "  </tbody>\n",
       "</table>\n",
       "<p>26945 rows × 3 columns</p>\n",
       "</div>"
      ],
      "text/plain": [
       "       protein_id protein_name  \\\n",
       "0         3223846  FBpp0070057   \n",
       "1         3223846  FBpp0070058   \n",
       "2         3223846  FBpp0070059   \n",
       "3         3223846  FBpp0070060   \n",
       "4         3223846  FBpp0070061   \n",
       "...           ...          ...   \n",
       "26940     3234482  FBpp0288495   \n",
       "26941     3234482  FBpp0288496   \n",
       "26942     3234483  FBpp0288498   \n",
       "26943     3234483  FBpp0288499   \n",
       "26944     3234484  FBpp0288501   \n",
       "\n",
       "                                                sequence  \n",
       "0      MRFALATVAIIWALFVLADGVDPGNFKTCEQSSFCRRSRKIQGSGS...  \n",
       "1      MRFALATVAIIWALFVLADGVDPGNFKTCEQSSFCRRSRKIQGSGS...  \n",
       "2      MRFALATVAIIWALFVLADGVDPGNFKTCEQSSFCRRSRKIQGSGS...  \n",
       "3      MRFALATVAIIWALFVLADGVDPGNFKTCEQSSFCRRSRKIQGSGS...  \n",
       "4      MRFALATVAIIWALFVLADGVDPGNFKTCEQSSFCRRSRKIQGSGS...  \n",
       "...                                                  ...  \n",
       "26940  MSLASRTSVKSGGSEVDLRQRNASIRNLFAPSSAELAKKKEARQRS...  \n",
       "26941  MSLASRTSVKSGGSEVDLRQRNASIRNLFAPSSAELAKKKEARQRS...  \n",
       "26942  MHMRLHLVRFMFINLLLSCCFWLYDNVAAADSQIPSRAGDSAKDAA...  \n",
       "26943  MHMRLHLVRFMFINLLLSCCFWLYDNVAAADSQIPSRAGDSAKDAA...  \n",
       "26944  MQFTFECKRKRCFNKNANFTPLPSGQDGERYKGRFTGLSVEIVDPE...  \n",
       "\n",
       "[26945 rows x 3 columns]"
      ]
     },
     "execution_count": 25,
     "metadata": {},
     "output_type": "execute_result"
    }
   ],
   "source": [
    "seqDb"
   ]
  },
  {
   "cell_type": "code",
   "execution_count": 26,
   "metadata": {},
   "outputs": [],
   "source": [
    "string2GO = pd.merge(pd.merge(id2FB,FB2GO,left_on='protein_name',right_on=0,how='inner'), seqDb, left_on='protein_id', right_on='protein_id',how='inner')[['protein_name_y',1]]\n",
    "string2GO.columns = ['string','GO_ids']\n",
    "string2GO['string'] = string2GO['string'].apply(lambda x: '7227.'+x)\n",
    "#string2GO.set_index('string')"
   ]
  },
  {
   "cell_type": "code",
   "execution_count": 27,
   "metadata": {},
   "outputs": [
    {
     "data": {
      "text/html": [
       "<div>\n",
       "<style scoped>\n",
       "    .dataframe tbody tr th:only-of-type {\n",
       "        vertical-align: middle;\n",
       "    }\n",
       "\n",
       "    .dataframe tbody tr th {\n",
       "        vertical-align: top;\n",
       "    }\n",
       "\n",
       "    .dataframe thead th {\n",
       "        text-align: right;\n",
       "    }\n",
       "</style>\n",
       "<table border=\"1\" class=\"dataframe\">\n",
       "  <thead>\n",
       "    <tr style=\"text-align: right;\">\n",
       "      <th></th>\n",
       "      <th>string</th>\n",
       "      <th>GO_ids</th>\n",
       "    </tr>\n",
       "  </thead>\n",
       "  <tbody>\n",
       "    <tr>\n",
       "      <th>0</th>\n",
       "      <td>7227.FBpp0071677</td>\n",
       "      <td>GO:0048749</td>\n",
       "    </tr>\n",
       "    <tr>\n",
       "      <th>3</th>\n",
       "      <td>7227.FBpp0071677</td>\n",
       "      <td>GO:0016324</td>\n",
       "    </tr>\n",
       "    <tr>\n",
       "      <th>6</th>\n",
       "      <td>7227.FBpp0071677</td>\n",
       "      <td>GO:0005912</td>\n",
       "    </tr>\n",
       "    <tr>\n",
       "      <th>9</th>\n",
       "      <td>7227.FBpp0071677</td>\n",
       "      <td>GO:0003674</td>\n",
       "    </tr>\n",
       "    <tr>\n",
       "      <th>12</th>\n",
       "      <td>7227.FBpp0082828</td>\n",
       "      <td>GO:0005634</td>\n",
       "    </tr>\n",
       "    <tr>\n",
       "      <th>...</th>\n",
       "      <td>...</td>\n",
       "      <td>...</td>\n",
       "    </tr>\n",
       "    <tr>\n",
       "      <th>231702</th>\n",
       "      <td>7227.FBpp0088281</td>\n",
       "      <td>GO:0050710</td>\n",
       "    </tr>\n",
       "    <tr>\n",
       "      <th>231770</th>\n",
       "      <td>7227.FBpp0077447</td>\n",
       "      <td>GO:0097370</td>\n",
       "    </tr>\n",
       "    <tr>\n",
       "      <th>232138</th>\n",
       "      <td>7227.FBpp0080452</td>\n",
       "      <td>GO:0042692</td>\n",
       "    </tr>\n",
       "    <tr>\n",
       "      <th>232358</th>\n",
       "      <td>7227.FBpp0080452</td>\n",
       "      <td>GO:0031033</td>\n",
       "    </tr>\n",
       "    <tr>\n",
       "      <th>232418</th>\n",
       "      <td>7227.FBpp0080452</td>\n",
       "      <td>GO:0043520</td>\n",
       "    </tr>\n",
       "  </tbody>\n",
       "</table>\n",
       "<p>7825 rows × 2 columns</p>\n",
       "</div>"
      ],
      "text/plain": [
       "                  string      GO_ids\n",
       "0       7227.FBpp0071677  GO:0048749\n",
       "3       7227.FBpp0071677  GO:0016324\n",
       "6       7227.FBpp0071677  GO:0005912\n",
       "9       7227.FBpp0071677  GO:0003674\n",
       "12      7227.FBpp0082828  GO:0005634\n",
       "...                  ...         ...\n",
       "231702  7227.FBpp0088281  GO:0050710\n",
       "231770  7227.FBpp0077447  GO:0097370\n",
       "232138  7227.FBpp0080452  GO:0042692\n",
       "232358  7227.FBpp0080452  GO:0031033\n",
       "232418  7227.FBpp0080452  GO:0043520\n",
       "\n",
       "[7825 rows x 2 columns]"
      ]
     },
     "execution_count": 27,
     "metadata": {},
     "output_type": "execute_result"
    }
   ],
   "source": [
    "string2GO.drop_duplicates(['GO_ids'])"
   ]
  },
  {
   "cell_type": "code",
   "execution_count": 28,
   "metadata": {
    "scrolled": true
   },
   "outputs": [
    {
     "data": {
      "application/vnd.jupyter.widget-view+json": {
       "model_id": "f769067a91e74c44a405abd8677ef737",
       "version_major": 2,
       "version_minor": 0
      },
      "text/plain": [
       "HBox(children=(HTML(value=''), FloatProgress(value=0.0, max=232517.0), HTML(value='')))"
      ]
     },
     "metadata": {},
     "output_type": "display_data"
    },
    {
     "name": "stdout",
     "output_type": "stream",
     "text": [
      "\n"
     ]
    }
   ],
   "source": [
    "stringGO_DB = {}\n",
    "for _, i in tqdm(string2GO.iterrows(),total=len(string2GO)):\n",
    "    l = stringGO_DB.setdefault(i.string,[])\n",
    "    l.append(i.GO_ids)\n",
    "    stringGO_DB[i.string] = l"
   ]
  },
  {
   "cell_type": "code",
   "execution_count": 29,
   "metadata": {},
   "outputs": [],
   "source": [
    "def get_is_a(go_term):\n",
    "    try:\n",
    "        t_is_a = [i.split('!')[0].strip() for i in go_term.D['is_a']]\n",
    "    except:\n",
    "        t_is_a = []\n",
    "    return t_is_a\n",
    "\n",
    "def map_up(go_id, go_objects, goslim_objects):\n",
    "    t_is_a = get_is_a(go_objects[go_id])\n",
    "    slim_terms = []\n",
    "    for i in t_is_a:\n",
    "        if i in goslim_objects.keys():\n",
    "            slim_terms.append(i)\n",
    "        slim_terms.extend(map_up(i,go_objects, goslim_objects))\n",
    "    return slim_terms"
   ]
  },
  {
   "cell_type": "code",
   "execution_count": 30,
   "metadata": {},
   "outputs": [
    {
     "name": "stdout",
     "output_type": "stream",
     "text": [
      "384 384 384\n",
      "374 374 374\n",
      "432 432 432\n",
      "435 435 435\n"
     ]
    }
   ],
   "source": [
    "import seaborn as sns\n",
    "DSDfileDscript = '/afs/csail.mit.edu/u/s/samsl/db/STRING/d.mela/functional_genomics/dmela_10M_candidates_20201018_dscript_r6e6_predictions_0.05thresh.cDSD_converged.mtx.DSD1'\n",
    "DSDfilePipr = '/afs/csail.mit.edu/u/s/samsl/db/STRING/d.mela/functional_genomics/dmela_10M_candidates_20201018_pipr_predictions_all.positive.0.5thresh.cDSDconverged.mtx.DSD1'\n",
    "DSDfileDscriptF3 = '/afs/csail.mit.edu/u/s/samsl/db/STRING/d.mela/functional_genomics/dmela_10M_candidates_20201018_f3e7_predictions.0.5thresh.mtx.DSD1'\n",
    "DSDfileRandom = '/afs/csail.mit.edu/u/s/samsl/db/STRING/d.mela/functional_genomics/dmela_10M_candidates_20201018_100k_random.mtx.DSD1'\n",
    "\n",
    "clustersD = readClusters(DSDfileDscript+'.clusters.csv')\n",
    "clustersP = readClusters(DSDfilePipr+'.clusters.csv')\n",
    "clustersD3 = readClusters(DSDfileDscriptF3+'.clusters.csv')\n",
    "clustersR = readClusters(DSDfileRandom+'.clusters.csv')\n",
    "\n",
    "def jaccard(s1, s2):\n",
    "    if len(s1.union(s2)) == 0: return 1\n",
    "    return (len(s1.intersection(s2)) / len(s1.union(s2)))\n",
    "\n",
    "def getClusterSimilarities(clusters):\n",
    "    maxes = []\n",
    "    means = []\n",
    "    medians = []\n",
    "    nums_found = []\n",
    "    \n",
    "    for c in clusters:\n",
    "        clustSlim = []\n",
    "        for p in c.proteins:\n",
    "            pSlim = []\n",
    "            try:\n",
    "                for i in stringGO_DB[p]:\n",
    "                    #print(i)\n",
    "                    #pSlim.append(i)\n",
    "                    pSlim.extend(map_up(i,go_obj, go_slim))\n",
    "            except KeyError:\n",
    "                pass\n",
    "            #print(len(set(pSlim)), pSlim)\n",
    "            nums_found.append(len(set(pSlim)))\n",
    "            clustSlim.append((p,pSlim))\n",
    "            \n",
    "        sims = []\n",
    "        for i, il in clustSlim:\n",
    "            for j, jl in clustSlim[1:]:\n",
    "                s = jaccard(set(il), set(jl))\n",
    "#                 s = 0\n",
    "#                 for k0 in set(il):\n",
    "#                     for k1 in set(jl):\n",
    "#                         if k0 == k1:\n",
    "#                             s += 1\n",
    "                sims.append(s)\n",
    "\n",
    "        maxes.append(np.max(sims))\n",
    "        means.append(np.mean(sims))\n",
    "        medians.append(np.median(sims))\n",
    "#     plt.hist(nums_found,bins=np.arange(0,15))\n",
    "#     plt.show()\n",
    "    print(len(maxes), len(means), len(medians))\n",
    "    return (maxes, means, medians)\n",
    "\n",
    "pmax, pmean, pmed = getClusterSimilarities(clustersP)\n",
    "dmax, dmean, dmed = getClusterSimilarities(clustersD)\n",
    "d3max, d3mean, d3med = getClusterSimilarities(clustersD3)\n",
    "rmax, rmean, rmed = getClusterSimilarities(clustersR)"
   ]
  },
  {
   "cell_type": "code",
   "execution_count": 31,
   "metadata": {},
   "outputs": [],
   "source": [
    "from scipy.stats import ttest_ind\n",
    "def one_tail_ttest(null, greater):\n",
    "    tstat, p = ttest_ind(null, greater)\n",
    "    if tstat > 0:\n",
    "        return tstat, (1-(p/2))\n",
    "    else:\n",
    "        return tstat, p/2"
   ]
  },
  {
   "cell_type": "code",
   "execution_count": 32,
   "metadata": {
    "scrolled": true
   },
   "outputs": [
    {
     "name": "stdout",
     "output_type": "stream",
     "text": [
      "0.4681359492949722\n",
      "34 42 23.529411764705884\n"
     ]
    }
   ],
   "source": [
    "q = np.quantile(pmean + dmean, 0.90)\n",
    "#q= 0.5\n",
    "print(q)\n",
    "c_p = len(np.array(pmean)[np.array(pmean) >= q])\n",
    "c_d =len(np.array(dmean)[np.array(dmean) >= q])\n",
    "print(c_p, c_d, 100 * (c_d-c_p)/c_p)"
   ]
  },
  {
   "cell_type": "code",
   "execution_count": 33,
   "metadata": {},
   "outputs": [
    {
     "data": {
      "text/plain": [
       "52"
      ]
     },
     "execution_count": 33,
     "metadata": {},
     "output_type": "execute_result"
    }
   ],
   "source": [
    "len(np.array(d3mean)[np.array(d3mean) >= q])"
   ]
  },
  {
   "cell_type": "code",
   "execution_count": 35,
   "metadata": {},
   "outputs": [
    {
     "name": "stderr",
     "output_type": "stream",
     "text": [
      "/afs/csail.mit.edu/u/s/samsl/Work/anaconda3/lib/python3.8/site-packages/seaborn/distributions.py:2551: FutureWarning: `distplot` is a deprecated function and will be removed in a future version. Please adapt your code to use either `displot` (a figure-level function with similar flexibility) or `histplot` (an axes-level function for histograms).\n",
      "  warnings.warn(msg, FutureWarning)\n",
      "/afs/csail.mit.edu/u/s/samsl/Work/anaconda3/lib/python3.8/site-packages/seaborn/distributions.py:2551: FutureWarning: `distplot` is a deprecated function and will be removed in a future version. Please adapt your code to use either `displot` (a figure-level function with similar flexibility) or `histplot` (an axes-level function for histograms).\n",
      "  warnings.warn(msg, FutureWarning)\n"
     ]
    },
    {
     "data": {
      "image/png": "[encoded data removed]",
      "text/plain": [
       "<Figure size 432x288 with 1 Axes>"
      ]
     },
     "metadata": {
      "needs_background": "light"
     },
     "output_type": "display_data"
    }
   ],
   "source": [
    "sns.set_palette('colorblind')\n",
    "kde = True\n",
    "sns.distplot( pmean , color=\"blue\", label=\"PIPR\", kde=kde)\n",
    "sns.distplot( dmean , color=\"red\", label=\"D-SCRIPT\", kde=kde)\n",
    "#sns.distplot( d3mean, color=\"orange\", label=\"D-SCRIPT F3\")\n",
    "#sns.distplot( rmean , color=\"gray\", label=\"Random\")\n",
    "tstat, p = one_tail_ttest(pmean, dmean)\n",
    "plt.title('Functional Enrichment: D. Melanogaster (p={:.3})'.format(p))\n",
    "plt.xlabel('Mean Jaccard Similarity of Cluster')\n",
    "plt.ylabel('Density')\n",
    "plt.legend()\n",
    "#plt.savefig('/afs/csail.mit.edu/u/s/samsl/db/STRING/d.mela/functional_genomics/jaccard_distplot.svg')\n",
    "plt.show()"
   ]
  },
  {
   "cell_type": "code",
   "execution_count": 114,
   "metadata": {},
   "outputs": [
    {
     "data": {
      "image/png": "[encoded data removed]",
      "text/plain": [
       "<Figure size 432x288 with 1 Axes>"
      ]
     },
     "metadata": {
      "needs_background": "light"
     },
     "output_type": "display_data"
    }
   ],
   "source": [
    "df_mean = pd.DataFrame({'Predictor':['PIPR']*len(pmean)+['D-SCRIPT']*len(dmean)+['D-SCRIPT F3']*len(d3mean)+['Random']*len(rmean), 'Jaccard':np.concatenate((pmean,dmean,d3mean,rmean))})\n",
    "tstat, p = one_tail_ttest(pmean, dmean)\n",
    "sns.boxplot(data=df_mean, x='Predictor', y='Jaccard', hue='Predictor')\n",
    "plt.title('Functional Enrichment: D. Melanogaster (p={:.3})'.format(p))\n",
    "plt.ylabel('Mean Jaccard Similarity')\n",
    "plt.show()"
   ]
  },
  {
   "cell_type": "code",
   "execution_count": 130,
   "metadata": {
    "scrolled": true
   },
   "outputs": [
    {
     "data": {
      "image/png": "[encoded data removed]",
      "text/plain": [
       "<Figure size 432x288 with 1 Axes>"
      ]
     },
     "metadata": {
      "needs_background": "light"
     },
     "output_type": "display_data"
    }
   ],
   "source": [
    "tstat, p = ttest_ind(pmean, dmean)\n",
    "sns.violinplot(data=df_mean, x='Predictor', y='Jaccard', hue='Predictor', scale='area',inner='box')\n",
    "tstat, p = one_tail_ttest(pmean, dmean)\n",
    "plt.title('Functional Enrichment: D. Melanogaster (p={:.3})'.format(p))\n",
    "plt.ylabel('Mean Jaccard Similarity')\n",
    "plt.show()"
   ]
  },
  {
   "cell_type": "code",
   "execution_count": 315,
   "metadata": {},
   "outputs": [
    {
     "data": {
      "image/png": "[encoded data removed]",
      "text/plain": [
       "<Figure size 432x288 with 1 Axes>"
      ]
     },
     "metadata": {
      "needs_background": "light"
     },
     "output_type": "display_data"
    }
   ],
   "source": [
    "sns.set_palette('colorblind')\n",
    "sns.distplot( df_mean[df_mean[\"Predictor\"] == 'PIPR']['Jaccard'] , color=\"blue\", label=\"PIPR\")\n",
    "sns.distplot( df_mean[df_mean[\"Predictor\"] == 'D-SCRIPT']['Jaccard'] , color=\"red\", label=\"D-SCRIPT\")\n",
    "#sns.distplot( df_mean[df_mean[\"Predictor\"] == 'D-SCRIPT F3']['Jaccard'] , color=\"orange\", label=\"D-SCRIPT 3\")\n",
    "#sns.distplot( df_mean[df_mean[\"Predictor\"] == 'Random']['Jaccard'] , color=\"gray\", label=\"Random\")\n",
    "tstat, p = one_tail_ttest(pmean, dmean)\n",
    "plt.title('Functional Enrichment: D. Melanogaster (p={:.3})'.format(p))\n",
    "plt.xlabel('Cluster Mean Jaccard Similarity')\n",
    "plt.ylabel('Density')\n",
    "plt.legend()\n",
    "plt.show()"
   ]
  },
  {
   "cell_type": "code",
   "execution_count": 58,
   "metadata": {},
   "outputs": [
    {
     "data": {
      "text/plain": [
       "5.355978008057361"
      ]
     },
     "execution_count": 58,
     "metadata": {},
     "output_type": "execute_result"
    }
   ],
   "source": [
    "def get_dsd_dist(p0,p1):\n",
    "    return df.loc[p0,p1]\n",
    "get_dsd_dist(df.index[0],df.index[1])"
   ]
  },
  {
   "cell_type": "code",
   "execution_count": 41,
   "metadata": {},
   "outputs": [],
   "source": [
    "def get_protein_slimterms(p):\n",
    "    pSlim = []\n",
    "    try:\n",
    "        for i in stringGO_DB[p]:\n",
    "            #print(i)\n",
    "            #pSlim.append(i)\n",
    "            pSlim.extend(map_up(i,go_obj, go_slim))\n",
    "    except KeyError:\n",
    "        pass\n",
    "    return pSlim"
   ]
  },
  {
   "cell_type": "code",
   "execution_count": 55,
   "metadata": {},
   "outputs": [],
   "source": [
    "def get_jaccard_slim(p0,p1):\n",
    "    set0 = get_protein_slimterms(p0)\n",
    "    set1 = get_protein_slimterms(p1)\n",
    "    return jaccard(set(set0), set(set1))"
   ]
  },
  {
   "cell_type": "code",
   "execution_count": 69,
   "metadata": {},
   "outputs": [],
   "source": [
    "from tqdm import tqdm"
   ]
  },
  {
   "cell_type": "code",
   "execution_count": 71,
   "metadata": {},
   "outputs": [
    {
     "name": "stderr",
     "output_type": "stream",
     "text": [
      "100%|█████████▉| 24566545/24570050.0 [3:52:12<00:01, 1763.27it/s]  \n"
     ]
    }
   ],
   "source": [
    "prot_dists = []\n",
    "dscript_jaccard = []\n",
    "\n",
    "from itertools import combinations\n",
    "for (p0,p1) in tqdm(combinations(df.index, r=2),total=(len(df.index) ** 2)/2):\n",
    "    prot_dists.append(get_dsd_dist(p0,p1))\n",
    "    dscript_jaccard.append(get_jaccard_slim(p0,p1))"
   ]
  },
  {
   "cell_type": "code",
   "execution_count": 94,
   "metadata": {},
   "outputs": [],
   "source": [
    "from scipy.stats import pearsonr, spearmanr"
   ]
  },
  {
   "cell_type": "code",
   "execution_count": 116,
   "metadata": {},
   "outputs": [
    {
     "data": {
      "text/plain": [
       "(0.11986872854449347, 0.0)"
      ]
     },
     "execution_count": 116,
     "metadata": {},
     "output_type": "execute_result"
    }
   ],
   "source": [
    "pearsonr(1/np.array(prot_dists), np.array(dscript_jaccard))"
   ]
  },
  {
   "cell_type": "code",
   "execution_count": 115,
   "metadata": {},
   "outputs": [
    {
     "data": {
      "text/plain": [
       "SpearmanrResult(correlation=0.12305466218754063, pvalue=0.0)"
      ]
     },
     "execution_count": 115,
     "metadata": {},
     "output_type": "execute_result"
    }
   ],
   "source": [
    "spearmanr(1/np.array(prot_dists), np.array(dscript_jaccard))"
   ]
  },
  {
   "cell_type": "code",
   "execution_count": 77,
   "metadata": {},
   "outputs": [],
   "source": [
    "pipr_df = pd.read_csv(DSDfilePipr,sep='\\t',index_col=0,header=0)"
   ]
  },
  {
   "cell_type": "code",
   "execution_count": 79,
   "metadata": {},
   "outputs": [],
   "source": [
    "def get_dsd_dist_pipr(p0,p1):\n",
    "    return pipr_df.loc[p0,p1]"
   ]
  },
  {
   "cell_type": "code",
   "execution_count": 83,
   "metadata": {},
   "outputs": [
    {
     "name": "stderr",
     "output_type": "stream",
     "text": [
      "100%|█████████▉| 20253430/20256612.5 [3:07:13<00:01, 1802.95it/s]  \n"
     ]
    }
   ],
   "source": [
    "pipr_dists = []\n",
    "pipr_jaccard = []\n",
    "for (p0,p1) in tqdm(combinations(pipr_df.index, r=2),total=(len(pipr_df.index) ** 2)/2):\n",
    "    pipr_dists.append(get_dsd_dist_pipr(p0,p1))\n",
    "    pipr_jaccard.append(get_jaccard_slim(p0,p1))"
   ]
  },
  {
   "cell_type": "code",
   "execution_count": 108,
   "metadata": {},
   "outputs": [
    {
     "data": {
      "text/plain": [
       "(20253430, 24566545)"
      ]
     },
     "execution_count": 108,
     "metadata": {},
     "output_type": "execute_result"
    }
   ],
   "source": [
    "len(pipr_dists), len(prot_dists)"
   ]
  },
  {
   "cell_type": "code",
   "execution_count": 113,
   "metadata": {},
   "outputs": [
    {
     "data": {
      "text/plain": [
       "(0.0042806659682207236, 1.062481639856987e-82)"
      ]
     },
     "execution_count": 113,
     "metadata": {},
     "output_type": "execute_result"
    }
   ],
   "source": [
    "pearsonr(1/np.array(pipr_dists), np.array(pipr_jaccard))"
   ]
  },
  {
   "cell_type": "code",
   "execution_count": 114,
   "metadata": {},
   "outputs": [
    {
     "data": {
      "text/plain": [
       "SpearmanrResult(correlation=0.005186232141755453, pvalue=1.7341105990715795e-120)"
      ]
     },
     "execution_count": 114,
     "metadata": {},
     "output_type": "execute_result"
    }
   ],
   "source": [
    "spearmanr(1/np.array(pipr_dists), np.array(pipr_jaccard))"
   ]
  },
  {
   "cell_type": "code",
   "execution_count": 105,
   "metadata": {},
   "outputs": [],
   "source": [
    "np.savez(\"distance_jaccard_correlation.npz\",dscript_distance=prot_dists,dscript_jaccard=dscript_jaccard,pipr_distance=pipr_dists,pipr_jaccard=pipr_jaccard)"
   ]
  },
  {
   "cell_type": "code",
   "execution_count": null,
   "metadata": {},
   "outputs": [],
   "source": []
  },
  {
   "cell_type": "code",
   "execution_count": null,
   "metadata": {},
   "outputs": [],
   "source": []
  },
  {
   "cell_type": "code",
   "execution_count": null,
   "metadata": {},
   "outputs": [],
   "source": []
  },
  {
   "cell_type": "code",
   "execution_count": 544,
   "metadata": {},
   "outputs": [],
   "source": [
    "with open('/afs/csail.mit.edu/u/s/samsl/db/STRING/d.mela/functional_genomics/STRING_GO_map.gogo.in','w+') as f:\n",
    "    for k,v in stringGO_DB.items():\n",
    "        f.write('{} {}\\n'.format(k,' '.join(v)))"
   ]
  },
  {
   "cell_type": "code",
   "execution_count": 154,
   "metadata": {},
   "outputs": [
    {
     "data": {
      "application/vnd.jupyter.widget-view+json": {
       "model_id": "28d10c7f5b51466f9761e55efbebbd01",
       "version_major": 2,
       "version_minor": 0
      },
      "text/plain": [
       "HBox(children=(FloatProgress(value=0.0, max=227601780.0), HTML(value='')))"
      ]
     },
     "metadata": {},
     "output_type": "display_data"
    },
    {
     "name": "stdout",
     "output_type": "stream",
     "text": [
      "\n"
     ]
    }
   ],
   "source": [
    "GOGO = {}\n",
    "with open('/afs/csail.mit.edu/u/s/samsl/db/STRING/d.mela/functional_genomics/STRING_GO_map.gogo.out','r') as f:\n",
    "    for line in tqdm(f,total=227601780):\n",
    "        l = line.strip().split()\n",
    "        pr_l = GOGO.setdefault(l[0],{})\n",
    "        pr_l[l[1]] = l[3]\n",
    "        GOGO[l[0]] = pr_l"
   ]
  },
  {
   "cell_type": "code",
   "execution_count": 194,
   "metadata": {},
   "outputs": [],
   "source": [
    "def getClusterGOGOSimilarities(clusters):\n",
    "    maxes = []\n",
    "    means = []\n",
    "    medians = []\n",
    "    nums_found = []\n",
    "    sims = []\n",
    "    \n",
    "    for c in tqdm(clusters):\n",
    "        passes = 0\n",
    "        clustSims = []\n",
    "        for p1 in c.proteins:\n",
    "            for p2 in c.proteins:\n",
    "                if p1 != p2:\n",
    "                    try:\n",
    "                        x = GOGO[p1][p2]\n",
    "                        if x == 'NA':\n",
    "                            x = 0\n",
    "                        else:\n",
    "                            x = float(x)\n",
    "                        clustSims.append(x)\n",
    "                    except KeyError:\n",
    "                        passes += 1\n",
    "                        pass\n",
    "\n",
    "        if len(clustSims) == 0:\n",
    "            maxes.append(0)\n",
    "            means.append(0)\n",
    "            medians.append(0)\n",
    "        else:\n",
    "            maxes.append(np.max(clustSims))\n",
    "            means.append(np.mean(clustSims))\n",
    "            medians.append(np.median(clustSims))\n",
    "    print(len(maxes), len(means), len(medians))\n",
    "    return (maxes, means, medians)"
   ]
  },
  {
   "cell_type": "code",
   "execution_count": 316,
   "metadata": {},
   "outputs": [
    {
     "data": {
      "application/vnd.jupyter.widget-view+json": {
       "model_id": "9182b348ce874b5b8c9c68436838ef22",
       "version_major": 2,
       "version_minor": 0
      },
      "text/plain": [
       "HBox(children=(FloatProgress(value=0.0, max=384.0), HTML(value='')))"
      ]
     },
     "metadata": {},
     "output_type": "display_data"
    },
    {
     "name": "stdout",
     "output_type": "stream",
     "text": [
      "\n",
      "384 384 384\n"
     ]
    },
    {
     "data": {
      "application/vnd.jupyter.widget-view+json": {
       "model_id": "3fd1cd99f4694ebb9a2d4ff6c5fd3e9d",
       "version_major": 2,
       "version_minor": 0
      },
      "text/plain": [
       "HBox(children=(FloatProgress(value=0.0, max=374.0), HTML(value='')))"
      ]
     },
     "metadata": {},
     "output_type": "display_data"
    },
    {
     "name": "stdout",
     "output_type": "stream",
     "text": [
      "\n",
      "374 374 374\n"
     ]
    },
    {
     "data": {
      "image/png": "[encoded data removed]",
      "text/plain": [
       "<Figure size 432x288 with 1 Axes>"
      ]
     },
     "metadata": {
      "needs_background": "light"
     },
     "output_type": "display_data"
    },
    {
     "data": {
      "image/png": "[encoded data removed]",
      "text/plain": [
       "<Figure size 432x288 with 1 Axes>"
      ]
     },
     "metadata": {
      "needs_background": "light"
     },
     "output_type": "display_data"
    }
   ],
   "source": [
    "pmaxGOGO, pmeanGOGO, pmedGOGO = getClusterGOGOSimilarities(clustersP)\n",
    "dmaxGOGO, dmeanGOGO, dmedGOGO = getClusterGOGOSimilarities(clustersD)\n",
    "sns.set_palette('colorblind')\n",
    "kde = True\n",
    "sns.distplot( pmeanGOGO , color=\"blue\", label=\"PIPR\", kde=kde)\n",
    "sns.distplot( dmeanGOGO , color=\"red\", label=\"D-SCRIPT\", kde=kde)\n",
    "#sns.distplot( d3mean, color=\"orange\", label=\"D-SCRIPT F3\")\n",
    "#sns.distplot( rmean , color=\"gray\", label=\"Random\")\n",
    "tstat, p = one_tail_ttest(pmeanGOGO, dmeanGOGO)\n",
    "plt.title('Functional Enrichment: D. Melanogaster (p={:.3})'.format(p))\n",
    "plt.xlabel('Mean GOGO Similarity of Cluster')\n",
    "plt.ylabel('Density')\n",
    "plt.legend()\n",
    "plt.savefig('/afs/csail.mit.edu/u/s/samsl/db/STRING/d.mela/functional_genomics/gogo_distplot.svg')\n",
    "plt.show()\n",
    "sns.distplot( pmaxGOGO , color=\"blue\", label=\"PIPR\", kde=kde)\n",
    "sns.distplot( dmaxGOGO , color=\"red\", label=\"D-SCRIPT\", kde=kde)\n",
    "#sns.distplot( d3mean, color=\"orange\", label=\"D-SCRIPT F3\")\n",
    "#sns.distplot( rmean , color=\"gray\", label=\"Random\")\n",
    "tstat, p = one_tail_ttest(pmaxGOGO, dmaxGOGO)\n",
    "plt.title('Functional Enrichment: D. Melanogaster (p={:.3})'.format(p))\n",
    "plt.xlabel('Max GOGO Similarity of Cluster')\n",
    "plt.ylabel('Density')\n",
    "plt.legend()\n",
    "plt.savefig('/afs/csail.mit.edu/u/s/samsl/db/STRING/d.mela/functional_genomics/gogo_max_distplot.svg')\n",
    "plt.show()"
   ]
  },
  {
   "cell_type": "code",
   "execution_count": 40,
   "metadata": {},
   "outputs": [
    {
     "data": {
      "text/plain": [
       "5.355978008057361"
      ]
     },
     "execution_count": 40,
     "metadata": {},
     "output_type": "execute_result"
    }
   ],
   "source": []
  },
  {
   "cell_type": "code",
   "execution_count": null,
   "metadata": {},
   "outputs": [],
   "source": []
  },
  {
   "cell_type": "code",
   "execution_count": 263,
   "metadata": {
    "scrolled": true
   },
   "outputs": [
    {
     "data": {
      "application/vnd.jupyter.widget-view+json": {
       "model_id": "95a2bf33fb3f447f828ad93fa87e1f22",
       "version_major": 2,
       "version_minor": 0
      },
      "text/plain": [
       "HBox(children=(FloatProgress(value=0.0, max=374.0), HTML(value='')))"
      ]
     },
     "metadata": {},
     "output_type": "display_data"
    },
    {
     "name": "stdout",
     "output_type": "stream",
     "text": [
      "\n"
     ]
    }
   ],
   "source": [
    "for clust in tqdm(clusters):\n",
    "    clust.add_GO_terms(string2GO)"
   ]
  },
  {
   "cell_type": "code",
   "execution_count": 264,
   "metadata": {},
   "outputs": [
    {
     "data": {
      "application/vnd.jupyter.widget-view+json": {
       "model_id": "2f51bc69c4ee4eb1b1a8e789b60b967d",
       "version_major": 2,
       "version_minor": 0
      },
      "text/plain": [
       "HBox(children=(FloatProgress(value=0.0, max=374.0), HTML(value='')))"
      ]
     },
     "metadata": {},
     "output_type": "display_data"
    },
    {
     "name": "stdout",
     "output_type": "stream",
     "text": [
      "\n"
     ]
    }
   ],
   "source": [
    "for i in tqdm(clusters):\n",
    "    i.set_graph(G)"
   ]
  },
  {
   "cell_type": "code",
   "execution_count": 265,
   "metadata": {},
   "outputs": [],
   "source": [
    "clusters.sort(key=lambda x: len(x), reverse=True)"
   ]
  },
  {
   "cell_type": "code",
   "execution_count": 266,
   "metadata": {},
   "outputs": [],
   "source": [
    "pk.dump(clusters, open(DSDfile+'.clusters_GO.pk','wb'))\n",
    "#pk.dump(clusters, open('/afs/csail/u/s/samsl/db/STRING/h.vulgaris/50_800_cDSD_converged_t0.7_spectral500_GOclusters.pk','wb'))"
   ]
  },
  {
   "cell_type": "code",
   "execution_count": 267,
   "metadata": {},
   "outputs": [],
   "source": [
    "clusters = pk.load(open(DSDfile+'.clusters_GO.pk','rb'))\n",
    "# vulg_clust = pk.load(open('/afs/csail/u/s/samsl/db/STRING/h.vulgaris/50_800_cDSD_converged_t0.7_spectral500_GOclusters.pk','rb'))"
   ]
  },
  {
   "cell_type": "code",
   "execution_count": null,
   "metadata": {},
   "outputs": [],
   "source": [
    "# # Split Largest PDam Cluster\n",
    "# degrees = []\n",
    "# for i in clusters[0].G.degree():\n",
    "#     degrees.append(i)\n",
    "# degrees.sort(key=lambda x: x[1],reverse=True)"
   ]
  },
  {
   "cell_type": "code",
   "execution_count": 13,
   "metadata": {},
   "outputs": [],
   "source": [
    "# subCl1graph = nx.ego_graph(clusters[0].G,'pdam_00012487-RA')\n",
    "# subCl2graph = nx.ego_graph(clusters[0].G,'pdam_00002621-RA')\n",
    "# cl1 = Cluster(list(subCl1graph.nodes))\n",
    "# cl2 = Cluster(list(subCl2graph.nodes))\n",
    "# cl1.add_GO_terms(prot_go_db)\n",
    "# cl1.set_graph(G)\n",
    "# cl2.add_GO_terms(prot_go_db)\n",
    "# cl2.set_graph(G)\n",
    "# del clusters[0]\n",
    "# clusters.append(cl1)\n",
    "# clusters.append(cl2)\n",
    "# clusters.sort(key=lambda x: len(x), reverse=True)"
   ]
  },
  {
   "cell_type": "code",
   "execution_count": 268,
   "metadata": {},
   "outputs": [
    {
     "data": {
      "text/plain": [
       "[Cluster of 134 [7227.FBpp0291082,7227.FBpp0291081,...] (hash 1127301862646460282)\n",
       " Triangles: 162.0\n",
       " Max Degree: 22\n",
       " Top Terms:\n",
       " \tGO:0005739 - <mitochondrion> (94)\n",
       " \tGO:0005829 - <cytosol> (47)\n",
       " \tGO:0006096 - <glycolytic process> (31)\n",
       " \tGO:0042593 - <glucose homeostasis> (18)\n",
       " \tGO:0004332 - <fructose-bisphosphate aldolase activity> (14),\n",
       " Cluster of 113 [7227.FBpp0111531,7227.FBpp0303089,...] (hash 823421542299629204)\n",
       " Triangles: 97.0\n",
       " Max Degree: 18\n",
       " Top Terms:\n",
       " \tGO:0005887 - <integral component of plasma membrane> (135)\n",
       " \tGO:0007186 - <G protein-coupled receptor signaling pathway> (48)\n",
       " \tGO:0004930 - <G protein-coupled receptor activity> (44)\n",
       " \tGO:0004989 - <octopamine receptor activity> (40)\n",
       " \tGO:0007218 - <neuropeptide signaling pathway> (36),\n",
       " Cluster of 105 [7227.FBpp0302796,7227.FBpp0080297,...] (hash 1660132682631322655)\n",
       " Triangles: 24.0\n",
       " Max Degree: 19\n",
       " Top Terms:\n",
       " \tGO:0005739 - <mitochondrion> (18)\n",
       " \tGO:0005829 - <cytosol> (16)\n",
       " \tGO:0005737 - <cytoplasm> (14)\n",
       " \tGO:0004022 - <alcohol dehydrogenase (NAD+) activity> (14)\n",
       " \tGO:0004058 - <aromatic-L-amino-acid decarboxylase activity> (9),\n",
       " Cluster of 99 [7227.FBpp0080441,7227.FBpp0088282,...] (hash 418439898458817772)\n",
       " Triangles: 97.0\n",
       " Max Degree: 16\n",
       " Top Terms:\n",
       " \tGO:0004674 - <protein serine/threonine kinase activity> (191)\n",
       " \tGO:0005634 - <nucleus> (124)\n",
       " \tGO:0006468 - <protein phosphorylation> (103)\n",
       " \tGO:0005737 - <cytoplasm> (95)\n",
       " \tGO:0030509 - <BMP signaling pathway> (72),\n",
       " Cluster of 96 [7227.FBpp0087100,7227.FBpp0077429,...] (hash 1096877009516634511)\n",
       " Triangles: 94.0\n",
       " Max Degree: 15\n",
       " Top Terms:\n",
       " \tGO:0005737 - <cytoplasm> (33)\n",
       " \tGO:0005783 - <endoplasmic reticulum> (29)\n",
       " \tGO:0006633 - <fatty acid biosynthetic process> (23)\n",
       " \tGO:0004022 - <alcohol dehydrogenase (NAD+) activity> (21)\n",
       " \tGO:0004467 - <long-chain fatty acid-CoA ligase activity> (18)]"
      ]
     },
     "execution_count": 268,
     "metadata": {},
     "output_type": "execute_result"
    }
   ],
   "source": [
    "clusters[0:5]"
   ]
  },
  {
   "cell_type": "code",
   "execution_count": 269,
   "metadata": {},
   "outputs": [
    {
     "data": {
      "text/plain": [
       "374"
      ]
     },
     "execution_count": 269,
     "metadata": {},
     "output_type": "execute_result"
    }
   ],
   "source": [
    "len(clusters)"
   ]
  },
  {
   "cell_type": "code",
   "execution_count": 270,
   "metadata": {},
   "outputs": [
    {
     "name": "stdout",
     "output_type": "stream",
     "text": [
      "Cluster of 27 [7227.FBpp0080227,7227.FBpp0111638,...] (hash 1893344987987480843)\n",
      "Triangles: 0.0\n",
      "Max Degree: 26\n",
      "Top Terms:\n",
      "\tGO:0005634 - <nucleus> (18)\n",
      "\tGO:0005515 - <protein binding> (9)\n",
      "\tGO:0005737 - <cytoplasm> (6)\n",
      "\tGO:0007259 - <receptor signaling pathway via JAK-STAT> (5)\n",
      "\tGO:0006357 - <regulation of transcription by RNA polymerase II> (5)\n"
     ]
    },
    {
     "data": {
      "image/png": "[encoded data removed]",
      "text/plain": [
       "<Figure size 432x288 with 1 Axes>"
      ]
     },
     "metadata": {},
     "output_type": "display_data"
    }
   ],
   "source": [
    "i = 60\n",
    "coi = clusters[i]\n",
    "print(coi)\n",
    "coi.draw_graph()"
   ]
  },
  {
   "cell_type": "code",
   "execution_count": 271,
   "metadata": {},
   "outputs": [],
   "source": [
    "clusterDict = {hash(i): i for i in clusters}"
   ]
  },
  {
   "cell_type": "code",
   "execution_count": 272,
   "metadata": {},
   "outputs": [],
   "source": [
    "clustDictJson = {hash(i): i.to_json() for i in clusters}"
   ]
  },
  {
   "cell_type": "code",
   "execution_count": 273,
   "metadata": {},
   "outputs": [],
   "source": [
    "with open(DSDfile+'.clusterDict.json','w+') as f:\n",
    "    f.write(json.dumps(clustDictJson))"
   ]
  },
  {
   "cell_type": "markdown",
   "metadata": {},
   "source": [
    "# IsoRank"
   ]
  },
  {
   "cell_type": "code",
   "execution_count": 64,
   "metadata": {},
   "outputs": [],
   "source": [
    "pdam_pred_file = '/afs/csail/u/s/samsl/db/Coral/Pdam/candidate_pairs_mwt100_asof_20200617_50_800.out.positive'\n",
    "hvulg_pred_file = '/afs/csail/u/s/samsl/db/STRING/h.vulgaris/candidate_pairs_hvul_hydra_mwt100_asof_20200624_50_800.out.positive'\n",
    "pdam_preds = pd.read_csv(pdam_pred_file,sep='\\t',header=None)\n",
    "hvulg_preds = pd.read_csv(hvulg_pred_file,sep='\\t',header=None)\n",
    "pdam_preds = pdam_preds[pdam_preds.iloc[:,2] >= 0.7]\n",
    "hvulg_preds = hvulg_preds[hvulg_preds.iloc[:,2] >= 0.7]\n",
    "pdam_preds = pdam_preds.iloc[:,:2]\n",
    "hvulg_preds = hvulg_preds.iloc[:,:2]\n",
    "pdam_preds.columns = ['INTERACTOR_A','INTERACTOR_B']\n",
    "hvulg_preds.columns = ['INTERACTOR_A','INTERACTOR_B']"
   ]
  },
  {
   "cell_type": "code",
   "execution_count": 67,
   "metadata": {},
   "outputs": [],
   "source": [
    "pdam_v_pdam_blast = '/afs/csail/u/s/samsl/Berger/interactionPredictionWithContact/isorank/pdam-vs-pdam.txt'\n",
    "hvulg_v_hvulg_blast = '/afs/csail/u/s/samsl/Berger/interactionPredictionWithContact/isorank/hvulg-vs-hvulg.txt'\n",
    "hvulg_v_pdam_blast = '/afs/csail/u/s/samsl/Berger/interactionPredictionWithContact/isorank/hvulg-vs-pdam.txt'\n",
    "pdam_v_pdam = pd.read_csv(pdam_v_pdam_blast,sep='\\t',header=None)\n",
    "hvulg_v_hvulg = pd.read_csv(hvulg_v_hvulg_blast,sep='\\t',header=None)\n",
    "hvulg_v_pdam = pd.read_csv(hvulg_v_pdam_blast,sep='\\t',header=None)\n",
    "pdam_v_pdam = pdam_v_pdam.iloc[:,[0,1,11]]\n",
    "hvulg_v_hvulg = hvulg_v_hvulg.iloc[:,[0,1,11]]\n",
    "hvulg_v_pdam = hvulg_v_pdam.iloc[:,[0,1,11]]"
   ]
  },
  {
   "cell_type": "code",
   "execution_count": 71,
   "metadata": {},
   "outputs": [],
   "source": [
    "pdam_inter_out = '/afs/csail/u/s/samsl/Berger/interactionPredictionWithContact/isorank/Pdam.tab'\n",
    "hvulg_inter_out = '/afs/csail/u/s/samsl/Berger/interactionPredictionWithContact/isorank/Hvulg.tab'\n",
    "pdam_v_pdam_out = '/afs/csail/u/s/samsl/Berger/interactionPredictionWithContact/isorank/Pdam-Pdam.evals'\n",
    "hvulg_v_hvulg_out = '/afs/csail/u/s/samsl/Berger/interactionPredictionWithContact/isorank/Hvulg-Hvulg.evals'\n",
    "hvulg_v_pdam_out = '/afs/csail/u/s/samsl/Berger/interactionPredictionWithContact/isorank/Hvulg-Pdam.evals'\n",
    "pdam_preds.to_csv(pdam_inter_out,sep='\\t',header=True,index=False)\n",
    "hvulg_preds.to_csv(hvulg_inter_out,sep='\\t',header=True,index=False)\n",
    "pdam_v_pdam.to_csv(pdam_v_pdam_out,sep='\\t',header=False,index=False)\n",
    "hvulg_v_hvulg.to_csv(hvulg_v_hvulg_out,sep='\\t',header=False,index=False)\n",
    "hvulg_v_pdam.to_csv(hvulg_v_pdam_out,sep='\\t',header=False,index=False)"
   ]
  },
  {
   "cell_type": "code",
   "execution_count": 461,
   "metadata": {},
   "outputs": [],
   "source": [
    "pdam_prots = set(pdam_preds.INTERACTOR_A).union(set(pdam_preds.INTERACTOR_B))\n",
    "hvulg_prots = set(hvulg_preds.INTERACTOR_A).union(set(hvulg_preds.INTERACTOR_B))"
   ]
  },
  {
   "cell_type": "code",
   "execution_count": 462,
   "metadata": {},
   "outputs": [],
   "source": [
    "pdam_graph_file = '/afs/csail/u/s/samsl/db/Coral/Pdam/candidate_pairs_mwt100_asof_20200617_50_800.out.positive'\n",
    "hvulg_graph_file = '/afs/csail/u/s/samsl/db/STRING/h.vulgaris/candidate_pairs_hvul_hydra_mwt100_asof_20200624_50_800.out.positive'"
   ]
  },
  {
   "cell_type": "code",
   "execution_count": 477,
   "metadata": {},
   "outputs": [],
   "source": [
    "edge_weight_thresh = 0.7\n",
    "pdamG = nx.read_weighted_edgelist(pdam_pred_file)\n",
    "hvulgG = nx.read_weighted_edgelist(hvulg_pred_file)"
   ]
  },
  {
   "cell_type": "code",
   "execution_count": 471,
   "metadata": {},
   "outputs": [],
   "source": [
    "mappings = {}\n",
    "with open('/afs/csail/u/s/samsl/Berger/interactionPredictionWithContact/isorank/hvulg_pdam_isorank_match-score.txt', 'r') as f:\n",
    "    for line in f:\n",
    "        l = line.strip().split()\n",
    "        src = str(l[0])\n",
    "        dest = str(l[1])\n",
    "        score = float(l[2])\n",
    "        oldScore = mappings.setdefault(src, (dest,score))[1]\n",
    "        if score > oldScore:\n",
    "            mappings[src] = (dest,score)"
   ]
  },
  {
   "cell_type": "code",
   "execution_count": 472,
   "metadata": {
    "scrolled": true
   },
   "outputs": [
    {
     "data": {
      "text/plain": [
       "10221"
      ]
     },
     "execution_count": 472,
     "metadata": {},
     "output_type": "execute_result"
    }
   ],
   "source": [
    "len(mappings.keys())"
   ]
  },
  {
   "cell_type": "code",
   "execution_count": 1122,
   "metadata": {},
   "outputs": [],
   "source": [
    "hydra_sc_pdam_ids = ['pdam_00001652-RA',\n",
    "                    'pdam_00001769-RA',\n",
    "                    'pdam_00002536-RA',\n",
    "                    'pdam_00003493-RA',\n",
    "                    'pdam_00003898-RA',\n",
    "                    'pdam_00004758-RA',\n",
    "                    'pdam_00007071-RA',\n",
    "                    'pdam_00008652-RA',\n",
    "                    'pdam_00012620-RA',\n",
    "                    'pdam_00013172-RA',\n",
    "                    'pdam_00015399-RA',\n",
    "                    'pdam_00015652-RA',\n",
    "                    'pdam_00015761-RA',\n",
    "                    'pdam_00016349-RA',\n",
    "                    'pdam_00016805-RA',\n",
    "                    'pdam_00017544-RA',\n",
    "                    'pdam_00019316-RA']"
   ]
  },
  {
   "cell_type": "code",
   "execution_count": 1512,
   "metadata": {},
   "outputs": [],
   "source": [
    "pdam_siebert_map_fi = '/afs/csail.mit.edu/u/r/rsingh/work/corals/data/raw/seqs/mapping_pdam_Siebert_via_hvul.csv'\n",
    "siebert_human_name_map_fi = '/afs/csail.mit.edu/u/r/rsingh/work/corals/data/processed/Siebert_PMC7104783_IDs_w_names.txt'\n",
    "ortholog_file = '/afs/csail.mit.edu/u/s/samsl/Berger/interactionPredictionWithContact/isorank/ortholog_mappings.csv'\n",
    "with open(pdam_siebert_map_fi) as f:  num_cols = max(len(line.split(',')) for line in f);  f.seek(0);\n",
    "pdam_siebert_map = pd.read_csv(pdam_siebert_map_fi,names=range(num_cols),engine='python')\n",
    "siebert_human_map = pd.read_csv(seibert_human_name_map_fi,engine='python',header=None)\n",
    "pdam_siebert_map = pdam_siebert_map.set_index(0)"
   ]
  },
  {
   "cell_type": "code",
   "execution_count": 1514,
   "metadata": {},
   "outputs": [],
   "source": [
    "orthologs = pd.merge(pdam_siebert_map.loc[hydra_sc_pdam_ids,:].reset_index(),siebert_human_map,left_on=1,right_on=1,how='outer').loc[:,['0_x',1,'0_y']]\n",
    "orthologs.columns = ['Pdam','Siebert','Human']\n",
    "orthologs = orthologs.set_index('Pdam')"
   ]
  },
  {
   "cell_type": "code",
   "execution_count": 1517,
   "metadata": {},
   "outputs": [],
   "source": [
    "clusters_in = []\n",
    "for prt in orthologs.index:\n",
    "    if isinstance(prt,str):\n",
    "        x = prot_search(clusters, prt)\n",
    "    else:\n",
    "        x = None\n",
    "    if x:\n",
    "        clusters_in.append(str(hash(x)))\n",
    "    else:\n",
    "        clusters_in.append(None)\n",
    "    #print('{} in {}'.format(prt, prot_search(clusters, prt)))\n",
    "orthologs['Cluster'] = clusters_in\n",
    "orthologs.to_csv(ortholog_file)"
   ]
  },
  {
   "cell_type": "code",
   "execution_count": 1516,
   "metadata": {
    "scrolled": true
   },
   "outputs": [
    {
     "data": {
      "text/html": [
       "<div>\n",
       "<style scoped>\n",
       "    .dataframe tbody tr th:only-of-type {\n",
       "        vertical-align: middle;\n",
       "    }\n",
       "\n",
       "    .dataframe tbody tr th {\n",
       "        vertical-align: top;\n",
       "    }\n",
       "\n",
       "    .dataframe thead th {\n",
       "        text-align: right;\n",
       "    }\n",
       "</style>\n",
       "<table border=\"1\" class=\"dataframe\">\n",
       "  <thead>\n",
       "    <tr style=\"text-align: right;\">\n",
       "      <th></th>\n",
       "      <th>Siebert</th>\n",
       "      <th>Human</th>\n",
       "      <th>Cluster</th>\n",
       "    </tr>\n",
       "    <tr>\n",
       "      <th>Pdam</th>\n",
       "      <th></th>\n",
       "      <th></th>\n",
       "      <th></th>\n",
       "    </tr>\n",
       "  </thead>\n",
       "  <tbody>\n",
       "    <tr>\n",
       "      <th>pdam_00001652-RA</th>\n",
       "      <td>t37156</td>\n",
       "      <td>NaN</td>\n",
       "      <td>None</td>\n",
       "    </tr>\n",
       "    <tr>\n",
       "      <th>pdam_00001769-RA</th>\n",
       "      <td>t30134</td>\n",
       "      <td>NaN</td>\n",
       "      <td>322269466687533872</td>\n",
       "    </tr>\n",
       "    <tr>\n",
       "      <th>pdam_00002536-RA</th>\n",
       "      <td>t27909</td>\n",
       "      <td>NaN</td>\n",
       "      <td>254438315280822055</td>\n",
       "    </tr>\n",
       "    <tr>\n",
       "      <th>pdam_00003493-RA</th>\n",
       "      <td>t22218</td>\n",
       "      <td>NaN</td>\n",
       "      <td>None</td>\n",
       "    </tr>\n",
       "    <tr>\n",
       "      <th>pdam_00003898-RA</th>\n",
       "      <td>t31033</td>\n",
       "      <td>NaN</td>\n",
       "      <td>94198090151503387</td>\n",
       "    </tr>\n",
       "    <tr>\n",
       "      <th>pdam_00004758-RA</th>\n",
       "      <td>t16456</td>\n",
       "      <td>NaN</td>\n",
       "      <td>None</td>\n",
       "    </tr>\n",
       "    <tr>\n",
       "      <th>pdam_00007071-RA</th>\n",
       "      <td>t22116</td>\n",
       "      <td>ETV1</td>\n",
       "      <td>None</td>\n",
       "    </tr>\n",
       "    <tr>\n",
       "      <th>pdam_00008652-RA</th>\n",
       "      <td>t21810</td>\n",
       "      <td>NDF1</td>\n",
       "      <td>None</td>\n",
       "    </tr>\n",
       "    <tr>\n",
       "      <th>pdam_00012620-RA</th>\n",
       "      <td>t2758</td>\n",
       "      <td>DAN_domain–containing_gene</td>\n",
       "      <td>None</td>\n",
       "    </tr>\n",
       "    <tr>\n",
       "      <th>pdam_00013172-RA</th>\n",
       "      <td>t15331</td>\n",
       "      <td>FZD8</td>\n",
       "      <td>2224493386795527397</td>\n",
       "    </tr>\n",
       "    <tr>\n",
       "      <th>pdam_00015399-RA</th>\n",
       "      <td>t11061</td>\n",
       "      <td>APCD1</td>\n",
       "      <td>1104175528426704620</td>\n",
       "    </tr>\n",
       "    <tr>\n",
       "      <th>pdam_00015652-RA</th>\n",
       "      <td>t35005</td>\n",
       "      <td>CHRD</td>\n",
       "      <td>None</td>\n",
       "    </tr>\n",
       "    <tr>\n",
       "      <th>pdam_00015761-RA</th>\n",
       "      <td>t18095</td>\n",
       "      <td>NaN</td>\n",
       "      <td>None</td>\n",
       "    </tr>\n",
       "    <tr>\n",
       "      <th>pdam_00016349-RA</th>\n",
       "      <td>t1602</td>\n",
       "      <td>HXB1</td>\n",
       "      <td>None</td>\n",
       "    </tr>\n",
       "    <tr>\n",
       "      <th>pdam_00016805-RA</th>\n",
       "      <td>t12060</td>\n",
       "      <td>FGF1</td>\n",
       "      <td>1981825815004671496</td>\n",
       "    </tr>\n",
       "    <tr>\n",
       "      <th>pdam_00017544-RA</th>\n",
       "      <td>t10159</td>\n",
       "      <td>NaN</td>\n",
       "      <td>1836096754967562248</td>\n",
       "    </tr>\n",
       "    <tr>\n",
       "      <th>pdam_00019316-RA</th>\n",
       "      <td>t9974</td>\n",
       "      <td>NaN</td>\n",
       "      <td>426782941481314625</td>\n",
       "    </tr>\n",
       "    <tr>\n",
       "      <th>NaN</th>\n",
       "      <td>t10953</td>\n",
       "      <td>DKK3</td>\n",
       "      <td>None</td>\n",
       "    </tr>\n",
       "    <tr>\n",
       "      <th>NaN</th>\n",
       "      <td>t19036</td>\n",
       "      <td>SFRP3</td>\n",
       "      <td>None</td>\n",
       "    </tr>\n",
       "    <tr>\n",
       "      <th>NaN</th>\n",
       "      <td>t14481</td>\n",
       "      <td>FGRL1</td>\n",
       "      <td>None</td>\n",
       "    </tr>\n",
       "    <tr>\n",
       "      <th>NaN</th>\n",
       "      <td>t2163</td>\n",
       "      <td>COMA</td>\n",
       "      <td>None</td>\n",
       "    </tr>\n",
       "    <tr>\n",
       "      <th>NaN</th>\n",
       "      <td>t32151</td>\n",
       "      <td>matrilysin-like</td>\n",
       "      <td>None</td>\n",
       "    </tr>\n",
       "    <tr>\n",
       "      <th>NaN</th>\n",
       "      <td>t18356</td>\n",
       "      <td>CHIA</td>\n",
       "      <td>None</td>\n",
       "    </tr>\n",
       "    <tr>\n",
       "      <th>NaN</th>\n",
       "      <td>t14976</td>\n",
       "      <td>NDF1_gfp</td>\n",
       "      <td>None</td>\n",
       "    </tr>\n",
       "    <tr>\n",
       "      <th>NaN</th>\n",
       "      <td>t33301</td>\n",
       "      <td>Alpha-LTX-Lhe1a-like</td>\n",
       "      <td>None</td>\n",
       "    </tr>\n",
       "  </tbody>\n",
       "</table>\n",
       "</div>"
      ],
      "text/plain": [
       "                 Siebert                       Human              Cluster\n",
       "Pdam                                                                     \n",
       "pdam_00001652-RA  t37156                         NaN                 None\n",
       "pdam_00001769-RA  t30134                         NaN   322269466687533872\n",
       "pdam_00002536-RA  t27909                         NaN   254438315280822055\n",
       "pdam_00003493-RA  t22218                         NaN                 None\n",
       "pdam_00003898-RA  t31033                         NaN    94198090151503387\n",
       "pdam_00004758-RA  t16456                         NaN                 None\n",
       "pdam_00007071-RA  t22116                        ETV1                 None\n",
       "pdam_00008652-RA  t21810                        NDF1                 None\n",
       "pdam_00012620-RA   t2758  DAN_domain–containing_gene                 None\n",
       "pdam_00013172-RA  t15331                        FZD8  2224493386795527397\n",
       "pdam_00015399-RA  t11061                       APCD1  1104175528426704620\n",
       "pdam_00015652-RA  t35005                        CHRD                 None\n",
       "pdam_00015761-RA  t18095                         NaN                 None\n",
       "pdam_00016349-RA   t1602                        HXB1                 None\n",
       "pdam_00016805-RA  t12060                        FGF1  1981825815004671496\n",
       "pdam_00017544-RA  t10159                         NaN  1836096754967562248\n",
       "pdam_00019316-RA   t9974                         NaN   426782941481314625\n",
       "NaN               t10953                        DKK3                 None\n",
       "NaN               t19036                       SFRP3                 None\n",
       "NaN               t14481                       FGRL1                 None\n",
       "NaN                t2163                        COMA                 None\n",
       "NaN               t32151             matrilysin-like                 None\n",
       "NaN               t18356                        CHIA                 None\n",
       "NaN               t14976                    NDF1_gfp                 None\n",
       "NaN               t33301        Alpha-LTX-Lhe1a-like                 None"
      ]
     },
     "execution_count": 1516,
     "metadata": {},
     "output_type": "execute_result"
    }
   ],
   "source": [
    "orthologs"
   ]
  },
  {
   "cell_type": "code",
   "execution_count": 1523,
   "metadata": {},
   "outputs": [
    {
     "name": "stdout",
     "output_type": "stream",
     "text": [
      "Cluster of 17 [pdam_00016900-RA,pdam_00007315-RA,...] (hash 2224493386795527397)\n",
      "Top Terms:\n",
      "\tGO:0004181 - <metallocarboxypeptidase activity> (9)\n",
      "\tGO:0005044 - <scavenger receptor activity> (6)\n",
      "\tGO:0034446 - <substrate adhesion-dependent cell spreading> (6)\n",
      "\tGO:0007371 - <ventral midline determination> (5)\n",
      "\tGO:0003140 - <determination of left/right asymmetry in lateral mesoderm> (5)\n"
     ]
    },
    {
     "data": {
      "image/png": "[encoded data removed]",
      "text/plain": [
       "<Figure size 432x288 with 1 Axes>"
      ]
     },
     "metadata": {},
     "output_type": "display_data"
    }
   ],
   "source": [
    "coi = clusterDict[2224493386795527397]\n",
    "#coi = clusterDict[1104175528426704620]\n",
    "#coi = clusterDict[1981825815004671496]\n",
    "print(coi)\n",
    "coi.draw_graph()"
   ]
  },
  {
   "cell_type": "code",
   "execution_count": 1536,
   "metadata": {},
   "outputs": [],
   "source": [
    "true_human_edge_file = \"/afs/csail.mit.edu/u/s/samsl/db/STRING/homo.sapiens/binding/binding.all.pos.txt\"\n",
    "human_network = pd.read_csv(true_human_edge_file,sep='\\t',header=None)\n",
    "human_network.columns = ['INTERACTOR_A','INTERACTOR_B']\n",
    "human_inter_out = \"/afs/csail.mit.edu/u/s/samsl/Berger/interactionPredictionWithContact/isorank/Hsapi.tab\"\n",
    "human_network['INTERACTOR_A'] = human_network['INTERACTOR_A'].str.replace('.','_')\n",
    "human_network['INTERACTOR_B'] = human_network['INTERACTOR_B'].str.replace('.','_')\n",
    "human_network.to_csv(human_inter_out,sep='\\t',header=True,index=False)"
   ]
  },
  {
   "cell_type": "code",
   "execution_count": 1537,
   "metadata": {},
   "outputs": [],
   "source": [
    "hvulg_v_hsapi_blast = '/afs/csail/u/s/samsl/Berger/interactionPredictionWithContact/isorank/hvulg-vs-hsapi.txt'\n",
    "pdam_v_hsapi_blast = '/afs/csail/u/s/samsl/Berger/interactionPredictionWithContact/isorank/pdam-vs-hsapi.txt'\n",
    "hsapi_v_hsapi_blast = '/afs/csail/u/s/samsl/Berger/interactionPredictionWithContact/isorank/hsapi-vs-hsapi.txt'\n",
    "hvulg_v_hsapi = pd.read_csv(hvulg_v_hsapi_blast,sep='\\t',header=None)\n",
    "pdam_v_hsapi = pd.read_csv(pdam_v_hsapi_blast,sep='\\t',header=None)\n",
    "hsapi_v_hsapi = pd.read_csv(hsapi_v_hsapi_blast,sep='\\t',header=None)\n",
    "hvulg_v_hsapi = hvulg_v_hsapi.iloc[:,[1,0,11]]\n",
    "pdam_v_hsapi = pdam_v_hsapi.iloc[:,[1,0,11]]\n",
    "hsapi_v_hsapi = hsapi_v_hsapi.iloc[:,[0,1,11]]"
   ]
  },
  {
   "cell_type": "code",
   "execution_count": 1538,
   "metadata": {},
   "outputs": [],
   "source": [
    "hvulg_v_hsapi[1] = hvulg_v_hsapi[1].str.replace('.','_')\n",
    "pdam_v_hsapi[1] = pdam_v_hsapi[1].str.replace('.','_')\n",
    "hsapi_v_hsapi[1] = hsapi_v_hsapi[1].str.replace('.','_')\n",
    "hsapi_v_hsapi[0] = hsapi_v_hsapi[0].str.replace('.','_')"
   ]
  },
  {
   "cell_type": "code",
   "execution_count": 1539,
   "metadata": {},
   "outputs": [],
   "source": [
    "hsapi_v_hvulg_out = '/afs/csail/u/s/samsl/Berger/interactionPredictionWithContact/isorank/Hsapi-Hvulg.evals'\n",
    "hsapi_v_pdam_out = '/afs/csail/u/s/samsl/Berger/interactionPredictionWithContact/isorank/Hsapi-Pdam.evals'\n",
    "hsapi_v_hsapi_out = '/afs/csail/u/s/samsl/Berger/interactionPredictionWithContact/isorank/Hsapi-Hsapi.evals'\n",
    "hvulg_v_hsapi.to_csv(hsapi_v_hvulg_out,sep='\\t',header=False,index=False)\n",
    "pdam_v_hsapi.to_csv(hsapi_v_pdam_out,sep='\\t',header=False,index=False)\n",
    "hsapi_v_hsapi.to_csv(hsapi_v_hsapi_out,sep='\\t',header=False,index=False)"
   ]
  },
  {
   "cell_type": "code",
   "execution_count": null,
   "metadata": {},
   "outputs": [],
   "source": []
  },
  {
   "cell_type": "code",
   "execution_count": null,
   "metadata": {},
   "outputs": [],
   "source": []
  },
  {
   "cell_type": "code",
   "execution_count": 1571,
   "metadata": {},
   "outputs": [],
   "source": [
    "import torch"
   ]
  },
  {
   "cell_type": "code",
   "execution_count": 1599,
   "metadata": {},
   "outputs": [],
   "source": [
    "def sigmoid(x,x0=0,k=1):\n",
    "    return 1 / (1 + torch.exp(-k * (x - x0)))"
   ]
  },
  {
   "cell_type": "code",
   "execution_count": 1612,
   "metadata": {},
   "outputs": [],
   "source": [
    "assert (sigmoid(x)>=0).all() and (sigmoid(x)<=1).all()"
   ]
  },
  {
   "cell_type": "markdown",
   "metadata": {},
   "source": [
    "# Stupid Coral Tables"
   ]
  },
  {
   "cell_type": "code",
   "execution_count": 1310,
   "metadata": {},
   "outputs": [],
   "source": [
    "csv_file = '/afs/csail/u/s/samsl/db/Coral/Pacuta/4week_dcp.csv'\n",
    "clean_csv_file = '/afs/csail/u/s/samsl/db/Coral/Pacuta/4week_clean_dcp.csv'\n",
    "fasta_file = '/afs/csail/u/s/samsl/db/Coral/Pacuta/4week_dcp.fa'\n",
    "blast_file = '/afs/csail/u/s/samsl/db/Coral/Pacuta/4week_dcp_pdam_blast.csv'\n",
    "blast_evalue = '/afs/csail/u/s/samsl/db/Coral/Pacuta/4week_dcp_pdam_blast_significant.csv'\n",
    "cluster_hits = '/afs/csail/u/s/samsl/db/Coral/Pacuta/4week_dcp_pdam_clusters.txt'"
   ]
  },
  {
   "cell_type": "code",
   "execution_count": 1311,
   "metadata": {},
   "outputs": [],
   "source": [
    "f = open(csv_file,'r')"
   ]
  },
  {
   "cell_type": "code",
   "execution_count": 1312,
   "metadata": {},
   "outputs": [],
   "source": [
    "header = [i.strip() for i in f.readline().strip().split(',')]"
   ]
  },
  {
   "cell_type": "code",
   "execution_count": 1313,
   "metadata": {},
   "outputs": [],
   "source": [
    "lines = [[i.strip() for i in l.strip().split(',')] for l in f]"
   ]
  },
  {
   "cell_type": "code",
   "execution_count": 1314,
   "metadata": {},
   "outputs": [],
   "source": [
    "f.close()"
   ]
  },
  {
   "cell_type": "code",
   "execution_count": 1315,
   "metadata": {},
   "outputs": [],
   "source": [
    "def join_lines(x,y):\n",
    "    assert len(x) == len(y), (x,y)\n",
    "    return [x[i]+y[i] for i in range(len(x))]"
   ]
  },
  {
   "cell_type": "code",
   "execution_count": 1316,
   "metadata": {},
   "outputs": [],
   "source": [
    "lines_new = []\n",
    "for line in lines:\n",
    "    if line.count('') > 1:\n",
    "        lines_new[-1] = join_lines(lines_new[-1], line)\n",
    "    else:\n",
    "        lines_new.append(line)"
   ]
  },
  {
   "cell_type": "code",
   "execution_count": 1317,
   "metadata": {},
   "outputs": [],
   "source": [
    "all_lines = [header] + lines_new"
   ]
  },
  {
   "cell_type": "code",
   "execution_count": 1318,
   "metadata": {},
   "outputs": [],
   "source": [
    "all_lines_string = [','.join(i) for i in all_lines]"
   ]
  },
  {
   "cell_type": "code",
   "execution_count": 1319,
   "metadata": {},
   "outputs": [],
   "source": [
    "with open(clean_csv_file,'w+') as f:\n",
    "    for line in all_lines_string:\n",
    "        f.write(line)\n",
    "        f.write('\\n')"
   ]
  },
  {
   "cell_type": "code",
   "execution_count": 1320,
   "metadata": {},
   "outputs": [],
   "source": [
    "seqs = pd.read_csv(clean_csv_file,header=0)\n",
    "nam = list(seqs['Spot(s)'].str.cat(seqs['Protein'],sep='_'))\n",
    "nam = ['_'.join(n.split()) for n in nam]\n",
    "seq = list(seqs['Sequence'])"
   ]
  },
  {
   "cell_type": "code",
   "execution_count": 1321,
   "metadata": {},
   "outputs": [],
   "source": [
    "with open(fasta_file,'w+') as f:\n",
    "    for n,s in zip(nam, seq):\n",
    "        f.write('>{}\\n{}\\n'.format(n, s))"
   ]
  },
  {
   "cell_type": "code",
   "execution_count": 1322,
   "metadata": {},
   "outputs": [],
   "source": [
    "eval_thresh = 1e-5\n",
    "blastout = pd.read_csv(blast_file,header=None)\n",
    "blastout.columns = ['qseqid','sseqid','pident','length','mismatch','gapopen','qstart','qend','sstart','send','evalue','bitscore']\n",
    "blastout = blastout[blastout['evalue'] < eval_thresh]\n",
    "blastout.to_csv(blast_evalue,header=True,index=False)"
   ]
  },
  {
   "cell_type": "code",
   "execution_count": 1323,
   "metadata": {},
   "outputs": [
    {
     "data": {
      "image/png": "[encoded data removed]",
      "text/plain": [
       "<Figure size 432x288 with 1 Axes>"
      ]
     },
     "metadata": {
      "needs_background": "light"
     },
     "output_type": "display_data"
    }
   ],
   "source": [
    "hits = set(blastout['sseqid'])\n",
    "n_in_clusts = []\n",
    "for c in clusters:\n",
    "    inclust = np.array([p in c.proteins for p in set(hits)])\n",
    "    n_in_clusts.append(inclust.sum())\n",
    "plt.hist(n_in_clusts)\n",
    "plt.show()"
   ]
  },
  {
   "cell_type": "code",
   "execution_count": 1393,
   "metadata": {},
   "outputs": [
    {
     "name": "stdout",
     "output_type": "stream",
     "text": [
      "pdam_00019851-RA (C4-host_actine,C4-host_actin_(different_from_previous_paralog)) in Cluster of 65 [pdam_00015460-RA,pdam_00022200-RA,...] (hash 953730153325185879)\n",
      "Top Terms:\n",
      "\tGO:0005524 - <ATP binding> (19)\n",
      "\tGO:0046872 - <metal ion binding> (13)\n",
      "\tGO:0051287 - <NAD binding> (9)\n",
      "\tGO:0000287 - <magnesium ion binding> (8)\n",
      "\tGO:0008270 - <zinc ion binding> (7)\n",
      "pdam_00019358-RA (C4-host_actine,C4-host_actin_(different_from_previous_paralog)) in Cluster of 59 [pdam_00013964-RA,pdam_00025381-RA,...] (hash 1362663253743270569)\n",
      "Top Terms:\n",
      "\tGO:0005524 - <ATP binding> (20)\n",
      "\tGO:0000287 - <magnesium ion binding> (12)\n",
      "\tGO:0046872 - <metal ion binding> (10)\n",
      "\tGO:0030170 - <pyridoxal phosphate binding> (9)\n",
      "\tGO:0042803 - <protein homodimerization activity> (9)\n",
      "pdam_00022186-RA (C1-host_pentraxin) in Cluster of 45 [pdam_00022186-RA,pdam_00014342-RA,...] (hash 1557525076039568397)\n",
      "Top Terms:\n",
      "\tGO:0005509 - <calcium ion binding> (11)\n",
      "\tGO:0005524 - <ATP binding> (11)\n",
      "\tGO:0045087 - <innate immune response> (9)\n",
      "\tGO:0046872 - <metal ion binding> (9)\n",
      "\tGO:0008270 - <zinc ion binding> (8)\n",
      "pdam_00023572-RA (H8-host_NF-kappa-B_inhibitor-like_protein_1_isoform_X2b) in Cluster of 35 [pdam_00013734-RA,pdam_00001457-RA,...] (hash 143447740277166002)\n",
      "Top Terms:\n",
      "\tGO:0008270 - <zinc ion binding> (11)\n",
      "\tGO:0005524 - <ATP binding> (7)\n",
      "\tGO:0071558 - <histone demethylase activity (H3-K27 specific)> (5)\n",
      "\tGO:0016175 - <superoxide-generating NADPH oxidase activity> (5)\n",
      "\tGO:0045087 - <innate immune response> (5)\n",
      "pdam_00019829-RA (C4-host_actin_(different_from_previous_paralog)) in Cluster of 42 [pdam_00002728-RA,pdam_00011862-RA,...] (hash 1661301945021998916)\n",
      "Top Terms:\n",
      "\tGO:0005524 - <ATP binding> (9)\n",
      "\tGO:0046872 - <metal ion binding> (7)\n",
      "\tGO:0000287 - <magnesium ion binding> (6)\n",
      "\tGO:0008270 - <zinc ion binding> (5)\n",
      "\tGO:0001701 - <in utero embryonic development> (4)\n",
      "pdam_00019828-RA (C4-host_actin_(different_from_previous_paralog)) in Cluster of 73 [pdam_00003714-RA,pdam_00015555-RA,...] (hash 370646796139631198)\n",
      "Top Terms:\n",
      "\tGO:0005524 - <ATP binding> (25)\n",
      "\tGO:0000287 - <magnesium ion binding> (17)\n",
      "\tGO:0046872 - <metal ion binding> (14)\n",
      "\tGO:0046686 - <response to cadmium ion> (11)\n",
      "\tGO:0014823 - <response to activity> (8)\n",
      "pdam_00020968-RA (C4-host_actine) in Cluster of 13 [pdam_00022456-RA,pdam_00007350-RA,...] (hash 1163008775969700505)\n",
      "Top Terms:\n",
      "\tGO:0003016 - <respiratory system process> (3)\n",
      "\tGO:0004222 - <metalloendopeptidase activity> (3)\n",
      "\tGO:0071493 - <cellular response to UV-B> (3)\n",
      "\tGO:0046872 - <metal ion binding> (3)\n",
      "\tGO:1990418 - <response to insulin-like growth factor stimulus> (3)\n",
      "pdam_00017275-RA (C1-host_pentraxin) in Cluster of 24 [pdam_00021493-RA,pdam_00005458-RA,...] (hash 1231626020560255683)\n",
      "Top Terms:\n",
      "\tGO:0005528 - <FK506 binding> (5)\n",
      "\tGO:0008476 - <protein-tyrosine sulfotransferase activity> (5)\n",
      "\tGO:0045087 - <innate immune response> (5)\n",
      "\tGO:0005052 - <peroxisome matrix targeting signal-1 binding> (4)\n",
      "\tGO:0010698 - <acetyltransferase activator activity> (4)\n",
      "pdam_00005477-RA (C1-host_plexin) in None\n",
      "pdam_00018247-RA (C4-host_actine,C4-host_actin_(different_from_previous_paralog)) in Cluster of 29 [pdam_00008377-RA,pdam_00018608-RA,...] (hash 682063496189882386)\n",
      "Top Terms:\n",
      "\tGO:0008270 - <zinc ion binding> (7)\n",
      "\tGO:0005524 - <ATP binding> (6)\n",
      "\tGO:0000287 - <magnesium ion binding> (5)\n",
      "\tGO:0050660 - <flavin adenine dinucleotide binding> (4)\n",
      "\tGO:0051287 - <NAD binding> (4)\n",
      "pdam_00017274-RA (C1-host_pentraxin) in None\n",
      "pdam_00019357-RA (C4-host_actine,C4-host_actin_(different_from_previous_paralog)) in Cluster of 59 [pdam_00013964-RA,pdam_00025381-RA,...] (hash 1362663253743270569)\n",
      "Top Terms:\n",
      "\tGO:0005524 - <ATP binding> (20)\n",
      "\tGO:0000287 - <magnesium ion binding> (12)\n",
      "\tGO:0046872 - <metal ion binding> (10)\n",
      "\tGO:0030170 - <pyridoxal phosphate binding> (9)\n",
      "\tGO:0042803 - <protein homodimerization activity> (9)\n"
     ]
    }
   ],
   "source": [
    "with open(cluster_hits,'w+') as fi:\n",
    "    for h in hits:\n",
    "        print('{} ({}) in {}'.format(h, ','.join(set(blastout.loc[blastout['sseqid'] == h,'qseqid'])), prot_search(clusters,h)))\n",
    "        fi.write('{} ({}) in {}\\n'.format(h, ','.join(set(blastout.loc[blastout['sseqid'] == h,'qseqid'])), prot_search(clusters,h)))"
   ]
  },
  {
   "cell_type": "code",
   "execution_count": 1325,
   "metadata": {},
   "outputs": [
    {
     "name": "stdout",
     "output_type": "stream",
     "text": [
      "Hits in Cluster: 2\n",
      "set()\n",
      "Cluster of 59 [pdam_00013964-RA,pdam_00025381-RA,...] (hash 1362663253743270569)\n",
      "Top Terms:\n",
      "\tGO:0005524 - <ATP binding> (20)\n",
      "\tGO:0000287 - <magnesium ion binding> (12)\n",
      "\tGO:0046872 - <metal ion binding> (10)\n",
      "\tGO:0030170 - <pyridoxal phosphate binding> (9)\n",
      "\tGO:0042803 - <protein homodimerization activity> (9)\n"
     ]
    },
    {
     "data": {
      "image/png": "[encoded data removed]",
      "text/plain": [
       "<Figure size 432x288 with 1 Axes>"
      ]
     },
     "metadata": {},
     "output_type": "display_data"
    }
   ],
   "source": [
    "print('Hits in Cluster: {}\\n{}'.format(np.max(np.array(n_in_clusts)),set(hits).intersection(set(coi.proteins))))\n",
    "coi = clusters[np.argmax(np.array(n_in_clusts))]\n",
    "print(coi)\n",
    "coi.draw_graph()"
   ]
  },
  {
   "cell_type": "code",
   "execution_count": 1095,
   "metadata": {},
   "outputs": [],
   "source": [
    "poi = 'pdam_00021626-RA'"
   ]
  },
  {
   "cell_type": "code",
   "execution_count": 1096,
   "metadata": {},
   "outputs": [
    {
     "data": {
      "text/plain": [
       "['GO:0001849|molecular_function|complement component C1q complex binding',\n",
       " 'GO:0008029|molecular_function|pentraxin receptor activity',\n",
       " 'GO:0006953|biological_process|acute-phase response',\n",
       " 'GO:0008228|biological_process|opsonization',\n",
       " 'GO:0097756|biological_process|negative regulation of blood vessel diameter',\n",
       " 'GO:0046790|molecular_function|virion binding',\n",
       " 'GO:0005509|molecular_function|calcium ion binding',\n",
       " 'GO:0050830|biological_process|defense response to Gram-positive bacterium',\n",
       " 'GO:0050750|molecular_function|low-density lipoprotein particle receptor binding',\n",
       " 'GO:0004866|molecular_function|endopeptidase inhibitor activity',\n",
       " 'GO:0033265|molecular_function|choline binding',\n",
       " 'GO:0044869|biological_process|negative regulation by host of viral exo-alpha-sialidase activity',\n",
       " 'GO:0030169|molecular_function|low-density lipoprotein particle binding',\n",
       " 'GO:0045087|biological_process|innate immune response',\n",
       " 'GO:0044871|biological_process|negative regulation by host of viral glycoprotein metabolic process',\n",
       " 'GO:0001878|biological_process|response to yeast',\n",
       " 'GO:0001872|molecular_function|(1->3)-beta-D-glucan binding']"
      ]
     },
     "execution_count": 1096,
     "metadata": {},
     "output_type": "execute_result"
    }
   ],
   "source": [
    "prot_go_db.loc[poi,:].GO_list"
   ]
  },
  {
   "cell_type": "code",
   "execution_count": 1097,
   "metadata": {},
   "outputs": [],
   "source": [
    "coi = prot_search(clusters,poi)\n",
    "coi"
   ]
  },
  {
   "cell_type": "code",
   "execution_count": null,
   "metadata": {},
   "outputs": [],
   "source": []
  }
 ],
 "metadata": {
  "kernelspec": {
   "display_name": "Python 3 (ipykernel)",
   "language": "python",
   "name": "python3"
  },
  "language_info": {
   "codemirror_mode": {
    "name": "ipython",
    "version": 3
   },
   "file_extension": ".py",
   "mimetype": "text/x-python",
   "name": "python",
   "nbconvert_exporter": "python",
   "pygments_lexer": "ipython3",
   "version": "3.11.7"
  }
 },
 "nbformat": 4,
 "nbformat_minor": 4
}
