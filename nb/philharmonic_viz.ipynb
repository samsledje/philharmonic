{
 "cells": [
  {
   "cell_type": "code",
   "execution_count": 4,
   "id": "53c03a1d-fbb8-4ada-b365-1e7a18eed451",
   "metadata": {
    "tags": []
   },
   "outputs": [],
   "source": [
    "import numpy as np\n",
    "import networkx as nx\n",
    "import matplotlib.pyplot as plt\n",
    "import seaborn as sns\n",
    "import pandas as pd\n",
    "import pickle as pk\n",
    "import json\n",
    "import hashlib\n",
    "import collections\n",
    "from tqdm.notebook import tqdm\n",
    "from pyvis.network import Network"
   ]
  },
  {
   "cell_type": "code",
   "execution_count": 5,
   "id": "d66c68e0-bedd-47e8-8bda-ab41cd2ea5c4",
   "metadata": {
    "tags": []
   },
   "outputs": [],
   "source": [
    "class Cluster:\n",
    "    def __init__(self,proteins):\n",
    "        self.proteins = proteins\n",
    "\n",
    "    def __len__(self):\n",
    "        return len(self.proteins)\n",
    "\n",
    "    def __repr__(self):\n",
    "        reprStr = \"Cluster of {} [{},{},...] (hash {})\".format(len(self), self.proteins[0], self.proteins[1], hash(self))\n",
    "        if hasattr(self, 'G'):\n",
    "            reprStr += \"\\nTriangles: {}\\nMax Degree: {}\".format(self.triangles(), max(self.G.degree(), key=lambda x: x[1])[1])\n",
    "        if hasattr(self, 'GO_terms'):\n",
    "            reprStr += \"\\nTop Terms:\\n\\t{}\".format('\\n\\t'.join(\n",
    "                    ['{} ({})'.format(i[0], i[1]) for i in self.get_top_terms(5)]\n",
    "            ))\n",
    "        return reprStr\n",
    "\n",
    "    def __hash__(self):\n",
    "        return int(hashlib.md5(''.join(self.proteins).encode()).hexdigest(), 16)\n",
    "\n",
    "    def to_dict(self):\n",
    "        D = {}\n",
    "        D['id'] = hash(self)\n",
    "        D['proteins'] = []\n",
    "        for p in self.proteins:\n",
    "            pD = {}\n",
    "            pD['name'] = p\n",
    "            if hasattr(self, 'GO_DB'):\n",
    "                pD['go'] = self.GO_DB[self.GO_DB['seq'] == p]['GO_ids'].values[0]\n",
    "            D['proteins'].append(pD)\n",
    "        if hasattr(self, 'GO_DB'):\n",
    "            D['go'] = sorted([{\"id\": i.ID, \"desc\": i.name, \"freq\": self.GO_terms[i]} for i in self.GO_terms], key = lambda x: x['freq'], reverse=True)\n",
    "        if hasattr(self,'G'):\n",
    "            D['graph'] = list(self.G.edges())\n",
    "        return D\n",
    "\n",
    "    def to_json(self):\n",
    "        return json.dumps(self.to_dict())\n",
    "\n",
    "    def add_GO_terms(self, go_db, GO_OBJECTS):\n",
    "        self.GO_terms = {}\n",
    "        self.GO_DB = go_db\n",
    "        for prot in self.proteins:\n",
    "            goIds = go_db[go_db['seq'] == prot]['GO_ids'].values[0]\n",
    "            if goIds is None or len(goIds) == 0:\n",
    "                continue\n",
    "            for gid in goIds:\n",
    "                if gid in GO_OBJECTS:\n",
    "                    goObj = GO_OBJECTS[gid]\n",
    "                # except KeyError:\n",
    "                #     GO_OBJECTS[gid] = GO(gid,{'id':gid,'name':gid})\n",
    "                #     goObj = GO_OBJECTS[gid]\n",
    "                    goCount = self.GO_terms.setdefault(goObj,0)\n",
    "                    self.GO_terms[goObj] = goCount + 1\n",
    "\n",
    "    def get_proteins_by_GO(self, GO_id):\n",
    "        return [p for p in self.proteins if GO_id in prot_go_db.loc[p,'GO_ids']]\n",
    "\n",
    "    def get_GO_by_protein(self, protein):\n",
    "        assert protein in self.proteins, \"{} not in cluster\".format(protein)\n",
    "        return [gt for gt in coi.GO_terms if gt.ID in prot_go_db.loc[protein,'GO_ids']]\n",
    "\n",
    "    def get_top_terms(self,N):\n",
    "        if not hasattr(self, 'GO_terms'):\n",
    "            raise NotImplementedError(\"GO Terms have not been added yet.\")\n",
    "        GOlist = list(self.GO_terms.keys())\n",
    "        if N == -1:\n",
    "            N = len(GOlist)\n",
    "        sortedList = sorted(GOlist,key=lambda x: self.GO_terms[x],reverse=True)[:N]\n",
    "        return list(zip(sortedList, [self.GO_terms[i] for i in sortedList]))\n",
    "\n",
    "    def set_graph(self,G):\n",
    "        self.G = G.subgraph(self.proteins)\n",
    "\n",
    "    def triangles(self):\n",
    "        return sum([i for i in nx.triangles(self.G).values()]) / 3\n",
    "\n",
    "    def draw_degree_histogram(self,draw_graph=True):\n",
    "        if not hasattr(self,'G'):\n",
    "            raise ValueError('Run .set_graph() method on this cluster first')\n",
    "        G = self.G\n",
    "        degree_sequence = sorted([d for n, d in G.degree()], reverse=True)  # degree sequence\n",
    "        degreeCount = collections.Counter(degree_sequence)\n",
    "        deg, cnt = zip(*degreeCount.items())\n",
    "        fig, ax = plt.subplots()\n",
    "        plt.bar(deg, cnt, width=0.80, color='b')\n",
    "\n",
    "        plt.title(\"Degree Histogram\")\n",
    "        plt.ylabel(\"Count\")\n",
    "        plt.xlabel(\"Degree\")\n",
    "        ax.set_xticks([d + 0.4 for d in deg])\n",
    "        ax.set_xticklabels(deg)\n",
    "\n",
    "        # draw graph in inset\n",
    "        if draw_graph:\n",
    "            plt.axes([0.4, 0.4, 0.5, 0.5])\n",
    "            pos = nx.spring_layout(G, k=0.15,iterations=10)\n",
    "            plt.axis('off')\n",
    "            nx.draw_networkx_nodes(G, pos, node_size=20)\n",
    "            nx.draw_networkx_edges(G, pos, alpha=0.4)\n",
    "        plt.show()\n",
    "\n",
    "    # def draw_graph(self):\n",
    "    #     if not hasattr(self,'G'):\n",
    "    #         raise ValueError('Run .set_graph() method on this cluster first')\n",
    "    #     G = self.G\n",
    "    #     nx.draw_kamada_kawai(G, with_labels=True,node_size=600, font_size=8)\n",
    "    \n",
    "    def draw_graph(self, xsize=800, ysize=800, notebook=True, cdn_resources='remote'):\n",
    "        if not hasattr(self,'G'):\n",
    "            raise ValueError('Run .set_graph() method on this cluster first')\n",
    "        nt = Network(f'{xsize}px', f'{ysize}px',notebook=notebook, cdn_resources=cdn_resources)\n",
    "        nt.from_nx(self.G)\n",
    "        return nt.show(f'{hash(self)}.html')\n",
    "    \n",
    "def read_cluster_objects(infile,sep=','):\n",
    "    clusts = []\n",
    "    with open(infile,'r') as f:\n",
    "        for line in f:\n",
    "            clusts.append(Cluster(line.strip().split(sep)))\n",
    "    return clusts\n",
    "\n",
    "def cluster_from_json(jsonString, GO_OBJECTS):\n",
    "        clust = Cluster([])\n",
    "        D = json.loads(jsonString)\n",
    "        clust.proteins = [i['name'] for i in D['proteins']]\n",
    "        clust.GO_terms = {}\n",
    "        for goDict in D['go']:\n",
    "            gid = goDict['id']\n",
    "            gdesc = goDict['desc']\n",
    "            try:\n",
    "                goObj = GO_OBJECTS[gid]\n",
    "            except KeyError:\n",
    "                GO_OBJECTS[gid] = GO(gid,{'id':gid,'name':gdesc})\n",
    "                goObj = GO_OBJECTS[gid]\n",
    "            clust.GO_terms[goObj] = goDict['freq']\n",
    "        try:\n",
    "            edgeList = D['graph']\n",
    "            G = nx.Graph()\n",
    "            for e in edgeList:\n",
    "                G.add_edge(*e)\n",
    "            clust.G = G\n",
    "        except KeyError:\n",
    "            pass\n",
    "        return clust"
   ]
  },
  {
   "cell_type": "code",
   "execution_count": 6,
   "id": "0305fba2-ff52-47ab-a46e-07d5a0db8f85",
   "metadata": {
    "tags": []
   },
   "outputs": [],
   "source": [
    "class GO:\n",
    "    def __init__(self, ID, features):\n",
    "        self.ID = ID\n",
    "        self.D = features\n",
    "        self.name = features['name']\n",
    "\n",
    "    def __repr__(self):\n",
    "        return '{} - <{}>'.format(self.ID, self.name)\n",
    "\n",
    "    def __eq__(self, other):\n",
    "        return self.ID == other.ID\n",
    "\n",
    "    def __hash__(self):\n",
    "        return hash(self.ID)\n",
    "\n",
    "def extract_GO_id_from_list(l):\n",
    "    if isinstance(l,list):\n",
    "        return [i.split('|')[0] for i in l]\n",
    "    else:\n",
    "        return None\n",
    "\n",
    "def read_GO_obo(infile):\n",
    "    terms = {}\n",
    "    with open(infile,'r') as f:\n",
    "        for line in f:\n",
    "            tDict = {}\n",
    "            line = line.strip()\n",
    "            if line == \"[Term]\":\n",
    "                line = f.readline().strip().split(': ')\n",
    "                while not line == ['']:\n",
    "                    tDict[line[0]] = ''.join(line[1:])\n",
    "                    line = f.readline().strip().split(': ')\n",
    "                for k,v in tDict.items():\n",
    "                    k = k.strip()\n",
    "                    v = v.strip()\n",
    "                    tDict[k] = v\n",
    "                terms[tDict['id']] = GO(tDict['id'], tDict)\n",
    "    return terms\n",
    "\n",
    "def GO_search(clusters, GO_term, GO_OBJECTS, N=20):\n",
    "    if isinstance(GO_term,str):\n",
    "        GO_term = GO_OBJECTS[GO_term]\n",
    "    return [c for c in clusters if GO_term in [i[0] for i in c.get_top_terms(N)]]\n",
    "\n",
    "def protein_search(clusters, protein_list):\n",
    "    if isinstance(protein_list, str):\n",
    "        protein_list = [protein_list]\n",
    "    plist = [c for c in clusters if np.array([p in c.proteins for p in protein_list]).all()]\n",
    "    if len(plist) == 0:\n",
    "        return None\n",
    "    elif len(plist) == 1:\n",
    "        return plist[0]\n",
    "    else:\n",
    "        return plist\n",
    "    \n",
    "def triangle_search(clusters, min_triangles=0, max_triangles=np.infty):\n",
    "    return [c for c in clusters if c.triangles() >= min_triangles and c.triangles() <= max_triangles]\n",
    "\n",
    "def node_search(clusters, min_nodes=0, max_nodes=np.infty):\n",
    "    return [c for c in clusters if len(c) >= min_nodes and len(c) <= max_nodes]"
   ]
  },
  {
   "cell_type": "markdown",
   "id": "65ca026b-5666-45ca-a6d6-1044d4b4aa50",
   "metadata": {},
   "source": [
    "## Parameters to Modify"
   ]
  },
  {
   "cell_type": "code",
   "execution_count": 8,
   "id": "24887a8c-1d80-4027-91f3-06424dccb20c",
   "metadata": {
    "tags": []
   },
   "outputs": [],
   "source": [
    "net_name = 'Pdam' # TODO: options: 'Pdam', 'SymbC1'\n",
    "BASE_DIR = '..'\n",
    "DATA_DIR = f'{BASE_DIR}/data/'\n",
    "OUTPUT_DIR = f'{BASE_DIR}/results/recipe/'\n",
    "\n",
    "edge_weight_thresh = 0.5\n",
    "n_connecting_edges = 10\n",
    "go_db_file =f\"{DATA_DIR}/go.obo\"\n",
    "goslim_db_file = f\"{DATA_DIR}/goslim_generic.obo\"\n",
    "interactionFile = f'{DATA_DIR}/{net_name}_predictions_positive.tsv'\n",
    "# clusters_file = f\"{OUTPUT_DIR}{net_name}.clusters.csv\"\n",
    "clusters_file = f\"{OUTPUT_DIR}{net_name}.recipe_clusters.csv\"\n",
    "\n",
    "cluster_size_dist_file = f\"{OUTPUT_DIR}{net_name}.clust_size_dist.png\""
   ]
  },
  {
   "cell_type": "markdown",
   "id": "fe762503-e724-4079-92ea-f84b8eb78ea7",
   "metadata": {},
   "source": [
    "---"
   ]
  },
  {
   "cell_type": "markdown",
   "id": "cc81d99b-2938-4f53-afb7-2c422fc5590c",
   "metadata": {},
   "source": [
    "## Load Clusters"
   ]
  },
  {
   "cell_type": "code",
   "execution_count": 9,
   "id": "47600081-2324-4df5-99d1-87fb35cdc0ec",
   "metadata": {
    "tags": []
   },
   "outputs": [],
   "source": [
    "clusters = read_cluster_objects(clusters_file)"
   ]
  },
  {
   "cell_type": "code",
   "execution_count": 10,
   "id": "96e9817f-61c8-4fbb-a7f4-3e9faf19043a",
   "metadata": {
    "tags": []
   },
   "outputs": [],
   "source": [
    "protein_names = set()\n",
    "for c in clusters:\n",
    "    protein_names = protein_names.union(c.proteins)"
   ]
  },
  {
   "cell_type": "code",
   "execution_count": 11,
   "id": "bbdd1daf-7548-4b01-915b-d0f1153b6623",
   "metadata": {
    "tags": []
   },
   "outputs": [
    {
     "name": "stdout",
     "output_type": "stream",
     "text": [
      "Selecting subgraph...\n",
      "Filtering edges with confidence threshold 0.5...\n"
     ]
    },
    {
     "data": {
      "application/vnd.jupyter.widget-view+json": {
       "model_id": "e873814e7a284789a80b49810a869d2f",
       "version_major": 2,
       "version_minor": 0
      },
      "text/plain": [
       "  0%|          | 0/228796 [00:00<?, ?it/s]"
      ]
     },
     "metadata": {},
     "output_type": "display_data"
    }
   ],
   "source": [
    "G_init = nx.read_weighted_edgelist(interactionFile)\n",
    "print('Selecting subgraph...')\n",
    "G_sub = G_init.subgraph(protein_names)\n",
    "print('Filtering edges with confidence threshold {}...'.format(edge_weight_thresh))\n",
    "G = nx.Graph()\n",
    "for (u,v,d) in tqdm(G_sub.edges.data()):\n",
    "    if d['weight'] >= edge_weight_thresh:\n",
    "        G.add_edge(u,v,weight=d['weight'])\n",
    "degrees = [i[1] for i in list(G.degree())]"
   ]
  },
  {
   "cell_type": "code",
   "execution_count": 12,
   "id": "1b987548-cf3c-4e00-9809-b24f6ecea3d6",
   "metadata": {
    "tags": []
   },
   "outputs": [],
   "source": [
    "for i in clusters:\n",
    "    i.set_graph(G)"
   ]
  },
  {
   "cell_type": "code",
   "execution_count": 39,
   "id": "4d438438-115f-4d59-b38b-8764de4cf0a8",
   "metadata": {
    "tags": []
   },
   "outputs": [],
   "source": [
    "for c in clusters:\n",
    "    if hash(c) == 363960421304215792:\n",
    "        break"
   ]
  },
  {
   "cell_type": "code",
   "execution_count": 43,
   "id": "fdc67659-64a7-427e-961b-3738e41bac5b",
   "metadata": {
    "tags": []
   },
   "outputs": [],
   "source": [
    "nx.write_edgelist(c.G,'test.csv')"
   ]
  },
  {
   "cell_type": "code",
   "execution_count": 13,
   "id": "47e63177-5d9d-4abf-9ff6-d1fad230517e",
   "metadata": {
    "tags": []
   },
   "outputs": [
    {
     "name": "stdout",
     "output_type": "stream",
     "text": [
      "Number of clusters: 582\n",
      "Average cluster size: 25.84020618556701\n"
     ]
    },
    {
     "data": {
      "image/png": "[encoded data removed]",
      "text/plain": [
       "<Figure size 432x288 with 1 Axes>"
      ]
     },
     "metadata": {
      "needs_background": "light"
     },
     "output_type": "display_data"
    }
   ],
   "source": [
    "sns.set(style=\"white\",font_scale=1.3)\n",
    "print(f\"Number of clusters: {len(clusters)}\")\n",
    "print(f\"Average cluster size: {np.mean([len(i) for i in clusters])}\")\n",
    "plt.hist([len(i) for i in clusters],bins=np.arange(0,30,1))\n",
    "plt.xlabel(\"Cluster Size\")\n",
    "plt.ylabel(\"Number of Clusters\")\n",
    "sns.despine()\n",
    "plt.savefig(cluster_size_dist_file,dpi=300,bbox_inches='tight',transparent=True)\n",
    "plt.show()"
   ]
  },
  {
   "cell_type": "markdown",
   "id": "18beae0c-5c0f-444a-8288-0dabdc53b7c7",
   "metadata": {},
   "source": [
    "---"
   ]
  },
  {
   "cell_type": "markdown",
   "id": "70997c31-aaff-4f24-8bb6-b3975c2330b4",
   "metadata": {
    "tags": []
   },
   "source": [
    "## Add Function to Clusters"
   ]
  },
  {
   "cell_type": "code",
   "execution_count": 14,
   "id": "7b2570a7-0e59-409a-84e5-b5d5f728dcf0",
   "metadata": {
    "tags": []
   },
   "outputs": [],
   "source": [
    "def clean_GO_map(f):\n",
    "    seqDb = pd.read_csv(f,sep=',')\n",
    "    seqDb.columns = ['seq','manual_annot','pfam_list','GO_list']\n",
    "    seqDb['GO_str'] = seqDb['GO_list']\n",
    "    seqDb['GO_list'] = seqDb['GO_str'].str.split(';')\n",
    "    def extract_GO_id_from_list(l):\n",
    "        if isinstance(l,list):\n",
    "            return [i.split('|')[0] for i in l]\n",
    "        else:\n",
    "            return None\n",
    "    seqDb['GO_ids'] = seqDb['GO_list'].apply(extract_GO_id_from_list)\n",
    "    seq2GO = seqDb[['seq','GO_ids']]\n",
    "    seq2GO.columns = ['seq','GO_ids']\n",
    "    return seq2GO"
   ]
  },
  {
   "cell_type": "code",
   "execution_count": 15,
   "id": "80f8a11c-c685-4e36-a617-9b8084381bac",
   "metadata": {
    "tags": []
   },
   "outputs": [],
   "source": [
    "pdamMap = clean_GO_map('~/Work/Coral_Experimental_Validation/Pdam_CV3_E7_Predictions/Pdam_GO_map.csv')"
   ]
  },
  {
   "cell_type": "code",
   "execution_count": 16,
   "id": "cf9f6e9b-3092-4919-a7d1-becaf384fdbc",
   "metadata": {
    "tags": []
   },
   "outputs": [
    {
     "name": "stdout",
     "output_type": "stream",
     "text": [
      "Adding GO Annotations...\n"
     ]
    },
    {
     "data": {
      "application/vnd.jupyter.widget-view+json": {
       "model_id": "2780314622ca48f8b4181e78a0720325",
       "version_major": 2,
       "version_minor": 0
      },
      "text/plain": [
       "  0%|          | 0/582 [00:00<?, ?it/s]"
      ]
     },
     "metadata": {},
     "output_type": "display_data"
    }
   ],
   "source": [
    "GO_OBJECTS = read_GO_obo(go_db_file)\n",
    "GO_SLIM = read_GO_obo(goslim_db_file)\n",
    "print('Adding GO Annotations...')\n",
    "for clust in tqdm(clusters):\n",
    "    clust.add_GO_terms(pdamMap,GO_SLIM)\n",
    "clusters.sort(key=lambda x: len(x), reverse=True)"
   ]
  },
  {
   "cell_type": "code",
   "execution_count": 19,
   "id": "1ecabcbc-7e45-481d-8843-373f728811d5",
   "metadata": {
    "tags": []
   },
   "outputs": [],
   "source": [
    "def clean_top_terms(c, return_counts=True, n_filter=3):\n",
    "    csize = len(c)\n",
    "    tt = c.get_top_terms(1)\n",
    "    if len(tt):\n",
    "        if tt[0][1] < n_filter:\n",
    "            pass\n",
    "        elif return_counts:\n",
    "            return (tt[0][0].name, tt[0][1], csize)\n",
    "        else:\n",
    "            return tt[0][0].name\n",
    "    if return_counts:\n",
    "        return ('', None, csize)\n",
    "    else:\n",
    "        return ''"
   ]
  },
  {
   "cell_type": "code",
   "execution_count": 20,
   "id": "13dccaee-364b-4d99-96ae-2d0174c51053",
   "metadata": {
    "tags": []
   },
   "outputs": [],
   "source": [
    "cluster_top_terms = {hash(c): clean_top_terms(c, return_counts=False) for c in clusters}"
   ]
  },
  {
   "cell_type": "code",
   "execution_count": 21,
   "id": "2d046eb7-317e-4412-b362-1fd98c4f67ba",
   "metadata": {
    "tags": []
   },
   "outputs": [
    {
     "data": {
      "text/plain": [
       "Counter({'inflammatory response': 92,\n",
       "         'DNA binding': 26,\n",
       "         'GTPase activity': 65,\n",
       "         '': 214,\n",
       "         'cell adhesion': 26,\n",
       "         'lipid binding': 27,\n",
       "         'DNA repair': 46,\n",
       "         'RNA binding': 13,\n",
       "         'protein tag activity': 14,\n",
       "         'ligase activity': 9,\n",
       "         'respiratory system process': 6,\n",
       "         'cytoskeletal motor activity': 10,\n",
       "         'protein folding chaperone': 6,\n",
       "         'molecular adaptor activity': 9,\n",
       "         'wound healing': 1,\n",
       "         'virus receptor activity': 15,\n",
       "         'transferase activity': 1,\n",
       "         'histone binding': 2})"
      ]
     },
     "execution_count": 21,
     "metadata": {},
     "output_type": "execute_result"
    }
   ],
   "source": [
    "from collections import Counter\n",
    "counter = Counter(cluster_top_terms.values())\n",
    "counter"
   ]
  },
  {
   "cell_type": "markdown",
   "id": "ac960010-1011-4d66-8f54-2f9fc00d70e3",
   "metadata": {},
   "source": [
    "---"
   ]
  },
  {
   "cell_type": "markdown",
   "id": "6a7c9bba-0517-4cf7-8596-432b77da337e",
   "metadata": {},
   "source": [
    "## Create Cluster Graph"
   ]
  },
  {
   "cell_type": "code",
   "execution_count": 22,
   "id": "57df7e6b-c8bf-4834-8dec-bbab9d0f8f7a",
   "metadata": {
    "tags": []
   },
   "outputs": [],
   "source": [
    "def test_cluster_connection(c1_graph, c2_graph, parent_graph):\n",
    "    return len(list(nx.edge_boundary(parent_graph, c1_graph.nodes, c2_graph.nodes)))"
   ]
  },
  {
   "cell_type": "code",
   "execution_count": null,
   "id": "c564c75b-8c2f-4d1a-b532-8dfc6b511268",
   "metadata": {
    "tags": []
   },
   "outputs": [
    {
     "data": {
      "application/vnd.jupyter.widget-view+json": {
       "model_id": "8d13b88f886d4f3b962db15d2f327dea",
       "version_major": 2,
       "version_minor": 0
      },
      "text/plain": [
       "  0%|          | 0/582 [00:00<?, ?it/s]"
      ]
     },
     "metadata": {},
     "output_type": "display_data"
    }
   ],
   "source": [
    "clusG = nx.Graph()\n",
    "\n",
    "for c in clusters:\n",
    "    clusG.add_node(c, size=len(c))\n",
    "\n",
    "for n in tqdm(clusG.nodes):\n",
    "    for n2 in clusG.nodes:\n",
    "        # thresh = (len(n) + len(n2) // 4)\n",
    "        if n != n2:\n",
    "            n_neighbors = test_cluster_connection(n.G, n2.G, G)\n",
    "            clusG.add_edge(n, n2, weight=n_neighbors)\n",
    "                \n",
    "clusG = nx.relabel_nodes(clusG, {i: hash(i) for i in clusG.nodes})"
   ]
  },
  {
   "cell_type": "code",
   "execution_count": 24,
   "id": "f1932477-077c-4912-aebd-bf4cec21fd0d",
   "metadata": {
    "tags": []
   },
   "outputs": [
    {
     "data": {
      "text/plain": [
       "582"
      ]
     },
     "execution_count": 24,
     "metadata": {},
     "output_type": "execute_result"
    }
   ],
   "source": [
    "clusG.number_of_nodes()"
   ]
  },
  {
   "cell_type": "code",
   "execution_count": 25,
   "id": "c7b7fb6a-58ed-414f-8538-8563f612c30a",
   "metadata": {
    "tags": []
   },
   "outputs": [
    {
     "data": {
      "text/plain": [
       "169071"
      ]
     },
     "execution_count": 25,
     "metadata": {},
     "output_type": "execute_result"
    }
   ],
   "source": [
    "clusG.number_of_edges()"
   ]
  },
  {
   "cell_type": "code",
   "execution_count": 26,
   "id": "0d3ef2ca-3c8c-42ea-a976-d2a7fba98f11",
   "metadata": {
    "tags": []
   },
   "outputs": [],
   "source": [
    "def edge_filter(x1,x2):\n",
    "    return clusG[x1][x2].get(\"weight\") > n_connecting_edges\n",
    "\n",
    "subG = nx.subgraph_view(clusG, filter_edge=edge_filter)"
   ]
  },
  {
   "cell_type": "code",
   "execution_count": 27,
   "id": "da74fddc-4660-4a7d-a50e-1fd89f023c2c",
   "metadata": {
    "tags": []
   },
   "outputs": [
    {
     "data": {
      "text/plain": [
       "(582, 38934)"
      ]
     },
     "execution_count": 27,
     "metadata": {},
     "output_type": "execute_result"
    }
   ],
   "source": [
    "subG.number_of_nodes(), subG.number_of_edges()"
   ]
  },
  {
   "cell_type": "code",
   "execution_count": 28,
   "id": "2c420218-0eab-4774-a394-de67c4c1a3fd",
   "metadata": {
    "tags": []
   },
   "outputs": [
    {
     "data": {
      "image/png": "[encoded data removed]",
      "text/plain": [
       "<Figure size 432x288 with 1 Axes>"
      ]
     },
     "metadata": {
      "needs_background": "light"
     },
     "output_type": "display_data"
    }
   ],
   "source": [
    "plt.hist(nx.get_edge_attributes(subG, 'weight').values(),bins=np.arange(0,500,10))\n",
    "plt.show()"
   ]
  },
  {
   "cell_type": "code",
   "execution_count": 29,
   "id": "4aeef521-4b24-40e1-a032-09046a1d6a7b",
   "metadata": {
    "tags": []
   },
   "outputs": [
    {
     "data": {
      "image/png": "[encoded data removed]",
      "text/plain": [
       "<Figure size 432x288 with 1 Axes>"
      ]
     },
     "metadata": {
      "needs_background": "light"
     },
     "output_type": "display_data"
    }
   ],
   "source": [
    "plt.hist(dict(subG.degree).values())\n",
    "plt.show()"
   ]
  },
  {
   "cell_type": "code",
   "execution_count": 30,
   "id": "ff311cdf-94c8-45b2-8fef-7a4fe78a2cb8",
   "metadata": {
    "tags": []
   },
   "outputs": [],
   "source": [
    "node_sizes = [0.5 * (float(i)**2) for i in nx.get_node_attributes(subG, 'size').values()]"
   ]
  },
  {
   "cell_type": "code",
   "execution_count": 31,
   "id": "8654fabc-86ca-4ce8-9486-53feced11f89",
   "metadata": {
    "tags": []
   },
   "outputs": [
    {
     "data": {
      "image/png": "[encoded data removed]",
      "text/plain": [
       "<Figure size 432x288 with 1 Axes>"
      ]
     },
     "metadata": {
      "needs_background": "light"
     },
     "output_type": "display_data"
    }
   ],
   "source": [
    "plt.hist(node_sizes)\n",
    "plt.show()"
   ]
  },
  {
   "cell_type": "markdown",
   "id": "1f05d6f2-b35c-4f17-900b-ef597477b49c",
   "metadata": {},
   "source": [
    "---"
   ]
  },
  {
   "cell_type": "markdown",
   "id": "d3310b38-4ecb-415f-95c4-7868ceadf502",
   "metadata": {},
   "source": [
    "## Write out results"
   ]
  },
  {
   "cell_type": "code",
   "execution_count": 34,
   "id": "ac8e8c8c-060a-466a-a1ac-80fdaeca55b4",
   "metadata": {
    "tags": []
   },
   "outputs": [],
   "source": [
    "edge_table = nx.to_pandas_edgelist(subG)\n",
    "\n",
    "# Nodes\n",
    "size_table = pd.DataFrame(nx.get_node_attributes(subG, \"size\").items(),columns=[\"key\",\"size\"])\n",
    "fn_table = pd.DataFrame(cluster_top_terms.items(),columns=[\"key\",\"go_fn\"])\n",
    "node_table = pd.merge(size_table, fn_table)"
   ]
  },
  {
   "cell_type": "code",
   "execution_count": 35,
   "id": "70055448-5469-40d7-8287-0ac5efe27da2",
   "metadata": {
    "tags": []
   },
   "outputs": [
    {
     "name": "stdout",
     "output_type": "stream",
     "text": [
      "There are 6 singleton clusters that don't have more than 10 edges to any other cluster\n"
     ]
    }
   ],
   "source": [
    "n_singletons = len(subG.nodes) - len(set(edge_table['source'].values).union(edge_table['target'].values))\n",
    "print(f\"There are {n_singletons} singleton clusters that don't have more than {n_connecting_edges} edges to any other cluster\")"
   ]
  },
  {
   "cell_type": "code",
   "execution_count": 36,
   "id": "c467fa78-7181-4962-9cdf-44146c5fded0",
   "metadata": {
    "tags": []
   },
   "outputs": [
    {
     "data": {
      "text/html": [
       "<div>\n",
       "<style scoped>\n",
       "    .dataframe tbody tr th:only-of-type {\n",
       "        vertical-align: middle;\n",
       "    }\n",
       "\n",
       "    .dataframe tbody tr th {\n",
       "        vertical-align: top;\n",
       "    }\n",
       "\n",
       "    .dataframe thead th {\n",
       "        text-align: right;\n",
       "    }\n",
       "</style>\n",
       "<table border=\"1\" class=\"dataframe\">\n",
       "  <thead>\n",
       "    <tr style=\"text-align: right;\">\n",
       "      <th></th>\n",
       "      <th>source</th>\n",
       "      <th>target</th>\n",
       "      <th>weight</th>\n",
       "    </tr>\n",
       "  </thead>\n",
       "  <tbody>\n",
       "    <tr>\n",
       "      <th>0</th>\n",
       "      <td>363960421304215792</td>\n",
       "      <td>359883270501047316</td>\n",
       "      <td>35</td>\n",
       "    </tr>\n",
       "    <tr>\n",
       "      <th>1</th>\n",
       "      <td>363960421304215792</td>\n",
       "      <td>2025330389306121838</td>\n",
       "      <td>205</td>\n",
       "    </tr>\n",
       "    <tr>\n",
       "      <th>2</th>\n",
       "      <td>363960421304215792</td>\n",
       "      <td>1623409946591431890</td>\n",
       "      <td>33</td>\n",
       "    </tr>\n",
       "    <tr>\n",
       "      <th>3</th>\n",
       "      <td>363960421304215792</td>\n",
       "      <td>91424709824305617</td>\n",
       "      <td>26</td>\n",
       "    </tr>\n",
       "    <tr>\n",
       "      <th>4</th>\n",
       "      <td>363960421304215792</td>\n",
       "      <td>1662471174741809263</td>\n",
       "      <td>171</td>\n",
       "    </tr>\n",
       "    <tr>\n",
       "      <th>...</th>\n",
       "      <td>...</td>\n",
       "      <td>...</td>\n",
       "      <td>...</td>\n",
       "    </tr>\n",
       "    <tr>\n",
       "      <th>38929</th>\n",
       "      <td>364304604371042621</td>\n",
       "      <td>67162367142536626</td>\n",
       "      <td>16</td>\n",
       "    </tr>\n",
       "    <tr>\n",
       "      <th>38930</th>\n",
       "      <td>1067886677771318013</td>\n",
       "      <td>831147252714132541</td>\n",
       "      <td>19</td>\n",
       "    </tr>\n",
       "    <tr>\n",
       "      <th>38931</th>\n",
       "      <td>1154428504703051511</td>\n",
       "      <td>576822774200611005</td>\n",
       "      <td>18</td>\n",
       "    </tr>\n",
       "    <tr>\n",
       "      <th>38932</th>\n",
       "      <td>2156965926792858259</td>\n",
       "      <td>1084133555757787651</td>\n",
       "      <td>15</td>\n",
       "    </tr>\n",
       "    <tr>\n",
       "      <th>38933</th>\n",
       "      <td>50803118481119783</td>\n",
       "      <td>57968931796736467</td>\n",
       "      <td>16</td>\n",
       "    </tr>\n",
       "  </tbody>\n",
       "</table>\n",
       "<p>38934 rows × 3 columns</p>\n",
       "</div>"
      ],
      "text/plain": [
       "                    source               target  weight\n",
       "0       363960421304215792   359883270501047316      35\n",
       "1       363960421304215792  2025330389306121838     205\n",
       "2       363960421304215792  1623409946591431890      33\n",
       "3       363960421304215792    91424709824305617      26\n",
       "4       363960421304215792  1662471174741809263     171\n",
       "...                    ...                  ...     ...\n",
       "38929   364304604371042621    67162367142536626      16\n",
       "38930  1067886677771318013   831147252714132541      19\n",
       "38931  1154428504703051511   576822774200611005      18\n",
       "38932  2156965926792858259  1084133555757787651      15\n",
       "38933    50803118481119783    57968931796736467      16\n",
       "\n",
       "[38934 rows x 3 columns]"
      ]
     },
     "execution_count": 36,
     "metadata": {},
     "output_type": "execute_result"
    }
   ],
   "source": [
    "edge_table"
   ]
  },
  {
   "cell_type": "code",
   "execution_count": 37,
   "id": "6789b474-c6ef-4360-b595-565304ae6269",
   "metadata": {
    "tags": []
   },
   "outputs": [
    {
     "data": {
      "text/html": [
       "<div>\n",
       "<style scoped>\n",
       "    .dataframe tbody tr th:only-of-type {\n",
       "        vertical-align: middle;\n",
       "    }\n",
       "\n",
       "    .dataframe tbody tr th {\n",
       "        vertical-align: top;\n",
       "    }\n",
       "\n",
       "    .dataframe thead th {\n",
       "        text-align: right;\n",
       "    }\n",
       "</style>\n",
       "<table border=\"1\" class=\"dataframe\">\n",
       "  <thead>\n",
       "    <tr style=\"text-align: right;\">\n",
       "      <th></th>\n",
       "      <th>key</th>\n",
       "      <th>size</th>\n",
       "      <th>go_fn</th>\n",
       "    </tr>\n",
       "  </thead>\n",
       "  <tbody>\n",
       "    <tr>\n",
       "      <th>0</th>\n",
       "      <td>363960421304215792</td>\n",
       "      <td>49</td>\n",
       "      <td>inflammatory response</td>\n",
       "    </tr>\n",
       "    <tr>\n",
       "      <th>1</th>\n",
       "      <td>420125125993818156</td>\n",
       "      <td>49</td>\n",
       "      <td>DNA binding</td>\n",
       "    </tr>\n",
       "    <tr>\n",
       "      <th>2</th>\n",
       "      <td>817247548740825171</td>\n",
       "      <td>49</td>\n",
       "      <td>GTPase activity</td>\n",
       "    </tr>\n",
       "    <tr>\n",
       "      <th>3</th>\n",
       "      <td>1356119026293421342</td>\n",
       "      <td>49</td>\n",
       "      <td>inflammatory response</td>\n",
       "    </tr>\n",
       "    <tr>\n",
       "      <th>4</th>\n",
       "      <td>647059392050788147</td>\n",
       "      <td>49</td>\n",
       "      <td>GTPase activity</td>\n",
       "    </tr>\n",
       "    <tr>\n",
       "      <th>...</th>\n",
       "      <td>...</td>\n",
       "      <td>...</td>\n",
       "      <td>...</td>\n",
       "    </tr>\n",
       "    <tr>\n",
       "      <th>577</th>\n",
       "      <td>1257609815485020910</td>\n",
       "      <td>4</td>\n",
       "      <td></td>\n",
       "    </tr>\n",
       "    <tr>\n",
       "      <th>578</th>\n",
       "      <td>351383025400686933</td>\n",
       "      <td>3</td>\n",
       "      <td></td>\n",
       "    </tr>\n",
       "    <tr>\n",
       "      <th>579</th>\n",
       "      <td>969183092647515912</td>\n",
       "      <td>3</td>\n",
       "      <td></td>\n",
       "    </tr>\n",
       "    <tr>\n",
       "      <th>580</th>\n",
       "      <td>1498143238953243663</td>\n",
       "      <td>3</td>\n",
       "      <td></td>\n",
       "    </tr>\n",
       "    <tr>\n",
       "      <th>581</th>\n",
       "      <td>2009745294675432931</td>\n",
       "      <td>3</td>\n",
       "      <td></td>\n",
       "    </tr>\n",
       "  </tbody>\n",
       "</table>\n",
       "<p>582 rows × 3 columns</p>\n",
       "</div>"
      ],
      "text/plain": [
       "                     key  size                  go_fn\n",
       "0     363960421304215792    49  inflammatory response\n",
       "1     420125125993818156    49            DNA binding\n",
       "2     817247548740825171    49        GTPase activity\n",
       "3    1356119026293421342    49  inflammatory response\n",
       "4     647059392050788147    49        GTPase activity\n",
       "..                   ...   ...                    ...\n",
       "577  1257609815485020910     4                       \n",
       "578   351383025400686933     3                       \n",
       "579   969183092647515912     3                       \n",
       "580  1498143238953243663     3                       \n",
       "581  2009745294675432931     3                       \n",
       "\n",
       "[582 rows x 3 columns]"
      ]
     },
     "execution_count": 37,
     "metadata": {},
     "output_type": "execute_result"
    }
   ],
   "source": [
    "node_table"
   ]
  },
  {
   "cell_type": "code",
   "execution_count": 38,
   "id": "56cc2892-ea26-441d-96b4-c83c37cb9722",
   "metadata": {
    "tags": []
   },
   "outputs": [],
   "source": [
    "edge_table.to_csv(f\"{OUTPUT_DIR}/{net_name}_recipe_cluster_graph.csv\",index=False)\n",
    "node_table.to_csv(f\"{OUTPUT_DIR}/{net_name}_recipe_cluster_graph_nodes.csv\",index=False)"
   ]
  },
  {
   "cell_type": "code",
   "execution_count": null,
   "id": "9aab09a1-d3af-4529-a570-094baf1f4145",
   "metadata": {},
   "outputs": [],
   "source": []
  }
 ],
 "metadata": {
  "kernelspec": {
   "display_name": "Python [conda env:dsplat]",
   "language": "python",
   "name": "conda-env-dsplat-py"
  },
  "language_info": {
   "codemirror_mode": {
    "name": "ipython",
    "version": 3
   },
   "file_extension": ".py",
   "mimetype": "text/x-python",
   "name": "python",
   "nbconvert_exporter": "python",
   "pygments_lexer": "ipython3",
   "version": "3.9.15"
  }
 },
 "nbformat": 4,
 "nbformat_minor": 5
}
