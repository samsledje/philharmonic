{
 "cells": [
  {
   "cell_type": "markdown",
   "id": "84d2eb78",
   "metadata": {},
   "source": [
    "# Gene Expression Analysis\n",
    "\n",
    "Lorem ipsum..."
   ]
  },
  {
   "cell_type": "code",
   "execution_count": 1,
   "id": "7cf527f8",
   "metadata": {},
   "outputs": [],
   "source": [
    "from itertools import product\n",
    "from pathlib import Path\n",
    "\n",
    "import matplotlib.pyplot as plt\n",
    "import networkx as nx\n",
    "import numpy as np\n",
    "import pandas as pd\n",
    "import seaborn as sns\n",
    "from loguru import logger\n",
    "from scipy.stats import ttest_rel\n",
    "from tqdm import tqdm\n",
    "\n",
    "from philharmonic.utils import (\n",
    "    load_cluster_json,\n",
    "    parse_GO_database,\n",
    ")"
   ]
  },
  {
   "cell_type": "code",
   "execution_count": 2,
   "id": "24a5363c",
   "metadata": {},
   "outputs": [],
   "source": [
    "# Initial Files\n",
    "cluster_file_path = \"/mnt/home/ssledzieski/Projects/philharmonic-experiments/results/p_damicornis/20240917-pdamAll-phil_v0.3.0/20240917-pdamAll-phil_v0.3.0_clusters.functional.json\"\n",
    "network_file_path = \"/mnt/home/ssledzieski/Projects/philharmonic-experiments/results/p_damicornis/20240917-pdamAll-phil_v0.3.0/20240917-pdamAll-phil_v0.3.0_network.positive.tsv\"\n",
    "go_map_path = \"/mnt/home/ssledzieski/Projects/philharmonic-experiments/results/p_damicornis/20240917-pdamAll-phil_v0.3.0/20240917-pdamAll-phil_v0.3.0_GO_map.csv\"\n",
    "\n",
    "GO_DB = \"/mnt/home/ssledzieski/Projects/philharmonic-experiments/results/p_damicornis/20240917-pdamAll-phil_v0.3.0/go.obo\"\n",
    "\n",
    "# Gene Expression Datas\n",
    "expression_file_path = \"/mnt/home/ssledzieski/database/philharmonic/p_damicornis/Connelly2022_AxH_Pdam.counts\"\n",
    "deg_file_path = \"/mnt/home/ssledzieski/database/philharmonic/p_damicornis/Connelly2022_SupplementaryData.xlsx\"\n",
    "\n",
    "# Output paths\n",
    "prot_deg_cytoscape_table = \"/mnt/home/ssledzieski/Projects/philharmonic-experiments/results/p_damicornis/20240917-pdamAll-phil_v0.3.0/20240917-pdamAll-phil_v0.3.0_proteins.deg.tsv\"\n",
    "clust_deg_cytoscape_table = \"/mnt/home/ssledzieski/Projects/philharmonic-experiments/results/p_damicornis/20240917-pdamAll-phil_v0.3.0/20240917-pdamAll-phil_v0.3.0_clusters.deg.tsv\"\n",
    "\n",
    "IMG_DIR = Path(\"/mnt/home/ssledzieski/Projects/philharmonic-experiments/img/pdam\")"
   ]
  },
  {
   "cell_type": "markdown",
   "id": "cc93f647",
   "metadata": {},
   "source": [
    "---"
   ]
  },
  {
   "cell_type": "markdown",
   "id": "b7661ad6",
   "metadata": {},
   "source": [
    "## Load Files"
   ]
  },
  {
   "cell_type": "code",
   "execution_count": 3,
   "id": "7b309d27-4e35-413e-a49c-843d1f936463",
   "metadata": {
    "tags": []
   },
   "outputs": [],
   "source": [
    "cluster_dict = load_cluster_json(cluster_file_path)\n",
    "go_database = parse_GO_database(GO_DB)\n",
    "full_G = nx.read_weighted_edgelist(network_file_path, delimiter=\"\\t\")"
   ]
  },
  {
   "cell_type": "code",
   "execution_count": 4,
   "id": "193317b4",
   "metadata": {},
   "outputs": [],
   "source": [
    "deg_df = pd.read_excel(\n",
    "    deg_file_path,\n",
    "    sheet_name=\"Table_S4A_DEGs_coral\",\n",
    "    header=1,\n",
    "    index_col=0,\n",
    ").rename(\n",
    "    {\n",
    "        \"DE_Heat\": \"DE_Heat_control\",\n",
    "        \"DE_Antibiotics\": \"DE_Antibiotics_control\",\n",
    "        \"DE_Antibiotics.Heat\": \"DE_Antibiotics.Heat_control\",\n",
    "    },\n",
    "    axis=1,\n",
    ")\n",
    "deg_df.index = deg_df.index + \"-RA\""
   ]
  },
  {
   "cell_type": "code",
   "execution_count": 5,
   "id": "14026d77",
   "metadata": {},
   "outputs": [],
   "source": [
    "expression_df = pd.read_csv(expression_file_path, sep=\"\\t\", skiprows=1)\n",
    "expression_df.columns = [i.split(\"/\")[-1].split(\"_\")[0] for i in expression_df.columns]\n",
    "expression_df[\"Geneid\"] = expression_df[\"Geneid\"] + \"-RA\"\n",
    "expression_df = expression_df.set_index(\"Geneid\")\n",
    "expression_df = expression_df.iloc[:, 5:]"
   ]
  },
  {
   "cell_type": "markdown",
   "id": "c6bd6e7c",
   "metadata": {},
   "source": [
    "---"
   ]
  },
  {
   "cell_type": "markdown",
   "id": "8f2e152c-0f33-4944-b8d2-580e86ea17e7",
   "metadata": {},
   "source": [
    "## Raw Expression"
   ]
  },
  {
   "cell_type": "code",
   "execution_count": 6,
   "id": "a7f8a260",
   "metadata": {},
   "outputs": [],
   "source": [
    "philharmonic_proteins = set.union(\n",
    "    *[\n",
    "        set(i[\"members\"] + list(i[\"recipe\"][\"degree\"][\"0.75\"]))\n",
    "        for i in cluster_dict.values()\n",
    "    ]\n",
    ")\n",
    "expression_philharmonic = expression_df.loc[\n",
    "    expression_df.index.intersection(philharmonic_proteins)\n",
    "]"
   ]
  },
  {
   "cell_type": "code",
   "execution_count": 7,
   "id": "83a1d55e-603c-4010-adc4-59ccca9208eb",
   "metadata": {},
   "outputs": [
    {
     "name": "stderr",
     "output_type": "stream",
     "text": [
      "\u001b[32m2024-10-21 10:56:38.797\u001b[0m | \u001b[1mINFO    \u001b[0m | \u001b[36m__main__\u001b[0m:\u001b[36m<module>\u001b[0m:\u001b[36m1\u001b[0m - \u001b[1mExpression data has shape: (7242, 47)\u001b[0m\n"
     ]
    },
    {
     "data": {
      "text/html": [
       "<div>\n",
       "<style scoped>\n",
       "    .dataframe tbody tr th:only-of-type {\n",
       "        vertical-align: middle;\n",
       "    }\n",
       "\n",
       "    .dataframe tbody tr th {\n",
       "        vertical-align: top;\n",
       "    }\n",
       "\n",
       "    .dataframe thead th {\n",
       "        text-align: right;\n",
       "    }\n",
       "</style>\n",
       "<table border=\"1\" class=\"dataframe\">\n",
       "  <thead>\n",
       "    <tr style=\"text-align: right;\">\n",
       "      <th></th>\n",
       "      <th>Hw1-1a</th>\n",
       "      <th>Hw1-1b</th>\n",
       "      <th>Hw1-1c</th>\n",
       "      <th>Hw1-4a</th>\n",
       "      <th>Hw1-4b</th>\n",
       "      <th>Hw1-4c</th>\n",
       "      <th>Hw1-5a</th>\n",
       "      <th>Hw1-5b</th>\n",
       "      <th>Hw1-5c</th>\n",
       "      <th>Hw1-6a</th>\n",
       "      <th>...</th>\n",
       "      <th>Wt2-1c</th>\n",
       "      <th>Wt2-4a</th>\n",
       "      <th>Wt2-4b</th>\n",
       "      <th>Wt2-4c</th>\n",
       "      <th>Wt2-5a</th>\n",
       "      <th>Wt2-5b</th>\n",
       "      <th>Wt2-5c</th>\n",
       "      <th>Wt2-6a</th>\n",
       "      <th>Wt2-6b</th>\n",
       "      <th>Wt2-6c</th>\n",
       "    </tr>\n",
       "    <tr>\n",
       "      <th>Geneid</th>\n",
       "      <th></th>\n",
       "      <th></th>\n",
       "      <th></th>\n",
       "      <th></th>\n",
       "      <th></th>\n",
       "      <th></th>\n",
       "      <th></th>\n",
       "      <th></th>\n",
       "      <th></th>\n",
       "      <th></th>\n",
       "      <th></th>\n",
       "      <th></th>\n",
       "      <th></th>\n",
       "      <th></th>\n",
       "      <th></th>\n",
       "      <th></th>\n",
       "      <th></th>\n",
       "      <th></th>\n",
       "      <th></th>\n",
       "      <th></th>\n",
       "      <th></th>\n",
       "    </tr>\n",
       "  </thead>\n",
       "  <tbody>\n",
       "    <tr>\n",
       "      <th>pdam_00021773-RA</th>\n",
       "      <td>292</td>\n",
       "      <td>72</td>\n",
       "      <td>77</td>\n",
       "      <td>26</td>\n",
       "      <td>8</td>\n",
       "      <td>37</td>\n",
       "      <td>353</td>\n",
       "      <td>51</td>\n",
       "      <td>271</td>\n",
       "      <td>380</td>\n",
       "      <td>...</td>\n",
       "      <td>6</td>\n",
       "      <td>5</td>\n",
       "      <td>34</td>\n",
       "      <td>16</td>\n",
       "      <td>30</td>\n",
       "      <td>23</td>\n",
       "      <td>2</td>\n",
       "      <td>28</td>\n",
       "      <td>13</td>\n",
       "      <td>25</td>\n",
       "    </tr>\n",
       "    <tr>\n",
       "      <th>pdam_00022011-RA</th>\n",
       "      <td>1</td>\n",
       "      <td>10</td>\n",
       "      <td>6</td>\n",
       "      <td>8</td>\n",
       "      <td>15</td>\n",
       "      <td>7</td>\n",
       "      <td>17</td>\n",
       "      <td>27</td>\n",
       "      <td>10</td>\n",
       "      <td>18</td>\n",
       "      <td>...</td>\n",
       "      <td>17</td>\n",
       "      <td>23</td>\n",
       "      <td>74</td>\n",
       "      <td>101</td>\n",
       "      <td>47</td>\n",
       "      <td>31</td>\n",
       "      <td>39</td>\n",
       "      <td>67</td>\n",
       "      <td>74</td>\n",
       "      <td>79</td>\n",
       "    </tr>\n",
       "    <tr>\n",
       "      <th>pdam_00012251-RA</th>\n",
       "      <td>925</td>\n",
       "      <td>1950</td>\n",
       "      <td>1260</td>\n",
       "      <td>624</td>\n",
       "      <td>1104</td>\n",
       "      <td>1154</td>\n",
       "      <td>2973</td>\n",
       "      <td>1975</td>\n",
       "      <td>1960</td>\n",
       "      <td>2170</td>\n",
       "      <td>...</td>\n",
       "      <td>1215</td>\n",
       "      <td>1117</td>\n",
       "      <td>1905</td>\n",
       "      <td>1670</td>\n",
       "      <td>1574</td>\n",
       "      <td>1933</td>\n",
       "      <td>1502</td>\n",
       "      <td>1813</td>\n",
       "      <td>1460</td>\n",
       "      <td>1686</td>\n",
       "    </tr>\n",
       "    <tr>\n",
       "      <th>pdam_00012254-RA</th>\n",
       "      <td>110</td>\n",
       "      <td>278</td>\n",
       "      <td>197</td>\n",
       "      <td>159</td>\n",
       "      <td>164</td>\n",
       "      <td>253</td>\n",
       "      <td>362</td>\n",
       "      <td>523</td>\n",
       "      <td>424</td>\n",
       "      <td>356</td>\n",
       "      <td>...</td>\n",
       "      <td>370</td>\n",
       "      <td>334</td>\n",
       "      <td>618</td>\n",
       "      <td>514</td>\n",
       "      <td>577</td>\n",
       "      <td>550</td>\n",
       "      <td>353</td>\n",
       "      <td>715</td>\n",
       "      <td>347</td>\n",
       "      <td>502</td>\n",
       "    </tr>\n",
       "    <tr>\n",
       "      <th>pdam_00012261-RA</th>\n",
       "      <td>5</td>\n",
       "      <td>7</td>\n",
       "      <td>26</td>\n",
       "      <td>30</td>\n",
       "      <td>26</td>\n",
       "      <td>14</td>\n",
       "      <td>68</td>\n",
       "      <td>103</td>\n",
       "      <td>50</td>\n",
       "      <td>46</td>\n",
       "      <td>...</td>\n",
       "      <td>104</td>\n",
       "      <td>30</td>\n",
       "      <td>188</td>\n",
       "      <td>279</td>\n",
       "      <td>156</td>\n",
       "      <td>203</td>\n",
       "      <td>100</td>\n",
       "      <td>273</td>\n",
       "      <td>246</td>\n",
       "      <td>185</td>\n",
       "    </tr>\n",
       "  </tbody>\n",
       "</table>\n",
       "<p>5 rows × 47 columns</p>\n",
       "</div>"
      ],
      "text/plain": [
       "                  Hw1-1a  Hw1-1b  Hw1-1c  Hw1-4a  Hw1-4b  Hw1-4c  Hw1-5a  \\\n",
       "Geneid                                                                     \n",
       "pdam_00021773-RA     292      72      77      26       8      37     353   \n",
       "pdam_00022011-RA       1      10       6       8      15       7      17   \n",
       "pdam_00012251-RA     925    1950    1260     624    1104    1154    2973   \n",
       "pdam_00012254-RA     110     278     197     159     164     253     362   \n",
       "pdam_00012261-RA       5       7      26      30      26      14      68   \n",
       "\n",
       "                  Hw1-5b  Hw1-5c  Hw1-6a  ...  Wt2-1c  Wt2-4a  Wt2-4b  Wt2-4c  \\\n",
       "Geneid                                    ...                                   \n",
       "pdam_00021773-RA      51     271     380  ...       6       5      34      16   \n",
       "pdam_00022011-RA      27      10      18  ...      17      23      74     101   \n",
       "pdam_00012251-RA    1975    1960    2170  ...    1215    1117    1905    1670   \n",
       "pdam_00012254-RA     523     424     356  ...     370     334     618     514   \n",
       "pdam_00012261-RA     103      50      46  ...     104      30     188     279   \n",
       "\n",
       "                  Wt2-5a  Wt2-5b  Wt2-5c  Wt2-6a  Wt2-6b  Wt2-6c  \n",
       "Geneid                                                            \n",
       "pdam_00021773-RA      30      23       2      28      13      25  \n",
       "pdam_00022011-RA      47      31      39      67      74      79  \n",
       "pdam_00012251-RA    1574    1933    1502    1813    1460    1686  \n",
       "pdam_00012254-RA     577     550     353     715     347     502  \n",
       "pdam_00012261-RA     156     203     100     273     246     185  \n",
       "\n",
       "[5 rows x 47 columns]"
      ]
     },
     "execution_count": 7,
     "metadata": {},
     "output_type": "execute_result"
    }
   ],
   "source": [
    "logger.info(f\"Expression data has shape: {expression_philharmonic.shape}\")\n",
    "expression_philharmonic.head()"
   ]
  },
  {
   "cell_type": "markdown",
   "id": "c8a7fc67",
   "metadata": {},
   "source": [
    "Following Connelly et al., we apply a variance-stabilizing transformation to expression counts, then compute the pairwise bi-weighted mid-correlation between genes."
   ]
  },
  {
   "cell_type": "code",
   "execution_count": 8,
   "id": "dc4c37af",
   "metadata": {},
   "outputs": [],
   "source": [
    "def vst(counts, alpha=1):\n",
    "    \"\"\"\n",
    "    Apply a variance stabilizing transformation to count data.\n",
    "\n",
    "    Parameters:\n",
    "    counts (array-like): The input count data\n",
    "    alpha (float): A small constant to avoid taking log of zero\n",
    "\n",
    "    Returns:\n",
    "    numpy.ndarray: The transformed data\n",
    "    \"\"\"\n",
    "    counts = np.asarray(counts)\n",
    "    return np.log2(counts + np.sqrt(counts + alpha**2))\n",
    "\n",
    "\n",
    "def bicor_matrix(X, epsilon=1e-12):\n",
    "    \"\"\"\n",
    "    Compute pairwise bi-weight mid-correlation for all genes.\n",
    "\n",
    "    Parameters:\n",
    "    X (np.ndarray): A 2D array of shape (n_genes, n_samples) containing normalized count data\n",
    "    epsilon (float): Small value to avoid division by zero\n",
    "\n",
    "    Returns:\n",
    "    np.ndarray: A 2D array of shape (n_genes, n_genes) containing pairwise correlations\n",
    "    \"\"\"\n",
    "    # Compute median and MAD for each gene\n",
    "    gene_medians = np.median(X, axis=1)\n",
    "    gene_mads = np.median(np.abs(X - gene_medians[:, np.newaxis]), axis=1)\n",
    "\n",
    "    # Handle genes with zero MAD\n",
    "    gene_mads = np.maximum(gene_mads, epsilon)\n",
    "\n",
    "    # Compute U matrix\n",
    "    U = (X - gene_medians[:, np.newaxis]) / (9 * gene_mads[:, np.newaxis])\n",
    "\n",
    "    # Compute weights\n",
    "    W = (1 - U**2) ** 2\n",
    "    W[np.abs(U) >= 1] = 0\n",
    "\n",
    "    # Compute weighted centered expression\n",
    "    X_weighted = W * (X - gene_medians[:, np.newaxis])\n",
    "\n",
    "    # Compute pairwise correlations\n",
    "    norms = np.sqrt(np.sum(X_weighted**2, axis=1))\n",
    "    norms = np.maximum(norms, epsilon)  # Avoid division by zero\n",
    "    corr_matrix = np.dot(X_weighted, X_weighted.T) / np.outer(norms, norms)\n",
    "\n",
    "    # Set diagonal to 1 and handle numerical instability\n",
    "    np.fill_diagonal(corr_matrix, 1)\n",
    "    corr_matrix = np.clip(corr_matrix, -1, 1)\n",
    "\n",
    "    return corr_matrix"
   ]
  },
  {
   "cell_type": "code",
   "execution_count": 9,
   "id": "650c19d1",
   "metadata": {},
   "outputs": [
    {
     "name": "stderr",
     "output_type": "stream",
     "text": [
      "\u001b[32m2024-10-21 10:56:42.097\u001b[0m | \u001b[1mINFO    \u001b[0m | \u001b[36m__main__\u001b[0m:\u001b[36m<module>\u001b[0m:\u001b[36m8\u001b[0m - \u001b[1mExpression data has shape: (26077, 47)\u001b[0m\n",
      "\u001b[32m2024-10-21 10:56:42.098\u001b[0m | \u001b[1mINFO    \u001b[0m | \u001b[36m__main__\u001b[0m:\u001b[36m<module>\u001b[0m:\u001b[36m9\u001b[0m - \u001b[1mDense correlation matrix has shape: (20496, 20496)\u001b[0m\n",
      "\u001b[32m2024-10-21 10:56:42.655\u001b[0m | \u001b[1mINFO    \u001b[0m | \u001b[36m__main__\u001b[0m:\u001b[36m<module>\u001b[0m:\u001b[36m10\u001b[0m - \u001b[1mDense correlation matrix has 0 NaN values\u001b[0m\n"
     ]
    }
   ],
   "source": [
    "dense_df = expression_df[\n",
    "    np.sum(expression_df > 0, axis=1) > expression_df.shape[1] * 0.5\n",
    "]\n",
    "dense_corr = bicor_matrix(vst(dense_df.values))\n",
    "dense_corr_df = pd.DataFrame(\n",
    "    dense_corr,\n",
    "    index=dense_df.index,\n",
    "    columns=dense_df.index,\n",
    ")\n",
    "logger.info(f\"Expression data has shape: {expression_df.shape}\")\n",
    "logger.info(f\"Dense correlation matrix has shape: {dense_corr_df.shape}\")\n",
    "logger.info(f\"Dense correlation matrix has {np.sum(np.isnan(dense_corr))} NaN values\")"
   ]
  },
  {
   "cell_type": "code",
   "execution_count": 10,
   "id": "5e46a19e",
   "metadata": {},
   "outputs": [
    {
     "name": "stderr",
     "output_type": "stream",
     "text": [
      "\u001b[32m2024-10-21 10:56:42.673\u001b[0m | \u001b[1mINFO    \u001b[0m | \u001b[36m__main__\u001b[0m:\u001b[36m<module>\u001b[0m:\u001b[36m4\u001b[0m - \u001b[1mRemoved 5581 proteins from the expression data because of sparsity, 796 which were in clusters.\u001b[0m\n"
     ]
    }
   ],
   "source": [
    "cluster_proteins = set.union(*[set(i[\"members\"]) for i in cluster_dict.values()])\n",
    "removed_proteins = set(expression_df.index).difference(dense_corr_df.index)\n",
    "removed_cluster_proteins = cluster_proteins.intersection(removed_proteins)\n",
    "logger.info(\n",
    "    f\"Removed {len(removed_proteins)} proteins from the expression data because of sparsity, {len(removed_cluster_proteins)} which were in clusters.\"\n",
    ")"
   ]
  },
  {
   "cell_type": "code",
   "execution_count": 11,
   "id": "cd14bba1",
   "metadata": {},
   "outputs": [],
   "source": [
    "def extract_cluster_correlations(\n",
    "    cluster_members, correlation_df, summary_func=None, dataframe=False\n",
    "):\n",
    "    \"\"\"\n",
    "    Extract the lower diagonal of pairwise correlations for a set of genes.\n",
    "\n",
    "    Parameters:\n",
    "    cluster_members (list): A list of gene names\n",
    "    correlation_df (pd.DataFrame): A DataFrame containing pairwise correlations\n",
    "\n",
    "    Returns:\n",
    "    pd.DataFrame: A DataFrame containing pairwise correlations for the input genes\n",
    "    \"\"\"\n",
    "    members = list(set(cluster_members).intersection(correlation_df.index))\n",
    "    cluster_correlations = correlation_df.loc[members, members].values[\n",
    "        np.tril_indices(len(members), k=-1)\n",
    "    ]\n",
    "    if summary_func:\n",
    "        return summary_func(cluster_correlations)\n",
    "    elif dataframe:\n",
    "        return correlation_df.loc[members, members]\n",
    "    else:\n",
    "        return cluster_correlations\n",
    "\n",
    "\n",
    "def resample_correlation_matrix(correlation_df, random_seed=42):\n",
    "    \"\"\"\n",
    "    Randomly re-order the row and column names and reassign them to a correlation matrix.\n",
    "    \"\"\"\n",
    "    from copy import deepcopy\n",
    "\n",
    "    new_df = deepcopy(correlation_df)\n",
    "    rng = np.random.default_rng(random_seed)\n",
    "    new_prot_order = rng.permutation(new_df.index)\n",
    "    new_df.index = new_prot_order\n",
    "    new_df.columns = new_prot_order\n",
    "    return new_df"
   ]
  },
  {
   "cell_type": "code",
   "execution_count": 12,
   "id": "ac6d8f11",
   "metadata": {},
   "outputs": [
    {
     "name": "stderr",
     "output_type": "stream",
     "text": [
      "100%|██████████| 468/468 [00:02<00:00, 169.19it/s]\n",
      "100%|██████████| 468/468 [00:00<00:00, 486.82it/s]\n"
     ]
    }
   ],
   "source": [
    "rand_correlation_df = resample_correlation_matrix(dense_corr_df)\n",
    "\n",
    "cluster_corr_df = pd.DataFrame(\n",
    "    {\n",
    "        \"key\": cluster_dict.keys(),\n",
    "        \"True\": [\n",
    "            extract_cluster_correlations(\n",
    "                c[\"members\"] + list(c[\"recipe\"][\"degree\"][\"0.75\"]),\n",
    "                dense_corr_df,\n",
    "                np.median,\n",
    "            )\n",
    "            for c in tqdm(cluster_dict.values(), total=len(cluster_dict))\n",
    "        ],\n",
    "        \"Randomized\": [\n",
    "            extract_cluster_correlations(\n",
    "                c[\"members\"] + list(c[\"recipe\"][\"degree\"][\"0.75\"]),\n",
    "                rand_correlation_df,\n",
    "                np.median,\n",
    "            )\n",
    "            for c in tqdm(cluster_dict.values(), total=len(cluster_dict))\n",
    "        ],\n",
    "    }\n",
    ")"
   ]
  },
  {
   "cell_type": "code",
   "execution_count": 13,
   "id": "79a923db",
   "metadata": {},
   "outputs": [
    {
     "data": {
      "image/png": "[encoded data removed]",
      "text/plain": [
       "<Figure size 1000x800 with 2 Axes>"
      ]
     },
     "metadata": {},
     "output_type": "display_data"
    }
   ],
   "source": [
    "sns.set_palette(\"colorblind\")\n",
    "sns.set_theme(style=\"white\", palette=\"pastel\", font_scale=1)\n",
    "\n",
    "tstat_rand, p_rand = ttest_rel(\n",
    "    cluster_corr_df[\"True\"], cluster_corr_df[\"Randomized\"], alternative=\"greater\"\n",
    ")\n",
    "\n",
    "plot_df = cluster_corr_df.melt(\"key\").rename(\n",
    "    {\"value\": \"Median Bi-Weight Mid Correlation\", \"variable\": \"Expression Data\"}, axis=1\n",
    ")\n",
    "\n",
    "# Create figure and gridspec\n",
    "fig = plt.figure(figsize=(10, 8))\n",
    "gs = fig.add_gridspec(2, 1, height_ratios=[3, 2], hspace=0.05)\n",
    "\n",
    "# Create top subplot for histogram\n",
    "ax0 = fig.add_subplot(gs[0])\n",
    "ax1 = fig.add_subplot(gs[1])\n",
    "\n",
    "sns.histplot(\n",
    "    data=plot_df,\n",
    "    x=\"Median Bi-Weight Mid Correlation\",\n",
    "    hue=\"Expression Data\",\n",
    "    alpha=0.3,\n",
    "    kde=True,\n",
    "    bins=np.arange(-0.1, 1.05, 0.01),\n",
    "    palette=[\"blue\", \"red\"],\n",
    "    common_norm=False,\n",
    "    ec=\"white\",\n",
    "    ax=ax0,\n",
    ")\n",
    "\n",
    "sns.boxplot(\n",
    "    data=cluster_corr_df.melt(\"key\"),\n",
    "    x=\"value\",\n",
    "    hue=\"variable\",\n",
    "    palette=[\"blue\", \"red\"],\n",
    "    ax=ax1,\n",
    ")\n",
    "\n",
    "ax0.set_xlabel(\"\")  # Remove x-label from top plot\n",
    "ax1.set_xlabel(\"Median Bi-Weight Mid Correlation\")  # Add x-label to bottom plot\n",
    "ax0.set_xticklabels([])  # Remove x-ticks from top plot\n",
    "\n",
    "\n",
    "ax0.set_xlim(ax1.get_xlim())  # Align the x-axis of both subplots\n",
    "ax1.get_legend().remove()  # Remove legend from bottom plot\n",
    "\n",
    "plt.suptitle(\"Gene Enrichment: PHILHARMONIC (p={:.3})\".format(p_rand), fontsize=16)\n",
    "\n",
    "# Show the plot\n",
    "sns.despine()\n",
    "plt.savefig(IMG_DIR / \"gexp_enrichment_combined.svg\", bbox_inches=\"tight\", dpi=300)\n",
    "plt.show()"
   ]
  },
  {
   "cell_type": "markdown",
   "id": "141aad54",
   "metadata": {},
   "source": [
    "---"
   ]
  },
  {
   "cell_type": "markdown",
   "id": "5241efee",
   "metadata": {},
   "source": [
    "## Export Differential Expression for Cytoscape"
   ]
  },
  {
   "cell_type": "code",
   "execution_count": 14,
   "id": "eec19103",
   "metadata": {},
   "outputs": [
    {
     "name": "stderr",
     "output_type": "stream",
     "text": [
      "\u001b[32m2024-10-21 10:56:50.134\u001b[0m | \u001b[1mINFO    \u001b[0m | \u001b[36m__main__\u001b[0m:\u001b[36m<module>\u001b[0m:\u001b[36m13\u001b[0m - \u001b[1mWriting 4235 entries to /mnt/home/ssledzieski/Projects/philharmonic-experiments/results/p_damicornis/20240917-pdamAll-phil_v0.3.0/20240917-pdamAll-phil_v0.3.0_proteins.deg.tsv\u001b[0m\n"
     ]
    }
   ],
   "source": [
    "philharmonic_prots = set.union(\n",
    "    *[set(c[\"members\"]) for c in cluster_dict.values()]\n",
    ").intersection(deg_df.index)\n",
    "prot_deg_cytoscape_table_df = deg_df.loc[\n",
    "    list(philharmonic_prots),\n",
    "    [\n",
    "        \"log2FoldChange_Heat_control\",\n",
    "        \"log2FoldChange_Antibiotics_control\",\n",
    "        \"log2FoldChange_Antibiotics.Heat_control\",\n",
    "    ],\n",
    "]\n",
    "\n",
    "logger.info(f\"Writing {len(philharmonic_prots)} entries to {prot_deg_cytoscape_table}\")\n",
    "prot_deg_cytoscape_table_df.to_csv(prot_deg_cytoscape_table, sep=\"\\t\")"
   ]
  },
  {
   "cell_type": "code",
   "execution_count": 15,
   "id": "febb8ebb-8967-41e2-b02d-8f568ee8498c",
   "metadata": {
    "tags": []
   },
   "outputs": [
    {
     "name": "stderr",
     "output_type": "stream",
     "text": [
      "100%|██████████| 468/468 [00:00<00:00, 786.54it/s]\n"
     ]
    }
   ],
   "source": [
    "conditions = [\"Heat_control\", \"Antibiotics_control\", \"Antibiotics.Heat_control\"]\n",
    "p_thresh = 0.05\n",
    "\n",
    "cluster_de_df = []\n",
    "\n",
    "for k, cl in tqdm(cluster_dict.items(), total=len(cluster_dict)):\n",
    "    cluster_members = list(set(cl[\"members\"]).intersection(deg_df.index))\n",
    "    diffexp_df = deg_df.loc[cluster_members]\n",
    "    cluster_row = [k]\n",
    "\n",
    "    for cond in conditions:\n",
    "        # log2FoldChange\n",
    "        if len(diffexp_df):\n",
    "            cluster_row.append(np.mean(diffexp_df[f\"log2FoldChange_{cond}\"]))\n",
    "        else:\n",
    "            cluster_row.append(np.nan)\n",
    "        # padj\n",
    "        cluster_row.append(np.sum(diffexp_df[f\"padj_{cond}\"] < p_thresh))\n",
    "        # DE_Up\n",
    "        cluster_row.append(np.sum(diffexp_df[f\"DE_{cond}\"] == \"Upregulated\"))\n",
    "        # DE_Down\n",
    "        cluster_row.append(np.sum(diffexp_df[f\"DE_{cond}\"] == \"Downregulated\"))\n",
    "    cluster_de_df.append(cluster_row)\n",
    "\n",
    "cluster_de_df = pd.DataFrame(cluster_de_df)\n",
    "cluster_de_df.columns = [\"key\"] + [\n",
    "    f\"{j}_{i}\"\n",
    "    for i, j in product(conditions, [\"log2FoldChange\", \"padj\", \"DE_Up\", \"DE_Down\"])\n",
    "]\n",
    "cluster_de_df = cluster_de_df.set_index(\"key\")"
   ]
  },
  {
   "cell_type": "code",
   "execution_count": 16,
   "id": "08c846b5-9a24-4b5a-8e9d-f67748e6ba59",
   "metadata": {
    "tags": []
   },
   "outputs": [
    {
     "name": "stderr",
     "output_type": "stream",
     "text": [
      "\u001b[32m2024-10-21 10:56:50.769\u001b[0m | \u001b[1mINFO    \u001b[0m | \u001b[36m__main__\u001b[0m:\u001b[36m<module>\u001b[0m:\u001b[36m3\u001b[0m - \u001b[1mWriting 468 entries to /mnt/home/ssledzieski/Projects/philharmonic-experiments/results/p_damicornis/20240917-pdamAll-phil_v0.3.0/20240917-pdamAll-phil_v0.3.0_clusters.deg.tsv\u001b[0m\n"
     ]
    }
   ],
   "source": [
    "cluster_de_df.head()\n",
    "cluster_de_df.to_csv(clust_deg_cytoscape_table, sep=\"\\t\")\n",
    "logger.info(f\"Writing {len(cluster_de_df)} entries to {clust_deg_cytoscape_table}\")"
   ]
  }
 ],
 "metadata": {
  "kernelspec": {
   "display_name": "phil",
   "language": "python",
   "name": "python3"
  },
  "language_info": {
   "codemirror_mode": {
    "name": "ipython",
    "version": 3
   },
   "file_extension": ".py",
   "mimetype": "text/x-python",
   "name": "python",
   "nbconvert_exporter": "python",
   "pygments_lexer": "ipython3",
   "version": "3.11.2"
  }
 },
 "nbformat": 4,
 "nbformat_minor": 5
}
