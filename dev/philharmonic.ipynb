{
 "cells": [
  {
   "cell_type": "code",
   "execution_count": 8,
   "metadata": {},
   "outputs": [
    {
     "name": "stdout",
     "output_type": "stream",
     "text": [
      "Retrieving folder contents\n",
      "Processing file 1C25jsAYyQlhRwERuaDRu65bbaf-D8rhf go.obo\n",
      "Processing file 1ktBxXZb5yaZ9vTVcYOWnVtY-vzos-nHi Pdam_dscript_distances.DSD1.tsv\n",
      "Processing file 1pFDm7I1X6ldPpk8xkVJFKqduWQSLPCZ_ Pdam_GO_map.csv\n",
      "Processing file 1mCfodknnT7x_w5XRfqpMBjOC6OFc0A-c Pdam_predictions_positive.tsv\n",
      "Processing file 154e2Rfu4lh5QxzZ7Nv2OgqBe90YqOUyc SymbC1_dscript_distances.DSD1.tsv\n",
      "Processing file 14xGkOjPn_7ovzpND_jEdRPIhzRqmja6a SymbC1_GO_map.csv\n",
      "Processing file 13HUokZbFjrzKK99lIVmhv_dbLgV1vtTD SymbC1_predictions_positive.tsv\n",
      "Retrieving folder contents completed\n",
      "Building directory structure\n",
      "Building directory structure completed\n",
      "Downloading...\n",
      "From: https://drive.google.com/uc?id=1C25jsAYyQlhRwERuaDRu65bbaf-D8rhf\n",
      "To: /Users/charlottev/Desktop/Research/github/philharmonic/dev/data/go.obo\n",
      "100%|██████████████████████████████████████| 33.8M/33.8M [00:00<00:00, 36.9MB/s]\n",
      "Downloading...\n",
      "From (original): https://drive.google.com/uc?id=1ktBxXZb5yaZ9vTVcYOWnVtY-vzos-nHi\n",
      "From (redirected): https://drive.google.com/uc?id=1ktBxXZb5yaZ9vTVcYOWnVtY-vzos-nHi&confirm=t&uuid=b2f6a68f-a6fc-4b1b-aa3c-4645638c3b3a\n",
      "To: /Users/charlottev/Desktop/Research/github/philharmonic/dev/data/Pdam_dscript_distances.DSD1.tsv\n",
      "100%|██████████████████████████████████████| 1.33G/1.33G [00:52<00:00, 25.2MB/s]\n",
      "Downloading...\n",
      "From: https://drive.google.com/uc?id=1pFDm7I1X6ldPpk8xkVJFKqduWQSLPCZ_\n",
      "To: /Users/charlottev/Desktop/Research/github/philharmonic/dev/data/Pdam_GO_map.csv\n",
      "100%|██████████████████████████████████████| 32.9M/32.9M [00:01<00:00, 21.5MB/s]\n",
      "Downloading...\n",
      "From: https://drive.google.com/uc?id=1mCfodknnT7x_w5XRfqpMBjOC6OFc0A-c\n",
      "To: /Users/charlottev/Desktop/Research/github/philharmonic/dev/data/Pdam_predictions_positive.tsv\n",
      "100%|██████████████████████████████████████| 12.2M/12.2M [00:00<00:00, 25.8MB/s]\n",
      "Downloading...\n",
      "From (original): https://drive.google.com/uc?id=154e2Rfu4lh5QxzZ7Nv2OgqBe90YqOUyc\n",
      "From (redirected): https://drive.google.com/uc?id=154e2Rfu4lh5QxzZ7Nv2OgqBe90YqOUyc&confirm=t&uuid=94dfa994-dd27-4000-b416-7c20118cf759\n",
      "To: /Users/charlottev/Desktop/Research/github/philharmonic/dev/data/SymbC1_dscript_distances.DSD1.tsv\n",
      "100%|██████████████████████████████████████| 1.15G/1.15G [01:15<00:00, 15.2MB/s]\n",
      "Downloading...\n",
      "From: https://drive.google.com/uc?id=14xGkOjPn_7ovzpND_jEdRPIhzRqmja6a\n",
      "To: /Users/charlottev/Desktop/Research/github/philharmonic/dev/data/SymbC1_GO_map.csv\n",
      "100%|██████████████████████████████████████| 21.5M/21.5M [00:07<00:00, 2.70MB/s]\n",
      "Downloading...\n",
      "From: https://drive.google.com/uc?id=13HUokZbFjrzKK99lIVmhv_dbLgV1vtTD\n",
      "To: /Users/charlottev/Desktop/Research/github/philharmonic/dev/data/SymbC1_predictions_positive.tsv\n",
      "100%|██████████████████████████████████████| 24.6M/24.6M [00:15<00:00, 1.54MB/s]\n",
      "Download completed\n"
     ]
    }
   ],
   "source": [
    "! gdown https://drive.google.com/drive/folders/1hPrkHyTSUak0jnpkZZ_JloUN5eDLvO9S -O ./data --folder"
   ]
  },
  {
   "cell_type": "code",
   "execution_count": 9,
   "metadata": {},
   "outputs": [],
   "source": [
    "import matplotlib.pyplot as plt\n",
    "import pandas as pd\n",
    "import networkx as nx\n",
    "import numpy as np\n",
    "from tqdm.notebook import tqdm\n",
    "from sklearn.cluster import SpectralClustering\n",
    "import pickle as pk\n",
    "from sklearn.metrics import silhouette_score, silhouette_samples\n",
    "from networkx.linalg.graphmatrix import adjacency_matrix\n",
    "from queue import PriorityQueue\n"
   ]
  },
  {
   "cell_type": "markdown",
   "metadata": {},
   "source": [
    "### Parameters to Modify"
   ]
  },
  {
   "cell_type": "code",
   "execution_count": 10,
   "metadata": {},
   "outputs": [],
   "source": [
    "net_name = 'SymbC1' # TODO: options: 'Pdam', 'SymbC1'\n",
    "\n",
    "\n",
    "BASE_DIR = './'\n",
    "DATA_DIR = f'{BASE_DIR}data/'\n",
    "OUTPUT_DIR = f'{BASE_DIR}results/'\n",
    "\n",
    "\n",
    "# POST_DSD_PARAMS:\n",
    "edge_weight_thresh = 0.5\n",
    "kclusts = None\n",
    "random_seed = 6191998\n",
    "min_clust_size = 3\n",
    "max_clust_size = 100\n",
    "\n",
    "# SPECTRAL CLUSTERING PARAMS:\n",
    "init_kclusts = 500\n",
    "# max_clust_size = 30 # NOTE: max_clust_size IS SET BY HOW WE ARE CLUSTERING (DETERMINING N_CLUSTERS)"
   ]
  },
  {
   "cell_type": "markdown",
   "metadata": {},
   "source": [
    "### End Parameters to Modify"
   ]
  },
  {
   "cell_type": "code",
   "execution_count": 24,
   "metadata": {},
   "outputs": [
    {
     "name": "stdout",
     "output_type": "stream",
     "text": [
      "final clusters will be saved to ./results/SymbC1.clusters.csv\n"
     ]
    }
   ],
   "source": [
    "\n",
    "# Assuming that the data has been downloaded from the google drive link, and net_name is either 'Pdam' or 'SymbC1', these do not need to be modified\n",
    "go_db_file =f\"{DATA_DIR}/go.obo\"\n",
    "\n",
    "interactionFile = f'{DATA_DIR}/{net_name}_predictions_positive.tsv'\n",
    "DSDfile = f'{DATA_DIR}/{net_name}_dscript_distances.DSD1.tsv' \n",
    "\n",
    "initial_SC_pickle_file = f\"{OUTPUT_DIR}{net_name}.initSC.pkl\"\n",
    "cluster_size_dist_file = f\"{OUTPUT_DIR}{net_name}.clust_size_dist.png\"\n",
    "final_clusters_output_file = f\"{OUTPUT_DIR}{net_name}.clusters.csv\"\n",
    "\n",
    "print(f\"final clusters will be saved to {final_clusters_output_file}\")"
   ]
  },
  {
   "cell_type": "markdown",
   "metadata": {},
   "source": [
    "## Initial Network Loading:"
   ]
  },
  {
   "cell_type": "code",
   "execution_count": 12,
   "metadata": {},
   "outputs": [
    {
     "name": "stdout",
     "output_type": "stream",
     "text": [
      "Reading DSD File...\n",
      "Selecting DSD connected component...\n",
      "Filtering edges with confidence threshold 0.5...\n"
     ]
    },
    {
     "data": {
      "application/vnd.jupyter.widget-view+json": {
       "model_id": "d64be1547aff4608a3365cf82277cd15",
       "version_major": 2,
       "version_minor": 0
      },
      "text/plain": [
       "  0%|          | 0/394137 [00:00<?, ?it/s]"
      ]
     },
     "metadata": {},
     "output_type": "display_data"
    },
    {
     "name": "stdout",
     "output_type": "stream",
     "text": [
      "                 SymbC1\n",
      "                       \n",
      "Nodes              7928\n",
      "Edges            394137\n",
      "Degree (Med)       34.0\n",
      "Degree (Avg)  99.429112\n",
      "Sparsity       0.006271\n",
      "Saving Degree Distribution Plot to:  ./results/SymbC1.degree_dist.png\n"
     ]
    },
    {
     "data": {
      "image/png": "[encoded data removed]",
      "text/plain": [
       "<Figure size 640x480 with 1 Axes>"
      ]
     },
     "metadata": {},
     "output_type": "display_data"
    }
   ],
   "source": [
    "def display_degree_dist(G, degrees, net_name, results_dir):\n",
    "    '''\n",
    "    Helper function to read_network that displays the degree distribution of the initial network\n",
    "    '''\n",
    "    degreeDist = {}\n",
    "    for i in degrees:\n",
    "        n = degreeDist.setdefault(i,0)\n",
    "        degreeDist[i] = n + 1\n",
    "\n",
    "    plt.xlabel('Degree')\n",
    "    plt.ylabel('Proportion of Nodes')  # we already handled the x-label with ax1\n",
    "    plt.title('Node Degree Distribution')\n",
    "    plt.scatter(degreeDist.keys(), [i/len(G) for i in degreeDist.values()])\n",
    "    print('Saving Degree Distribution Plot to: ', results_dir + net_name + '.degree_dist.png')\n",
    "    plt.savefig(results_dir + net_name + '_degree_dist.png')\n",
    "\n",
    "\n",
    "def read_network(DSDfile, interactionFile, edge_weight_thresh=0.5, net_name=\"Network\", output_stats=True, results_dir='./'):\n",
    "    '''\n",
    "    Read in the network and filter edges based on DSD confidence threshold\n",
    "    '''\n",
    "    print('Reading DSD File...')\n",
    "    dsd_df = pd.read_csv(DSDfile, sep='\\t', index_col=0, header=0)\n",
    "    protein_names = [str(i) for i in dsd_df.index]\n",
    "    DSD = dsd_df.values\n",
    "\n",
    "    fullG = nx.read_weighted_edgelist(interactionFile)\n",
    "    print('Selecting DSD connected component...')\n",
    "    G = fullG.subgraph(protein_names)\n",
    "    print('Filtering edges with confidence threshold {}...'.format(edge_weight_thresh))\n",
    "    wG = nx.Graph()\n",
    "    for (u,v,d) in tqdm(G.edges.data()):\n",
    "        if d['weight'] >= edge_weight_thresh:\n",
    "            wG.add_edge(u,v,weight=d['weight'])\n",
    "    del G\n",
    "    G = wG \n",
    "    A = nx.to_numpy_array(G, nodelist=protein_names)\n",
    "    degrees = [i[1] for i in list(G.degree())]\n",
    "\n",
    "    if output_stats:\n",
    "        # print a table of network statistics\n",
    "        label = ['Nodes','Edges','Degree (Med)','Degree (Avg)','Sparsity']\n",
    "        value = [len(G.nodes), len(G.edges), np.median(degrees), np.mean(degrees), len(G.edges()) / len(G)**2]\n",
    "        stats = pd.DataFrame([label,value]).T\n",
    "        stats.columns = ['',net_name]\n",
    "        stats = stats.set_index('')\n",
    "        print(stats)\n",
    "        # save a histogram of protein degree \n",
    "        display_degree_dist(G, degrees, net_name, results_dir)\n",
    "\n",
    "    return G, DSD, protein_names\n",
    "\n",
    "G, DSD, protein_names = read_network(DSDfile, interactionFile, edge_weight_thresh=edge_weight_thresh, net_name=net_name, output_stats=True, results_dir=OUTPUT_DIR)"
   ]
  },
  {
   "cell_type": "code",
   "execution_count": 13,
   "metadata": {},
   "outputs": [
    {
     "name": "stdout",
     "output_type": "stream",
     "text": [
      "Computing similarity scores...\n",
      "Sparsifying similarity scores...\n"
     ]
    }
   ],
   "source": [
    "def RBF(D, sigma=None):\n",
    "    \"\"\"\n",
    "    Convert distance matrix D into similarity matrix S using Radial Basis Function (RBF) Kernel\n",
    "    RBF(x,x') = exp( -((x - x')**2 / 2sigma**@))\n",
    "    \"\"\"\n",
    "    sigma = sigma or np.sqrt(np.max(D))\n",
    "    return np.exp(-1 * (np.square(D) / (2 * sigma**2))) \n",
    "\n",
    "print('Computing similarity scores...')\n",
    "simDSD = RBF(DSD)\n",
    "print('Sparsifying similarity scores...')\n",
    "sparse_sim_thresh = 1e-5\n",
    "simRav = simDSD.ravel()\n",
    "simRav[simRav < sparse_sim_thresh] = 0\n",
    "simRav = simRav.reshape(simDSD.shape)\n",
    "simDSD = simRav\n"
   ]
  },
  {
   "cell_type": "markdown",
   "metadata": {},
   "source": [
    "## Perform Spectral Clustering"
   ]
  },
  {
   "cell_type": "code",
   "execution_count": 16,
   "metadata": {},
   "outputs": [],
   "source": []
  },
  {
   "cell_type": "code",
   "execution_count": 17,
   "metadata": {},
   "outputs": [
    {
     "name": "stdout",
     "output_type": "stream",
     "text": [
      "Fitting 3 spectral clusters...\n"
     ]
    },
    {
     "name": "stderr",
     "output_type": "stream",
     "text": [
      "/Users/charlottev/micromamba/envs/Research/lib/python3.12/site-packages/sklearn/manifold/_spectral_embedding.py:285: UserWarning: Graph is not fully connected, spectral embedding may not work as expected.\n",
      "  warnings.warn(\n"
     ]
    },
    {
     "name": "stdout",
     "output_type": "stream",
     "text": [
      "Saving initial spectral clustering to:  ./results/SymbC1.initSC.pkl\n"
     ]
    }
   ],
   "source": [
    "\n",
    "print(f'Fitting {init_kclusts} spectral clusters...')\n",
    "SC = SpectralClustering(n_clusters=init_kclusts, assign_labels=\"discretize\", random_state=random_seed, affinity='precomputed')\n",
    "SC.fit(simDSD)\n",
    "\n",
    "with open(initial_SC_pickle_file,'wb') as f:\n",
    "    print('Saving initial spectral clustering to: ', initial_SC_pickle_file)\n",
    "    pk.dump(SC, f)"
   ]
  },
  {
   "cell_type": "code",
   "execution_count": 18,
   "metadata": {},
   "outputs": [
    {
     "name": "stdout",
     "output_type": "stream",
     "text": [
      "Silhouette Score:  0.64397853744703\n",
      "Adjacency Martrix Silhouette Score:  0.47262049492844277\n"
     ]
    }
   ],
   "source": [
    "\n",
    "def print_silhouette_stats(simDSD, SC): \n",
    "    print('Silhouette Score: ', silhouette_score(simDSD,SC.labels_))\n",
    "    AM = (adjacency_matrix(G).todense() != 0).astype(int)\n",
    "    print('Adjacency Martrix Silhouette Score: ', silhouette_score(AM,SC.labels_)) # TODO: IDK WHAT THIS IS\n",
    "\n",
    "print_silhouette_stats(simDSD, SC)"
   ]
  },
  {
   "cell_type": "code",
   "execution_count": 19,
   "metadata": {},
   "outputs": [
    {
     "name": "stdout",
     "output_type": "stream",
     "text": [
      "Loading initial spectral clustering from:  ./results/SymbC1.initSC.pkl\n"
     ]
    }
   ],
   "source": [
    "with open(initial_SC_pickle_file,'rb') as f:\n",
    "    print('Loading initial spectral clustering from: ', initial_SC_pickle_file)\n",
    "    SC = pk.load(f)\n",
    "\n",
    "clusteringToUse = SC\n",
    "simMatrix = simDSD\n",
    "\n",
    "clusts = [[j for j in range(len(clusteringToUse.labels_)) if clusteringToUse.labels_[j] == i] for i in range(max(clusteringToUse.labels_)+1) if i in clusteringToUse.labels_]\n",
    "clusts.sort(key = lambda x: len(x), reverse=True)"
   ]
  },
  {
   "cell_type": "markdown",
   "metadata": {},
   "source": [
    "### Perform Further Clustering on large clusters"
   ]
  },
  {
   "cell_type": "code",
   "execution_count": 20,
   "metadata": {},
   "outputs": [],
   "source": [
    "def extract_clusters(SC: SpectralClustering, og_clust:list, og_csize:int, verbosity=0): # TODO: convert Verbosity to logging (options for verbosity are 0, 1, 2)\n",
    "    subCs = []\n",
    "    for label in set(SC.labels_): # go through all labels\n",
    "        # make a list of all nodes in the cluster assigned to given label\n",
    "        subCs.append([og_clust[i] for i in range(og_csize) if SC.labels_[i] == label])\n",
    "    \n",
    "    if verbosity > 0:\n",
    "        to_print = f\"Cluster of size {og_csize} -> split into {len(subCs)} clusters \"\n",
    "        \n",
    "        if verbosity > 1:\n",
    "            to_print += \"of sizes: \"\n",
    "            for subC in subCs:\n",
    "                to_print += f\"{len(subC)}/\"        \n",
    "        print(to_print[:-1])\n",
    "\n",
    "    # return list of tuples of priority of cluster and list of nodes in cluster\n",
    "    return [(1/len(subC), subC) for subC in subCs]"
   ]
  },
  {
   "cell_type": "code",
   "execution_count": 21,
   "metadata": {},
   "outputs": [
    {
     "name": "stdout",
     "output_type": "stream",
     "text": [
      "Initial Clustering: 3 clusters\n",
      "Splitting large clusters (>100)...\n"
     ]
    },
    {
     "name": "stderr",
     "output_type": "stream",
     "text": [
      "/Users/charlottev/micromamba/envs/Research/lib/python3.12/site-packages/sklearn/manifold/_spectral_embedding.py:285: UserWarning: Graph is not fully connected, spectral embedding may not work as expected.\n",
      "  warnings.warn(\n"
     ]
    },
    {
     "name": "stdout",
     "output_type": "stream",
     "text": [
      "Cluster of size 7917 -> split into 25 clusters of sizes: 5/6/2/3/5/9/11/4/2/5/7/5/2/4/7/5/2/4/2/6/6/1/5/8/7801\n",
      "Cluster of size 7801 -> split into 50 clusters of sizes: 3630/202/88/194/12/56/5/39/220/29/68/143/18/79/36/24/32/7/131/16/218/163/28/167/110/265/126/140/127/289/13/219/58/100/11/59/30/92/13/5/35/17/273/21/3/43/10/11/104/22\n",
      "Cluster of size 3630 -> split into 50 clusters of sizes: 48/90/88/129/34/83/51/10/48/141/64/56/52/40/60/98/27/90/93/157/82/96/65/51/58/77/68/116/108/40/48/53/24/160/54/40/2/16/10/62/86/40/499/63/87/35/18/3/63/47\n",
      "Cluster of size 499 -> split into 25 clusters of sizes: 10/24/16/31/17/20/11/20/19/37/20/26/20/12/6/20/9/31/23/23/36/18/38/7/5\n",
      "Cluster of size 289 -> split into 14 clusters of sizes: 25/51/20/66/12/17/17/12/12/30/6/5/5/11\n",
      "Cluster of size 273 -> split into 14 clusters of sizes: 40/7/68/17/23/22/20/14/15/5/14/8/18/2\n",
      "Cluster of size 265 -> split into 13 clusters of sizes: 13/45/47/9/37/44/4/3/14/20/12/16/1\n",
      "Cluster of size 220 -> split into 11 clusters of sizes: 33/10/5/14/22/55/8/34/1/27/11\n",
      "Cluster of size 219 -> split into 11 clusters of sizes: 37/27/20/4/4/25/22/1/16/49/14\n",
      "Cluster of size 218 -> split into 11 clusters of sizes: 61/15/21/37/6/7/14/25/9/7/16\n",
      "Cluster of size 202 -> split into 10 clusters of sizes: 27/51/10/22/11/42/5/6/14/14\n",
      "Cluster of size 194 -> split into 10 clusters of sizes: 60/9/14/23/17/15/5/5/3/43\n",
      "Cluster of size 167 -> split into 8 clusters of sizes: 72/4/8/5/3/9/59/7\n",
      "Cluster of size 163 -> split into 8 clusters of sizes: 13/39/8/3/63/25/8/4\n",
      "Cluster of size 160 -> split into 8 clusters of sizes: 24/22/23/7/39/21/8/16\n",
      "Cluster of size 157 -> split into 8 clusters of sizes: 29/16/33/16/12/7/29/15\n",
      "Cluster of size 143 -> split into 7 clusters of sizes: 14/38/8/24/27/17/15\n",
      "Cluster of size 141 -> split into 7 clusters of sizes: 15/26/17/28/4/17/34\n",
      "Cluster of size 140 -> split into 7 clusters of sizes: 55/44/7/13/6/7/8\n",
      "Cluster of size 131 -> split into 7 clusters of sizes: 18/38/36/13/10/4/12\n",
      "Cluster of size 129 -> split into 6 clusters of sizes: 32/17/30/26/21/3\n",
      "Cluster of size 127 -> split into 6 clusters of sizes: 29/38/20/10/12/18\n",
      "Cluster of size 126 -> split into 6 clusters of sizes: 14/52/32/16/11/1\n",
      "Cluster of size 116 -> split into 6 clusters of sizes: 17/30/21/9/33/6\n",
      "Cluster of size 110 -> split into 6 clusters of sizes: 15/14/20/4/19/38\n",
      "Cluster of size 108 -> split into 5 clusters of sizes: 35/6/29/27/11\n",
      "Cluster of size 104 -> split into 5 clusters of sizes: 61/2/11/18/12\n",
      "Cluster of size 100 -> split into 5 clusters of sizes: 40/14/16/23/7\n",
      "Cluster of size 98 -> split into 5 clusters of sizes: 21/18/19/18/22\n",
      "Cluster of size 96 -> split into 5 clusters of sizes: 45/28/3/11/9\n",
      "Cluster of size 92 -> split into 5 clusters of sizes: 24/12/29/10/17\n",
      "Cluster of size 92 -> split into 5 clusters of sizes: 13/39/5/5/30\n",
      "Cluster of size 90 -> split into 4 clusters of sizes: 26/28/24/12\n",
      "Cluster of size 90 -> split into 4 clusters of sizes: 38/27/17/8\n",
      "Cluster of size 88 -> split into 4 clusters of sizes: 44/6/30/8\n",
      "Cluster of size 88 -> split into 4 clusters of sizes: 25/24/11/28\n",
      "Cluster of size 87 -> split into 4 clusters of sizes: 12/52/16/7\n",
      "Cluster of size 86 -> split into 4 clusters of sizes: 13/24/7/42\n",
      "Cluster of size 83 -> split into 4 clusters of sizes: 43/10/23/7\n",
      "Cluster of size 82 -> split into 4 clusters of sizes: 15/21/26/20\n",
      "Cluster of size 79 -> split into 4 clusters of sizes: 37/4/8/30\n",
      "Cluster of size 77 -> split into 4 clusters of sizes: 20/34/15/8\n",
      "Cluster of size 72 -> split into 4 clusters of sizes: 30/9/2/31\n",
      "Cluster of size 68 -> split into 3 clusters of sizes: 31/29/8\n",
      "Cluster of size 68 -> split into 3 clusters of sizes: 12/18/38\n",
      "Cluster of size 68 -> split into 3 clusters of sizes: 28/16/24\n",
      "Cluster of size 66 -> split into 3 clusters of sizes: 8/26/32\n",
      "Cluster of size 65 -> split into 3 clusters of sizes: 32/10/23\n",
      "Cluster of size 64 -> split into 3 clusters of sizes: 12/36/16\n",
      "Cluster of size 63 -> split into 3 clusters of sizes: 24/22/17\n",
      "Cluster of size 63 -> split into 3 clusters of sizes: 22/6/35\n",
      "Cluster of size 63 -> split into 3 clusters of sizes: 15/17/31\n",
      "Cluster of size 62 -> split into 3 clusters of sizes: 27/28/7\n",
      "Cluster of size 61 -> split into 3 clusters of sizes: 21/13/27\n",
      "Cluster of size 61 -> split into 3 clusters of sizes: 24/23/14\n",
      "Cluster of size 60 -> split into 3 clusters of sizes: 22/13/25\n",
      "Cluster of size 60 -> split into 3 clusters of sizes: 23/19/18\n",
      "Cluster of size 59 -> split into 3 clusters of sizes: 30/28/1\n",
      "Cluster of size 59 -> split into 3 clusters of sizes: 33/21/5\n",
      "Cluster of size 58 -> split into 3 clusters of sizes: 35/7/16\n",
      "Cluster of size 58 -> split into 3 clusters of sizes: 25/9/24\n",
      "Cluster of size 56 -> split into 3 clusters of sizes: 16/20/20\n",
      "Cluster of size 56 -> split into 3 clusters of sizes: 23/29/4\n",
      "Cluster of size 55 -> split into 3 clusters of sizes: 25/6/24\n",
      "Cluster of size 55 -> split into 3 clusters of sizes: 19/24/12\n",
      "Cluster of size 54 -> split into 3 clusters of sizes: 19/23/12\n",
      "Cluster of size 53 -> split into 3 clusters of sizes: 8/24/21\n",
      "Cluster of size 52 -> split into 3 clusters of sizes: 26/20/6\n",
      "Cluster of size 52 -> split into 3 clusters of sizes: 12/16/24\n",
      "Cluster of size 52 -> split into 3 clusters of sizes: 20/17/15\n",
      "Cluster of size 51 -> split into 3 clusters of sizes: 12/20/19\n",
      "Cluster of size 51 -> split into 3 clusters of sizes: 25/12/14\n",
      "Cluster of size 51 -> split into 3 clusters of sizes: 7/21/23\n",
      "Cluster of size 51 -> split into 3 clusters of sizes: 27/20/4\n",
      "Cluster of size 49 -> split into 2 clusters of sizes: 29/20\n",
      "Cluster of size 48 -> split into 2 clusters of sizes: 26/22\n",
      "Cluster of size 48 -> split into 2 clusters of sizes: 34/14\n",
      "Cluster of size 48 -> split into 2 clusters of sizes: 23/25\n",
      "Cluster of size 47 -> split into 2 clusters of sizes: 30/17\n",
      "Cluster of size 47 -> split into 2 clusters of sizes: 35/12\n",
      "Cluster of size 45 -> split into 2 clusters of sizes: 18/27\n",
      "Cluster of size 45 -> split into 2 clusters of sizes: 21/24\n",
      "Cluster of size 44 -> split into 2 clusters of sizes: 21/23\n",
      "Cluster of size 44 -> split into 2 clusters of sizes: 26/18\n",
      "Cluster of size 44 -> split into 2 clusters of sizes: 29/15\n",
      "Cluster of size 43 -> split into 2 clusters of sizes: 26/17\n",
      "Cluster of size 43 -> split into 2 clusters of sizes: 20/23\n",
      "Cluster of size 43 -> split into 2 clusters of sizes: 24/19\n",
      "Cluster of size 42 -> split into 2 clusters of sizes: 27/15\n",
      "Cluster of size 42 -> split into 2 clusters of sizes: 21/21\n",
      "Cluster of size 40 -> split into 2 clusters of sizes: 20/20\n",
      "Cluster of size 40 -> split into 2 clusters of sizes: 30/10\n",
      "Cluster of size 40 -> split into 2 clusters of sizes: 25/15\n",
      "Cluster of size 40 -> split into 2 clusters of sizes: 19/21\n",
      "Cluster of size 40 -> split into 2 clusters of sizes: 21/19\n",
      "Cluster of size 40 -> split into 2 clusters of sizes: 18/22\n",
      "Cluster of size 39 -> split into 2 clusters of sizes: 18/21\n",
      "Cluster of size 39 -> split into 2 clusters of sizes: 30/9\n",
      "Cluster of size 39 -> split into 2 clusters of sizes: 28/11\n",
      "Cluster of size 39 -> split into 2 clusters of sizes: 14/25\n",
      "Cluster of size 38 -> split into 2 clusters of sizes: 16/22\n",
      "Cluster of size 38 -> split into 2 clusters of sizes: 28/10\n",
      "Cluster of size 38 -> split into 2 clusters of sizes: 22/16\n",
      "Cluster of size 38 -> split into 2 clusters of sizes: 15/23\n",
      "Cluster of size 38 -> split into 2 clusters of sizes: 25/13\n",
      "Cluster of size 38 -> split into 2 clusters of sizes: 20/18\n",
      "Cluster of size 38 -> split into 2 clusters of sizes: 18/20\n",
      "Cluster of size 37 -> split into 2 clusters of sizes: 14/23\n",
      "Cluster of size 37 -> split into 2 clusters of sizes: 19/18\n",
      "Cluster of size 37 -> split into 2 clusters of sizes: 14/23\n",
      "Cluster of size 37 -> split into 2 clusters of sizes: 11/26\n",
      "Cluster of size 37 -> split into 2 clusters of sizes: 32/5\n",
      "Cluster of size 36 -> split into 2 clusters of sizes: 21/15\n",
      "Cluster of size 36 -> split into 2 clusters of sizes: 20/16\n",
      "Cluster of size 36 -> split into 2 clusters of sizes: 13/23\n",
      "Cluster of size 36 -> split into 2 clusters of sizes: 30/6\n",
      "Cluster of size 35 -> split into 2 clusters of sizes: 10/25\n",
      "Cluster of size 35 -> split into 2 clusters of sizes: 17/18\n",
      "Cluster of size 35 -> split into 2 clusters of sizes: 20/15\n",
      "Cluster of size 35 -> split into 2 clusters of sizes: 24/11\n",
      "Cluster of size 35 -> split into 2 clusters of sizes: 17/18\n",
      "Cluster of size 35 -> split into 2 clusters of sizes: 16/19\n",
      "Cluster of size 34 -> split into 2 clusters of sizes: 16/18\n",
      "Cluster of size 34 -> split into 2 clusters of sizes: 14/20\n",
      "Cluster of size 34 -> split into 2 clusters of sizes: 22/12\n",
      "Cluster of size 34 -> split into 2 clusters of sizes: 12/22\n",
      "Cluster of size 34 -> split into 2 clusters of sizes: 21/13\n",
      "Cluster of size 33 -> split into 2 clusters of sizes: 21/12\n",
      "Cluster of size 33 -> split into 2 clusters of sizes: 16/17\n",
      "Cluster of size 33 -> split into 2 clusters of sizes: 22/11\n",
      "Cluster of size 33 -> split into 2 clusters of sizes: 17/16\n",
      "Cluster of size 32 -> split into 2 clusters of sizes: 22/10\n",
      "Cluster of size 32 -> split into 2 clusters of sizes: 9/23\n",
      "Cluster of size 32 -> split into 2 clusters of sizes: 17/15\n",
      "Cluster of size 32 -> split into 2 clusters of sizes: 19/13\n",
      "Cluster of size 32 -> split into 2 clusters of sizes: 18/14\n",
      "Cluster of size 32 -> split into 2 clusters of sizes: 25/7\n",
      "Cluster of size 31 -> split into 2 clusters of sizes: 12/19\n",
      "Cluster of size 31 -> split into 2 clusters of sizes: 16/15\n",
      "Cluster of size 31 -> split into 2 clusters of sizes: 20/11\n",
      "Cluster of size 31 -> split into 2 clusters of sizes: 26/5\n",
      "Cluster of size 31 -> split into 2 clusters of sizes: 23/8\n",
      "Cluster of size 30 -> split into 2 clusters of sizes: 18/12\n",
      "Cluster of size 30 -> split into 2 clusters of sizes: 15/15\n",
      "Cluster of size 30 -> split into 2 clusters of sizes: 27/3\n",
      "Cluster of size 30 -> split into 2 clusters of sizes: 14/16\n",
      "Cluster of size 30 -> split into 2 clusters of sizes: 13/17\n",
      "Cluster of size 30 -> split into 2 clusters of sizes: 17/13\n",
      "Cluster of size 30 -> split into 2 clusters of sizes: 20/10\n",
      "Cluster of size 30 -> split into 2 clusters of sizes: 26/4\n",
      "Cluster of size 30 -> split into 2 clusters of sizes: 10/20\n",
      "Cluster of size 30 -> split into 2 clusters of sizes: 15/15\n",
      "Cluster of size 30 -> split into 2 clusters of sizes: 12/18\n",
      "Cluster of size 30 -> split into 2 clusters of sizes: 16/14\n",
      "Cluster of size 30 -> split into 2 clusters of sizes: 15/15\n",
      "Removing small clusters (<3)...\n",
      "Final Clustering: 501 clusters\n"
     ]
    }
   ],
   "source": [
    "print(f'Initial Clustering: {len(clusts)} clusters')\n",
    "clustQ = PriorityQueue()\n",
    "for c in clusts:\n",
    "    clustQ.put((1/len(c), c))\n",
    "    \n",
    "print('Splitting large clusters (>{})...'.format(max_clust_size))\n",
    "while True:\n",
    "    priority, c = clustQ.get()\n",
    "    csize = int(1/priority)\n",
    "\n",
    "    n_clusters = int(np.round(csize / 20)) # NOTE: this changed so that we are left with clusters of max size 30\n",
    "\n",
    "    if n_clusters < 2:\n",
    "        clustQ.put((priority, c))\n",
    "        break\n",
    "  \n",
    "    SC2 = SpectralClustering(n_clusters=n_clusters, assign_labels=\"discretize\", random_state=random_seed, affinity='precomputed')\n",
    "    SC2.fit(simMatrix[c,:][:,c])\n",
    "    \n",
    "    subClusts = extract_clusters(SC2, c, csize, verbosity=2)\n",
    "    for subClust in subClusts:\n",
    "        clustQ.put(subClust)\n",
    "\n",
    "\n",
    "print(f'Removing small clusters (<{min_clust_size})...')\n",
    "filteredClusters = []\n",
    "while not clustQ.empty():\n",
    "    wght, c = clustQ.get()\n",
    "    filteredClusters.append(c)\n",
    "filteredClusters = [i for i in filteredClusters if len(i) >= min_clust_size]\n",
    "print(f'Final Clustering: {len(filteredClusters)} clusters')"
   ]
  },
  {
   "cell_type": "markdown",
   "metadata": {},
   "source": [
    "### Display Results of Spectral Clustering"
   ]
  },
  {
   "cell_type": "code",
   "execution_count": 22,
   "metadata": {},
   "outputs": [
    {
     "data": {
      "image/png": "[encoded data removed]",
      "text/plain": [
       "<Figure size 640x480 with 1 Axes>"
      ]
     },
     "metadata": {},
     "output_type": "display_data"
    }
   ],
   "source": [
    "sizes = [len(i) for i in filteredClusters]\n",
    "plt.hist(sizes, bins=range(min(sizes), max(sizes)+1))\n",
    "plt.xlabel('Cluster Size')\n",
    "plt.ylabel('Number of Clusters')\n",
    "plt.title('Cluster Size Distribution')\n",
    "plt.savefig(cluster_size_dist_file)"
   ]
  },
  {
   "cell_type": "markdown",
   "metadata": {},
   "source": [
    "## Save Clusters to an Output File"
   ]
  },
  {
   "cell_type": "code",
   "execution_count": 23,
   "metadata": {},
   "outputs": [
    {
     "name": "stdout",
     "output_type": "stream",
     "text": [
      "Writing clusters to:  ./results/SymbC1.clusters.csv\n"
     ]
    }
   ],
   "source": [
    "\n",
    "clustsNames = [[protein_names[i] for i in cl] for cl in filteredClusters]\n",
    "clustsNames.sort(key = lambda x: len(x), reverse=True)\n",
    "\n",
    "def writeClusters(outfile, clusts):\n",
    "    with open(outfile, 'w+') as f:\n",
    "        for cl in clusts:\n",
    "            f.write('{}\\n'.format(','.join([str(i) for i in cl])))\n",
    "\n",
    "print('Writing clusters to: ', final_clusters_output_file)\n",
    "writeClusters(final_clusters_output_file, clustsNames)\n"
   ]
  },
  {
   "cell_type": "code",
   "execution_count": null,
   "metadata": {},
   "outputs": [],
   "source": []
  }
 ],
 "metadata": {
  "kernelspec": {
   "display_name": "Python 3",
   "language": "python",
   "name": "python3"
  },
  "language_info": {
   "codemirror_mode": {
    "name": "ipython",
    "version": 3
   },
   "file_extension": ".py",
   "mimetype": "text/x-python",
   "name": "python",
   "nbconvert_exporter": "python",
   "pygments_lexer": "ipython3",
   "version": "3.12.1"
  }
 },
 "nbformat": 4,
 "nbformat_minor": 2
}
