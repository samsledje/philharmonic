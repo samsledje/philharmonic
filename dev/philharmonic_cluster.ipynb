{
 "cells": [
  {
   "cell_type": "code",
   "execution_count": 1,
   "metadata": {
    "scrolled": true,
    "tags": []
   },
   "outputs": [
    {
     "name": "stdout",
     "output_type": "stream",
     "text": [
      "Looking in indexes: https://pypi.org/simple, https://pypi.ngc.nvidia.com\n",
      "Requirement already satisfied: gdown in /data/cb/samsl/mambaforge/envs/dsplat/lib/python3.9/site-packages (5.1.0)\n",
      "Requirement already satisfied: beautifulsoup4 in /data/cb/samsl/mambaforge/envs/dsplat/lib/python3.9/site-packages (from gdown) (4.12.2)\n",
      "Requirement already satisfied: tqdm in /data/cb/samsl/mambaforge/envs/dsplat/lib/python3.9/site-packages (from gdown) (4.64.0)\n",
      "Requirement already satisfied: requests[socks] in /data/cb/samsl/mambaforge/envs/dsplat/lib/python3.9/site-packages (from gdown) (2.31.0)\n",
      "Requirement already satisfied: filelock in /data/cb/samsl/mambaforge/envs/dsplat/lib/python3.9/site-packages (from gdown) (3.6.0)\n",
      "Requirement already satisfied: soupsieve>1.2 in /data/cb/samsl/mambaforge/envs/dsplat/lib/python3.9/site-packages (from beautifulsoup4->gdown) (2.3.1)\n",
      "Requirement already satisfied: idna<4,>=2.5 in /data/cb/samsl/mambaforge/envs/dsplat/lib/python3.9/site-packages (from requests[socks]->gdown) (3.3)\n",
      "Requirement already satisfied: certifi>=2017.4.17 in /data/cb/samsl/mambaforge/envs/dsplat/lib/python3.9/site-packages (from requests[socks]->gdown) (2024.2.2)\n",
      "Requirement already satisfied: urllib3<3,>=1.21.1 in /data/cb/samsl/mambaforge/envs/dsplat/lib/python3.9/site-packages (from requests[socks]->gdown) (1.26.16)\n",
      "Requirement already satisfied: charset-normalizer<4,>=2 in /data/cb/samsl/mambaforge/envs/dsplat/lib/python3.9/site-packages (from requests[socks]->gdown) (2.0.4)\n",
      "Requirement already satisfied: PySocks!=1.5.7,>=1.5.6; extra == \"socks\" in /data/cb/samsl/mambaforge/envs/dsplat/lib/python3.9/site-packages (from requests[socks]->gdown) (1.7.1)\n",
      "Retrieving folder contents\n",
      "Processing file 1C25jsAYyQlhRwERuaDRu65bbaf-D8rhf go.obo\n",
      "Processing file 1ktBxXZb5yaZ9vTVcYOWnVtY-vzos-nHi Pdam_dscript_distances.DSD1.tsv\n",
      "Processing file 1pFDm7I1X6ldPpk8xkVJFKqduWQSLPCZ_ Pdam_GO_map.csv\n",
      "Processing file 1mCfodknnT7x_w5XRfqpMBjOC6OFc0A-c Pdam_predictions_positive.tsv\n",
      "Processing file 154e2Rfu4lh5QxzZ7Nv2OgqBe90YqOUyc SymbC1_dscript_distances.DSD1.tsv\n",
      "Processing file 14xGkOjPn_7ovzpND_jEdRPIhzRqmja6a SymbC1_GO_map.csv\n",
      "Processing file 13HUokZbFjrzKK99lIVmhv_dbLgV1vtTD SymbC1_predictions_positive.tsv\n",
      "Retrieving folder contents completed\n",
      "Building directory structure\n",
      "Building directory structure completed\n",
      "Downloading...\n",
      "From: https://drive.google.com/uc?id=1C25jsAYyQlhRwERuaDRu65bbaf-D8rhf\n",
      "To: /data/cb/samsl/Software/philharmonic/data/go.obo\n",
      "100%|██████████████████████████████████████| 33.8M/33.8M [00:00<00:00, 67.7MB/s]\n",
      "Downloading...\n",
      "From (original): https://drive.google.com/uc?id=1ktBxXZb5yaZ9vTVcYOWnVtY-vzos-nHi\n",
      "From (redirected): https://drive.google.com/uc?id=1ktBxXZb5yaZ9vTVcYOWnVtY-vzos-nHi&confirm=t&uuid=90fefaf3-4a42-4b97-8bf8-fd9eaed3a731\n",
      "To: /data/cb/samsl/Software/philharmonic/data/Pdam_dscript_distances.DSD1.tsv\n",
      "100%|██████████████████████████████████████| 1.33G/1.33G [00:15<00:00, 86.1MB/s]\n",
      "Downloading...\n",
      "From: https://drive.google.com/uc?id=1pFDm7I1X6ldPpk8xkVJFKqduWQSLPCZ_\n",
      "To: /data/cb/samsl/Software/philharmonic/data/Pdam_GO_map.csv\n",
      "100%|██████████████████████████████████████| 32.9M/32.9M [00:00<00:00, 57.7MB/s]\n",
      "Downloading...\n",
      "From: https://drive.google.com/uc?id=1mCfodknnT7x_w5XRfqpMBjOC6OFc0A-c\n",
      "To: /data/cb/samsl/Software/philharmonic/data/Pdam_predictions_positive.tsv\n",
      "100%|██████████████████████████████████████| 12.2M/12.2M [00:00<00:00, 82.9MB/s]\n",
      "Downloading...\n",
      "From (original): https://drive.google.com/uc?id=154e2Rfu4lh5QxzZ7Nv2OgqBe90YqOUyc\n",
      "From (redirected): https://drive.google.com/uc?id=154e2Rfu4lh5QxzZ7Nv2OgqBe90YqOUyc&confirm=t&uuid=725d2b13-dd4f-4b44-be69-f4586dcdf77f\n",
      "To: /data/cb/samsl/Software/philharmonic/data/SymbC1_dscript_distances.DSD1.tsv\n",
      "100%|██████████████████████████████████████| 1.15G/1.15G [00:13<00:00, 83.5MB/s]\n",
      "Downloading...\n",
      "From: https://drive.google.com/uc?id=14xGkOjPn_7ovzpND_jEdRPIhzRqmja6a\n",
      "To: /data/cb/samsl/Software/philharmonic/data/SymbC1_GO_map.csv\n",
      "100%|██████████████████████████████████████| 21.5M/21.5M [00:00<00:00, 58.7MB/s]\n",
      "Downloading...\n",
      "From: https://drive.google.com/uc?id=13HUokZbFjrzKK99lIVmhv_dbLgV1vtTD\n",
      "To: /data/cb/samsl/Software/philharmonic/data/SymbC1_predictions_positive.tsv\n",
      "100%|██████████████████████████████████████| 24.6M/24.6M [00:00<00:00, 54.3MB/s]\n",
      "Download completed\n"
     ]
    }
   ],
   "source": [
    "! pip install gdown\n",
    "! mkdir -p ../data\n",
    "! mkdir -p ../results\n",
    "! gdown https://drive.google.com/drive/folders/1hPrkHyTSUak0jnpkZZ_JloUN5eDLvO9S -O ../data --folder"
   ]
  },
  {
   "cell_type": "code",
   "execution_count": 1,
   "metadata": {
    "tags": []
   },
   "outputs": [],
   "source": [
    "import matplotlib.pyplot as plt\n",
    "import pandas as pd\n",
    "import networkx as nx\n",
    "import numpy as np\n",
    "from tqdm.notebook import tqdm\n",
    "from sklearn.cluster import SpectralClustering\n",
    "import pickle as pk\n",
    "from sklearn.metrics import silhouette_score, silhouette_samples\n",
    "from networkx.linalg.graphmatrix import adjacency_matrix\n",
    "from queue import PriorityQueue\n"
   ]
  },
  {
   "cell_type": "markdown",
   "metadata": {},
   "source": [
    "### Parameters to Modify"
   ]
  },
  {
   "cell_type": "code",
   "execution_count": 2,
   "metadata": {
    "tags": []
   },
   "outputs": [],
   "source": [
    "net_name = 'Pdam' # TODO: options: 'Pdam', 'SymbC1'\n",
    "\n",
    "\n",
    "BASE_DIR = '..'\n",
    "DATA_DIR = f'{BASE_DIR}/data/'\n",
    "OUTPUT_DIR = f'{BASE_DIR}/results/'\n",
    "\n",
    "\n",
    "# POST_DSD_PARAMS:\n",
    "edge_weight_thresh = 0.5\n",
    "kclusts = None\n",
    "random_seed = 6191998\n",
    "min_clust_size = 3\n",
    "max_clust_size = 100\n",
    "\n",
    "# SPECTRAL CLUSTERING PARAMS:\n",
    "init_kclusts = 500\n",
    "# max_clust_size = 30 # NOTE: max_clust_size IS SET BY HOW WE ARE CLUSTERING (DETERMINING N_CLUSTERS)"
   ]
  },
  {
   "cell_type": "markdown",
   "metadata": {},
   "source": [
    "### End Parameters to Modify"
   ]
  },
  {
   "cell_type": "code",
   "execution_count": 3,
   "metadata": {
    "tags": []
   },
   "outputs": [
    {
     "name": "stdout",
     "output_type": "stream",
     "text": [
      "final clusters will be saved to ../results/Pdam.clusters.csv\n"
     ]
    }
   ],
   "source": [
    "\n",
    "# Assuming that the data has been downloaded from the google drive link, and net_name is either 'Pdam' or 'SymbC1', these do not need to be modified\n",
    "go_db_file =f\"{DATA_DIR}/go.obo\"\n",
    "\n",
    "interactionFile = f'{DATA_DIR}/{net_name}_predictions_positive.tsv'\n",
    "DSDfile = f'{DATA_DIR}/{net_name}_dscript_distances.DSD1.tsv' \n",
    "\n",
    "initial_SC_pickle_file = f\"{OUTPUT_DIR}{net_name}.initSC.pkl\"\n",
    "cluster_size_dist_file = f\"{OUTPUT_DIR}{net_name}.clust_size_dist.png\"\n",
    "final_clusters_output_file = f\"{OUTPUT_DIR}{net_name}.clusters.csv\"\n",
    "\n",
    "print(f\"final clusters will be saved to {final_clusters_output_file}\")"
   ]
  },
  {
   "cell_type": "markdown",
   "metadata": {},
   "source": [
    "## Initial Network Loading:"
   ]
  },
  {
   "cell_type": "code",
   "execution_count": 4,
   "metadata": {
    "tags": []
   },
   "outputs": [
    {
     "name": "stdout",
     "output_type": "stream",
     "text": [
      "Reading DSD File...\n",
      "Selecting DSD connected component...\n",
      "Filtering edges with confidence threshold 0.5...\n"
     ]
    },
    {
     "data": {
      "application/vnd.jupyter.widget-view+json": {
       "model_id": "69acc95d80b4433a951f06a57655ba8b",
       "version_major": 2,
       "version_minor": 0
      },
      "text/plain": [
       "  0%|          | 0/229984 [00:00<?, ?it/s]"
      ]
     },
     "metadata": {},
     "output_type": "display_data"
    },
    {
     "name": "stdout",
     "output_type": "stream",
     "text": [
      "                   Pdam\n",
      "                       \n",
      "Nodes              8513\n",
      "Edges            229984\n",
      "Degree (Med)       22.0\n",
      "Degree (Avg)  54.031246\n",
      "Sparsity       0.003173\n",
      "Saving Degree Distribution Plot to:  ../results/Pdam.degree_dist.png\n"
     ]
    },
    {
     "data": {
      "image/png": "[encoded data removed]",
      "text/plain": [
       "<Figure size 432x288 with 1 Axes>"
      ]
     },
     "metadata": {
      "needs_background": "light"
     },
     "output_type": "display_data"
    }
   ],
   "source": [
    "def display_degree_dist(G, degrees, net_name, results_dir):\n",
    "    '''\n",
    "    Helper function to read_network that displays the degree distribution of the initial network\n",
    "    '''\n",
    "    degreeDist = {}\n",
    "    for i in degrees:\n",
    "        n = degreeDist.setdefault(i,0)\n",
    "        degreeDist[i] = n + 1\n",
    "\n",
    "    plt.xlabel('Degree')\n",
    "    plt.ylabel('Proportion of Nodes')  # we already handled the x-label with ax1\n",
    "    plt.title('Node Degree Distribution')\n",
    "    plt.scatter(degreeDist.keys(), [i/len(G) for i in degreeDist.values()])\n",
    "    print('Saving Degree Distribution Plot to: ', results_dir + net_name + '.degree_dist.png')\n",
    "    plt.savefig(results_dir + net_name + '_degree_dist.png')\n",
    "\n",
    "\n",
    "def read_network(DSDfile, interactionFile, edge_weight_thresh=0.5, net_name=\"Network\", output_stats=True, results_dir='./'):\n",
    "    '''\n",
    "    Read in the network and filter edges based on DSD confidence threshold\n",
    "    '''\n",
    "    print('Reading DSD File...')\n",
    "    dsd_df = pd.read_csv(DSDfile, sep='\\t', index_col=0, header=0)\n",
    "    protein_names = [str(i) for i in dsd_df.index]\n",
    "    DSD = dsd_df.values\n",
    "\n",
    "    fullG = nx.read_weighted_edgelist(interactionFile)\n",
    "    print('Selecting DSD connected component...')\n",
    "    G = fullG.subgraph(protein_names)\n",
    "    print('Filtering edges with confidence threshold {}...'.format(edge_weight_thresh))\n",
    "    wG = nx.Graph()\n",
    "    for (u,v,d) in tqdm(G.edges.data()):\n",
    "        if d['weight'] >= edge_weight_thresh:\n",
    "            wG.add_edge(u,v,weight=d['weight'])\n",
    "    del G\n",
    "    G = wG \n",
    "    A = nx.to_numpy_array(G, nodelist=protein_names)\n",
    "    degrees = [i[1] for i in list(G.degree())]\n",
    "\n",
    "    if output_stats:\n",
    "        # print a table of network statistics\n",
    "        label = ['Nodes','Edges','Degree (Med)','Degree (Avg)','Sparsity']\n",
    "        value = [len(G.nodes), len(G.edges), np.median(degrees), np.mean(degrees), len(G.edges()) / len(G)**2]\n",
    "        stats = pd.DataFrame([label,value]).T\n",
    "        stats.columns = ['',net_name]\n",
    "        stats = stats.set_index('')\n",
    "        print(stats)\n",
    "        # save a histogram of protein degree \n",
    "        display_degree_dist(G, degrees, net_name, results_dir)\n",
    "\n",
    "    return G, DSD, protein_names\n",
    "\n",
    "G, DSD, protein_names = read_network(DSDfile, interactionFile, edge_weight_thresh=edge_weight_thresh, net_name=net_name, output_stats=True, results_dir=OUTPUT_DIR)"
   ]
  },
  {
   "cell_type": "code",
   "execution_count": 5,
   "metadata": {
    "tags": []
   },
   "outputs": [
    {
     "name": "stdout",
     "output_type": "stream",
     "text": [
      "Computing similarity scores...\n",
      "Sparsifying similarity scores...\n"
     ]
    }
   ],
   "source": [
    "def RBF(D, sigma=None):\n",
    "    \"\"\"\n",
    "    Convert distance matrix D into similarity matrix S using Radial Basis Function (RBF) Kernel\n",
    "    RBF(x,x') = exp( -((x - x')**2 / 2sigma**@))\n",
    "    \"\"\"\n",
    "    sigma = sigma or np.sqrt(np.max(D))\n",
    "    return np.exp(-1 * (np.square(D) / (2 * sigma**2))) \n",
    "\n",
    "print('Computing similarity scores...')\n",
    "simDSD = RBF(DSD)\n",
    "print('Sparsifying similarity scores...')\n",
    "sparse_sim_thresh = 1e-5\n",
    "simRav = simDSD.ravel()\n",
    "simRav[simRav < sparse_sim_thresh] = 0\n",
    "simRav = simRav.reshape(simDSD.shape)\n",
    "simDSD = simRav\n"
   ]
  },
  {
   "cell_type": "markdown",
   "metadata": {},
   "source": [
    "## Perform Spectral Clustering"
   ]
  },
  {
   "cell_type": "code",
   "execution_count": 6,
   "metadata": {
    "tags": []
   },
   "outputs": [
    {
     "name": "stdout",
     "output_type": "stream",
     "text": [
      "Fitting 500 spectral clusters...\n"
     ]
    },
    {
     "name": "stderr",
     "output_type": "stream",
     "text": [
      "/data/cb/samsl/mambaforge/envs/dsplat/lib/python3.9/site-packages/sklearn/manifold/_spectral_embedding.py:273: UserWarning: Graph is not fully connected, spectral embedding may not work as expected.\n",
      "  warnings.warn(\n"
     ]
    },
    {
     "name": "stdout",
     "output_type": "stream",
     "text": [
      "Saving initial spectral clustering to:  ../results/Pdam.initSC.pkl\n"
     ]
    }
   ],
   "source": [
    "\n",
    "print(f'Fitting {init_kclusts} spectral clusters...')\n",
    "SC = SpectralClustering(n_clusters=init_kclusts, assign_labels=\"discretize\", random_state=random_seed, affinity='precomputed')\n",
    "SC.fit(simDSD)\n",
    "\n",
    "with open(initial_SC_pickle_file,'wb') as f:\n",
    "    print('Saving initial spectral clustering to: ', initial_SC_pickle_file)\n",
    "    pk.dump(SC, f)"
   ]
  },
  {
   "cell_type": "code",
   "execution_count": 7,
   "metadata": {
    "tags": []
   },
   "outputs": [
    {
     "name": "stdout",
     "output_type": "stream",
     "text": [
      "Silhouette Score:  -0.6379410157605779\n",
      "Adjacency Martrix Silhouette Score:  -0.3383122631204542\n"
     ]
    }
   ],
   "source": [
    "\n",
    "def print_silhouette_stats(simDSD, SC): \n",
    "    print('Silhouette Score: ', silhouette_score(simDSD,SC.labels_))\n",
    "    AM = (adjacency_matrix(G).todense() != 0).astype(int)\n",
    "    print('Adjacency Martrix Silhouette Score: ', silhouette_score(AM,SC.labels_)) # TODO: IDK WHAT THIS IS\n",
    "\n",
    "print_silhouette_stats(simDSD, SC)"
   ]
  },
  {
   "cell_type": "code",
   "execution_count": 8,
   "metadata": {
    "tags": []
   },
   "outputs": [
    {
     "name": "stdout",
     "output_type": "stream",
     "text": [
      "Loading initial spectral clustering from:  ../results/Pdam.initSC.pkl\n"
     ]
    }
   ],
   "source": [
    "with open(initial_SC_pickle_file,'rb') as f:\n",
    "    print('Loading initial spectral clustering from: ', initial_SC_pickle_file)\n",
    "    SC = pk.load(f)\n",
    "\n",
    "clusteringToUse = SC\n",
    "simMatrix = simDSD\n",
    "\n",
    "clusts = [[j for j in range(len(clusteringToUse.labels_)) if clusteringToUse.labels_[j] == i] for i in range(max(clusteringToUse.labels_)+1) if i in clusteringToUse.labels_]\n",
    "clusts.sort(key = lambda x: len(x), reverse=True)"
   ]
  },
  {
   "cell_type": "markdown",
   "metadata": {},
   "source": [
    "### Perform Further Clustering on large clusters"
   ]
  },
  {
   "cell_type": "code",
   "execution_count": 9,
   "metadata": {
    "tags": []
   },
   "outputs": [],
   "source": [
    "def extract_clusters(SC: SpectralClustering, og_clust:list, og_csize:int, verbosity=0): # TODO: convert Verbosity to logging (options for verbosity are 0, 1, 2)\n",
    "    subCs = []\n",
    "    for label in set(SC.labels_): # go through all labels\n",
    "        # make a list of all nodes in the cluster assigned to given label\n",
    "        subCs.append([og_clust[i] for i in range(og_csize) if SC.labels_[i] == label])\n",
    "    \n",
    "    if verbosity > 0:\n",
    "        to_print = f\"Cluster of size {og_csize} -> split into {len(subCs)} clusters \"\n",
    "        \n",
    "        if verbosity > 1:\n",
    "            to_print += \"of sizes: \"\n",
    "            for subC in subCs:\n",
    "                to_print += f\"{len(subC)}/\"        \n",
    "        print(to_print[:-1])\n",
    "\n",
    "    # return list of tuples of priority of cluster and list of nodes in cluster\n",
    "    return [(1/len(subC), subC) for subC in subCs]"
   ]
  },
  {
   "cell_type": "code",
   "execution_count": 10,
   "metadata": {
    "tags": []
   },
   "outputs": [
    {
     "name": "stdout",
     "output_type": "stream",
     "text": [
      "Initial Clustering: 128 clusters\n",
      "Splitting large clusters (>100)...\n",
      "Cluster of size 3567 -> split into 176 clusters of sizes: 23/22/7/28/17/27/23/47/13/46/21/11/12/25/11/10/18/37/40/3/22/6/67/27/41/19/14/4/3/69/26/4/9/7/45/13/19/15/43/25/42/48/6/18/27/10/10/28/43/57/3/29/15/10/18/18/6/7/46/32/6/46/29/26/19/19/31/36/17/41/26/26/21/2/56/22/19/4/20/11/32/9/6/48/23/9/16/38/25/2/32/26/10/36/20/11/6/30/21/25/7/17/12/60/25/35/14/11/15/5/31/9/2/17/18/16/14/7/3/21/15/15/8/31/16/8/24/34/4/22/28/16/3/16/20/2/4/9/9/11/34/12/8/51/1/43/16/7/48/4/7/6/9/22/10/14/7/21/6/12/28/26/26/4/22/4/7/14/18/7/14/6/27/35/39/24\n",
      "Cluster of size 774 -> split into 39 clusters of sizes: 35/10/15/18/35/33/6/7/7/1/1/10/2/32/45/164/10/14/46/30/8/15/6/18/7/10/11/13/18/17/19/14/24/6/18/22/10/9/8\n",
      "Cluster of size 728 -> split into 36 clusters of sizes: 21/9/33/3/179/30/9/12/19/5/27/10/4/10/13/20/19/6/12/11/9/19/18/22/7/14/7/32/14/25/66/1/21/6/3/12\n",
      "Cluster of size 451 -> split into 23 clusters of sizes: 38/5/16/21/29/20/9/7/5/12/121/11/9/7/10/6/24/9/13/13/39/2/25\n",
      "Cluster of size 436 -> split into 22 clusters of sizes: 22/7/9/13/8/15/33/26/14/14/19/120/28/21/4/16/27/14/17/1/3/5\n",
      "Cluster of size 308 -> split into 15 clusters of sizes: 17/107/14/24/3/16/15/6/17/15/28/21/11/3/11\n",
      "Cluster of size 179 -> split into 9 clusters of sizes: 24/12/34/23/23/16/15/17/15\n",
      "Cluster of size 164 -> split into 8 clusters of sizes: 11/18/12/50/21/22/13/17\n",
      "Cluster of size 154 -> split into 8 clusters of sizes: 7/16/6/9/5/9/1/101\n",
      "Cluster of size 138 -> split into 7 clusters of sizes: 52/15/37/4/13/6/11\n",
      "Cluster of size 121 -> split into 6 clusters of sizes: 36/15/14/17/19/20\n",
      "Cluster of size 120 -> split into 6 clusters of sizes: 14/26/17/28/12/23\n",
      "Cluster of size 107 -> split into 5 clusters of sizes: 20/14/18/14/41\n",
      "Cluster of size 101 -> split into 5 clusters of sizes: 58/15/10/7/11\n",
      "Cluster of size 95 -> split into 5 clusters of sizes: 52/27/3/8/5\n",
      "Cluster of size 94 -> split into 5 clusters of sizes: 60/20/6/2/6\n",
      "Cluster of size 78 -> split into 4 clusters of sizes: 7/28/1/42\n",
      "Cluster of size 69 -> split into 3 clusters of sizes: 48/16/5\n",
      "Cluster of size 69 -> split into 3 clusters of sizes: 27/23/19\n",
      "Cluster of size 67 -> split into 3 clusters of sizes: 25/20/22\n",
      "Cluster of size 66 -> split into 3 clusters of sizes: 32/1/33\n",
      "Cluster of size 60 -> split into 3 clusters of sizes: 42/12/6\n",
      "Cluster of size 60 -> split into 3 clusters of sizes: 18/10/32\n",
      "Cluster of size 58 -> split into 3 clusters of sizes: 8/32/18\n",
      "Cluster of size 58 -> split into 3 clusters of sizes: 45/1/12\n",
      "Cluster of size 57 -> split into 3 clusters of sizes: 13/21/23\n",
      "Cluster of size 57 -> split into 3 clusters of sizes: 46/8/3\n",
      "Cluster of size 56 -> split into 3 clusters of sizes: 19/22/15\n",
      "Cluster of size 53 -> split into 3 clusters of sizes: 39/7/7\n",
      "Cluster of size 52 -> split into 3 clusters of sizes: 11/9/32\n",
      "Cluster of size 52 -> split into 3 clusters of sizes: 10/23/19\n",
      "Cluster of size 52 -> split into 3 clusters of sizes: 38/6/8\n",
      "Cluster of size 51 -> split into 3 clusters of sizes: 18/19/14\n",
      "Cluster of size 50 -> split into 2 clusters of sizes: 23/27\n",
      "Cluster of size 48 -> split into 2 clusters of sizes: 28/20\n",
      "Cluster of size 48 -> split into 2 clusters of sizes: 6/42\n",
      "Cluster of size 48 -> split into 2 clusters of sizes: 26/22\n",
      "Cluster of size 48 -> split into 2 clusters of sizes: 27/21\n",
      "Cluster of size 47 -> split into 2 clusters of sizes: 31/16\n",
      "Cluster of size 46 -> split into 2 clusters of sizes: 36/10\n",
      "Cluster of size 46 -> split into 2 clusters of sizes: 21/25\n",
      "Cluster of size 46 -> split into 2 clusters of sizes: 22/24\n",
      "Cluster of size 46 -> split into 2 clusters of sizes: 18/28\n",
      "Cluster of size 46 -> split into 2 clusters of sizes: 24/22\n",
      "Cluster of size 46 -> split into 2 clusters of sizes: 14/32\n",
      "Cluster of size 45 -> split into 2 clusters of sizes: 43/2\n",
      "Cluster of size 45 -> split into 2 clusters of sizes: 9/36\n",
      "Cluster of size 45 -> split into 2 clusters of sizes: 43/2\n",
      "Cluster of size 45 -> split into 2 clusters of sizes: 35/10\n",
      "Cluster of size 44 -> split into 2 clusters of sizes: 43/1\n",
      "Cluster of size 43 -> split into 2 clusters of sizes: 23/20\n",
      "Cluster of size 43 -> split into 2 clusters of sizes: 41/2\n",
      "Cluster of size 43 -> split into 2 clusters of sizes: 19/24\n",
      "Cluster of size 43 -> split into 2 clusters of sizes: 24/19\n",
      "Cluster of size 43 -> split into 2 clusters of sizes: 29/14\n",
      "Cluster of size 43 -> split into 2 clusters of sizes: 32/11\n",
      "Cluster of size 42 -> split into 2 clusters of sizes: 32/10\n",
      "Cluster of size 42 -> split into 2 clusters of sizes: 20/22\n",
      "Cluster of size 42 -> split into 2 clusters of sizes: 20/22\n",
      "Cluster of size 42 -> split into 2 clusters of sizes: 35/7\n",
      "Cluster of size 42 -> split into 2 clusters of sizes: 17/25\n",
      "Cluster of size 41 -> split into 2 clusters of sizes: 39/2\n",
      "Cluster of size 41 -> split into 2 clusters of sizes: 13/28\n",
      "Cluster of size 41 -> split into 2 clusters of sizes: 23/18\n",
      "Cluster of size 41 -> split into 2 clusters of sizes: 21/20\n",
      "Cluster of size 41 -> split into 2 clusters of sizes: 28/13\n",
      "Cluster of size 40 -> split into 2 clusters of sizes: 39/1\n",
      "Cluster of size 40 -> split into 2 clusters of sizes: 33/7\n",
      "Cluster of size 39 -> split into 2 clusters of sizes: 34/5\n",
      "Cluster of size 39 -> split into 2 clusters of sizes: 37/2\n",
      "Cluster of size 39 -> split into 2 clusters of sizes: 18/21\n",
      "Cluster of size 39 -> split into 2 clusters of sizes: 7/32\n",
      "Cluster of size 39 -> split into 2 clusters of sizes: 8/31\n",
      "Cluster of size 38 -> split into 2 clusters of sizes: 34/4\n",
      "Cluster of size 38 -> split into 2 clusters of sizes: 14/24\n",
      "Cluster of size 38 -> split into 2 clusters of sizes: 25/13\n",
      "Cluster of size 37 -> split into 2 clusters of sizes: 23/14\n",
      "Cluster of size 37 -> split into 2 clusters of sizes: 23/14\n",
      "Cluster of size 37 -> split into 2 clusters of sizes: 5/32\n",
      "Cluster of size 37 -> split into 2 clusters of sizes: 3/34\n",
      "Cluster of size 36 -> split into 2 clusters of sizes: 24/12\n",
      "Cluster of size 36 -> split into 2 clusters of sizes: 18/18\n",
      "Cluster of size 36 -> split into 2 clusters of sizes: 14/22\n",
      "Cluster of size 36 -> split into 2 clusters of sizes: 35/1\n",
      "Cluster of size 36 -> split into 2 clusters of sizes: 16/20\n",
      "Cluster of size 36 -> split into 2 clusters of sizes: 17/19\n",
      "Cluster of size 35 -> split into 2 clusters of sizes: 22/13\n",
      "Cluster of size 35 -> split into 2 clusters of sizes: 20/15\n",
      "Cluster of size 35 -> split into 2 clusters of sizes: 32/3\n",
      "Cluster of size 35 -> split into 2 clusters of sizes: 34/1\n",
      "Cluster of size 35 -> split into 2 clusters of sizes: 17/18\n",
      "Cluster of size 35 -> split into 2 clusters of sizes: 31/4\n",
      "Cluster of size 35 -> split into 2 clusters of sizes: 6/29\n",
      "Cluster of size 35 -> split into 2 clusters of sizes: 11/24\n",
      "Cluster of size 34 -> split into 2 clusters of sizes: 25/9\n",
      "Cluster of size 34 -> split into 2 clusters of sizes: 30/4\n",
      "Cluster of size 34 -> split into 2 clusters of sizes: 33/1\n",
      "Cluster of size 34 -> split into 2 clusters of sizes: 18/16\n",
      "Cluster of size 34 -> split into 2 clusters of sizes: 21/13\n",
      "Cluster of size 34 -> split into 2 clusters of sizes: 25/9\n",
      "Cluster of size 34 -> split into 2 clusters of sizes: 31/3\n",
      "Cluster of size 34 -> split into 2 clusters of sizes: 21/13\n",
      "Cluster of size 33 -> split into 2 clusters of sizes: 28/5\n",
      "Cluster of size 33 -> split into 2 clusters of sizes: 25/8\n",
      "Cluster of size 33 -> split into 2 clusters of sizes: 23/10\n",
      "Cluster of size 33 -> split into 2 clusters of sizes: 20/13\n",
      "Cluster of size 33 -> split into 2 clusters of sizes: 16/17\n",
      "Cluster of size 33 -> split into 2 clusters of sizes: 14/19\n",
      "Cluster of size 33 -> split into 2 clusters of sizes: 28/5\n",
      "Cluster of size 32 -> split into 2 clusters of sizes: 15/17\n",
      "Cluster of size 32 -> split into 2 clusters of sizes: 26/6\n",
      "Cluster of size 32 -> split into 2 clusters of sizes: 31/1\n",
      "Cluster of size 32 -> split into 2 clusters of sizes: 27/5\n",
      "Cluster of size 32 -> split into 2 clusters of sizes: 27/5\n",
      "Cluster of size 32 -> split into 2 clusters of sizes: 19/13\n",
      "Cluster of size 32 -> split into 2 clusters of sizes: 9/23\n",
      "Cluster of size 32 -> split into 2 clusters of sizes: 14/18\n",
      "Cluster of size 32 -> split into 2 clusters of sizes: 6/26\n",
      "Cluster of size 32 -> split into 2 clusters of sizes: 30/2\n",
      "Cluster of size 32 -> split into 2 clusters of sizes: 22/10\n",
      "Cluster of size 32 -> split into 2 clusters of sizes: 11/21\n",
      "Cluster of size 32 -> split into 2 clusters of sizes: 9/23\n",
      "Cluster of size 32 -> split into 2 clusters of sizes: 21/11\n",
      "Cluster of size 32 -> split into 2 clusters of sizes: 25/7\n",
      "Cluster of size 31 -> split into 2 clusters of sizes: 29/2\n",
      "Cluster of size 31 -> split into 2 clusters of sizes: 27/4\n",
      "Cluster of size 31 -> split into 2 clusters of sizes: 16/15\n",
      "Cluster of size 31 -> split into 2 clusters of sizes: 29/2\n",
      "Cluster of size 31 -> split into 2 clusters of sizes: 18/13\n",
      "Cluster of size 31 -> split into 2 clusters of sizes: 28/3\n",
      "Cluster of size 31 -> split into 2 clusters of sizes: 27/4\n",
      "Cluster of size 31 -> split into 2 clusters of sizes: 13/18\n",
      "Cluster of size 30 -> split into 2 clusters of sizes: 24/6\n",
      "Cluster of size 30 -> split into 2 clusters of sizes: 9/21\n",
      "Cluster of size 30 -> split into 2 clusters of sizes: 28/2\n",
      "Cluster of size 30 -> split into 2 clusters of sizes: 22/8\n",
      "Cluster of size 30 -> split into 2 clusters of sizes: 15/15\n",
      "Removing small clusters (<3)...\n",
      "Final Clustering: 582 clusters\n"
     ]
    }
   ],
   "source": [
    "print(f'Initial Clustering: {len(clusts)} clusters')\n",
    "clustQ = PriorityQueue()\n",
    "for c in clusts:\n",
    "    clustQ.put((1/len(c), c))\n",
    "    \n",
    "print('Splitting large clusters (>{})...'.format(max_clust_size))\n",
    "while True:\n",
    "    priority, c = clustQ.get()\n",
    "    csize = int(1/priority)\n",
    "\n",
    "    n_clusters = int(np.round(csize / 20)) # NOTE: this changed so that we are left with clusters of max size 30\n",
    "\n",
    "    if n_clusters < 2:\n",
    "        clustQ.put((priority, c))\n",
    "        break\n",
    "  \n",
    "    SC2 = SpectralClustering(n_clusters=n_clusters, assign_labels=\"discretize\", random_state=random_seed, affinity='precomputed')\n",
    "    SC2.fit(simMatrix[c,:][:,c])\n",
    "    \n",
    "    subClusts = extract_clusters(SC2, c, csize, verbosity=2)\n",
    "    for subClust in subClusts:\n",
    "        clustQ.put(subClust)\n",
    "\n",
    "\n",
    "print(f'Removing small clusters (<{min_clust_size})...')\n",
    "filteredClusters = []\n",
    "while not clustQ.empty():\n",
    "    wght, c = clustQ.get()\n",
    "    filteredClusters.append(c)\n",
    "filteredClusters = [i for i in filteredClusters if len(i) >= min_clust_size]\n",
    "print(f'Final Clustering: {len(filteredClusters)} clusters')"
   ]
  },
  {
   "cell_type": "markdown",
   "metadata": {},
   "source": [
    "### Display Results of Spectral Clustering"
   ]
  },
  {
   "cell_type": "code",
   "execution_count": 11,
   "metadata": {
    "tags": []
   },
   "outputs": [
    {
     "data": {
      "image/png": "[encoded data removed]",
      "text/plain": [
       "<Figure size 432x288 with 1 Axes>"
      ]
     },
     "metadata": {
      "needs_background": "light"
     },
     "output_type": "display_data"
    }
   ],
   "source": [
    "sizes = [len(i) for i in filteredClusters]\n",
    "plt.hist(sizes, bins=range(min(sizes), max(sizes)+1))\n",
    "plt.xlabel('Cluster Size')\n",
    "plt.ylabel('Number of Clusters')\n",
    "plt.title('Cluster Size Distribution')\n",
    "plt.savefig(cluster_size_dist_file)"
   ]
  },
  {
   "cell_type": "markdown",
   "metadata": {},
   "source": [
    "## Save Clusters to an Output File"
   ]
  },
  {
   "cell_type": "code",
   "execution_count": 12,
   "metadata": {
    "tags": []
   },
   "outputs": [
    {
     "name": "stdout",
     "output_type": "stream",
     "text": [
      "Writing clusters to:  ../results/Pdam.clusters.csv\n"
     ]
    }
   ],
   "source": [
    "\n",
    "clustsNames = [[protein_names[i] for i in cl] for cl in filteredClusters]\n",
    "clustsNames.sort(key = lambda x: len(x), reverse=True)\n",
    "\n",
    "def writeClusters(outfile, clusts):\n",
    "    with open(outfile, 'w+') as f:\n",
    "        for cl in clusts:\n",
    "            f.write('{}\\n'.format(','.join([str(i) for i in cl])))\n",
    "\n",
    "print('Writing clusters to: ', final_clusters_output_file)\n",
    "writeClusters(final_clusters_output_file, clustsNames)\n"
   ]
  },
  {
   "cell_type": "code",
   "execution_count": 14,
   "metadata": {
    "tags": []
   },
   "outputs": [
    {
     "name": "stdout",
     "output_type": "stream",
     "text": [
      "Done\n"
     ]
    }
   ],
   "source": [
    "print('Done')"
   ]
  },
  {
   "cell_type": "code",
   "execution_count": null,
   "metadata": {},
   "outputs": [],
   "source": []
  }
 ],
 "metadata": {
  "kernelspec": {
   "display_name": "Python [conda env:dsplat]",
   "language": "python",
   "name": "conda-env-dsplat-py"
  },
  "language_info": {
   "codemirror_mode": {
    "name": "ipython",
    "version": 3
   },
   "file_extension": ".py",
   "mimetype": "text/x-python",
   "name": "python",
   "nbconvert_exporter": "python",
   "pygments_lexer": "ipython3",
   "version": "3.9.15"
  }
 },
 "nbformat": 4,
 "nbformat_minor": 4
}
